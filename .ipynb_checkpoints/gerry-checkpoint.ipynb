{
 "cells": [
  {
   "cell_type": "markdown",
   "metadata": {},
   "source": [
    "# Gerrymandering and the Redistricting Problem\n",
    "\n",
    "## Assumptions\n",
    "\n",
    "We assume a 2-party system with the parties represented as \"D\" and \"R\". We start by only using one period's worth of historical data. \n",
    "\n",
    "## Data Inputs\n",
    "\n",
    "The expected number of votes for each party is a key data input for our constraints. We represent this with a matrix, $\\mathbf{V}$. Since we have two parties, the matrix has the following shape.\n",
    "\n",
    "$$ \\mathbf{V} \\in \\mathbb{R}^{|blocks| \\times 2} $$\n",
    "\n",
    "$blocks$ is a set where $|blocks|$ is the number of elements in the set. By convention, the first column of $\\mathbf{V}$ will be D votes and the second column R votes. $\\mathbf{V}$ could represent a single past election's results, or it could be an expected upcoming result based on an exogenous model.\n",
    "\n",
    "## Variables\n",
    "\n",
    "We represent the variables with a matrix. Each row of the matrix represents an indivisible block (precint, county, or census area depending on the conventions of the problem). The columns represent assignment to a district. The matrix is made up of zeroes or ones, and each row must have exactly one entry equal to one, meaning that each row must be in one and only one district. $districts$ is a set where $|districts|$ is the number of elements in each set. \n",
    "\n",
    "$$ \n",
    "\\mathbf{D} \\in \\{0,1\\}^{|blocks| \\times |districts|}. \n",
    "$$\n",
    "\n",
    "For ease of interpretation, we're going to define another variable that represents the \"efficiency gap\" in votes. To do this, we need to know the number of expected votes for each party in each block and the assignment of blocks to districts. $\\mathbf{D}^T \\mathbf{V} \\in \\mathbb{R}^{|districts| \\times 2} $ gives us a matrix of the number of D and R votes in each district. The efficiency gap can be calculated from the seat margin and vote margin. [Brennan Center](https://www.brennancenter.org/sites/default/files/legal-work/How_the_Efficiency_Gap_Standard_Works.pdf)\n",
    "\n",
    "$$ \\text{Efficiency Gap} = (\\text{Seat Margin} - 50\\%) - 2 ( \\text{Vote Margin} - 50\\% ) $$\n",
    "\n",
    "The vote margin is easily calculated by multiplying $\\mathbf{D^TV}$ by a vector of ones, $\\mathbf{j}$, and subtracting the elements. The seat margin is trickier, since we need to determine which of the two parties is the winner for any given potential solution.  We do this by introducing another vector of variables $\\mathbf{w}\\in \\{0,1\\}^{|districts|}$, indicating if D won the given seat (or district). \n",
    "\n",
    "$$ \\mathbf{w}\\in \\{0,1\\}^{|districts|} $$\n",
    "\n",
    "When we include $w$ in our objective with an appropriately large penalty, the optimization problem will set $w_i = 1$ if D won the seat and $0$ otherwise. Our constraints will ensure this. So the efficiency gap variable is now:\n",
    "\n",
    "$$ \\text{Efficiency Gap} = \\frac{ (\\mathbf{w}\\cdot \\mathbf{j} - (1-\\mathbf{w})\\cdot \\mathbf{j} )}{|districts| } - 0.5 - 2 \\left( \\frac{\\mathbf{j^TD^TV} \\left[ \\begin{array}{c} 1 \\\\ -1 \\end{array} \\right]}{\\mathbf{j^TD^TVj}} - 0.5 \\right)  $$\n",
    "\n",
    "\n",
    "## Constraints\n",
    "\n",
    "To force the $\\mathbf{w}$ variable, set a constraint (vector valued):\n",
    "$$ \\mathbf{D^TV} \\left[ \\begin{array}{c} 1 \\\\ -1 \\end{array} \\right] \\geq \\mathbf{w} $$. \n",
    "\n",
    "\n"
   ]
  },
  {
   "cell_type": "code",
   "execution_count": 60,
   "metadata": {
    "collapsed": false
   },
   "outputs": [
    {
     "name": "stdout",
     "output_type": "stream",
     "text": [
      "[1, 3, 4, 2, 2, 5, 3, 1, 2][73.0, 82.0, 22.0, 9.0, 30.0, 40.0, 26.0, 46.0, 99.0]"
     ]
    },
    {
     "data": {
      "text/plain": [
       "9×9 Array{Int64,2}:\n",
       " 1  1  0  1  0  0  0  0  0\n",
       " 1  1  1  0  1  0  0  0  0\n",
       " 0  1  1  0  0  1  0  0  0\n",
       " 1  0  0  1  1  0  1  0  0\n",
       " 0  1  0  1  1  1  0  1  0\n",
       " 0  0  1  0  1  1  0  0  1\n",
       " 0  0  0  1  0  0  1  1  0\n",
       " 0  0  0  0  1  0  1  1  1\n",
       " 0  0  0  0  0  1  0  1  1"
      ]
     },
     "execution_count": 60,
     "metadata": {},
     "output_type": "execute_result"
    }
   ],
   "source": [
    "v = [1 2 3; 3 2 1; 4 5 2]\n",
    "votes = reshape(votes, prod(size(votes)) )\n",
    "print(votes)\n",
    "pop = [73.0; 82.0; 22.0; 9.0; 30.0; 40.0; 26.0; 46.0; 99]\n",
    "print( pop )\n",
    "ctg =\n",
    "[ 1 1 0 1 0 0 0 0 0 ; \n",
    "  1 1 1 0 1 0 0 0 0 ;\n",
    "  0 1 1 0 0 1 0 0 0 ;\n",
    "  1 0 0 1 1 0 1 0 0 ; \n",
    "  0 1 0 1 1 1 0 1 0 ;\n",
    "  0 0 1 0 1 1 0 0 1 ;\n",
    "  0 0 0 1 0 0 1 1 0 ; \n",
    "  0 0 0 0 1 0 1 1 1 ;\n",
    "  0 0 0 0 0 1 0 1 1 ]"
   ]
  },
  {
   "cell_type": "code",
   "execution_count": 8,
   "metadata": {
    "collapsed": false
   },
   "outputs": [
    {
     "ename": "LoadError",
     "evalue": "\u001b[91mUndefVarError: votes not defined\u001b[39m",
     "output_type": "error",
     "traceback": [
      "\u001b[91mUndefVarError: votes not defined\u001b[39m",
      "",
      "Stacktrace:",
      " [1] \u001b[1minclude_string\u001b[22m\u001b[22m\u001b[1m(\u001b[22m\u001b[22m::String, ::String\u001b[1m)\u001b[22m\u001b[22m at \u001b[1m./loading.jl:515\u001b[22m\u001b[22m"
     ]
    }
   ],
   "source": [
    "using JuMP, GLPKMathProgInterface, NLopt\n",
    "\n",
    "nd = 2\n",
    "np = length(votes)\n",
    "\n",
    "#m = Model(solver = GLPKSolverMIP())\n",
    "m = Model(solver = NLoptSolver())\n",
    "\n",
    "@variable(m, 0 <= d[i=1:np] <= nd - 1 , Int)\n",
    "@variable(m, meansize)\n",
    "\n",
    "# equal size constraint\n",
    "@constraint(m, sum(pop)  - sum( pop .* d ) <= 1.1 * meansize )\n",
    "@constraint(m, (1/1.1) * meansize <= sum(pop)  - sum( pop .* d ) )\n",
    "@constraint(m, sum( pop .* d ) <= 1.1 * meansize )\n",
    "@constraint(m, (1/1.1) * meansize <=  sum( pop .* d ) )\n",
    "\n",
    "a = ones(np)\n",
    "#contiguity constraint\n",
    "@constraint(m, ( (d .* d') .* ctg ) * a .>= 2 )\n",
    "\n",
    "\n",
    "@objective(m, Max, sum( p .* d ) )\n"
   ]
  },
  {
   "cell_type": "code",
   "execution_count": 74,
   "metadata": {
    "collapsed": false
   },
   "outputs": [
    {
     "ename": "LoadError",
     "evalue": "\u001b[91mSolver does not support quadratic constraints\u001b[39m",
     "output_type": "error",
     "traceback": [
      "\u001b[91mSolver does not support quadratic constraints\u001b[39m",
      "",
      "Stacktrace:",
      " [1] \u001b[1maddQuadratics\u001b[22m\u001b[22m\u001b[1m(\u001b[22m\u001b[22m::JuMP.Model\u001b[1m)\u001b[22m\u001b[22m at \u001b[1m/home/patrick/.julia/v0.6/JuMP/src/solvers.jl:468\u001b[22m\u001b[22m",
      " [2] \u001b[1m#build#119\u001b[22m\u001b[22m\u001b[1m(\u001b[22m\u001b[22m::Bool, ::Bool, ::JuMP.ProblemTraits, ::Function, ::JuMP.Model\u001b[1m)\u001b[22m\u001b[22m at \u001b[1m/home/patrick/.julia/v0.6/JuMP/src/solvers.jl:373\u001b[22m\u001b[22m",
      " [3] \u001b[1m(::JuMP.#kw##build)\u001b[22m\u001b[22m\u001b[1m(\u001b[22m\u001b[22m::Array{Any,1}, ::JuMP.#build, ::JuMP.Model\u001b[1m)\u001b[22m\u001b[22m at \u001b[1m./<missing>:0\u001b[22m\u001b[22m",
      " [4] \u001b[1m#solve#116\u001b[22m\u001b[22m\u001b[1m(\u001b[22m\u001b[22m::Bool, ::Bool, ::Bool, ::Array{Any,1}, ::Function, ::JuMP.Model\u001b[1m)\u001b[22m\u001b[22m at \u001b[1m/home/patrick/.julia/v0.6/JuMP/src/solvers.jl:168\u001b[22m\u001b[22m",
      " [5] \u001b[1msolve\u001b[22m\u001b[22m\u001b[1m(\u001b[22m\u001b[22m::JuMP.Model\u001b[1m)\u001b[22m\u001b[22m at \u001b[1m/home/patrick/.julia/v0.6/JuMP/src/solvers.jl:150\u001b[22m\u001b[22m",
      " [6] \u001b[1minclude_string\u001b[22m\u001b[22m\u001b[1m(\u001b[22m\u001b[22m::String, ::String\u001b[1m)\u001b[22m\u001b[22m at \u001b[1m./loading.jl:515\u001b[22m\u001b[22m"
     ]
    }
   ],
   "source": [
    "@time begin\n",
    "    status = solve(m)\n",
    "end\n",
    "println(\"objective: \", getobjectivevalue(m))\n",
    "districts = getvalue(d)\n",
    "reshape(districts, 3,3)"
   ]
  },
  {
   "cell_type": "code",
   "execution_count": 59,
   "metadata": {
    "collapsed": false
   },
   "outputs": [
    {
     "data": {
      "text/plain": [
       "9-element Array{Int64,1}:\n",
       " 2\n",
       " 3\n",
       " 3\n",
       " 3\n",
       " 4\n",
       " 3\n",
       " 2\n",
       " 2\n",
       " 1"
      ]
     },
     "execution_count": 59,
     "metadata": {},
     "output_type": "execute_result"
    }
   ],
   "source": [
    "\n",
    "\n",
    "ctg =\n",
    "[ 1 1 0 1 0 0 0 0 0 ; \n",
    "  1 1 1 0 1 0 0 0 0 ;\n",
    "  0 1 1 0 0 1 0 0 0 ;\n",
    "  1 0 0 1 1 0 1 0 0 ; \n",
    "  0 1 0 1 1 1 0 1 0 ;\n",
    "  0 0 1 0 1 1 0 0 1 ;\n",
    "  0 0 0 1 0 0 1 1 0 ; \n",
    "  0 0 0 0 1 0 1 1 1 ;\n",
    "  0 0 0 0 0 1 0 1 1 ]\n",
    "ctg * (districts .== 1 )\n"
   ]
  },
  {
   "cell_type": "code",
   "execution_count": 57,
   "metadata": {
    "collapsed": false
   },
   "outputs": [
    {
     "data": {
      "text/plain": [
       "3×3 Array{Int64,2}:\n",
       " 1  2  3\n",
       " 3  2  1\n",
       " 4  5  2"
      ]
     },
     "execution_count": 57,
     "metadata": {},
     "output_type": "execute_result"
    }
   ],
   "source": [
    "reshape(votes,3,3)\n",
    "\n"
   ]
  },
  {
   "cell_type": "code",
   "execution_count": 11,
   "metadata": {
    "collapsed": false
   },
   "outputs": [
    {
     "data": {
      "text/plain": [
       "5×2 Array{Int64,2}:\n",
       " 75  25\n",
       " 60  40\n",
       " 43  57\n",
       " 48  52\n",
       " 49  51"
      ]
     },
     "execution_count": 11,
     "metadata": {},
     "output_type": "execute_result"
    }
   ],
   "source": [
    "A = [75 25; 60 40; 43 57; 48 52; 49 51]\n",
    "\n",
    "DR_totals = ones(1,5) * A\n",
    "V_margin = DR_totals[1,1] - DR_totals[1,2]\n",
    "min.(A)"
   ]
  }
 ],
 "metadata": {
  "kernelspec": {
   "display_name": "Julia 0.6.0",
   "language": "julia",
   "name": "julia-0.6"
  },
  "language_info": {
   "file_extension": ".jl",
   "mimetype": "application/julia",
   "name": "julia",
   "version": "0.6.0"
  }
 },
 "nbformat": 4,
 "nbformat_minor": 0
}
