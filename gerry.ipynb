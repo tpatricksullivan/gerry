{
 "cells": [
  {
   "cell_type": "markdown",
   "metadata": {},
   "source": [
    "# Gerrymandering and the Redistricting Problem\n",
    "\n",
    "## Assumptions\n",
    "\n",
    "We assume a 2-party system with the parties represented as \"D\" and \"R\". We start by only using one period's worth of historical data. We also assume that all available voters voted (no one abstained) in our historical data.\n",
    "\n",
    "## Data Inputs\n",
    "\n",
    "The expected number of votes for each party is a key data input for our constraints. We represent this with a matrix, $\\mathbf{V}$. Since we have two parties, the matrix has the following shape.\n",
    "\n",
    "$$ \\mathbf{V} \\in \\mathbb{R}^{|blocks| \\times 2} $$\n",
    "\n",
    "$blocks$ is a set where $|blocks|$ is the number of elements in the set. By convention, the first column of $\\mathbf{V}$ will be D votes and the second column R votes. $\\mathbf{V}$ could represent a single past election's results, or it could be an expected upcoming result based on an exogenous model.\n",
    "\n",
    "The second major input is a matrix specifying which blocks are contiguous with each other, meaning that they share a border. This matrix has the following shape:\n",
    "\n",
    "$$ \\mathbf{C} \\in \\mathbb{R}^{|blocks| \\times |blocks|} $$\n",
    "\n",
    "The elements of the matrix are defined as \n",
    "\n",
    "$$ c_{ij} = \\left\\{ \\begin{array}{cc} 1 & \\text{block i borders block j} \\\\ 0 & \\text{otherwise} \\end{array} \\right. $$\n",
    "\n",
    "## Objective \n",
    "\n",
    "Our objective uses the concept of the \"efficiency gap\". See [Brennan Center](https://www.brennancenter.org/sites/default/files/legal-work/How_the_Efficiency_Gap_Standard_Works.pdf). The efficiency gap itself uses another concept of \"wasted votes\". \n",
    "\n",
    "Votes can be wasted in two ways. A vote cast for a losing candidate is \"wasted\", and votes cast for a winning candidate in excess of the amount needed to win are also wasted. The efficiency gap is a signed number so it can be in favor of one party or another. We arbitrarily chose to do it from the perspective of the \"D\" party. So a positive efficiency gap favors the R party. \n",
    "\n",
    "$$ \\text{Efficiency Gap} = \\text{D wasted votes} - \\text{R wasted votes} $$\n",
    "\n",
    "\n",
    "## Variables\n",
    "\n",
    "There are several variables in the model. The key variable is a matrix where each row of the matrix represents an indivisible block (precint, county, or census area depending on the conventions of the problem). The columns represent assignment to a district. The matrix is made up of zeroes or ones, and each row must have exactly one entry equal to one, meaning that each row must be in one and only one district. $districts$ is a set where $|districts|$ is the number of elements in each set. \n",
    "\n",
    "$$ \n",
    "\\mathbf{D} \\in \\{0,1\\}^{|blocks| \\times |districts|}. \n",
    "$$\n",
    "\n",
    "Several other variables are necessary to set up the problem in a linear fashion. These are best explained in the context of each constraint.\n",
    "\n",
    "## Constraints\n",
    "\n",
    "### Each Block Is In Exactly One District\n",
    "\n",
    "This constraint is easily expressed by saying that the sum of each row in the $D$ variable must be exactly one. \n",
    "\n",
    "$$ D \\left[ \\begin{array}{c} 1 \\\\ \\vdots \\\\ 1 \\end{array} \\right]  = \\left[ \\begin{array}{c} 1 \\\\ \\vdots \\\\ 1 \\end{array} \\right].$$\n",
    "\n",
    "### Calculate The Number of Wasted Votes for Losing Party\n",
    "\n",
    "To calculate wasted votes for the losing party, we first have to know which party lost and what its vote total was. We need to know this for each district that is formed as a result of the optimization. A simple `min` function is not linear, and we desire a purely linear form of the problem. This can be achieved using the \"Big M\" method. See [Big M](https://en.wikipedia.org/wiki/Big_M_method). Suppose we are looking at the results in just one district, with vote totals $d$ and $r$. Then define two additional variables, $wastedUnder$ and $w$. Further choose a constant $M$ that is large enough. Then define two constraints as below.\n",
    "\n",
    "$$ \\begin{align}\n",
    "wastedUnder &\\geq d - Mw \\\\\n",
    "wastedUnder &\\geq r - M(1-w) \\\\\n",
    "wastedUnder &\\in \\mathbb{R} \\\\\n",
    "w &\\in {0,1}\n",
    "\\end{align} $$\n",
    "\n",
    "If we include $wastedUnder$ in the objective function to minimize it, then the optimizer will try to reduce it. If $d$ is smaller than $r$, it will minimize it by setting $w=0$, and allowing $wastedUnder = d$.  The other constraint is nonbinding in this case. Otherwise, it will set $w=1$, making the first constraint non-bonding and setting $wastedUnder = r$. Since $w$ must be either 0 or 1, then $wastedUnder$ will be the minimum. \n",
    "\n",
    "### Calculate Wasted Votes for the Winning Party\n",
    "\n",
    "Wasted votes for the winning party occur when the winning party gets more votes than is necessary to win. It is mostly simply calculate as \n",
    "$$\\max (0, \\text{winning votes} - \\text{threshhold to win} ).$$\n",
    "\n",
    "Because we want to avoid `max` functions, which are non-linear, we use a trick similar to the one we used for wasted votes for the losing party. Let $VotesToWin$ be the threshold to win (50% plus one). Then set up constraints as follows.\n",
    "\n",
    "$$\n",
    "\\begin{align}\n",
    "wastedOver & \\geq 0 \\\\\n",
    "wastedOver & \\geq d - VotesToWin \n",
    "\\end{align}\n",
    "$$\n",
    "\n",
    "If we include $wastedOver$ in the objective to minimize it, then it will be $0$ if the $D$ party lost and $D - VotesToWin$ otherwise. This is the value we seek.\n",
    "\n",
    "### Enforce Equal Sizes\n",
    "\n",
    "Equal sizes are enforced by defining a single variable for the problem. Then we require that the total votes cast in each district be within a certain range around the single variable.\n",
    "\n",
    "### Enforce Contiguity of Districts\n",
    "\n",
    "The contiguity constraints requires a contiguity matrix, $C$. Let $D$ be the assignment of blocks to districts. Consider the matrix $CD$ with elements $a_{ij}$. Each element, $a_{ij}$, is then the number of blocks contiguous with block $i$ that are also in district $j$, provided that block $i$ is in district $j$.  If block $i$ is not in district $j$, then $a_{ij}$ is meaningless for us. If a block, $i$, is in a given district, then we require at least one other block that is contiguous with $i$ is also in the same district. We can write the constraint this way:\n",
    "\n",
    "$$ \\mathbf{CD} \\geq 2 \\times \\mathbf{D}.$$\n",
    "\n",
    "This says that, if block $i$ is in district $j$, then there must be at least one other block contiguous with block $i$ (in addition to block $i$ itself) that is also in district $j$.  Since every element of $CD$ is necessarily positive, an element $a_{ij}$ is effectively unconstrained if the corresponding element of $D$ is zero."
   ]
  },
  {
   "cell_type": "markdown",
   "metadata": {},
   "source": [
    "## Optimization Model Definition\n",
    "\n",
    "We are now able to define a general purpose function to use with different data sets and parameters."
   ]
  },
  {
   "cell_type": "code",
   "execution_count": 1,
   "metadata": {},
   "outputs": [
    {
     "name": "stderr",
     "output_type": "stream",
     "text": [
      "\u001b[1m\u001b[36mINFO: \u001b[39m\u001b[22m\u001b[36mRecompiling stale cache file /home/tpatricksullivan/.julia/lib/v0.6/Cbc.ji for module Cbc.\n",
      "\u001b[39m"
     ]
    }
   ],
   "source": [
    "using JuMP \n",
    "using GLPKMathProgInterface\n",
    "using Cbc\n",
    "using Gurobi\n",
    "#using NLopt\n",
    "#using AmplNLWriter\n",
    "#using CoinOptServices\n",
    "#using ECOS"
   ]
  },
  {
   "cell_type": "code",
   "execution_count": 50,
   "metadata": {},
   "outputs": [
    {
     "data": {
      "text/plain": [
       "degerry (generic function with 2 methods)"
      ]
     },
     "execution_count": 50,
     "metadata": {},
     "output_type": "execute_result"
    }
   ],
   "source": [
    "function degerry(\n",
    "    votes,\n",
    "    contiguity_matrix, \n",
    "    number_districts,\n",
    "    common_size_threshold = 0.2; \n",
    "    solver = \"Cbc\"\n",
    "    )\n",
    "    \n",
    "    _V = votes\n",
    "    _C = contiguity_matrix\n",
    "\n",
    "    blocks = size(_V,1)\n",
    "    districts = number_districts\n",
    "    total_vote = _V * ones(2,1)\n",
    "\n",
    "    # Do some checks\n",
    "    if any(_C != _C')\n",
    "        throw(ArgumentError(\"Contiguity matrix is not valid. It must be symmetric.\"))\n",
    "    end\n",
    "    \n",
    "    if !(solver in [\"Cbc\",\"Gurobi\"])\n",
    "        throw(ArgumentError(string(solver, \" is not a valid solver choice. Must be either Cbc or Gurobi\")))\n",
    "    end\n",
    "    \n",
    "    if solver == \"Cbc\"\n",
    "        m = Model(solver = CbcSolver())\n",
    "    else\n",
    "        m = Model(solver = GurobiSolver(Presolve=0))\n",
    "    end\n",
    "    \n",
    "    ## Variables\n",
    "\n",
    "    @variable(m, 0 <= D[i=1:blocks,j=1:districts] <= 1 , Bin)\n",
    "    \n",
    "    ## Constraints  \n",
    "\n",
    "    # each block can be in only one district\n",
    "    @constraint(m, D * ones(districts,1) .== 1)  \n",
    "    \n",
    "    # Each district must have at least one block\n",
    "    # @constraint(m, (D' * V) * [1;1] .>= 1)\n",
    "\n",
    "    # These constraints set wasted_u to the number of wasted votes for the losing party\n",
    "    @variable(m, 0 <= w[i=1:districts] <= 1, Bin)\n",
    "    @variable(m, wasted_u[i=1:districts, j=1:2])\n",
    "    M = blocks * sum(total_vote) \n",
    "    @constraint(m, wasted_u .>= 0)\n",
    "    @constraint(m, wasted_u[:,1] .>= (D' * _V)[:,1] - M * w)\n",
    "    @constraint(m, wasted_u[:,2] .>= (D' * _V)[:,2] - M * (1-w))\n",
    "\n",
    "    # These constraints set wasted_o to the number of wasted votes for the winning party\n",
    "    @variable(m, wasted_o[i=1:districts, j=1:2])\n",
    "    @variable(m, votes_to_win[i=1:districts])\n",
    "    @constraint(m, votes_to_win .== (D' * _V) * [1;1] / 2)\n",
    "    @constraint(m, wasted_o .>= 0)\n",
    "    @constraint(m, wasted_o .>= (D' * _V) - votes_to_win * [1 1])\n",
    "\n",
    "    # These constraints calculate the efficiency gap\n",
    "    @variable(m, eff_gap)\n",
    "    @variable(m, abs_eff_gap)\n",
    "    @constraint(m, eff_gap .== ones(1,districts) * (wasted_u + wasted_o) * [1;-1])\n",
    "    @constraint(m, abs_eff_gap >= eff_gap)\n",
    "    @constraint(m, abs_eff_gap >= - eff_gap)\n",
    "\n",
    "    # These constraints enforce roughly equal sizes. \n",
    "    @variable(m, common_size) # this approach is too slow\n",
    "    fixed_common_size = sum(_V) / districts\n",
    "    # @constraint(m, (D' * _V) * [1;1] .>= fixed_common_size * (1-common_size_threshold)) # we don't really need this\n",
    "    @constraint(m, (D' * _V) * [1;1] .<= fixed_common_size * (1+common_size_threshold))\n",
    "\n",
    "    # These constraints enforce contiguity, but we need to allow districts with only one block\n",
    "    @variable(m, 0 <= multi_block_districts[i=1:districts] <= 1, Bin)\n",
    "    @constraint(m, multi_block_districts .>= 0 )\n",
    "    @constraint(m, M * multi_block_districts' .>= ones(1,blocks) * D - ones(1,districts) )\n",
    "    # @constraint(m, _C * D .>= 2 * D) this by itself is not enough\n",
    "    @constraint(m, _C * D .>= 2 * D - M * (1-repmat(multi_block_districts',blocks)))\n",
    "    \n",
    "\n",
    "    ## Objective\n",
    "\n",
    "    @objective(m, Min, abs_eff_gap  + sum(wasted_u) + sum(wasted_o) + sum(multi_block_districts) ) \n",
    "    \n",
    "    @time begin\n",
    "        status = solve(m)\n",
    "    end\n",
    "    \n",
    "    res = Dict([(\"Model\",m),\n",
    "        (\"Solve Status\", status), \n",
    "        (\"Efficiency Gap\", getvalue(abs_eff_gap) ),\n",
    "        (\"Wasted Over Votes\", getvalue(wasted_o)),\n",
    "        (\"Wasted Under Votes\", getvalue(wasted_u)),\n",
    "        (\"Total Wasted Votes [D R]\", ones(1,districts) * ( getvalue(wasted_u) + getvalue(wasted_o))),\n",
    "        (\"Votes By District\", getvalue(D)' * _V), \n",
    "        (\"Common Size\", getvalue(common_size)), \n",
    "        (\"Fixed Common Size\", fixed_common_size), \n",
    "        (\"District Assignments\", getvalue(D)), \n",
    "        (\"Total Vote Share\", sum(getvalue(D)' * _V,1) ), \n",
    "        (\"Total Seat Share\", sum( getvalue(D)' * _V .>= repmat(maximum((getvalue(D)' * _V),2),1,2), 1)  ), \n",
    "        (\"Number of blocks in each district\", sum(getvalue(D),1) ), \n",
    "        (\"Total votes in each district\", getvalue(D)' * _V * [1;1] )\n",
    "    ])\n",
    "    \n",
    "    return res\n",
    "end"
   ]
  },
  {
   "cell_type": "markdown",
   "metadata": {},
   "source": [
    "## Example Problem\n",
    "\n",
    "This is a simple problem used to show how the model works. "
   ]
  },
  {
   "cell_type": "code",
   "execution_count": 129,
   "metadata": {},
   "outputs": [],
   "source": [
    "# These are the votes arranged in a matrix of size blocks x number of parties\n",
    "V = [75 25; 60 40; 43 57; 48 52; 49 51]\n",
    "V\n"
   ]
  },
  {
   "cell_type": "code",
   "execution_count": 342,
   "metadata": {},
   "outputs": [
    {
     "data": {
      "text/plain": [
       "5×5 Array{Int64,2}:\n",
       " 1  1  1  0  0\n",
       " 1  1  1  1  0\n",
       " 1  1  1  1  1\n",
       " 0  1  1  1  1\n",
       " 0  0  1  1  1"
      ]
     },
     "execution_count": 342,
     "metadata": {},
     "output_type": "execute_result"
    }
   ],
   "source": [
    "# This is the contiguity matrix. C_{m,n} = 1 if block m shares a border with block n, 0 otherwise.\n",
    "C = [ \n",
    "    1 1 1 0 0;\n",
    "    1 1 1 1 0;\n",
    "    1 1 1 1 1;\n",
    "    0 1 1 1 1;\n",
    "    0 0 1 1 1;]\n",
    "\n",
    "# The example assumes the blocks are arranged as below.\n",
    "\n",
    "# |----------|\n",
    "# |A    | B  |\n",
    "# |-----|    |\n",
    "# |     |----|\n",
    "# | C   |    |\n",
    "# |     | D  |\n",
    "# |     |----|\n",
    "# |     | E  |\n",
    "# |-----|----|\n"
   ]
  },
  {
   "cell_type": "code",
   "execution_count": 32,
   "metadata": {},
   "outputs": [
    {
     "name": "stdout",
     "output_type": "stream",
     "text": [
      "Optimize a model with 59 rows, 39 columns and 272 nonzeros\n",
      "Coefficient statistics:\n",
      "  Matrix range    [0e+00, 2e+03]\n",
      "  Objective range [1e+00, 1e+00]\n",
      "  Bounds range    [1e+00, 1e+00]\n",
      "  RHS range       [1e+00, 2e+03]\n",
      "Warning: Model contains large matrix coefficient range\n",
      "         Consider reformulating model or setting NumericFocus parameter\n",
      "         to avoid numerical issues.\n",
      "Found heuristic solution: objective 508\n",
      "Variable types: 18 continuous, 21 integer (21 binary)\n",
      "\n",
      "Root relaxation: objective 5.000080e+01, 36 iterations, 0.00 seconds\n",
      "\n",
      "    Nodes    |    Current Node    |     Objective Bounds      |     Work\n",
      " Expl Unexpl |  Obj  Depth IntInf | Incumbent    BestBd   Gap | It/Node Time\n",
      "\n",
      "     0     0   50.00080    0    9  508.00000   50.00080  90.2%     -    0s\n",
      "H    0     0                     252.0000000   50.00080  80.2%     -    0s\n",
      "     0     0   50.00080    0   18  252.00000   50.00080  80.2%     -    0s\n",
      "     0     0   50.25040    0   12  252.00000   50.25040  80.1%     -    0s\n",
      "     0     0   50.75000    0   12  252.00000   50.75000  79.9%     -    0s\n",
      "     0     0   51.50000    0    9  252.00000   51.50000  79.6%     -    0s\n",
      "     0     0   52.00000    0    8  252.00000   52.00000  79.4%     -    0s\n",
      "     0     0   52.00000    0    8  252.00000   52.00000  79.4%     -    0s\n",
      "     0     2   52.00000    0    8  252.00000   52.00000  79.4%     -    0s\n",
      "\n",
      "Cutting planes:\n",
      "  Gomory: 1\n",
      "  Cover: 12\n",
      "  Implied bound: 2\n",
      "  MIR: 1\n",
      "  Zero half: 2\n",
      "  Mod-K: 1\n",
      "\n",
      "Explored 164 nodes (558 simplex iterations) in 0.02 seconds\n",
      "Thread count was 16 (of 32 available processors)\n",
      "\n",
      "Optimal solution found (tolerance 1.00e-04)\n",
      "Best objective 2.520000000000e+02, best bound 2.520000000000e+02, gap 0.0%\n",
      "  0.027616 seconds (129 allocations: 50.031 KiB)\n"
     ]
    },
    {
     "data": {
      "text/plain": [
       "Dict{String,Any} with 12 entries:\n",
       "  \"Wasted Under Votes\"       => [97.0 0.0; 0.0 97.0; 0.0 25.0]\n",
       "  \"Total Vote Share\"         => [275.0 225.0]\n",
       "  \"Votes By District\"        => [97.0 103.0; 103.0 97.0; 75.0 25.0]\n",
       "  \"Model\"                    => Minimization problem with:…\n",
       "  \"Fixed Common Size\"        => 166.667\n",
       "  \"Efficiency Gap\"           => 0.0\n",
       "  \"Solve Status\"             => :Optimal\n",
       "  \"Total Seat Share\"         => [2 1]\n",
       "  \"Wasted Over Votes\"        => [0.0 3.0; 3.0 0.0; 25.0 0.0]\n",
       "  \"Total Wasted Votes [D R]\" => [125.0 125.0]\n",
       "  \"District Assignments\"     => [0.0 0.0 1.0; 0.0 1.0 0.0; … ; 1.0 0.0 0.0; 1.0…\n",
       "  \"Common Size\"              => 0.0"
      ]
     },
     "execution_count": 32,
     "metadata": {},
     "output_type": "execute_result"
    }
   ],
   "source": [
    "res = degerry(V,C, 3, 0.2, solver = \"Gurobi\")\n",
    "\n",
    "\n"
   ]
  },
  {
   "cell_type": "code",
   "execution_count": 33,
   "metadata": {},
   "outputs": [
    {
     "data": {
      "text/plain": [
       "5×3 Array{Float64,2}:\n",
       " 0.0  0.0  1.0\n",
       " 0.0  1.0  0.0\n",
       " 0.0  1.0  0.0\n",
       " 1.0  0.0  0.0\n",
       " 1.0  0.0  0.0"
      ]
     },
     "execution_count": 33,
     "metadata": {},
     "output_type": "execute_result"
    }
   ],
   "source": [
    "res[\"District Assignments\"]"
   ]
  },
  {
   "cell_type": "code",
   "execution_count": 36,
   "metadata": {},
   "outputs": [
    {
     "data": {
      "text/plain": [
       "3-element Array{Float64,1}:\n",
       " 200.0\n",
       " 200.0\n",
       " 100.0"
      ]
     },
     "execution_count": 36,
     "metadata": {},
     "output_type": "execute_result"
    }
   ],
   "source": [
    "res[\"Votes By District\"] * [1;1]"
   ]
  },
  {
   "cell_type": "markdown",
   "metadata": {},
   "source": [
    "## Optimize Fairness With Realistic Data\n",
    "\n",
    "TODO: insert optimization with Wisconsin data set\n",
    "\n"
   ]
  },
  {
   "cell_type": "code",
   "execution_count": 40,
   "metadata": {},
   "outputs": [
    {
     "data": {
      "text/html": [
       "<table class=\"data-frame\"><thead><tr><th></th><th>County</th><th>Pop</th><th>Dem</th><th>Rep</th><th>Wasted</th></tr></thead><tbody><tr><th>1</th><td>55079</td><td>940164</td><td>319819</td><td>149445</td><td>170374</td></tr><tr><th>2</th><td>55025</td><td>426526</td><td>205984</td><td>73065</td><td>132919</td></tr><tr><th>3</th><td>55133</td><td>360767</td><td>85339</td><td>145152</td><td>59813</td></tr><tr><th>4</th><td>55009</td><td>226778</td><td>67316</td><td>55903</td><td>11413</td></tr><tr><th>5</th><td>55101</td><td>188831</td><td>53408</td><td>45954</td><td>7454</td></tr><tr><th>6</th><td>55087</td><td>160971</td><td>50209</td><td>39563</td><td>10646</td></tr></tbody></table>"
      ],
      "text/plain": [
       "6×5 DataFrames.DataFrame\n",
       "│ Row │ County │ Pop    │ Dem    │ Rep    │ Wasted │\n",
       "├─────┼────────┼────────┼────────┼────────┼────────┤\n",
       "│ 1   │ 55079  │ 940164 │ 319819 │ 149445 │ 170374 │\n",
       "│ 2   │ 55025  │ 426526 │ 205984 │ 73065  │ 132919 │\n",
       "│ 3   │ 55133  │ 360767 │ 85339  │ 145152 │ 59813  │\n",
       "│ 4   │ 55009  │ 226778 │ 67316  │ 55903  │ 11413  │\n",
       "│ 5   │ 55101  │ 188831 │ 53408  │ 45954  │ 7454   │\n",
       "│ 6   │ 55087  │ 160971 │ 50209  │ 39563  │ 10646  │"
      ]
     },
     "execution_count": 40,
     "metadata": {},
     "output_type": "execute_result"
    }
   ],
   "source": [
    "# Load data\n",
    "using CSV, DataFrames\n",
    "WI_votes = CSV.read(\"data/Gerrymander County_election_data.csv\")\n",
    "WI_contiguity = CSV.read(\"data/Gerrymander County_contiguity.csv\", rows = 73)\n",
    "WI_V = convert(Array, WI_votes[:,3:4])\n",
    "WI_C = convert(Array, WI_contiguity[:,2:73])\n",
    "head(sort(WI_votes,cols=[:Pop],rev=true))"
   ]
  },
  {
   "cell_type": "code",
   "execution_count": 44,
   "metadata": {},
   "outputs": [
    {
     "name": "stdout",
     "output_type": "stream",
     "text": [
      "Is contiguity matrix valid: true\n",
      "Total votes cast: 2939604\n"
     ]
    },
    {
     "data": {
      "text/html": [
       "<table class=\"data-frame\"><thead><tr><th></th><th>County</th><th>Pop</th><th>Dem</th><th>Rep</th><th>Wasted</th><th>x1</th></tr></thead><tbody><tr><th>1</th><td>55079</td><td>940164</td><td>319819</td><td>149445</td><td>170374</td><td>0.175284</td></tr><tr><th>2</th><td>55025</td><td>426526</td><td>205984</td><td>73065</td><td>132919</td><td>0.0795212</td></tr><tr><th>3</th><td>55133</td><td>360767</td><td>85339</td><td>145152</td><td>59813</td><td>0.0672612</td></tr><tr><th>4</th><td>55009</td><td>226778</td><td>67316</td><td>55903</td><td>11413</td><td>0.0422803</td></tr><tr><th>5</th><td>55101</td><td>188831</td><td>53408</td><td>45954</td><td>7454</td><td>0.0352055</td></tr><tr><th>6</th><td>55087</td><td>160971</td><td>50209</td><td>39563</td><td>10646</td><td>0.0300113</td></tr><tr><th>7</th><td>55139</td><td>156763</td><td>48167</td><td>37946</td><td>10221</td><td>0.0292268</td></tr><tr><th>8</th><td>55105</td><td>152307</td><td>50529</td><td>27364</td><td>23165</td><td>0.028396</td></tr><tr><th>9</th><td>55059</td><td>149577</td><td>45836</td><td>31609</td><td>14227</td><td>0.027887</td></tr><tr><th>10</th><td>55073</td><td>125834</td><td>36367</td><td>30345</td><td>6022</td><td>0.0234604</td></tr><tr><th>11</th><td>55131</td><td>117493</td><td>25719</td><td>47729</td><td>22010</td><td>0.0219053</td></tr><tr><th>12</th><td>55117</td><td>112646</td><td>30395</td><td>30801</td><td>406</td><td>0.0210016</td></tr><tr><th>13</th><td>55063</td><td>107120</td><td>38523</td><td>23700</td><td>14823</td><td>0.0199714</td></tr><tr><th>14</th><td>55039</td><td>97296</td><td>23463</td><td>28164</td><td>4701</td><td>0.0181398</td></tr><tr><th>15</th><td>55127</td><td>93759</td><td>24177</td><td>25485</td><td>1308</td><td>0.0174804</td></tr><tr><th>16</th><td>55035</td><td>93142</td><td>33146</td><td>20959</td><td>12187</td><td>0.0173653</td></tr><tr><th>17</th><td>55027</td><td>85897</td><td>19183</td><td>23015</td><td>3832</td><td>0.0160146</td></tr><tr><th>18</th><td>55071</td><td>82887</td><td>22428</td><td>19234</td><td>3194</td><td>0.0154534</td></tr><tr><th>19</th><td>55089</td><td>82317</td><td>20579</td><td>32172</td><td>11593</td><td>0.0153471</td></tr><tr><th>20</th><td>55141</td><td>75555</td><td>21710</td><td>16581</td><td>5129</td><td>0.0140864</td></tr><tr><th>21</th><td>55055</td><td>74021</td><td>21443</td><td>21092</td><td>351</td><td>0.0138004</td></tr><tr><th>22</th><td>55097</td><td>67182</td><td>24817</td><td>13810</td><td>11007</td><td>0.0125254</td></tr><tr><th>23</th><td>55109</td><td>63155</td><td>21177</td><td>22837</td><td>1660</td><td>0.0117746</td></tr><tr><th>24</th><td>55111</td><td>55225</td><td>18617</td><td>11562</td><td>7055</td><td>0.0102961</td></tr><tr><th>25</th><td>55017</td><td>55195</td><td>16240</td><td>13493</td><td>2747</td><td>0.0102905</td></tr><tr><th>26</th><td>55021</td><td>52468</td><td>16661</td><td>12193</td><td>4468</td><td>0.0097821</td></tr><tr><th>27</th><td>55135</td><td>51731</td><td>12952</td><td>12232</td><td>720</td><td>0.00964469</td></tr><tr><th>28</th><td>55043</td><td>49597</td><td>14875</td><td>9068</td><td>5807</td><td>0.00924683</td></tr><tr><th>29</th><td>55005</td><td>44963</td><td>12078</td><td>10457</td><td>1621</td><td>0.00838287</td></tr><tr><th>30</th><td>55075</td><td>43384</td><td>11195</td><td>9726</td><td>1469</td><td>0.00808848</td></tr><tr><th>&vellip;</th><td>&vellip;</td><td>&vellip;</td><td>&vellip;</td><td>&vellip;</td><td>&vellip;</td><td>&vellip;</td></tr></tbody></table>"
      ],
      "text/plain": [
       "72×6 DataFrames.DataFrame\n",
       "│ Row │ County │ Pop    │ Dem    │ Rep    │ Wasted │ x1          │\n",
       "├─────┼────────┼────────┼────────┼────────┼────────┼─────────────┤\n",
       "│ 1   │ 55079  │ 940164 │ 319819 │ 149445 │ 170374 │ 0.175284    │\n",
       "│ 2   │ 55025  │ 426526 │ 205984 │ 73065  │ 132919 │ 0.0795212   │\n",
       "│ 3   │ 55133  │ 360767 │ 85339  │ 145152 │ 59813  │ 0.0672612   │\n",
       "│ 4   │ 55009  │ 226778 │ 67316  │ 55903  │ 11413  │ 0.0422803   │\n",
       "│ 5   │ 55101  │ 188831 │ 53408  │ 45954  │ 7454   │ 0.0352055   │\n",
       "│ 6   │ 55087  │ 160971 │ 50209  │ 39563  │ 10646  │ 0.0300113   │\n",
       "│ 7   │ 55139  │ 156763 │ 48167  │ 37946  │ 10221  │ 0.0292268   │\n",
       "│ 8   │ 55105  │ 152307 │ 50529  │ 27364  │ 23165  │ 0.028396    │\n",
       "│ 9   │ 55059  │ 149577 │ 45836  │ 31609  │ 14227  │ 0.027887    │\n",
       "│ 10  │ 55073  │ 125834 │ 36367  │ 30345  │ 6022   │ 0.0234604   │\n",
       "│ 11  │ 55131  │ 117493 │ 25719  │ 47729  │ 22010  │ 0.0219053   │\n",
       "⋮\n",
       "│ 61  │ 55129  │ 16036  │ 4693   │ 4303   │ 390    │ 0.00298974  │\n",
       "│ 62  │ 55077  │ 15832  │ 4068   │ 3654   │ 414    │ 0.00295171  │\n",
       "│ 63  │ 55099  │ 15822  │ 4559   │ 3461   │ 1098   │ 0.00294984  │\n",
       "│ 64  │ 55013  │ 15674  │ 4337   │ 4200   │ 137    │ 0.00292225  │\n",
       "│ 65  │ 55107  │ 15347  │ 3855   │ 3253   │ 602    │ 0.00286128  │\n",
       "│ 66  │ 55007  │ 15013  │ 5972   │ 3365   │ 2607   │ 0.00279901  │\n",
       "│ 67  │ 55011  │ 13804  │ 3949   │ 2926   │ 1023   │ 0.00257361  │\n",
       "│ 68  │ 55041  │ 10024  │ 2673   │ 1963   │ 710    │ 0.00186887  │\n",
       "│ 69  │ 55091  │ 7213   │ 2102   │ 1616   │ 486    │ 0.00134479  │\n",
       "│ 70  │ 55051  │ 6861   │ 1914   │ 1464   │ 450    │ 0.00127916  │\n",
       "│ 71  │ 55037  │ 5088   │ 1134   │ 1512   │ 378    │ 0.000948603 │\n",
       "│ 72  │ 55078  │ 4562   │ 1257   │ 185    │ 1072   │ 0.000850536 │"
      ]
     },
     "execution_count": 44,
     "metadata": {},
     "output_type": "execute_result"
    }
   ],
   "source": [
    "# Do some checks\n",
    "println(\"Is contiguity matrix valid: \", all(WI_C == WI_C') )\n",
    "\n",
    "println(\"Total votes cast: \", sum(WI_votes[:Dem]) + sum(WI_votes[:Rep])  )\n",
    "\n",
    "sort( [ WI_votes WI_votes[:Pop]/sum(WI_votes[:Pop])], cols =[:Pop], rev = true )         "
   ]
  },
  {
   "cell_type": "code",
   "execution_count": 51,
   "metadata": {
    "scrolled": true
   },
   "outputs": [
    {
     "name": "stdout",
     "output_type": "stream",
     "text": [
      "Optimize a model with 327 rows, 240 columns and 17558 nonzeros\n",
      "Coefficient statistics:\n",
      "  Matrix range    [0e+00, 2e+08]\n",
      "  Objective range [1e+00, 1e+00]\n",
      "  Bounds range    [1e+00, 1e+00]\n",
      "  RHS range       [1e+00, 2e+08]\n",
      "Warning: Model contains large matrix coefficient range\n",
      "         Consider reformulating model or setting NumericFocus parameter\n",
      "         to avoid numerical issues.\n",
      "Variable types: 18 continuous, 222 integer (222 binary)\n",
      "\n",
      "Root relaxation: objective 4.148180e+05, 155 iterations, 0.00 seconds\n",
      "\n",
      "    Nodes    |    Current Node    |     Objective Bounds      |     Work\n",
      " Expl Unexpl |  Obj  Depth IntInf | Incumbent    BestBd   Gap | It/Node Time\n",
      "\n",
      "     0     0 414818.000    0    7          - 414818.000      -     -    0s\n",
      "     0     0 414818.000    0   11          - 414818.000      -     -    0s\n",
      "     0     0 414818.000    0    5          - 414818.000      -     -    0s\n",
      "     0     0 414818.000    0    3          - 414818.000      -     -    0s\n",
      "     0     0 414818.000    0    3          - 414818.000      -     -    0s\n",
      "     0     2 414818.000    0    3          - 414818.000      -     -    0s\n",
      "*  405   433              90    1510199.0000 467503.117  69.0%   3.3    0s\n",
      "*  406   433              89    1507931.0000 467503.117  69.0%   3.3    0s\n",
      "*  411   433              90    1500515.0000 467503.117  68.8%   3.3    0s\n",
      "* 1832  1405             106    1474733.0000 467503.117  68.3%   3.8    0s\n",
      "* 1833  1405             106    1470133.0000 467503.117  68.2%   3.8    0s\n",
      "H 3563  2343                    1469811.0000 1469802.00  0.00%   3.7    0s\n",
      "\n",
      "Explored 4051 nodes (14903 simplex iterations) in 0.42 seconds\n",
      "Thread count was 16 (of 32 available processors)\n",
      "\n",
      "Optimal solution found (tolerance 1.00e-04)\n",
      "Best objective 1.469811000000e+06, best bound 1.469802000000e+06, gap 0.0006%\n",
      "  0.426376 seconds (140 allocations: 1.697 MiB)\n"
     ]
    },
    {
     "data": {
      "text/plain": [
       "Dict{String,Any} with 14 entries:\n",
       "  \"Wasted Under Votes\"                => [-0.0 378574.0; 521438.0 0.0; 0.0 3502…\n",
       "  \"Total Vote Share\"                  => [1.67721e6 1.26239e6]\n",
       "  \"Votes By District\"                 => [609339.0 378574.0; 521432.0 533546.0;…\n",
       "  \"Total votes in each district\"      => [987913.0, 1.05498e6, 896713.0]\n",
       "  \"Number of blocks in each district\" => [30.0 26.0 16.0]\n",
       "  \"Model\"                             => Minimization problem with:…\n",
       "  \"Fixed Common Size\"                 => 979868.0\n",
       "  \"Efficiency Gap\"                    => 0.0\n",
       "  \"Solve Status\"                      => :Optimal\n",
       "  \"Total Seat Share\"                  => [2 1]\n",
       "  \"Wasted Over Votes\"                 => [1.15382e5 -0.0; -0.0 6057.0; 98083.5 …\n",
       "  \"Total Wasted Votes [D R]\"          => [734904.0 734904.0]\n",
       "  \"District Assignments\"              => [0.0 0.0 1.0; 0.0 0.0 1.0; … ; 0.0 1.0…\n",
       "  \"Common Size\"                       => 0.0"
      ]
     },
     "execution_count": 51,
     "metadata": {},
     "output_type": "execute_result"
    }
   ],
   "source": [
    "res3 = degerry(WI_V,WI_C, 3, 0.1, solver = \"Gurobi\")"
   ]
  },
  {
   "cell_type": "code",
   "execution_count": 54,
   "metadata": {},
   "outputs": [
    {
     "name": "stdout",
     "output_type": "stream",
     "text": [
      "Optimize a model with 411 rows, 319 columns and 23409 nonzeros\n",
      "Coefficient statistics:\n",
      "  Matrix range    [0e+00, 2e+08]\n",
      "  Objective range [1e+00, 1e+00]\n",
      "  Bounds range    [1e+00, 1e+00]\n",
      "  RHS range       [1e+00, 2e+08]\n",
      "Warning: Model contains large matrix coefficient range\n",
      "         Consider reformulating model or setting NumericFocus parameter\n",
      "         to avoid numerical issues.\n",
      "Variable types: 23 continuous, 296 integer (296 binary)\n",
      "\n",
      "Root relaxation: objective 4.148180e+05, 151 iterations, 0.00 seconds\n",
      "\n",
      "    Nodes    |    Current Node    |     Objective Bounds      |     Work\n",
      " Expl Unexpl |  Obj  Depth IntInf | Incumbent    BestBd   Gap | It/Node Time\n",
      "\n",
      "     0     0 414818.000    0    8          - 414818.000      -     -    0s\n",
      "     0     0 414818.000    0   15          - 414818.000      -     -    0s\n",
      "     0     0 414818.000    0    6          - 414818.000      -     -    0s\n",
      "     0     0 414818.000    0    6          - 414818.000      -     -    0s\n",
      "     0     0 414818.000    0    4          - 414818.000      -     -    0s\n",
      "     0     0 414818.000    0    4          - 414818.000      -     -    0s\n",
      "     0     2 414818.000    0    4          - 414818.000      -     -    0s\n",
      "* 1867  1593             115    1832230.0000 414818.000  77.4%   6.4    0s\n",
      "* 1871  1593             117    1829094.0000 414818.000  77.3%   6.4    0s\n",
      "* 1885  1593             119    1828328.0000 414818.000  77.3%   6.4    0s\n",
      "H 2501  2055                    1825272.0000 414818.000  77.3%   6.4    0s\n",
      "* 2839  2271             104    1774846.0000 414818.000  76.6%   6.3    0s\n",
      "H 2997  2386                    1753895.0000 414818.000  76.3%   6.2    0s\n",
      "H 3537  2549                    1753314.0000 1039615.23  40.7%   8.4    0s\n",
      "H 3667  2474                    1753284.0000 1039615.23  40.7%   8.2    0s\n",
      "H 4169  2549                    1753178.0000 1039615.23  40.7%   8.1    0s\n",
      "\n",
      "Cutting planes:\n",
      "  Gomory: 2\n",
      "  Flow cover: 21\n",
      "\n",
      "Explored 10887 nodes (80965 simplex iterations) in 1.33 seconds\n",
      "Thread count was 16 (of 32 available processors)\n",
      "\n",
      "Optimal solution found (tolerance 1.00e-04)\n",
      "Best objective 1.753178000000e+06, best bound 1.753140133750e+06, gap 0.0022%\n",
      "  1.340990 seconds (140 allocations: 2.257 MiB)\n"
     ]
    },
    {
     "data": {
      "text/plain": [
       "Dict{String,Any} with 14 entries:\n",
       "  \"Wasted Under Votes\"                => [668865.0 -0.0; -0.0 347599.0; -0.0 25…\n",
       "  \"Total Vote Share\"                  => [1.67721e6 1.26239e6]\n",
       "  \"Votes By District\"                 => [385493.0 386119.0; 421492.0 347599.0;…\n",
       "  \"Total votes in each district\"      => [771612.0, 769091.0, 685058.0, 713843.…\n",
       "  \"Number of blocks in each district\" => [25.0 24.0 9.0 14.0]\n",
       "  \"Model\"                             => Minimization problem with:…\n",
       "  \"Fixed Common Size\"                 => 734901.0\n",
       "  \"Efficiency Gap\"                    => 0.0\n",
       "  \"Solve Status\"                      => :Optimal\n",
       "  \"Total Seat Share\"                  => [3 1]\n",
       "  \"Wasted Over Votes\"                 => [-0.0 313.0; 36946.5 -0.0; 91968.0 -0.…\n",
       "  \"Total Wasted Votes [D R]\"          => [876587.0 876587.0]\n",
       "  \"District Assignments\"              => [1.0 0.0 0.0 0.0; 0.0 0.0 1.0 0.0; … ;…\n",
       "  \"Common Size\"                       => 0.0"
      ]
     },
     "execution_count": 54,
     "metadata": {},
     "output_type": "execute_result"
    }
   ],
   "source": [
    "res4 = degerry(WI_V,WI_C, 4, 0.05, solver = \"Gurobi\")"
   ]
  },
  {
   "cell_type": "code",
   "execution_count": 57,
   "metadata": {},
   "outputs": [
    {
     "name": "stdout",
     "output_type": "stream",
     "text": [
      "Optimize a model with 495 rows, 398 columns and 29260 nonzeros\n",
      "Coefficient statistics:\n",
      "  Matrix range    [0e+00, 2e+08]\n",
      "  Objective range [1e+00, 1e+00]\n",
      "  Bounds range    [1e+00, 1e+00]\n",
      "  RHS range       [1e+00, 2e+08]\n",
      "Warning: Model contains large matrix coefficient range\n",
      "         Consider reformulating model or setting NumericFocus parameter\n",
      "         to avoid numerical issues.\n",
      "Variable types: 28 continuous, 370 integer (370 binary)\n",
      "\n",
      "Root relaxation: objective 4.148180e+05, 178 iterations, 0.00 seconds\n",
      "\n",
      "    Nodes    |    Current Node    |     Objective Bounds      |     Work\n",
      " Expl Unexpl |  Obj  Depth IntInf | Incumbent    BestBd   Gap | It/Node Time\n",
      "\n",
      "     0     0 414818.000    0   10          - 414818.000      -     -    0s\n",
      "     0     0 414818.000    0   16          - 414818.000      -     -    0s\n",
      "     0     0 414818.000    0    9          - 414818.000      -     -    0s\n",
      "     0     0 414818.000    0    5          - 414818.000      -     -    0s\n",
      "     0     0 414818.000    0    5          - 414818.000      -     -    0s\n",
      "     0     2 414818.000    0    5          - 414818.000      -     -    0s\n",
      "* 2408  1746             111    1548147.0000 414818.000  73.2%   4.9    0s\n",
      "H 3098  2174                    1531845.0000 885957.494  42.2%  13.3    1s\n",
      "H 3225  2107                    1503582.0000 885957.494  41.1%  15.6    1s\n",
      "H 3892  2288                    1503339.0000 885957.494  41.1%  17.7    1s\n",
      "H 3895  2193                    1503242.0000 885957.494  41.1%  17.7    1s\n",
      "H11216  5477                    1502906.0000 1502471.68  0.03%  18.8    2s\n",
      "H26484 15915                    1502880.0000 1502471.69  0.03%  18.7    4s\n",
      "H26503 15875                    1502871.0000 1502471.69  0.03%  18.8    4s\n",
      "H26563 15749                    1502843.0000 1502471.69  0.02%  18.8    4s\n",
      " 28128 16773 1502472.48   32   33 1502843.00 1502471.69  0.02%  19.0    5s\n",
      " 67911 43698     cutoff  116      1502843.00 1502471.69  0.02%  19.2   10s\n",
      " 112582 73112 1502471.74   30   53 1502843.00 1502471.70  0.02%  20.9   15s\n",
      " 147620 96183 1502472.48   34   31 1502843.00 1502471.71  0.02%  21.5   20s\n",
      " 188266 123230 1502472.53   41   47 1502843.00 1502471.73  0.02%  21.8   25s\n",
      " 234428 154685 1502499.76   71    6 1502843.00 1502471.73  0.02%  21.8   30s\n",
      " 277326 183018 1502473.48   39    9 1502843.00 1502471.74  0.02%  21.9   35s\n",
      "H309297 203354                    1502829.0000 1502471.74  0.02%  22.0   39s\n",
      " 315991 207746 1502476.48   55   10 1502829.00 1502471.74  0.02%  22.0   40s\n",
      " 362528 239038 infeasible   36      1502829.00 1502471.74  0.02%  21.9   45s\n",
      " 407012 268313 1502471.75   27   71 1502829.00 1502471.75  0.02%  21.9   50s\n",
      "H440389 289955                    1502817.0000 1502471.75  0.02%  21.8   53s\n",
      "H441182 289657                    1502800.0000 1502471.75  0.02%  21.8   53s\n",
      " 451244 296324     cutoff   34      1502800.00 1502471.75  0.02%  21.8   55s\n",
      "H471422 309112                    1502799.9977 1502471.75  0.02%  21.9   57s\n",
      " 487556 319569 1502476.48   58   10 1502800.00 1502471.75  0.02%  21.9   60s\n",
      " 522553 342471 1502473.48   34   17 1502800.00 1502471.75  0.02%  22.0   65s\n",
      " 561035 367474 1502472.58   38   30 1502800.00 1502471.76  0.02%  22.0   70s\n",
      " 597843 390889 1502472.50   40   37 1502800.00 1502471.76  0.02%  22.1   75s\n",
      " 632101 412724 1502472.48   37   46 1502800.00 1502471.76  0.02%  22.2   80s\n",
      " 675619 440223 infeasible   37      1502800.00 1502471.77  0.02%  22.3   85s\n",
      " 717245 466402 1502474.48   54   10 1502800.00 1502471.77  0.02%  22.2   90s\n",
      " 759373 493192 1502473.48   31   16 1502800.00 1502471.79  0.02%  22.3   95s\n",
      " 806353 523755 1502473.48   46   15 1502800.00 1502471.80  0.02%  22.2  100s\n",
      " 851303 553238 1502472.64   35   43 1502800.00 1502471.81  0.02%  22.0  105s\n",
      " 891980 576868 1502472.77   40   48 1502800.00 1502471.94  0.02%  22.1  110s\n",
      "H924386 595186                    1502771.0000 1502472.48  0.02%  21.9  113s\n",
      " 938984 604952 1502475.48   45   10 1502771.00 1502472.48  0.02%  21.8  115s\n",
      " 995869 642301 1502476.48  102   10 1502771.00 1502472.48  0.02%  21.6  120s\n",
      "*1027992 649896             142    1502747.0000 1502472.48  0.02%  21.4  122s\n",
      "H1032740 629211                    1502557.0000 1502472.48  0.01%  21.4  123s\n",
      "\n",
      "Cutting planes:\n",
      "  Gomory: 8\n",
      "  Cover: 38\n",
      "  Clique: 1\n",
      "  MIR: 5\n",
      "  Flow cover: 71\n",
      "  Zero half: 10\n",
      "\n",
      "Explored 1033444 nodes (22099189 simplex iterations) in 123.75 seconds\n",
      "Thread count was 16 (of 32 available processors)\n",
      "\n",
      "Optimal solution found (tolerance 1.00e-04)\n",
      "Best objective 1.502557000000e+06, best bound 1.502472480000e+06, gap 0.0056%\n",
      "123.761540 seconds (140 allocations: 2.816 MiB)\n"
     ]
    },
    {
     "data": {
      "text/plain": [
       "Dict{String,Any} with 14 entries:\n",
       "  \"Wasted Under Votes\"                => [-0.0 250050.0; -0.0 225566.0; … ; 248…\n",
       "  \"Total Vote Share\"                  => [1.67721e6 1.26239e6]\n",
       "  \"Votes By District\"                 => [399987.0 217300.0; 391733.0 225566.0;…\n",
       "  \"Total votes in each district\"      => [617287.0, 617299.0, 617284.0, 513480.…\n",
       "  \"Number of blocks in each district\" => [7.0 12.0 … 20.0 11.0]\n",
       "  \"Model\"                             => Minimization problem with:…\n",
       "  \"Fixed Common Size\"                 => 5.87921e5\n",
       "  \"Efficiency Gap\"                    => 0.0\n",
       "  \"Solve Status\"                      => :Optimal\n",
       "  \"Total Seat Share\"                  => [3 2]\n",
       "  \"Wasted Over Votes\"                 => [91343.5 -0.0; 83083.5 -0.0; … ; -0.0 …\n",
       "  \"Total Wasted Votes [D R]\"          => [751276.0 751276.0]\n",
       "  \"District Assignments\"              => [0.0 0.0 … 1.0 0.0; 0.0 0.0 … 1.0 0.0;…\n",
       "  \"Common Size\"                       => 0.0"
      ]
     },
     "execution_count": 57,
     "metadata": {},
     "output_type": "execute_result"
    }
   ],
   "source": [
    "res5 = degerry(WI_V,WI_C, 5, 0.05, solver = \"Gurobi\")"
   ]
  },
  {
   "cell_type": "code",
   "execution_count": 58,
   "metadata": {},
   "outputs": [
    {
     "name": "stdout",
     "output_type": "stream",
     "text": [
      "Optimize a model with 579 rows, 477 columns and 35111 nonzeros\n",
      "Coefficient statistics:\n",
      "  Matrix range    [0e+00, 2e+08]\n",
      "  Objective range [1e+00, 1e+00]\n",
      "  Bounds range    [1e+00, 1e+00]\n",
      "  RHS range       [1e+00, 2e+08]\n",
      "Warning: Model contains large matrix coefficient range\n",
      "         Consider reformulating model or setting NumericFocus parameter\n",
      "         to avoid numerical issues.\n",
      "Variable types: 33 continuous, 444 integer (444 binary)\n",
      "\n",
      "Root relaxation: objective 4.148180e+05, 356 iterations, 0.01 seconds\n",
      "\n",
      "    Nodes    |    Current Node    |     Objective Bounds      |     Work\n",
      " Expl Unexpl |  Obj  Depth IntInf | Incumbent    BestBd   Gap | It/Node Time\n",
      "\n",
      "     0     0 414818.000    0   12          - 414818.000      -     -    0s\n",
      "     0     0 414818.000    0   19          - 414818.000      -     -    0s\n",
      "     0     0 414818.000    0   16          - 414818.000      -     -    0s\n",
      "     0     0 414818.000    0   12          - 414818.000      -     -    0s\n",
      "     0     0 414818.000    0   11          - 414818.000      -     -    0s\n",
      "     0     0 414818.000    0    6          - 414818.000      -     -    0s\n",
      "     0     0 414818.000    0    6          - 414818.000      -     -    0s\n",
      "     0     2 414818.000    0    6          - 414818.000      -     -    0s\n",
      "H 2827  1996                    2010704.0000 414818.000  79.4%   4.5    0s\n",
      "* 3585  2082             105    1535046.0000 981493.900  36.1%  11.8    1s\n",
      "* 3592  1984             110    1534028.0000 981493.900  36.0%  11.8    1s\n",
      "H 3955  1629                    1496771.0000 1296699.20  13.4%  11.5    2s\n",
      "H 3971  1540                    1496366.0000 1296699.20  13.3%  11.4    2s\n",
      "H 4008  1450                    1496239.0000 1296699.20  13.3%  11.6    2s\n",
      "H 4014  1371                    1496062.0000 1296699.20  13.3%  11.6    2s\n",
      "\n",
      "Cutting planes:\n",
      "  Gomory: 1\n",
      "  Cover: 1\n",
      "  Flow cover: 20\n",
      "\n",
      "Explored 6576 nodes (84703 simplex iterations) in 2.26 seconds\n",
      "Thread count was 16 (of 32 available processors)\n",
      "\n",
      "Optimal solution found (tolerance 1.00e-04)\n",
      "Best objective 1.496062000000e+06, best bound 1.495924600000e+06, gap 0.0092%\n",
      "  2.268101 seconds (143 allocations: 3.375 MiB)\n"
     ]
    },
    {
     "data": {
      "text/plain": [
       "Dict{String,Any} with 14 entries:\n",
       "  \"Wasted Under Votes\"                => [2.65248e5 -0.0; 242580.0 -0.0; … ; -0…\n",
       "  \"Total Vote Share\"                  => [1.67721e6 1.26239e6]\n",
       "  \"Votes By District\"                 => [256957.0 257357.0; 242580.0 271835.0;…\n",
       "  \"Total votes in each district\"      => [514314.0, 514415.0, 469264.0, 479560.…\n",
       "  \"Number of blocks in each district\" => [26.0 9.0 … 16.0 9.0]\n",
       "  \"Model\"                             => Minimization problem with:…\n",
       "  \"Fixed Common Size\"                 => 489934.0\n",
       "  \"Efficiency Gap\"                    => 0.0\n",
       "  \"Solve Status\"                      => :Optimal\n",
       "  \"Total Seat Share\"                  => [4 2]\n",
       "  \"Wasted Over Votes\"                 => [-0.0 200.0; -0.0 14627.5; … ; 57102.5…\n",
       "  \"Total Wasted Votes [D R]\"          => [7.48029e5 7.48029e5]\n",
       "  \"District Assignments\"              => [0.0 0.0 … 1.0 0.0; 0.0 1.0 … 0.0 0.0;…\n",
       "  \"Common Size\"                       => 0.0"
      ]
     },
     "execution_count": 58,
     "metadata": {},
     "output_type": "execute_result"
    }
   ],
   "source": [
    "res6 = degerry(WI_V,WI_C, 6, 0.05, solver = \"Gurobi\")"
   ]
  },
  {
   "cell_type": "code",
   "execution_count": 66,
   "metadata": {},
   "outputs": [
    {
     "data": {
      "text/plain": [
       "CSV.Sink{DateFormat{Symbol(\"yyyy-mm-dd\"),Tuple{Base.Dates.DatePart{'y'},Base.Dates.Delim{Char,1},Base.Dates.DatePart{'m'},Base.Dates.Delim{Char,1},Base.Dates.DatePart{'d'}}},DataType}(    CSV.Options:\n",
       "        delim: ','\n",
       "        quotechar: '\"'\n",
       "        escapechar: '\\\\'\n",
       "        null: \"\"\n",
       "        dateformat: dateformat\"yyyy-mm-dd\"\n",
       "        decimal: '.'\n",
       "        truestring: 'true'\n",
       "        falsestring: 'false', IOBuffer(data=UInt8[...], readable=true, writable=true, seekable=true, append=false, size=0, maxsize=Inf, ptr=1, mark=-1), \"data/Result_District_Assignments_6.csv\", 18, true, String[\"x1\", \"x2\", \"x3\", \"x4\", \"x5\", \"x6\"], 6, false, Val{false})"
      ]
     },
     "execution_count": 66,
     "metadata": {},
     "output_type": "execute_result"
    }
   ],
   "source": [
    "CSV.write(\"data/Result_District_Assignments_3.csv\", DataFrame(res3[\"District Assignments\"]) )\n",
    "CSV.write(\"data/Result_District_Assignments_4.csv\", DataFrame(res4[\"District Assignments\"]))\n",
    "CSV.write(\"data/Result_District_Assignments_5.csv\", DataFrame(res5[\"District Assignments\"]))\n",
    "CSV.write(\"data/Result_District_Assignments_6.csv\", DataFrame(res6[\"District Assignments\"]))"
   ]
  },
  {
   "cell_type": "code",
   "execution_count": null,
   "metadata": {},
   "outputs": [],
   "source": []
  }
 ],
 "metadata": {
  "kernelspec": {
   "display_name": "Julia 0.6.0",
   "language": "julia",
   "name": "julia-0.6"
  },
  "language_info": {
   "file_extension": ".jl",
   "mimetype": "application/julia",
   "name": "julia",
   "version": "0.6.0"
  }
 },
 "nbformat": 4,
 "nbformat_minor": 1
}
