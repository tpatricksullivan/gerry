{
 "cells": [
  {
   "cell_type": "markdown",
   "metadata": {},
   "source": [
    "# Gerrymandering and the Redistricting Problem\n",
    "\n",
    "## Assumptions\n",
    "\n",
    "We assume a 2-party system with the parties represented as \"D\" and \"R\". We start by only using one period's worth of historical data. \n",
    "\n",
    "## Data Inputs\n",
    "\n",
    "The expected number of votes for each party is a key data input for our constraints. We represent this with a matrix, $\\mathbf{V}$. Since we have two parties, the matrix has the following shape.\n",
    "\n",
    "$$ \\mathbf{V} \\in \\mathbb{R}^{|blocks| \\times 2} $$\n",
    "\n",
    "$blocks$ is a set where $|blocks|$ is the number of elements in the set. By convention, the first column of $\\mathbf{V}$ will be D votes and the second column R votes. $\\mathbf{V}$ could represent a single past election's results, or it could be an expected upcoming result based on an exogenous model.\n",
    "\n",
    "## Variables\n",
    "\n",
    "We represent the variables with a matrix. Each row of the matrix represents an indivisible block (precint, county, or census area depending on the conventions of the problem). The columns represent assignment to a district. The matrix is made up of zeroes or ones, and each row must have exactly one entry equal to one, meaning that each row must be in one and only one district. $districts$ is a set where $|districts|$ is the number of elements in each set. \n",
    "\n",
    "$$ \n",
    "\\mathbf{D} \\in \\{0,1\\}^{|blocks| \\times |districts|}. \n",
    "$$\n",
    "\n",
    "For ease of interpretation, we're going to define another variable that represents the \"efficiency gap\" in votes. To do this, we need to know the number of expected votes for each party in each block and the assignment of blocks to districts. $\\mathbf{D}^T \\mathbf{V} \\in \\mathbb{R}^{|districts| \\times 2} $ gives us a matrix of the number of D and R votes in each district. The efficiency gap can be calculated from the seat margin and vote margin. [Brennan Center](https://www.brennancenter.org/sites/default/files/legal-work/How_the_Efficiency_Gap_Standard_Works.pdf)\n",
    "\n",
    "$$ \\text{Efficiency Gap} = (\\text{Seat Margin} - 50\\%) - 2 ( \\text{Vote Margin} - 50\\% ) $$\n",
    "\n",
    "The vote margin is easily calculated by multiplying $\\mathbf{D^TV}$ by a vector of ones, $\\mathbf{j}$, and subtracting the elements. The seat margin is trickier, since we need to determine which of the two parties is the winner for any given potential solution.  We do this by introducing another vector of variables $\\mathbf{w}\\in \\{0,1\\}^{|districts|}$, indicating if D won the given seat (or district). \n",
    "\n",
    "$$ \\mathbf{w}\\in \\{0,1\\}^{|districts|} $$\n",
    "\n",
    "When we include $w$ in our objective with an appropriately large penalty, the optimization problem will set $w_i = 1$ if D won the seat and $0$ otherwise. Our constraints will ensure this. So the margin variables are now: \n",
    "\n",
    "$$ \\text{Seat Margin} = \\frac{ (\\mathbf{w}\\cdot \\mathbf{j} - (1-\\mathbf{w})\\cdot \\mathbf{j} )}{|districts| } $$\n",
    "\n",
    "$$ \\text{Vote Margin} = \\frac{\\mathbf{j^TD^TV} \\left[ \\begin{array}{c} 1 \\\\ -1 \\end{array} \\right]}{\\mathbf{j^TVj}} $$\n",
    "\n",
    "\n",
    "## Constraints\n",
    "\n",
    "To force the $\\mathbf{w}$ variable, set a constraint (vector valued):\n",
    "$$ \\mathbf{D^TV} \\left[ \\begin{array}{c} 1 \\\\ -1 \\end{array} \\right] \\geq \\mathbf{w} $$. \n",
    "\n",
    "\n"
   ]
  },
  {
   "cell_type": "markdown",
   "metadata": {},
   "source": [
    "## Example Problem"
   ]
  },
  {
   "cell_type": "code",
   "execution_count": 3,
   "metadata": {
    "collapsed": false
   },
   "outputs": [
    {
     "data": {
      "text/plain": [
       "5×2 Array{Int64,2}:\n",
       " 75  25\n",
       " 60  40\n",
       " 43  57\n",
       " 48  52\n",
       " 49  51"
      ]
     },
     "execution_count": 3,
     "metadata": {},
     "output_type": "execute_result"
    }
   ],
   "source": [
    "V = [75 25; 60 40; 43 57; 48 52; 49 51]\n"
   ]
  },
  {
   "cell_type": "code",
   "execution_count": 9,
   "metadata": {
    "collapsed": false
   },
   "outputs": [
    {
     "name": "stderr",
     "output_type": "stream",
     "text": [
      "\u001b[1m\u001b[36mINFO: \u001b[39m\u001b[22m\u001b[36mPrecompiling module ECOS.\n",
      "\u001b[39m"
     ]
    }
   ],
   "source": [
    "using JuMP \n",
    "using AmplNLWriter\n",
    "using CoinOptServices\n",
    "using ECOS"
   ]
  },
  {
   "cell_type": "code",
   "execution_count": 10,
   "metadata": {
    "collapsed": false
   },
   "outputs": [
    {
     "data": {
      "text/latex": [
       "$$ \\begin{alignat*}{1}\\min\\quad & abs_eff_gap - w_{1} - w_{2} - w_{3} - w_{4} - w_{5}\\\\\n",
       "\\text{Subject to} \\quad & D_{1,1} + D_{1,2} + D_{1,3} + D_{1,4} + D_{1,5} = 1\\\\\n",
       " & D_{2,1} + D_{2,2} + D_{2,3} + D_{2,4} + D_{2,5} = 1\\\\\n",
       " & D_{3,1} + D_{3,2} + D_{3,3} + D_{3,4} + D_{3,5} = 1\\\\\n",
       " & D_{4,1} + D_{4,2} + D_{4,3} + D_{4,4} + D_{4,5} = 1\\\\\n",
       " & D_{5,1} + D_{5,2} + D_{5,3} + D_{5,4} + D_{5,5} = 1\\\\\n",
       " & 50 D_{1,1} + 20 D_{2,1} - 14 D_{3,1} - 4 D_{4,1} - 2 D_{5,1} - w_{1} \\geq 0\\\\\n",
       " & 50 D_{1,2} + 20 D_{2,2} - 14 D_{3,2} - 4 D_{4,2} - 2 D_{5,2} - w_{2} \\geq 0\\\\\n",
       " & 50 D_{1,3} + 20 D_{2,3} - 14 D_{3,3} - 4 D_{4,3} - 2 D_{5,3} - w_{3} \\geq 0\\\\\n",
       " & 50 D_{1,4} + 20 D_{2,4} - 14 D_{3,4} - 4 D_{4,4} - 2 D_{5,4} - w_{4} \\geq 0\\\\\n",
       " & 50 D_{1,5} + 20 D_{2,5} - 14 D_{3,5} - 4 D_{4,5} - 2 D_{5,5} - w_{5} \\geq 0\\\\\n",
       " & eff_gap - 0.002 wasted_{1,1} - 0.002 wasted_{2,1} - 0.002 wasted_{3,1} - 0.002 wasted_{4,1} - 0.002 wasted_{5,1} + 0.002 wasted_{1,2} + 0.002 wasted_{2,2} + 0.002 wasted_{3,2} + 0.002 wasted_{4,2} + 0.002 wasted_{5,2} = 0\\\\\n",
       " & abs_eff_gap - eff_gap \\geq 0\\\\\n",
       " & abs_eff_gap + eff_gap \\geq 0\\\\\n",
       " &  + 75 D_{1,1} + 60 D_{2,1} + 43 D_{3,1} + 48 D_{4,1} + 49 D_{5,1} - 50 w_{1} - wasted_{1,1} = 0\\\\\n",
       " &  + 75 D_{1,2} + 60 D_{2,2} + 43 D_{3,2} + 48 D_{4,2} + 49 D_{5,2} - 50 w_{2} - wasted_{2,1} = 0\\\\\n",
       " &  + 75 D_{1,3} + 60 D_{2,3} + 43 D_{3,3} + 48 D_{4,3} + 49 D_{5,3} - 50 w_{3} - wasted_{3,1} = 0\\\\\n",
       " &  + 75 D_{1,4} + 60 D_{2,4} + 43 D_{3,4} + 48 D_{4,4} + 49 D_{5,4} - 50 w_{4} - wasted_{4,1} = 0\\\\\n",
       " &  + 75 D_{1,5} + 60 D_{2,5} + 43 D_{3,5} + 48 D_{4,5} + 49 D_{5,5} - 50 w_{5} - wasted_{5,1} = 0\\\\\n",
       " &  + 50 w_{1} + 25 D_{1,1} + 40 D_{2,1} + 57 D_{3,1} + 52 D_{4,1} + 51 D_{5,1} - wasted_{1,1} - 50 = 0\\\\\n",
       " &  + 50 w_{2} + 25 D_{1,2} + 40 D_{2,2} + 57 D_{3,2} + 52 D_{4,2} + 51 D_{5,2} - wasted_{2,1} - 50 = 0\\\\\n",
       " &  + 50 w_{3} + 25 D_{1,3} + 40 D_{2,3} + 57 D_{3,3} + 52 D_{4,3} + 51 D_{5,3} - wasted_{3,1} - 50 = 0\\\\\n",
       " &  + 50 w_{4} + 25 D_{1,4} + 40 D_{2,4} + 57 D_{3,4} + 52 D_{4,4} + 51 D_{5,4} - wasted_{4,1} - 50 = 0\\\\\n",
       " &  + 50 w_{5} + 25 D_{1,5} + 40 D_{2,5} + 57 D_{3,5} + 52 D_{4,5} + 51 D_{5,5} - wasted_{5,1} - 50 = 0\\\\\n",
       " & D_{i,j} \\in \\{0,1\\} \\quad\\forall i \\in \\{1,2,3,4,5\\}, j \\in \\{1,2,3,4,5\\}\\\\\n",
       " & w_{i} \\in \\{0,1\\} \\quad\\forall i \\in \\{1,2,3,4,5\\}\\\\\n",
       " & wasted_{i,j} \\quad\\forall i \\in \\{1,2,3,4,5\\}, j \\in \\{1,2\\}\\\\\n",
       " & eff_gap\\\\\n",
       " & abs_eff_gap\\\\\n",
       "\\end{alignat*}\n",
       " $$"
      ],
      "text/plain": [
       "Minimization problem with:\n",
       " * 13 linear constraints\n",
       " * 10 quadratic constraints\n",
       " * 42 variables: 30 binary\n",
       "Solver is ECOS"
      ]
     },
     "execution_count": 10,
     "metadata": {},
     "output_type": "execute_result"
    }
   ],
   "source": [
    "blocks = size(V,1)\n",
    "districts = 5\n",
    "t = ones(districts,1)\n",
    "\n",
    "#m = Model(solver = AmplNLSolver(CoinOptServices.bonmin) )\n",
    "m = Model(solver = ECOSSolver() )\n",
    "\n",
    "## Variables \n",
    "\n",
    "@variable(m, 0 <= D[i=1:blocks,j=1:districts] <= 1 , Bin)\n",
    "@variable(m, 0 <= w[i=1:districts] <= 1, Bin)\n",
    "@variable(m, eff_gap)\n",
    "@variable(m, abs_eff_gap)\n",
    "@variable(m, wasted[i=1:districts, j=1:2])\n",
    "\n",
    "## Constraints\n",
    "\n",
    "@constraint(m, D * ones(districts,1) .== 1)  # each block can be in only one district\n",
    "\n",
    "@constraint(m, (D' * V) * [1;-1] .>= w) # calculate each district's winner\n",
    "\n",
    "@constraint(m, (D' * V)[:,1] .* (1-w) + ((D' * V)[:,1] - (V * ones(2,1))/2).* w .== wasted[:,1] )  # calculate wasted votes for dems\n",
    "\n",
    "@constraint(m, (D' * V)[:,2] .* w + ((D' * V)[:,2] - (V * ones(2,1))/2).* (1-w) .== wasted[:,1] )  # calculate wasted votes for reps\n",
    "\n",
    "\n",
    "@constraint(m, eff_gap == (sum(wasted[:,1]) - sum(wasted[:,2])) / sum(V))\n",
    "\n",
    "@constraint(m, abs_eff_gap >= eff_gap)\n",
    "@constraint(m, abs_eff_gap >= - eff_gap)\n",
    "\n",
    "## Objective\n",
    "\n",
    "@objective(m, Min, abs_eff_gap - sum(w) )\n",
    "\n",
    "m"
   ]
  },
  {
   "cell_type": "code",
   "execution_count": 12,
   "metadata": {
    "collapsed": false
   },
   "outputs": [
    {
     "ename": "LoadError",
     "evalue": "\u001b[91mFor conic solvers, only quadratic constraints in second-order cone format (x'x <= y^2) or rotated second-order cone format (x'x <= yz) are supported\u001b[39m",
     "output_type": "error",
     "traceback": [
      "\u001b[91mFor conic solvers, only quadratic constraints in second-order cone format (x'x <= y^2) or rotated second-order cone format (x'x <= yz) are supported\u001b[39m",
      "",
      "Stacktrace:",
      " [1] \u001b[1maddquadconstr!\u001b[22m\u001b[22m\u001b[1m(\u001b[22m\u001b[22m::MathProgBase.SolverInterface.ConicToLPQPBridge, ::Array{Int32,1}, ::Array{Float64,1}, ::Array{Int32,1}, ::Array{Int32,1}, ::Array{Float64,1}, ::Char, ::Float64\u001b[1m)\u001b[22m\u001b[22m at \u001b[1m/home/patrick/.julia/v0.6/MathProgBase/src/SolverInterface/conic_to_lpqp.jl:44\u001b[22m\u001b[22m",
      " [2] \u001b[1maddQuadratics\u001b[22m\u001b[22m\u001b[1m(\u001b[22m\u001b[22m::JuMP.Model\u001b[1m)\u001b[22m\u001b[22m at \u001b[1m/home/patrick/.julia/v0.6/JuMP/src/solvers.jl:463\u001b[22m\u001b[22m",
      " [3] \u001b[1m#build#119\u001b[22m\u001b[22m\u001b[1m(\u001b[22m\u001b[22m::Bool, ::Bool, ::JuMP.ProblemTraits, ::Function, ::JuMP.Model\u001b[1m)\u001b[22m\u001b[22m at \u001b[1m/home/patrick/.julia/v0.6/JuMP/src/solvers.jl:373\u001b[22m\u001b[22m",
      " [4] \u001b[1m(::JuMP.#kw##build)\u001b[22m\u001b[22m\u001b[1m(\u001b[22m\u001b[22m::Array{Any,1}, ::JuMP.#build, ::JuMP.Model\u001b[1m)\u001b[22m\u001b[22m at \u001b[1m./<missing>:0\u001b[22m\u001b[22m",
      " [5] \u001b[1m#solve#116\u001b[22m\u001b[22m\u001b[1m(\u001b[22m\u001b[22m::Bool, ::Bool, ::Bool, ::Array{Any,1}, ::Function, ::JuMP.Model\u001b[1m)\u001b[22m\u001b[22m at \u001b[1m/home/patrick/.julia/v0.6/JuMP/src/solvers.jl:168\u001b[22m\u001b[22m",
      " [6] \u001b[1msolve\u001b[22m\u001b[22m\u001b[1m(\u001b[22m\u001b[22m::JuMP.Model\u001b[1m)\u001b[22m\u001b[22m at \u001b[1m/home/patrick/.julia/v0.6/JuMP/src/solvers.jl:150\u001b[22m\u001b[22m",
      " [7] \u001b[1minclude_string\u001b[22m\u001b[22m\u001b[1m(\u001b[22m\u001b[22m::String, ::String\u001b[1m)\u001b[22m\u001b[22m at \u001b[1m./loading.jl:515\u001b[22m\u001b[22m"
     ]
    }
   ],
   "source": [
    "@time begin\n",
    "    status = solve(m)\n",
    "end\n",
    "println(\"objective: \", getobjectivevalue(m))\n",
    "_D = getvalue(D)\n",
    "_abs_eff_gap = getvalue(abs_eff_gap)\n",
    "print(_D)\n",
    "print(_abs_eff_gap)"
   ]
  },
  {
   "cell_type": "code",
   "execution_count": 106,
   "metadata": {
    "collapsed": false
   },
   "outputs": [
    {
     "data": {
      "text/plain": [
       "2-element Array{Float64,1}:\n",
       " 0.0\n",
       " 1.0"
      ]
     },
     "execution_count": 106,
     "metadata": {},
     "output_type": "execute_result"
    }
   ],
   "source": [
    "_w = getvalue(w)"
   ]
  },
  {
   "cell_type": "code",
   "execution_count": 107,
   "metadata": {
    "collapsed": false
   },
   "outputs": [
    {
     "data": {
      "text/plain": [
       "2×2 Array{Float64,2}:\n",
       " 172.0  128.0\n",
       " 103.0   97.0"
      ]
     },
     "execution_count": 107,
     "metadata": {},
     "output_type": "execute_result"
    }
   ],
   "source": [
    "_D' * V"
   ]
  },
  {
   "cell_type": "code",
   "execution_count": 122,
   "metadata": {
    "collapsed": false
   },
   "outputs": [
    {
     "data": {
      "text/plain": [
       "2×2 Array{Int64,2}:\n",
       "  91  109\n",
       " 184  116"
      ]
     },
     "execution_count": 122,
     "metadata": {},
     "output_type": "execute_result"
    }
   ],
   "source": [
    "V = [75 25; 60 40; 43 57; 48 52; 49 51]\n",
    "\n",
    "DR_totals = ones(1,5) * A\n",
    "V_margin = DR_totals[1,1] - DR_totals[1,2]\n",
    "min.(A)\n",
    "size(A,1)\n",
    "\n",
    "D = [0 1 ; 0 1 ; 1 0 ; 1 0 ; 0 1]\n",
    "(D' * V) * [1; 0]\n"
   ]
  }
 ],
 "metadata": {
  "kernelspec": {
   "display_name": "Julia 0.6.0",
   "language": "julia",
   "name": "julia-0.6"
  },
  "language_info": {
   "file_extension": ".jl",
   "mimetype": "application/julia",
   "name": "julia",
   "version": "0.6.0"
  }
 },
 "nbformat": 4,
 "nbformat_minor": 0
}
