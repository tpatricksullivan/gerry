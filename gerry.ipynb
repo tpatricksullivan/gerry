{
 "cells": [
  {
   "cell_type": "markdown",
   "metadata": {
    "slideshow": {
     "slide_type": "slide"
    }
   },
   "source": [
    "# Solving the Redistricting Problem\n",
    "\n",
    "## Assumptions\n",
    "\n",
    " - We assume a 2-party system. \n",
    " - We only use one period's worth of historical data. \n",
    " - We also assume that all available voters voted (no one abstained) in our historical data. \n",
    " "
   ]
  },
  {
   "cell_type": "markdown",
   "metadata": {
    "slideshow": {
     "slide_type": "subslide"
    }
   },
   "source": [
    "## Conventions\n",
    "\n",
    " - We call the lowest, indivisible unit a \"block\".\n",
    " - Blocks are partitioned into \"districts\". "
   ]
  },
  {
   "cell_type": "markdown",
   "metadata": {
    "slideshow": {
     "slide_type": "slide"
    }
   },
   "source": [
    "## Data Inputs\n",
    "\n",
    "The expected number of votes for each party is a key data input for our constraints. We represent this with a matrix, $\\mathbf{V}$. Since we have two parties, the matrix has the following shape.\n",
    "\n",
    "$$ \\mathbf{V} \\in \\mathbb{R}^{|blocks| \\times 2} $$\n",
    "\n",
    "$blocks$ is a set where $|blocks|$ is the number of elements in the set. By convention, the first column of $\\mathbf{V}$ will be D votes and the second column R votes. $\\mathbf{V}$ could represent a single past election's results, or it could be an expected upcoming result based on an exogenous model.\n",
    "\n",
    "The second major input is a matrix specifying which blocks are contiguous with each other, meaning that they share a border. This matrix has the following shape:\n",
    "\n",
    "$$ \\mathbf{C} \\in \\mathbb{R}^{|blocks| \\times |blocks|} $$\n",
    "\n",
    "The elements of the matrix are defined as \n",
    "\n",
    "$$ c_{ij} = \\left\\{ \\begin{array}{cc} 1 & \\text{block i borders block j} \\\\ 0 & \\text{otherwise} \\end{array} \\right. $$\n",
    "\n",
    "## Objective \n",
    "\n",
    "Our objective uses the concept of the \"efficiency gap\". See [Brennan Center](https://www.brennancenter.org/sites/default/files/legal-work/How_the_Efficiency_Gap_Standard_Works.pdf). The efficiency gap itself uses another concept of \"wasted votes\". \n",
    "\n",
    "Votes can be wasted in two ways. A vote cast for a losing candidate is \"wasted\", and votes cast for a winning candidate in excess of the amount needed to win are also wasted. The efficiency gap is a signed number so it can be in favor of one party or another. We arbitrarily chose to do it from the perspective of the \"D\" party. So a positive efficiency gap favors the R party. \n",
    "\n",
    "$$ \\text{Efficiency Gap} = \\text{D wasted votes} - \\text{R wasted votes} $$\n",
    "\n",
    "\n",
    "## Variables\n",
    "\n",
    "There are several variables in the model. The key variable is a matrix where each row of the matrix represents an indivisible block (precint, county, or census area depending on the conventions of the problem). The columns represent assignment to a district. The matrix is made up of zeroes or ones, and each row must have exactly one entry equal to one, meaning that each row must be in one and only one district. $districts$ is a set where $|districts|$ is the number of elements in each set. \n",
    "\n",
    "$$ \n",
    "\\mathbf{D} \\in \\{0,1\\}^{|blocks| \\times |districts|}. \n",
    "$$\n",
    "\n",
    "Several other variables are necessary to set up the problem in a linear fashion. These are best explained in the context of each constraint.\n",
    "\n",
    "## Constraints\n",
    "\n",
    "### Each Block Is In Exactly One District\n",
    "\n",
    "This constraint is easily expressed by saying that the sum of each row in the $D$ variable must be exactly one. \n",
    "\n",
    "$$ D \\left[ \\begin{array}{c} 1 \\\\ \\vdots \\\\ 1 \\end{array} \\right]  = \\left[ \\begin{array}{c} 1 \\\\ \\vdots \\\\ 1 \\end{array} \\right].$$\n",
    "\n",
    "### Calculate The Number of Wasted Votes for Losing Party\n",
    "\n",
    "To calculate wasted votes for the losing party, we first have to know which party lost and what its vote total was. We need to know this for each district that is formed as a result of the optimization. A simple `min` function is not linear, and we desire a purely linear form of the problem. This can be achieved using the \"Big M\" method. See [Big M](https://en.wikipedia.org/wiki/Big_M_method). Suppose we are looking at the results in just one district, with vote totals $d$ and $r$. Then define two additional variables, $wastedUnder$ and $w$. Further choose a constant $M$ that is large enough. Then define two constraints as below.\n",
    "\n",
    "$$ \\begin{align}\n",
    "wastedUnder &\\geq d - Mw \\\\\n",
    "wastedUnder &\\geq r - M(1-w) \\\\\n",
    "wastedUnder &\\in \\mathbb{R} \\\\\n",
    "w &\\in {0,1}\n",
    "\\end{align} $$\n",
    "\n",
    "If we include $wastedUnder$ in the objective function to minimize it, then the optimizer will try to reduce it. If $d$ is smaller than $r$, it will minimize it by setting $w=0$, and allowing $wastedUnder = d$.  The other constraint is nonbinding in this case. Otherwise, it will set $w=1$, making the first constraint non-bonding and setting $wastedUnder = r$. Since $w$ must be either 0 or 1, then $wastedUnder$ will be the minimum. \n",
    "\n",
    "### Calculate Wasted Votes for the Winning Party\n",
    "\n",
    "Wasted votes for the winning party occur when the winning party gets more votes than is necessary to win. It is mostly simply calculate as \n",
    "$$\\max (0, \\text{winning votes} - \\text{threshhold to win} ).$$\n",
    "\n",
    "Because we want to avoid `max` functions, which are non-linear, we use a trick similar to the one we used for wasted votes for the losing party. Let $VotesToWin$ be the threshold to win (50% plus one). Then set up constraints as follows.\n",
    "\n",
    "$$\n",
    "\\begin{align}\n",
    "wastedOver & \\geq 0 \\\\\n",
    "wastedOver & \\geq d - VotesToWin \n",
    "\\end{align}\n",
    "$$\n",
    "\n",
    "If we include $wastedOver$ in the objective to minimize it, then it will be $0$ if the $D$ party lost and $D - VotesToWin$ otherwise. This is the value we seek.\n",
    "\n",
    "### Enforce Equal Sizes\n",
    "\n",
    "Equal sizes are enforced by setting a maximum district size equal to the average district size plus an additional margin. \n",
    "\n",
    "### Enforce Contiguity of Districts\n",
    "\n",
    "The contiguity constraint is the most difficult part. Many different approaches have been suggested. Here are two.\n",
    "\n",
    " - Flow model. In this approach, the district is represented as a graph with vertices and edges. Vertices are the blocks, and two vertices share an edge if two blocks are adjoining. Then each district is modeled as a network where a fluid can flow from one block to another only if they share an edge. Designate a node as the \"sink\" node. If fluid can flow from any node to the sink node, then the graph is connected. \n",
    " \n",
    " - Explicit enumeration. This is a two-phase approach. In the first phase, one generates a large (or possibly exhaustive) list of possible re-districtings that satisfy the constraints. Then, one searches among this list to find the optimal re-districting.\n",
    " \n",
    "For processing considerations, we chose the first approach. "
   ]
  },
  {
   "cell_type": "markdown",
   "metadata": {},
   "source": [
    "## Optimization Model Definition\n",
    "\n",
    "We are now able to define a general purpose function to use with different data sets and parameters."
   ]
  },
  {
   "cell_type": "code",
   "execution_count": 1,
   "metadata": {},
   "outputs": [],
   "source": [
    "using JuMP \n",
    "using GLPKMathProgInterface\n",
    "using Cbc\n",
    "using Gurobi"
   ]
  },
  {
   "cell_type": "code",
   "execution_count": 2,
   "metadata": {},
   "outputs": [
    {
     "data": {
      "text/plain": [
       "degerry (generic function with 2 methods)"
      ]
     },
     "execution_count": 2,
     "metadata": {},
     "output_type": "execute_result"
    }
   ],
   "source": [
    "function degerry(\n",
    "    votes,\n",
    "    contiguity_matrix, \n",
    "    number_districts,\n",
    "    common_size_threshold = 0.2; \n",
    "    solver = \"Cbc\", \n",
    "    effgap_factor = 1,\n",
    "    numeric_focus = 0\n",
    "    )\n",
    "    \n",
    "    _V = votes\n",
    "    _C = contiguity_matrix\n",
    "\n",
    "    blocks = size(_V,1)\n",
    "    districts = number_districts\n",
    "    total_vote = _V * ones(2,1)\n",
    "\n",
    "    # Do some checks\n",
    "    if any(_C != _C')\n",
    "        throw(ArgumentError(\"Contiguity matrix is not valid. It must be symmetric.\"))\n",
    "    end\n",
    "    \n",
    "    if !(solver in [\"Cbc\",\"Gurobi\"])\n",
    "        throw(ArgumentError(string(solver, \" is not a valid solver choice. Must be either Cbc or Gurobi\")))\n",
    "    end\n",
    "    \n",
    "    if solver == \"Cbc\"\n",
    "        m = Model(solver = CbcSolver())\n",
    "    else\n",
    "        m = Model(solver = GurobiSolver(Presolve=0, NumericFocus=numeric_focus))\n",
    "    end\n",
    "    \n",
    "    ## Variables\n",
    "\n",
    "    @variable(m, 0 <= D[i=1:blocks,j=1:districts] <= 1 , Bin)\n",
    "    \n",
    "    ## Constraints  \n",
    "\n",
    "    # each block can be in only one district\n",
    "    @constraint(m, D * ones(districts,1) .== 1)  \n",
    "    \n",
    "    # Each district must have at least one block\n",
    "    # @constraint(m, (D' * V) * [1;1] .>= 1)\n",
    "    \n",
    "    # fixed answer\n",
    "#     @constraint(m, D .== [ \n",
    "#          1.0  0.0  0.0;\n",
    "#          0.0  0.0  1.0;\n",
    "#          0.0  0.0  1.0;\n",
    "#          0.0  1.0  0.0;\n",
    "#          1.0  1.0  0.0])\n",
    "\n",
    "    # These constraints set wasted_u to the number of wasted votes for the losing party\n",
    "    @variable(m, 0 <= w[i=1:districts] <= 1, Bin)\n",
    "    @variable(m, wastedu[i=1:districts, j=1:2])\n",
    "    M = sum(total_vote) \n",
    "    @constraint(m, wastedu .>= 0)\n",
    "    @constraint(m, wastedu[:,1] .>= (D' * _V)[:,1] - M * w)\n",
    "    @constraint(m, wastedu[:,2] .>= (D' * _V)[:,2] - M * (1-w))\n",
    "\n",
    "    # These constraints set wasted_o to the number of wasted votes for the winning party\n",
    "    @variable(m, wastedo[i=1:districts, j=1:2])\n",
    "    @variable(m, votestowin[i=1:districts])\n",
    "    @constraint(m, votestowin .== (D' * _V) * [1;1] / 2)\n",
    "    @constraint(m, wastedo .>= 0)\n",
    "    @constraint(m, wastedo .>= (D' * _V) - votestowin * [1 1])\n",
    "\n",
    "    # These constraints calculate the efficiency gap\n",
    "    @variable(m, effgap)\n",
    "    @variable(m, abseffgap)\n",
    "    @constraint(m, effgap .== ones(1,districts) * (wastedu + wastedo) * [1;-1])\n",
    "    @constraint(m, abseffgap >= effgap )\n",
    "    @constraint(m, abseffgap >= - effgap )\n",
    "\n",
    "    # These constraints enforce roughly equal sizes. \n",
    "    # @variable(m, commonsize) # this approach is too slow\n",
    "    fixed_common_size = sum(_V) / districts\n",
    "    # @constraint(m, (D' * _V) * [1;1] .>= fixed_common_size * (1-common_size_threshold)) # we don't really need this\n",
    "    @constraint(m, (D' * _V) * [1;1] .<= fixed_common_size * (1+common_size_threshold))\n",
    "\n",
    "    # These constraints enforce contiguity, but we need to allow districts with only one block\n",
    "    #@variable(m, 0 <= multi_block_districts[i=1:districts] <= 1, Bin)\n",
    "    #@constraint(m, multi_block_districts .>= 0 )\n",
    "    #@constraint(m, M * multi_block_districts' .>= ones(1,blocks) * D - ones(1,districts) )\n",
    "    # @constraint(m, _C * D .>= 2 * D) this by itself is not enough\n",
    "    #@constraint(m, _C * D .>= 2 * D - M * (1-repmat(multi_block_districts',blocks)))\n",
    "#     @variable(m, 0<= Y[i=1:blocks,j=1:blocks] <= districts, Int)  #Y(i,j) = district# if i and j are in the same district, 0 otherwise\n",
    "#     @variable(m, DD[i=1:blocks,j=1:blocks], Int)\n",
    "#     @constraint(m, DD )\n",
    "#     for i in 1:blocks\n",
    "#         @constraint(m, Y[i,i] == i)  # a block is in the same district as itself\n",
    "#     end\n",
    "#     for i in 1:blocks\n",
    "#         for j in 1:blocks\n",
    "#             for k in 1:blocks\n",
    "#                 @constraint(m, Y[i,j] >= Y[i,k] - M * (1-_C[j,k]) - M * (1-DD[j,k]) )\n",
    "#             end\n",
    "#         end\n",
    "#     end\n",
    "    @variable(m, 0 <= s[i=1:blocks,j=1:districts] <= 1, Bin)\n",
    "    @variable(m, Y[i=1:blocks, j=1:blocks, k=1:districts])\n",
    "    @constraint(m, - s .<= D)\n",
    "    @constraint(m, s .<= D)\n",
    "    M = 100\n",
    "    for k in 1:districts\n",
    "        @constraint(m, Y[:,:,k] .* _C .>= 0)\n",
    "        @constraint(m, Y[:,:,k] .* (1-_C) .== 0)\n",
    "        @constraint(m, Y[:,:,k] * ones(blocks,1) .<= (M-1) * D[:,k])\n",
    "        for i in 1:blocks\n",
    "            @constraint(m, sum(Y[i,:,k] .* _C[i,:] ) - sum(Y[:,i,k] .* _C[:,i] ) >= D[i,k] - M * s[i,k] )\n",
    "        end\n",
    "    end\n",
    "    @constraint(m, ones(1, blocks) * s .== 1)\n",
    "    \n",
    "\n",
    "    \n",
    "    ## Objective\n",
    "\n",
    "    @objective(m, Min, abseffgap + sum(wastedu) + sum(wastedo) ) \n",
    "    \n",
    "    @time begin\n",
    "        status = solve(m)\n",
    "    end\n",
    "    \n",
    "    res = Dict([(\"Model\",m),\n",
    "            (\"Efficiency gap goal\", effgap_factor),\n",
    "        (\"Solve Status\", status), \n",
    "        (\"Efficiency Gap\", getvalue(abseffgap) ),\n",
    "        (\"Wasted Over Votes\", getvalue(wastedo)),\n",
    "        (\"Wasted Under Votes\", getvalue(wastedu)),\n",
    "        (\"Total Wasted Votes [D R]\", ones(1,districts) * ( getvalue(wastedu) + getvalue(wastedo))),\n",
    "        (\"Votes By District\", getvalue(D)' * _V), \n",
    "        # (\"Common Size\", getvalue(common_size)), \n",
    "        (\"Fixed Common Size\", fixed_common_size), \n",
    "        (\"District Assignments\", getvalue(D)), \n",
    "        (\"Total Vote Share\", sum(getvalue(D)' * _V,1) ), \n",
    "        (\"Total Seat Share\", sum( getvalue(D)' * _V .>= repmat(maximum((getvalue(D)' * _V),2),1,2), 1)  ), \n",
    "        (\"Number of blocks in each district\", sum(getvalue(D),1) ), \n",
    "        (\"Total votes in each district\", getvalue(D)' * _V * [1;1] ), \n",
    "            (\"s\", getvalue(s)),\n",
    "            (\"Y\", getvalue(Y))\n",
    "    ])\n",
    "    \n",
    "    return res\n",
    "end"
   ]
  },
  {
   "cell_type": "markdown",
   "metadata": {
    "slideshow": {
     "slide_type": "slide"
    }
   },
   "source": [
    "## Example Problem\n",
    "\n",
    "This is a simple problem used to show how the model works. "
   ]
  },
  {
   "cell_type": "code",
   "execution_count": 3,
   "metadata": {
    "slideshow": {
     "slide_type": "subslide"
    }
   },
   "outputs": [
    {
     "name": "stdout",
     "output_type": "stream",
     "text": [
      "  1.571061 seconds (122.18 k allocations: 6.684 MiB)\n"
     ]
    },
    {
     "data": {
      "text/plain": [
       "Dict{String,Any} with 16 entries:\n",
       "  \"Wasted Under Votes\"                => [97.0 0.0; 0.0 179.0]\n",
       "  \"Total Vote Share\"                  => [318.0 282.0]\n",
       "  \"Efficiency gap goal\"               => 1\n",
       "  \"Votes By District\"                 => [97.0 103.0; 221.0 179.0]\n",
       "  \"Total votes in each district\"      => [200.0, 400.0]\n",
       "  \"s\"                                 => [0.0 1.0; 0.0 0.0; … ; 1.0 0.0; 0.0 0.…\n",
       "  \"Number of blocks in each district\" => [2.0 3.0]\n",
       "  \"Model\"                             => Minimization problem with:…\n",
       "  \"Fixed Common Size\"                 => 300.0\n",
       "  \"Y\"                                 => [0.0 0.0 … 0.0 0.0; 0.0 0.0 … 0.0 0.0;…\n",
       "  \"Efficiency Gap\"                    => 64.0\n",
       "  \"Solve Status\"                      => :Optimal\n",
       "  \"Total Seat Share\"                  => [1 1]\n",
       "  \"Wasted Over Votes\"                 => [0.0 3.0; 21.0 0.0]\n",
       "  \"Total Wasted Votes [D R]\"          => [118.0 182.0]\n",
       "  \"District Assignments\"              => [0.0 1.0; 0.0 1.0; … ; 1.0 0.0; 1.0 0.…"
      ]
     },
     "execution_count": 3,
     "metadata": {},
     "output_type": "execute_result"
    }
   ],
   "source": [
    "C = [ \n",
    "    1 1 1 0 0;\n",
    "    1 1 1 0 0;\n",
    "    1 1 1 1 1;\n",
    "    0 0 1 1 1;\n",
    "    0 0 1 1 1]\n",
    "V = [75 25; \n",
    "    60 40; \n",
    "    43*2 57*2; \n",
    "    48 52; \n",
    "    49 51]\n",
    "res = degerry(V,C, 2, 0.5, solver = \"Cbc\")\n"
   ]
  },
  {
   "cell_type": "code",
   "execution_count": 4,
   "metadata": {},
   "outputs": [
    {
     "data": {
      "text/plain": [
       "5×2 Array{Float64,2}:\n",
       " 0.0  1.0\n",
       " 0.0  1.0\n",
       " 0.0  1.0\n",
       " 1.0  0.0\n",
       " 1.0  0.0"
      ]
     },
     "metadata": {},
     "output_type": "display_data"
    },
    {
     "data": {
      "text/plain": [
       "2×2 Array{Float64,2}:\n",
       "  97.0  103.0\n",
       " 221.0  179.0"
      ]
     },
     "metadata": {},
     "output_type": "display_data"
    },
    {
     "data": {
      "text/plain": [
       "5×2 Array{Float64,2}:\n",
       " 0.0  1.0\n",
       " 0.0  0.0\n",
       " 0.0  0.0\n",
       " 1.0  0.0\n",
       " 0.0  0.0"
      ]
     },
     "metadata": {},
     "output_type": "display_data"
    },
    {
     "data": {
      "text/plain": [
       "5×5×2 Array{Float64,3}:\n",
       "[:, :, 1] =\n",
       " 0.0  0.0  0.0   0.0  0.0\n",
       " 0.0  0.0  0.0   0.0  0.0\n",
       " 0.0  0.0  0.0   0.0  0.0\n",
       " 0.0  0.0  0.0   0.0  0.0\n",
       " 0.0  0.0  0.0  99.0  0.0\n",
       "\n",
       "[:, :, 2] =\n",
       " 0.0  0.0  0.0  0.0  0.0\n",
       " 1.0  0.0  0.0  0.0  0.0\n",
       " 1.0  0.0  0.0  0.0  0.0\n",
       " 0.0  0.0  0.0  0.0  0.0\n",
       " 0.0  0.0  0.0  0.0  0.0"
      ]
     },
     "metadata": {},
     "output_type": "display_data"
    }
   ],
   "source": [
    "# print(\"District Assignments\")\n",
    "display(res[\"District Assignments\"])\n",
    "display(res[\"Votes By District\"])\n",
    "display(res[\"s\"])\n",
    "display(res[\"Y\"])"
   ]
  },
  {
   "cell_type": "code",
   "execution_count": 5,
   "metadata": {},
   "outputs": [
    {
     "data": {
      "text/plain": [
       "5×2 Array{Int64,2}:\n",
       " 75  25\n",
       " 60  40\n",
       " 43  57\n",
       " 48  52\n",
       " 49  51"
      ]
     },
     "metadata": {},
     "output_type": "display_data"
    },
    {
     "data": {
      "text/plain": [
       "5×5 Array{Int64,2}:\n",
       " 1  1  1  0  0\n",
       " 1  1  1  1  0\n",
       " 1  1  1  1  1\n",
       " 0  1  1  1  1\n",
       " 0  0  1  1  1"
      ]
     },
     "metadata": {},
     "output_type": "display_data"
    }
   ],
   "source": [
    "# These are the votes arranged in a matrix of size blocks x number of parties\n",
    "V = [75 25; 60 40; 43 57; 48 52; 49 51]\n",
    "display(V)\n",
    "\n",
    "# This is the contiguity matrix. C_{m,n} = 1 if block m shares a border with block n, 0 otherwise.\n",
    "C = [ \n",
    "    1 1 1 0 0;\n",
    "    1 1 1 1 0;\n",
    "    1 1 1 1 1;\n",
    "    0 1 1 1 1;\n",
    "    0 0 1 1 1;]\n",
    "display(C)\n",
    "\n",
    "# The example assumes the blocks are arranged as below.\n",
    "\n",
    "# |----------|\n",
    "# |A    | B  |\n",
    "# |-----|    |\n",
    "# |     |----|\n",
    "# | C   |    |\n",
    "# |     | D  |\n",
    "# |     |----|\n",
    "# |     | E  |\n",
    "# |-----|----|\n"
   ]
  },
  {
   "cell_type": "code",
   "execution_count": 6,
   "metadata": {},
   "outputs": [
    {
     "name": "stdout",
     "output_type": "stream",
     "text": [
      "Optimize a model with 251 rows, 125 columns and 641 nonzeros\n",
      "Coefficient statistics:\n",
      "  Matrix range    [0e+00, 5e+02]\n",
      "  Objective range [1e+00, 1e+00]\n",
      "  Bounds range    [1e+00, 1e+00]\n",
      "  RHS range       [1e+00, 5e+02]\n",
      "Warning: Model contains large matrix coefficient range\n",
      "Found heuristic solution: objective 366\n",
      "Variable types: 92 continuous, 33 integer (33 binary)\n",
      "\n",
      "Root relaxation: objective 5.000000e+01, 110 iterations, 0.00 seconds\n",
      "\n",
      "    Nodes    |    Current Node    |     Objective Bounds      |     Work\n",
      " Expl Unexpl |  Obj  Depth IntInf | Incumbent    BestBd   Gap | It/Node Time\n",
      "\n",
      "     0     0   50.00000    0    9  366.00000   50.00000  86.3%     -    0s\n",
      "     0     0   50.00000    0   18  366.00000   50.00000  86.3%     -    0s\n",
      "     0     0   50.00000    0   23  366.00000   50.00000  86.3%     -    0s\n",
      "     0     0   50.00000    0   14  366.00000   50.00000  86.3%     -    0s\n",
      "     0     2   50.00000    0   14  366.00000   50.00000  86.3%     -    0s\n",
      "*   24     0              14     350.0000000   50.00000  85.7%   7.8    0s\n",
      "H   27     0                     250.0000000   50.00000  80.0%   7.1    0s\n",
      "\n",
      "Cutting planes:\n",
      "  MIR: 4\n",
      "\n",
      "Explored 670 nodes (3009 simplex iterations) in 0.06 seconds\n",
      "Thread count was 16 (of 16 available processors)\n",
      "\n",
      "Optimal solution found (tolerance 1.00e-04)\n",
      "Best objective 2.500000000000e+02, best bound 2.500000000000e+02, gap 0.0%\n",
      "  0.745420 seconds (165.26 k allocations: 8.685 MiB)\n"
     ]
    },
    {
     "data": {
      "text/plain": [
       "Dict{String,Any} with 16 entries:\n",
       "  \"Wasted Under Votes\"                => [0.0 25.0; 0.0 92.0; 92.0 0.0]\n",
       "  \"Total Vote Share\"                  => [275.0 225.0]\n",
       "  \"Efficiency gap goal\"               => 1\n",
       "  \"Votes By District\"                 => [75.0 25.0; 108.0 92.0; 92.0 108.0]\n",
       "  \"Total votes in each district\"      => [100.0, 200.0, 200.0]\n",
       "  \"s\"                                 => [1.0 0.0 0.0; 0.0 0.0 0.0; … ; 0.0 1.0…\n",
       "  \"Number of blocks in each district\" => [1.0 2.0 2.0]\n",
       "  \"Model\"                             => Minimization problem with:…\n",
       "  \"Fixed Common Size\"                 => 166.667\n",
       "  \"Y\"                                 => [0.0 0.0 … 0.0 0.0; 0.0 0.0 … 0.0 0.0;…\n",
       "  \"Efficiency Gap\"                    => 0.0\n",
       "  \"Solve Status\"                      => :Optimal\n",
       "  \"Total Seat Share\"                  => [2 1]\n",
       "  \"Wasted Over Votes\"                 => [25.0 0.0; 8.0 0.0; 0.0 8.0]\n",
       "  \"Total Wasted Votes [D R]\"          => [125.0 125.0]\n",
       "  \"District Assignments\"              => [1.0 0.0 0.0; 0.0 1.0 0.0; … ; 0.0 1.0…"
      ]
     },
     "execution_count": 6,
     "metadata": {},
     "output_type": "execute_result"
    }
   ],
   "source": [
    "res = degerry(V,C, 3, 0.2, solver = \"Gurobi\")\n",
    "\n",
    "\n"
   ]
  },
  {
   "cell_type": "code",
   "execution_count": 7,
   "metadata": {},
   "outputs": [
    {
     "data": {
      "text/plain": [
       "5×3 Array{Float64,2}:\n",
       " 1.0  0.0  0.0\n",
       " 0.0  1.0  0.0\n",
       " 0.0  0.0  1.0\n",
       " 0.0  1.0  0.0\n",
       " 0.0  0.0  1.0"
      ]
     },
     "metadata": {},
     "output_type": "display_data"
    },
    {
     "data": {
      "text/plain": [
       "5×3 Array{Float64,2}:\n",
       " 1.0  0.0  0.0\n",
       " 0.0  0.0  0.0\n",
       " 0.0  0.0  0.0\n",
       " 0.0  1.0  0.0\n",
       " 0.0  0.0  1.0"
      ]
     },
     "metadata": {},
     "output_type": "display_data"
    },
    {
     "data": {
      "text/plain": [
       "5×5×3 Array{Float64,3}:\n",
       "[:, :, 1] =\n",
       " 0.0  0.0  0.0  0.0  0.0\n",
       " 0.0  0.0  0.0  0.0  0.0\n",
       " 0.0  0.0  0.0  0.0  0.0\n",
       " 0.0  0.0  0.0  0.0  0.0\n",
       " 0.0  0.0  0.0  0.0  0.0\n",
       "\n",
       "[:, :, 2] =\n",
       " 0.0  0.0  0.0  0.0  0.0\n",
       " 0.0  0.0  0.0  1.0  0.0\n",
       " 0.0  0.0  0.0  0.0  0.0\n",
       " 0.0  0.0  0.0  0.0  0.0\n",
       " 0.0  0.0  0.0  0.0  0.0\n",
       "\n",
       "[:, :, 3] =\n",
       " 0.0  0.0  0.0  0.0  0.0\n",
       " 0.0  0.0  0.0  0.0  0.0\n",
       " 0.0  0.0  0.0  0.0  1.0\n",
       " 0.0  0.0  0.0  0.0  0.0\n",
       " 0.0  0.0  0.0  0.0  0.0"
      ]
     },
     "metadata": {},
     "output_type": "display_data"
    }
   ],
   "source": [
    "display(res[\"District Assignments\"])\n",
    "display(res[\"s\"])\n",
    "display(res[\"Y\"])"
   ]
  },
  {
   "cell_type": "markdown",
   "metadata": {
    "slideshow": {
     "slide_type": "slide"
    }
   },
   "source": [
    "## Optimize Fairness With Realistic Data\n",
    "\n",
    "First load the data.\n",
    "\n"
   ]
  },
  {
   "cell_type": "code",
   "execution_count": 3,
   "metadata": {
    "slideshow": {
     "slide_type": "slide"
    }
   },
   "outputs": [
    {
     "data": {
      "text/html": [
       "<table class=\"data-frame\"><thead><tr><th></th><th>County</th><th>Pop</th><th>Dem</th><th>Rep</th><th>Wasted</th></tr></thead><tbody><tr><th>1</th><td>55079</td><td>940164</td><td>319819</td><td>149445</td><td>170374</td></tr><tr><th>2</th><td>55025</td><td>426526</td><td>205984</td><td>73065</td><td>132919</td></tr><tr><th>3</th><td>55133</td><td>360767</td><td>85339</td><td>145152</td><td>59813</td></tr><tr><th>4</th><td>55009</td><td>226778</td><td>67316</td><td>55903</td><td>11413</td></tr><tr><th>5</th><td>55101</td><td>188831</td><td>53408</td><td>45954</td><td>7454</td></tr><tr><th>6</th><td>55087</td><td>160971</td><td>50209</td><td>39563</td><td>10646</td></tr></tbody></table>"
      ],
      "text/plain": [
       "6×5 DataFrames.DataFrame\n",
       "│ Row │ County │ Pop    │ Dem    │ Rep    │ Wasted │\n",
       "├─────┼────────┼────────┼────────┼────────┼────────┤\n",
       "│ 1   │ 55079  │ 940164 │ 319819 │ 149445 │ 170374 │\n",
       "│ 2   │ 55025  │ 426526 │ 205984 │ 73065  │ 132919 │\n",
       "│ 3   │ 55133  │ 360767 │ 85339  │ 145152 │ 59813  │\n",
       "│ 4   │ 55009  │ 226778 │ 67316  │ 55903  │ 11413  │\n",
       "│ 5   │ 55101  │ 188831 │ 53408  │ 45954  │ 7454   │\n",
       "│ 6   │ 55087  │ 160971 │ 50209  │ 39563  │ 10646  │"
      ]
     },
     "execution_count": 3,
     "metadata": {},
     "output_type": "execute_result"
    }
   ],
   "source": [
    "# Load data\n",
    "using CSV, DataFrames\n",
    "WI_votes = CSV.read(\"data/Gerrymander County_election_data.csv\")\n",
    "WI_contiguity = CSV.read(\"data/Gerrymander County_contiguity V2.csv\", rows = 73)\n",
    "WI_V = convert(Array, WI_votes[:,3:4])\n",
    "WI_C = convert(Array, WI_contiguity[:,2:73])\n",
    "head(sort(WI_votes,cols=[:Pop],rev=true))"
   ]
  },
  {
   "cell_type": "code",
   "execution_count": 4,
   "metadata": {
    "slideshow": {
     "slide_type": "slide"
    }
   },
   "outputs": [
    {
     "name": "stdout",
     "output_type": "stream",
     "text": [
      "Is contiguity matrix valid: true\n",
      "Total votes cast: 2939604\n"
     ]
    },
    {
     "data": {
      "text/html": [
       "<table class=\"data-frame\"><thead><tr><th></th><th>County</th><th>Pop</th><th>Dem</th><th>Rep</th><th>Wasted</th><th>x1</th></tr></thead><tbody><tr><th>1</th><td>55079</td><td>940164</td><td>319819</td><td>149445</td><td>170374</td><td>0.175284</td></tr><tr><th>2</th><td>55025</td><td>426526</td><td>205984</td><td>73065</td><td>132919</td><td>0.0795212</td></tr><tr><th>3</th><td>55133</td><td>360767</td><td>85339</td><td>145152</td><td>59813</td><td>0.0672612</td></tr><tr><th>4</th><td>55009</td><td>226778</td><td>67316</td><td>55903</td><td>11413</td><td>0.0422803</td></tr><tr><th>5</th><td>55101</td><td>188831</td><td>53408</td><td>45954</td><td>7454</td><td>0.0352055</td></tr><tr><th>6</th><td>55087</td><td>160971</td><td>50209</td><td>39563</td><td>10646</td><td>0.0300113</td></tr><tr><th>7</th><td>55139</td><td>156763</td><td>48167</td><td>37946</td><td>10221</td><td>0.0292268</td></tr><tr><th>8</th><td>55105</td><td>152307</td><td>50529</td><td>27364</td><td>23165</td><td>0.028396</td></tr><tr><th>9</th><td>55059</td><td>149577</td><td>45836</td><td>31609</td><td>14227</td><td>0.027887</td></tr><tr><th>10</th><td>55073</td><td>125834</td><td>36367</td><td>30345</td><td>6022</td><td>0.0234604</td></tr><tr><th>11</th><td>55131</td><td>117493</td><td>25719</td><td>47729</td><td>22010</td><td>0.0219053</td></tr><tr><th>12</th><td>55117</td><td>112646</td><td>30395</td><td>30801</td><td>406</td><td>0.0210016</td></tr><tr><th>13</th><td>55063</td><td>107120</td><td>38523</td><td>23700</td><td>14823</td><td>0.0199714</td></tr><tr><th>14</th><td>55039</td><td>97296</td><td>23463</td><td>28164</td><td>4701</td><td>0.0181398</td></tr><tr><th>15</th><td>55127</td><td>93759</td><td>24177</td><td>25485</td><td>1308</td><td>0.0174804</td></tr><tr><th>16</th><td>55035</td><td>93142</td><td>33146</td><td>20959</td><td>12187</td><td>0.0173653</td></tr><tr><th>17</th><td>55027</td><td>85897</td><td>19183</td><td>23015</td><td>3832</td><td>0.0160146</td></tr><tr><th>18</th><td>55071</td><td>82887</td><td>22428</td><td>19234</td><td>3194</td><td>0.0154534</td></tr><tr><th>19</th><td>55089</td><td>82317</td><td>20579</td><td>32172</td><td>11593</td><td>0.0153471</td></tr><tr><th>20</th><td>55141</td><td>75555</td><td>21710</td><td>16581</td><td>5129</td><td>0.0140864</td></tr><tr><th>21</th><td>55055</td><td>74021</td><td>21443</td><td>21092</td><td>351</td><td>0.0138004</td></tr><tr><th>22</th><td>55097</td><td>67182</td><td>24817</td><td>13810</td><td>11007</td><td>0.0125254</td></tr><tr><th>23</th><td>55109</td><td>63155</td><td>21177</td><td>22837</td><td>1660</td><td>0.0117746</td></tr><tr><th>24</th><td>55111</td><td>55225</td><td>18617</td><td>11562</td><td>7055</td><td>0.0102961</td></tr><tr><th>25</th><td>55017</td><td>55195</td><td>16240</td><td>13493</td><td>2747</td><td>0.0102905</td></tr><tr><th>26</th><td>55021</td><td>52468</td><td>16661</td><td>12193</td><td>4468</td><td>0.0097821</td></tr><tr><th>27</th><td>55135</td><td>51731</td><td>12952</td><td>12232</td><td>720</td><td>0.00964469</td></tr><tr><th>28</th><td>55043</td><td>49597</td><td>14875</td><td>9068</td><td>5807</td><td>0.00924683</td></tr><tr><th>29</th><td>55005</td><td>44963</td><td>12078</td><td>10457</td><td>1621</td><td>0.00838287</td></tr><tr><th>30</th><td>55075</td><td>43384</td><td>11195</td><td>9726</td><td>1469</td><td>0.00808848</td></tr><tr><th>&vellip;</th><td>&vellip;</td><td>&vellip;</td><td>&vellip;</td><td>&vellip;</td><td>&vellip;</td><td>&vellip;</td></tr></tbody></table>"
      ],
      "text/plain": [
       "72×6 DataFrames.DataFrame\n",
       "│ Row │ County │ Pop    │ Dem    │ Rep    │ Wasted │ x1          │\n",
       "├─────┼────────┼────────┼────────┼────────┼────────┼─────────────┤\n",
       "│ 1   │ 55079  │ 940164 │ 319819 │ 149445 │ 170374 │ 0.175284    │\n",
       "│ 2   │ 55025  │ 426526 │ 205984 │ 73065  │ 132919 │ 0.0795212   │\n",
       "│ 3   │ 55133  │ 360767 │ 85339  │ 145152 │ 59813  │ 0.0672612   │\n",
       "│ 4   │ 55009  │ 226778 │ 67316  │ 55903  │ 11413  │ 0.0422803   │\n",
       "│ 5   │ 55101  │ 188831 │ 53408  │ 45954  │ 7454   │ 0.0352055   │\n",
       "│ 6   │ 55087  │ 160971 │ 50209  │ 39563  │ 10646  │ 0.0300113   │\n",
       "│ 7   │ 55139  │ 156763 │ 48167  │ 37946  │ 10221  │ 0.0292268   │\n",
       "│ 8   │ 55105  │ 152307 │ 50529  │ 27364  │ 23165  │ 0.028396    │\n",
       "│ 9   │ 55059  │ 149577 │ 45836  │ 31609  │ 14227  │ 0.027887    │\n",
       "│ 10  │ 55073  │ 125834 │ 36367  │ 30345  │ 6022   │ 0.0234604   │\n",
       "│ 11  │ 55131  │ 117493 │ 25719  │ 47729  │ 22010  │ 0.0219053   │\n",
       "⋮\n",
       "│ 61  │ 55129  │ 16036  │ 4693   │ 4303   │ 390    │ 0.00298974  │\n",
       "│ 62  │ 55077  │ 15832  │ 4068   │ 3654   │ 414    │ 0.00295171  │\n",
       "│ 63  │ 55099  │ 15822  │ 4559   │ 3461   │ 1098   │ 0.00294984  │\n",
       "│ 64  │ 55013  │ 15674  │ 4337   │ 4200   │ 137    │ 0.00292225  │\n",
       "│ 65  │ 55107  │ 15347  │ 3855   │ 3253   │ 602    │ 0.00286128  │\n",
       "│ 66  │ 55007  │ 15013  │ 5972   │ 3365   │ 2607   │ 0.00279901  │\n",
       "│ 67  │ 55011  │ 13804  │ 3949   │ 2926   │ 1023   │ 0.00257361  │\n",
       "│ 68  │ 55041  │ 10024  │ 2673   │ 1963   │ 710    │ 0.00186887  │\n",
       "│ 69  │ 55091  │ 7213   │ 2102   │ 1616   │ 486    │ 0.00134479  │\n",
       "│ 70  │ 55051  │ 6861   │ 1914   │ 1464   │ 450    │ 0.00127916  │\n",
       "│ 71  │ 55037  │ 5088   │ 1134   │ 1512   │ 378    │ 0.000948603 │\n",
       "│ 72  │ 55078  │ 4562   │ 1257   │ 185    │ 1072   │ 0.000850536 │"
      ]
     },
     "execution_count": 4,
     "metadata": {},
     "output_type": "execute_result"
    }
   ],
   "source": [
    "# Do some checks\n",
    "println(\"Is contiguity matrix valid: \", all(WI_C == WI_C') )\n",
    "\n",
    "println(\"Total votes cast: \", sum(WI_votes[:Dem]) + sum(WI_votes[:Rep])  )\n",
    "\n",
    "sort( [ WI_votes WI_votes[:Pop]/sum(WI_votes[:Pop])], cols =[:Pop], rev = true )         "
   ]
  },
  {
   "cell_type": "code",
   "execution_count": 5,
   "metadata": {
    "scrolled": true,
    "slideshow": {
     "slide_type": "slide"
    }
   },
   "outputs": [
    {
     "name": "stdout",
     "output_type": "stream",
     "text": [
      "Optimize a model with 32076 rows, 16004 columns and 80840 nonzeros\n",
      "Coefficient statistics:\n",
      "  Matrix range    [0e+00, 3e+06]\n",
      "  Objective range [1e+00, 1e+00]\n",
      "  Bounds range    [1e+00, 1e+00]\n",
      "  RHS range       [1e+00, 3e+06]\n",
      "Warning: Model contains large matrix coefficient range\n",
      "         Consider reformulating model or setting NumericFocus parameter\n",
      "         to avoid numerical issues.\n",
      "Variable types: 15569 continuous, 435 integer (435 binary)\n",
      "\n",
      "Root relaxation: objective 4.148180e+05, 1568 iterations, 0.03 seconds\n",
      "\n",
      "    Nodes    |    Current Node    |     Objective Bounds      |     Work\n",
      " Expl Unexpl |  Obj  Depth IntInf | Incumbent    BestBd   Gap | It/Node Time\n",
      "\n",
      "     0     0 414818.000    0   17          - 414818.000      -     -    0s\n",
      "     0     0 414818.000    0   63          - 414818.000      -     -    0s\n",
      "     0     0 414818.000    0   27          - 414818.000      -     -    0s\n",
      "     0     0 414818.000    0   31          - 414818.000      -     -    1s\n",
      "     0     0 414818.000    0   27          - 414818.000      -     -    1s\n",
      "     0     0 414818.000    0   28          - 414818.000      -     -    2s\n",
      "     0     0 414818.000    0   32          - 414818.000      -     -    2s\n",
      "     0     0 414818.000    0   22          - 414818.000      -     -    3s\n",
      "     0     0 414818.000    0   24          - 414818.000      -     -    3s\n",
      "     0     0 414818.000    0   24          - 414818.000      -     -    4s\n",
      "     0     2 414818.000    0   24          - 414818.000      -     -    4s\n",
      "    26    27 414818.000    9   70          - 414818.000      -  86.5    5s\n",
      "  1778  1403 infeasible  118               - 414818.000      -  58.8   10s\n",
      "  2373  1795 414818.000   51   29          - 414818.000      -  53.3   15s\n",
      "  2381  1805 1532631.86   17   65          - 1198712.40      -  63.4   20s\n",
      "  5002  3164 1469802.00   30   72          - 1469802.00      -  44.6   25s\n",
      "  8540  4895 1469802.00   90   33          - 1469802.00      -  34.5   30s\n",
      " 15458 10127 1469802.00   64   51          - 1469802.00      -  29.7   36s\n",
      " 19194 12844 1475590.70   57   66          - 1469802.00      -  29.0   40s\n",
      " 25967 17460 1472820.10   70   83          - 1469802.00      -  28.1   45s\n",
      " 30329 20166 1469802.00   84   50          - 1469802.00      -  29.1   51s\n",
      " 35465 23880 1469802.00   57   69          - 1469802.00      -  29.2   56s\n",
      " 39685 26729 1469802.00   58   45          - 1469802.00      -  28.5   60s\n",
      " 41760 28115 1469802.00   51   24          - 1469802.00      -  28.3   74s\n",
      " 41763 28117 1483663.61  107   28          - 1469802.00      -  28.3   75s\n",
      " 41767 28120 1476014.88   51   75          - 1469802.00      -  28.3   81s\n",
      " 41770 28122 1541810.00  109   86          - 1469802.00      -  28.3   86s\n",
      " 41773 28124 1469802.00   95   30          - 1469802.00      -  28.3   90s\n",
      " 41777 28126 2327966.00   85   46          - 1469802.00      -  28.3   95s\n",
      " 41780 28128 1469802.00   51   43          - 1469802.00      -  28.3  101s\n",
      " 41784 28131 1493804.00  113   48          - 1469802.00      -  28.3  106s\n",
      " 41788 28134 1469802.00   43   44          - 1469802.00      -  28.3  111s\n",
      " 41791 28136 1487697.53   90   26          - 1469802.00      -  28.3  116s\n",
      " 41795 28138 1476952.84  113   33          - 1469802.00      -  28.3  120s\n",
      " 41799 28141 1469802.00   60   58          - 1469802.00      -  28.3  125s\n",
      " 41803 28144 1483663.61  107   38          - 1469802.00      -  28.3  130s\n",
      " 41806 28146 1472368.34  103   35          - 1469802.00      -  28.3  135s\n",
      " 41810 28148 1541810.00  109   41          - 1469802.00      -  28.3  140s\n",
      " 41814 28151 1469802.00   71   34          - 1469802.00      -  28.3  145s\n",
      " 41818 28154 1470280.07   97   36          - 1469802.00      -  28.3  150s\n",
      " 41822 28156 1476058.00  120   42          - 1469802.00      -  28.3  156s\n",
      " 41826 28159 1472368.34  103   37          - 1469802.00      -  28.3  161s\n",
      " 41830 28162 1541810.00  109   33          - 1469802.00      -  28.3  165s\n",
      " 41834 28164 1469802.00   71   24          - 1469802.00      -  28.3  170s\n",
      " 41839 28168 1469802.00   60   36          - 1469802.00      -  28.3  175s\n",
      " 41843 28170 1483663.61  107   36          - 1469802.00      -  28.3  180s\n",
      " 41847 28173 1476014.88   51   39          - 1469802.00      -  28.3  186s\n",
      " 41851 28176 1487697.53   90   61          - 1469802.00      -  28.3  191s\n",
      " 41854 28178 1469802.00   71   47          - 1469802.00      -  28.3  195s\n",
      " 41858 28180 1470280.07   97   65          - 1469802.00      -  28.2  200s\n",
      " 41862 28183 1476058.00  120   54          - 1469802.00      -  28.2  206s\n",
      " 41866 28188 1469802.00   28  112          - 1469802.00      -  35.5  210s\n",
      " 41870 28188 1469802.00   30  128          - 1469802.00      -  35.5  215s\n",
      " 41874 28199 1469802.00   31  139          - 1469802.00      -  35.5  221s\n",
      " 41885 28226 1469802.00   33  128          - 1469802.00      -  35.6  226s\n",
      " 42022 28316 1469802.00   42   94          - 1469802.00      -  35.7  234s\n",
      " 44541 29432 1469802.00   93   65          - 1469802.00      -  37.5  243s\n",
      " 47574 30229 1663574.62   90   27          - 1469802.00      -  41.2  254s\n",
      " 51173 30284 1469802.00   89   21          - 1469802.00      -  44.9  266s\n",
      " 54730 29937 infeasible  103               - 1469802.00      -  48.4  275s\n",
      " 57134 29508 1469802.00  107   23          - 1469802.00      -  50.1  285s\n",
      " 59580 29241 1469815.50  101   29          - 1469802.00      -  51.8  294s\n",
      " 62390 28870 1469802.00   89   48          - 1469802.00      -  53.2  302s\n",
      " 64965 28449 1469802.00   99   33          - 1469802.00      -  54.5  310s\n",
      " 67610 28023 infeasible   78               - 1469802.00      -  55.7  318s\n",
      " 70019 27614 1469802.00  104   29          - 1469802.00      -  56.7  326s\n",
      " 72538 27285 1469802.00  109   31          - 1469802.00      -  57.8  333s\n",
      " 74891 27112 1555278.69   73   42          - 1469802.00      -  58.8  340s\n",
      " 77000 26827 1470892.73   91   32          - 1469802.00      -  59.9  347s\n",
      " 79091 26494 infeasible   80               - 1469802.00      -  60.9  353s\n",
      " 81257 26083 infeasible   98               - 1469802.00      -  61.8  360s\n",
      " 83372 25640 1502235.03   70   29          - 1469802.00      -  62.7  366s\n",
      " 85457 25246 1469802.00   80   53          - 1469802.00      -  63.5  372s\n",
      " 87417 24991 infeasible   84               - 1469802.00      -  64.3  379s\n",
      " 89544 24874 1469802.00   86   33          - 1469802.00      -  65.0  385s\n",
      " 91645 24619 infeasible   89               - 1469802.00      -  65.7  392s\n",
      " 93919 24209 infeasible   80               - 1469802.00      -  66.1  399s\n",
      " 96334 23580 infeasible  101               - 1469802.00      -  66.4  405s\n",
      " 98071 23033 infeasible   92               - 1469802.00      -  66.5  411s\n",
      " 100160 22497 1469802.00   86   13          - 1469802.00      -  66.9  417s\n",
      " 102188 22037 infeasible   65               - 1469802.00      -  67.3  424s\n",
      " 104358 21578 infeasible   95               - 1469802.00      -  67.8  430s\n",
      " 106373 21036 1486083.69  111   28          - 1469802.00      -  68.2  436s\n",
      " 108396 20533 1469802.00   86   17          - 1469802.00      -  68.6  442s\n",
      " 110223 19983 1469802.00   73   23          - 1469802.00      -  69.1  448s\n",
      " 112351 19571 1469802.00  102   26          - 1469802.00      -  69.5  455s\n",
      " 114410 19130 1469802.00   85   31          - 1469802.00      -  69.8  462s\n",
      " 116639 18730 1469802.00   92   10          - 1469802.00      -  70.1  468s\n",
      "*118423 15759             104    1657822.0000 1469802.00  11.3%  70.2  468s\n",
      "*118577 11831              98    1512118.0000 1469802.00  2.80%  70.2  468s\n",
      "H118897 10870                    1490581.0000 1469802.00  1.39%  70.2  474s\n",
      "H119052  7179                    1470718.0000 1469802.00  0.06%  70.2  474s\n",
      "H119175  7126                    1470565.0000 1469802.00  0.05%  70.2  474s\n",
      "H119670  6916                    1469992.0000 1469802.00  0.01%  70.3  474s\n",
      "H120205  6873                    1469818.0000 1469802.00  0.00%  70.3  474s\n",
      "\n",
      "Cutting planes:\n",
      "  Gomory: 585\n",
      "  MIR: 8\n",
      "  Flow cover: 8\n",
      "\n",
      "Explored 121042 nodes (8534020 simplex iterations) in 474.74 seconds\n",
      "Thread count was 16 (of 16 available processors)\n",
      "\n",
      "Optimal solution found (tolerance 1.00e-04)\n",
      "Best objective 1.469818000000e+06, best bound 1.469802000000e+06, gap 0.0011%\n",
      "476.768128 seconds (249.86 k allocations: 24.679 MiB, 0.00% gc time)\n"
     ]
    },
    {
     "data": {
      "text/plain": [
       "Dict{String,Any} with 16 entries:\n",
       "  \"Wasted Under Votes\"                => [518161.0 -0.0; -0.0 365342.0; -0.0 36…\n",
       "  \"Total Vote Share\"                  => [1.67721e6 1.26239e6]\n",
       "  \"Efficiency gap goal\"               => 1\n",
       "  \"Votes By District\"                 => [518145.0 536823.0; 564781.0 365342.0;…\n",
       "  \"Total votes in each district\"      => [1.05497e6, 930123.0, 954513.0]\n",
       "  \"s\"                                 => [0.0 0.0 0.0; 0.0 0.0 0.0; … ; 0.0 0.0…\n",
       "  \"Number of blocks in each district\" => [24.0 21.0 27.0]\n",
       "  \"Model\"                             => Minimization problem with:…\n",
       "  \"Fixed Common Size\"                 => 979868.0\n",
       "  \"Y\"                                 => [-0.0 0.0 … 0.0 -0.0; 0.0 -0.0 … 0.0 0…\n",
       "  \"Efficiency Gap\"                    => 0.0\n",
       "  \"Solve Status\"                      => :Optimal\n",
       "  \"Total Seat Share\"                  => [2 1]\n",
       "  \"Wasted Over Votes\"                 => [-0.0 9339.0; 99719.5 -0.0; 1.17029e5 …\n",
       "  \"Total Wasted Votes [D R]\"          => [734909.0 734909.0]\n",
       "  \"District Assignments\"              => [0.0 0.0 1.0; 0.0 1.0 0.0; … ; 1.0 0.0…"
      ]
     },
     "execution_count": 5,
     "metadata": {},
     "output_type": "execute_result"
    }
   ],
   "source": [
    "res3_fair = degerry(WI_V,WI_C, 3, 0.1, solver = \"Gurobi\", numeric_focus = 0)"
   ]
  },
  {
   "cell_type": "code",
   "execution_count": 51,
   "metadata": {},
   "outputs": [
    {
     "data": {
      "text/plain": [
       "CSV.Sink{DateFormat{Symbol(\"yyyy-mm-dd\"),Tuple{Base.Dates.DatePart{'y'},Base.Dates.Delim{Char,1},Base.Dates.DatePart{'m'},Base.Dates.Delim{Char,1},Base.Dates.DatePart{'d'}}},DataType}(    CSV.Options:\n",
       "        delim: ','\n",
       "        quotechar: '\"'\n",
       "        escapechar: '\\\\'\n",
       "        null: \"\"\n",
       "        dateformat: dateformat\"yyyy-mm-dd\"\n",
       "        decimal: '.'\n",
       "        truestring: 'true'\n",
       "        falsestring: 'false', IOBuffer(data=UInt8[...], readable=true, writable=true, seekable=true, append=false, size=0, maxsize=Inf, ptr=1, mark=-1), \"data/Result_District_Assignments_3.csv\", 9, true, String[\"x1\", \"x2\", \"x3\"], 3, false, Val{false})"
      ]
     },
     "execution_count": 51,
     "metadata": {},
     "output_type": "execute_result"
    }
   ],
   "source": [
    "# CSV.write(\"data/Result_District_Assignments_3.csv\", DataFrame(res3[\"District Assignments\"]))\n",
    "CSV.write(\"data/Result_District_Assignments_3_fair.csv\", DataFrame(res3_fair[\"District Assignments\"]))"
   ]
  },
  {
   "cell_type": "code",
   "execution_count": 12,
   "metadata": {},
   "outputs": [
    {
     "name": "stdout",
     "output_type": "stream",
     "text": [
      "Optimize a model with 42743 rows, 21338 columns and 107785 nonzeros\n",
      "Coefficient statistics:\n",
      "  Matrix range    [0e+00, 3e+06]\n",
      "  Objective range [1e+00, 1e+00]\n",
      "  Bounds range    [1e+00, 1e+00]\n",
      "  RHS range       [1e+00, 3e+06]\n",
      "Warning: Model contains large matrix coefficient range\n",
      "Variable types: 20758 continuous, 580 integer (580 binary)\n",
      "\n",
      "Root relaxation: objective 4.148180e+05, 2167 iterations, 0.25 seconds\n",
      "\n",
      "    Nodes    |    Current Node    |     Objective Bounds      |     Work\n",
      " Expl Unexpl |  Obj  Depth IntInf | Incumbent    BestBd   Gap | It/Node Time\n",
      "\n",
      "     0     0 414818.000    0   29          - 414818.000      -     -    1s\n",
      "     0     2 414818.000    0   29          - 414818.000      -     -    3s\n",
      "     7    10 414818.000    6   80          - 414818.000      -   166    6s\n",
      "    46    66 414818.000   10   38          - 414818.000      -   130   11s\n",
      "   282   273 929248.700   15   71          - 414818.000      -  96.7   15s\n",
      "  1403  1418 929248.700   73   81          - 414818.000      -  26.9   21s\n",
      "  2256  2205 929248.700  113   83          - 414818.000      -  19.7   25s\n",
      "  3405  3152 908003.800   19   78          - 414818.000      -  18.3   30s\n",
      "  4844  4436 908003.800   47   29          - 414818.000      -  17.9   37s\n",
      "  4847  4440 929248.700   14  101          - 908003.800      -  19.5   41s\n",
      "  4849  4442 1737639.80   15   78          - 908003.800      -  19.7   45s\n",
      "  4853  4446 1737639.80   17   75          - 908003.800      -  19.8   50s\n",
      "  4914  4554 1720033.00   30   78          - 1716394.90      -  20.3   58s\n",
      "  5669  4988 1716394.90   38   79          - 1716394.90      -  18.9   64s\n",
      "  6869  5712 1721340.58   95   73          - 1716394.90      -  17.0   68s\n",
      "  8051  6311 1716394.90   34   78          - 1716394.90      -  16.0   75s\n",
      "  9475  7151 1717545.01   99   76          - 1716394.90      -  15.3   83s\n",
      " 11675  8256 1718277.03  102   75          - 1716394.90      -  14.1   93s\n",
      " 14335  9546 1716394.90   53   72          - 1716394.90      -  12.8  103s\n",
      " 17194 10973 1717278.78   83   71          - 1716394.90      -  12.0  113s\n",
      " 19833 12626 1716394.90   65   80          - 1716394.90      -  11.7  124s\n",
      " 21584 14017 1716394.90   66   75          - 1716394.90      -  11.5  133s\n",
      " 24047 15813 1716545.54   90   88          - 1716394.90      -  11.3  144s\n",
      " 26460 17504 1716394.90   75   73          - 1716394.90      -  11.0  153s\n",
      " 28695 19088 1716394.90   66   76          - 1716394.90      -  11.0  163s\n",
      " 30914 20682 1716394.90   71   75          - 1716394.90      -  10.9  172s\n",
      " 33011 22051 1716394.90   70   73          - 1716394.90      -  11.0  181s\n",
      " 35153 23643 1716538.17   83   76          - 1716394.90      -  10.9  189s\n",
      " 37196 25000 1716394.90   57   73          - 1716394.90      -  11.0  197s\n",
      " 39298 26236 1716394.90   69   74          - 1716394.90      -  10.9  205s\n",
      " 41439 27427 1716394.90   51   66          - 1716394.90      -  10.8  213s\n",
      " 43589 28846 1722537.32   97   55          - 1716394.90      -  10.7  221s\n",
      " 45647 30095 1723004.36   99   71          - 1716394.90      -  10.8  229s\n",
      " 47513 31336 1716644.47   73   76          - 1716394.90      -  11.0  236s\n",
      " 49152 32317 1722134.07   92   48          - 1716394.90      -  11.3  243s\n",
      " 50849 33438 1716394.90   81   74          - 1716394.90      -  11.5  250s\n",
      " 52530 34560 infeasible   66               - 1716394.90      -  11.6  258s\n",
      " 54149 35587 1722610.79   63   62          - 1716394.90      -  11.6  267s\n",
      " 56153 36762 1716394.90   59   76          - 1716394.90      -  11.6  274s\n",
      " 58128 38125 1720308.00  138   60          - 1716394.90      -  11.5  282s\n",
      " 59922 39446 1716394.90   77   71          - 1716394.90      -  11.5  290s\n",
      " 61751 40682 1721094.91  130   62          - 1716394.90      -  11.5  297s\n",
      " 63609 41931 1716394.90   83   76          - 1716394.90      -  11.4  304s\n",
      " 65429 43118 1716394.90  106   37          - 1716394.90      -  11.5  312s\n",
      " 67221 44266 1716394.90  115   73          - 1716394.90      -  11.6  319s\n",
      " 68800 45372 1719980.76  100   46          - 1716394.90      -  11.7  327s\n",
      " 70421 46492 1716394.90   56   52          - 1716394.90      -  11.9  334s\n",
      " 71938 47486 1724651.29   77   61          - 1716394.90      -  12.1  341s\n",
      " 73432 48464 1718857.09   77   36          - 1716394.90      -  12.3  348s\n",
      " 74957 49452 infeasible   65               - 1716394.90      -  12.6  355s\n",
      " 76467 50451 infeasible  125               - 1716394.90      -  12.7  362s\n",
      " 77891 51357 1716394.90   82   72          - 1716394.90      -  12.9  369s\n",
      " 79318 52155 1716394.90   86   73          - 1716394.90      -  13.0  376s\n",
      " 80915 53001 1721727.36   72   74          - 1716394.90      -  13.2  383s\n",
      " 82580 53692 1716394.90  107   74          - 1716394.90      -  13.4  390s\n",
      " 84219 54506 1716394.90   72   74          - 1716394.90      -  13.5  397s\n",
      " 85715 55329 1716394.90   53   87          - 1716394.90      -  13.7  404s\n",
      " 87298 56210 infeasible   49               - 1716394.90      -  13.8  411s\n",
      " 89029 57272 1718667.20   81   61          - 1716394.90      -  13.8  418s\n",
      " 90706 58291 1716416.85   88   83          - 1716394.90      -  13.9  425s\n",
      " 92296 59126 infeasible   96               - 1716394.90      -  14.0  432s\n",
      " 93886 59901 1720599.04   96   79          - 1716394.90      -  14.2  438s\n",
      " 95410 60509 1717641.67   89   67          - 1716394.90      -  14.4  445s\n",
      " 96974 61128 1716394.90   85   72          - 1716394.90      -  14.5  452s\n",
      " 98486 61811 infeasible   96               - 1716394.90      -  14.6  459s\n",
      " 100353 62860 1718960.13   95   67          - 1716394.90      -  14.7  466s\n",
      " 102374 64088 1716394.90   82   72          - 1716394.90      -  14.6  473s\n",
      " 104357 65294 1716394.90   81   68          - 1716394.90      -  14.6  480s\n",
      " 106299 66238 1717479.65   99   70          - 1716394.90      -  14.6  487s\n",
      " 108265 67287 1716394.90   71   53          - 1716394.90      -  14.5  494s\n",
      " 109888 68240 1719491.85   96   75          - 1716394.90      -  14.6  500s\n",
      " 111630 69188 1716394.90   92   74          - 1716394.90      -  14.7  507s\n",
      " 113289 70066 1724114.90   96   53          - 1716394.90      -  14.7  514s\n",
      " 115110 71172 1716394.90  102   64          - 1716394.90      -  14.7  521s\n",
      " 116721 72167 1716394.90   58   81          - 1716394.90      -  14.7  527s\n",
      " 118327 73259 1729253.47   84   53          - 1716394.90      -  14.8  534s\n",
      " 119965 74403 1716394.90   51   78          - 1716394.90      -  14.8  541s\n",
      " 121452 75434 1718030.24   93   62          - 1716394.90      -  14.8  548s\n",
      " 123112 76613 1716394.90   35   63          - 1716394.90      -  14.8  555s\n",
      " 124773 77819 1716394.90   43   73          - 1716394.90      -  14.8  563s\n",
      " 126552 78971 1716394.90   60   79          - 1716394.90      -  14.8  570s\n",
      " 128288 80095 1716394.90   80   67          - 1716394.90      -  14.8  577s\n",
      " 130085 81317 1716394.90   92   81          - 1716394.90      -  14.7  584s\n",
      " 131827 82543 1717987.00  100   65          - 1716394.90      -  14.7  591s\n",
      " 133470 83621 1716394.90   92   57          - 1716394.90      -  14.8  599s\n",
      " 135109 84648 1716646.00  105   44          - 1716394.90      -  14.8  606s\n",
      " 136850 85602 infeasible  106               - 1716394.90      -  14.8  614s\n",
      " 138613 86563 1716394.90   74   75          - 1716394.90      -  14.8  621s\n",
      " 140314 87593 infeasible   87               - 1716394.90      -  14.8  628s\n",
      " 142058 88602 1719934.00  111   72          - 1716394.90      -  14.9  635s\n",
      " 143875 89793 1716394.90   96   80          - 1716394.90      -  14.8  642s\n",
      " 145616 90723 infeasible   92               - 1716394.90      -  14.8  649s\n",
      " 147268 91554 1722262.00  110   56          - 1716394.90      -  14.9  657s\n",
      " 149130 92431 1716726.00  117   76          - 1716394.90      -  14.9  664s\n",
      " 150808 93186 1717194.00  123   62          - 1716394.90      -  14.9  671s\n",
      " 152456 93863 1716488.00  103   77          - 1716394.90      -  15.0  678s\n",
      " 154156 94633 1716740.00  141   59          - 1716394.90      -  15.0  685s\n",
      " 155988 95416 infeasible   99               - 1716394.90      -  15.0  692s\n",
      " 157890 96127 1716394.90  109   43          - 1716394.90      -  15.0  699s\n",
      " 159979 96865 1716394.90  106   33          - 1716394.90      -  15.0  706s\n",
      " 161831 97483 infeasible  117               - 1716394.90      -  15.0  712s\n",
      " 163540 97889 infeasible  121               - 1716394.90      -  15.0  718s\n",
      " 165280 98253 1717771.00  117   69          - 1716394.90      -  15.0  724s\n",
      " 167109 98529 1716394.90  102   48          - 1716394.90      -  14.9  730s\n",
      " 168721 98912 1719865.00  121   28          - 1716394.90      -  14.9  736s\n",
      " 170480 99545 infeasible   94               - 1716394.90      -  14.9  743s\n",
      " 171950 100120 infeasible   95               - 1716394.90      -  15.0  749s\n",
      " 173362 100747 infeasible  111               - 1716394.90      -  15.1  755s\n",
      " 174565 101161 1716394.90   97   75          - 1716394.90      -  15.3  762s\n",
      " 175748 101551 1716394.90   70   28          - 1716394.90      -  15.5  768s\n",
      " 176880 101853 1716394.90   75   35          - 1716394.90      -  15.8  774s\n",
      " 178057 102171 1716394.90   68   37          - 1716394.90      -  16.0  781s\n",
      " 179237 102449 1716394.90  103   73          - 1716394.90      -  16.2  788s\n",
      " 180328 102694 infeasible   76               - 1716394.90      -  16.4  794s\n",
      " 181585 102949 1721648.00   96   27          - 1716394.90      -  16.6  800s\n",
      " 183048 103349 1716394.90   99   63          - 1716394.90      -  16.8  807s\n",
      " 184640 104008 1716394.90   66   35          - 1716394.90      -  16.8  815s\n",
      " 186208 104566 1719101.00   96   16          - 1716394.90      -  16.9  822s\n",
      " 187755 105205 infeasible   98               - 1716394.90      -  17.0  829s\n",
      " 189465 105845 1716394.90   76   37          - 1716394.90      -  17.0  836s\n",
      " 191261 106471 1716394.90  100   31          - 1716394.90      -  17.0  843s\n",
      " 192906 107034 1716394.90   59   36          - 1716394.90      -  17.1  849s\n",
      " 194375 107508 1716394.90   81   42          - 1716394.90      -  17.2  856s\n",
      " 195704 107785 infeasible   76               - 1716394.90      -  17.4  862s\n",
      " 197211 108137 infeasible   85               - 1716394.90      -  17.5  869s\n",
      " 198669 108291 infeasible   78               - 1716394.90      -  17.6  875s\n",
      " 200196 108542 infeasible   69               - 1716394.90      -  17.7  882s\n",
      " 201814 108891 1716394.90   78   30          - 1716394.90      -  17.8  889s\n",
      " 203213 109372 1716394.90   69   32          - 1716394.90      -  18.0  895s\n",
      " 204445 109797 infeasible   86               - 1716394.90      -  18.1  902s\n",
      " 205836 110305 1718542.00   99   22          - 1716394.90      -  18.3  908s\n",
      " 207461 110802 1716394.90   94   19          - 1716394.90      -  18.3  915s\n",
      " 209105 111202 1718744.00  104   11          - 1716394.90      -  18.4  922s\n",
      " 210676 111610 infeasible   83               - 1716394.90      -  18.5  929s\n",
      " 212323 112007 1716394.90   88   18          - 1716394.90      -  18.6  936s\n",
      " 214000 112332 infeasible   97               - 1716394.90      -  18.6  943s\n",
      " 215807 112721 1744795.00   96   13          - 1716394.90      -  18.7  949s\n",
      " 217291 112988 1721938.00  102   11          - 1716394.90      -  18.8  956s\n",
      " 218741 113267 infeasible  115               - 1716394.90      -  18.9  963s\n",
      " 220423 113696 1717580.00   93   13          - 1716394.90      -  19.0  969s\n",
      " 222109 114099 1721293.00  100   10          - 1716394.90      -  19.0  976s\n",
      " 223847 114518 infeasible   97               - 1716394.90      -  19.1  984s\n",
      " 225517 114840 infeasible   94               - 1716394.90      -  19.2  992s\n",
      " 227140 115268 infeasible   89               - 1716394.90      -  19.2 1000s\n",
      "*227978 101558              95    1721984.0000 1716394.90  0.32%  19.2 1000s\n",
      " 228919 101665 1717716.00   94   15 1721984.00 1716394.90  0.32%  19.3 1008s\n",
      "H229350 86615                    1718847.0000 1716394.90  0.14%  19.3 1008s\n",
      "H230031 57507                    1716777.0000 1716394.90  0.02%  19.3 1008s\n",
      " 230324 57274 infeasible   94      1716777.00 1716394.90  0.02%  19.3 1015s\n",
      " 231394 57222 1716394.90   85   24 1716777.00 1716394.90  0.02%  19.4 1023s\n",
      " 232681 57252 infeasible   89      1716777.00 1716394.90  0.02%  19.5 1030s\n",
      " 233788 57248 1716394.90   78   12 1716777.00 1716394.90  0.02%  19.6 1037s\n",
      " 234923 57300 1716394.90   86   18 1716777.00 1716394.90  0.02%  19.7 1044s\n",
      "H235670 52413                    1716576.0000 1716394.90  0.01%  19.8 1044s\n",
      " 236119 52390 1716394.90   91   21 1716576.00 1716394.90  0.01%  19.9 1052s\n",
      " 237005 52422 infeasible  103      1716576.00 1716394.90  0.01%  20.0 1059s\n",
      " 238200 52481 infeasible   84      1716576.00 1716394.90  0.01%  20.1 1066s\n",
      " 239343 52484 1716394.90   92   17 1716576.00 1716394.90  0.01%  20.2 1073s\n",
      " 240621 52529 infeasible   81      1716576.00 1716394.90  0.01%  20.3 1080s\n",
      " 242023 52637 infeasible  100      1716576.00 1716394.90  0.01%  20.3 1088s\n",
      " 243165 52610 infeasible   86      1716576.00 1716394.90  0.01%  20.4 1094s\n",
      " 244369 52660 infeasible   76      1716576.00 1716394.90  0.01%  20.5 1101s\n",
      " 245456 52777 infeasible  102      1716576.00 1716394.90  0.01%  20.6 1108s\n",
      " 246542 52849 1716397.00  108   13 1716576.00 1716394.90  0.01%  20.7 1115s\n",
      " 247582 52937 1716394.90   85   20 1716576.00 1716394.90  0.01%  20.8 1122s\n",
      " 248667 53044 1716394.90   80   27 1716576.00 1716394.90  0.01%  21.0 1130s\n",
      " 249562 53256     cutoff   98      1716576.00 1716394.90  0.01%  21.1 1136s\n",
      " 249667 53083     cutoff  100      1716576.00 1716394.90  0.01%  21.1 1144s\n",
      " 251174 53209 1716394.90  114   15 1716576.00 1716394.90  0.01%  21.2 1151s\n",
      " 252734 53220 1716394.90   94   20 1716576.00 1716394.90  0.01%  21.3 1159s\n",
      " 254264 53253 infeasible   82      1716576.00 1716394.90  0.01%  21.4 1166s\n",
      " 255559 53300 1716394.90   96   22 1716576.00 1716394.90  0.01%  21.5 1173s\n",
      " 256851 53315 1716394.90  101   18 1716576.00 1716394.90  0.01%  21.5 1181s\n",
      " 258336 53346 infeasible  117      1716576.00 1716394.90  0.01%  21.7 1190s\n",
      " 259815 53450 infeasible  118      1716576.00 1716394.90  0.01%  21.8 1198s\n",
      " 261405 53546 1716422.00  101   16 1716576.00 1716394.90  0.01%  21.8 1205s\n",
      "H262058 53192                    1716560.0000 1716394.90  0.01%  21.9 1205s\n",
      "\n",
      "Explored 262662 nodes (5756280 simplex iterations) in 1205.65 seconds\n",
      "Thread count was 16 (of 32 available processors)\n",
      "\n",
      "Optimal solution found (tolerance 1.00e-04)\n",
      "Best objective 1.716560000000e+06, best bound 1.716394900000e+06, gap 0.0096%\n"
     ]
    },
    {
     "name": "stdout",
     "output_type": "stream",
     "text": [
      "1205.729788 seconds (194 allocations: 15.308 MiB, 0.00% gc time)\n"
     ]
    },
    {
     "data": {
      "text/plain": [
       "Dict{String,Any} with 15 entries:\n",
       "  \"Wasted Under Votes\"                => [393487.0 -0.0; -0.0 353430.0; -0.0 25…\n",
       "  \"Total Vote Share\"                  => [1.67721e6 1.26239e6]\n",
       "  \"Votes By District\"                 => [393487.0 414739.0; 416997.0 353430.0;…\n",
       "  \"Total votes in each district\"      => [808226.0, 770427.0, 698822.0, 662129.…\n",
       "  \"s\"                                 => [0.0 0.0 0.0 0.0; 0.0 0.0 0.0 0.0; … ;…\n",
       "  \"Number of blocks in each district\" => [26.0 31.0 4.0 11.0]\n",
       "  \"Model\"                             => Minimization problem with:…\n",
       "  \"Fixed Common Size\"                 => 734901.0\n",
       "  \"Y\"                                 => [-0.0 0.0 … 0.0 -0.0; 0.0 -0.0 … 0.0 0…\n",
       "  \"Efficiency Gap\"                    => 246758.0\n",
       "  \"Solve Status\"                      => :Optimal\n",
       "  \"Total Seat Share\"                  => [3 1]\n",
       "  \"Wasted Over Votes\"                 => [-0.0 10626.0; 31783.5 -0.0; 90231.0 -…\n",
       "  \"Total Wasted Votes [D R]\"          => [611522.0 858280.0]\n",
       "  \"District Assignments\"              => [0.0 1.0 0.0 0.0; 1.0 0.0 0.0 0.0; … ;…"
      ]
     },
     "execution_count": 12,
     "metadata": {},
     "output_type": "execute_result"
    }
   ],
   "source": [
    "res4 = degerry(WI_V,WI_C, 4, 0.1, solver = \"Gurobi\")"
   ]
  },
  {
   "cell_type": "code",
   "execution_count": 13,
   "metadata": {},
   "outputs": [
    {
     "data": {
      "text/plain": [
       "CSV.Sink{DateFormat{Symbol(\"yyyy-mm-dd\"),Tuple{Base.Dates.DatePart{'y'},Base.Dates.Delim{Char,1},Base.Dates.DatePart{'m'},Base.Dates.Delim{Char,1},Base.Dates.DatePart{'d'}}},DataType}(    CSV.Options:\n",
       "        delim: ','\n",
       "        quotechar: '\"'\n",
       "        escapechar: '\\\\'\n",
       "        null: \"\"\n",
       "        dateformat: dateformat\"yyyy-mm-dd\"\n",
       "        decimal: '.'\n",
       "        truestring: 'true'\n",
       "        falsestring: 'false', IOBuffer(data=UInt8[...], readable=true, writable=true, seekable=true, append=false, size=0, maxsize=Inf, ptr=1, mark=-1), \"data/Result_District_Assignments_4.csv\", 12, true, String[\"x1\", \"x2\", \"x3\", \"x4\"], 4, false, Val{false})"
      ]
     },
     "execution_count": 13,
     "metadata": {},
     "output_type": "execute_result"
    }
   ],
   "source": [
    "CSV.write(\"data/Result_District_Assignments_4.csv\", DataFrame(res4[\"District Assignments\"]))"
   ]
  },
  {
   "cell_type": "code",
   "execution_count": null,
   "metadata": {},
   "outputs": [],
   "source": [
    "res5 = degerry(WI_V,WI_C, 5, 0.1, solver = \"Gurobi\")"
   ]
  },
  {
   "cell_type": "code",
   "execution_count": 58,
   "metadata": {},
   "outputs": [
    {
     "name": "stdout",
     "output_type": "stream",
     "text": [
      "Optimize a model with 579 rows, 477 columns and 35111 nonzeros\n",
      "Coefficient statistics:\n",
      "  Matrix range    [0e+00, 2e+08]\n",
      "  Objective range [1e+00, 1e+00]\n",
      "  Bounds range    [1e+00, 1e+00]\n",
      "  RHS range       [1e+00, 2e+08]\n",
      "Warning: Model contains large matrix coefficient range\n",
      "         Consider reformulating model or setting NumericFocus parameter\n",
      "         to avoid numerical issues.\n",
      "Variable types: 33 continuous, 444 integer (444 binary)\n",
      "\n",
      "Root relaxation: objective 4.148180e+05, 356 iterations, 0.01 seconds\n",
      "\n",
      "    Nodes    |    Current Node    |     Objective Bounds      |     Work\n",
      " Expl Unexpl |  Obj  Depth IntInf | Incumbent    BestBd   Gap | It/Node Time\n",
      "\n",
      "     0     0 414818.000    0   12          - 414818.000      -     -    0s\n",
      "     0     0 414818.000    0   19          - 414818.000      -     -    0s\n",
      "     0     0 414818.000    0   16          - 414818.000      -     -    0s\n",
      "     0     0 414818.000    0   12          - 414818.000      -     -    0s\n",
      "     0     0 414818.000    0   11          - 414818.000      -     -    0s\n",
      "     0     0 414818.000    0    6          - 414818.000      -     -    0s\n",
      "     0     0 414818.000    0    6          - 414818.000      -     -    0s\n",
      "     0     2 414818.000    0    6          - 414818.000      -     -    0s\n",
      "H 2827  1996                    2010704.0000 414818.000  79.4%   4.5    0s\n",
      "* 3585  2082             105    1535046.0000 981493.900  36.1%  11.8    1s\n",
      "* 3592  1984             110    1534028.0000 981493.900  36.0%  11.8    1s\n",
      "H 3955  1629                    1496771.0000 1296699.20  13.4%  11.5    2s\n",
      "H 3971  1540                    1496366.0000 1296699.20  13.3%  11.4    2s\n",
      "H 4008  1450                    1496239.0000 1296699.20  13.3%  11.6    2s\n",
      "H 4014  1371                    1496062.0000 1296699.20  13.3%  11.6    2s\n",
      "\n",
      "Cutting planes:\n",
      "  Gomory: 1\n",
      "  Cover: 1\n",
      "  Flow cover: 20\n",
      "\n",
      "Explored 6576 nodes (84703 simplex iterations) in 2.26 seconds\n",
      "Thread count was 16 (of 32 available processors)\n",
      "\n",
      "Optimal solution found (tolerance 1.00e-04)\n",
      "Best objective 1.496062000000e+06, best bound 1.495924600000e+06, gap 0.0092%\n",
      "  2.268101 seconds (143 allocations: 3.375 MiB)\n"
     ]
    },
    {
     "data": {
      "text/plain": [
       "Dict{String,Any} with 14 entries:\n",
       "  \"Wasted Under Votes\"                => [2.65248e5 -0.0; 242580.0 -0.0; … ; -0…\n",
       "  \"Total Vote Share\"                  => [1.67721e6 1.26239e6]\n",
       "  \"Votes By District\"                 => [256957.0 257357.0; 242580.0 271835.0;…\n",
       "  \"Total votes in each district\"      => [514314.0, 514415.0, 469264.0, 479560.…\n",
       "  \"Number of blocks in each district\" => [26.0 9.0 … 16.0 9.0]\n",
       "  \"Model\"                             => Minimization problem with:…\n",
       "  \"Fixed Common Size\"                 => 489934.0\n",
       "  \"Efficiency Gap\"                    => 0.0\n",
       "  \"Solve Status\"                      => :Optimal\n",
       "  \"Total Seat Share\"                  => [4 2]\n",
       "  \"Wasted Over Votes\"                 => [-0.0 200.0; -0.0 14627.5; … ; 57102.5…\n",
       "  \"Total Wasted Votes [D R]\"          => [7.48029e5 7.48029e5]\n",
       "  \"District Assignments\"              => [0.0 0.0 … 1.0 0.0; 0.0 1.0 … 0.0 0.0;…\n",
       "  \"Common Size\"                       => 0.0"
      ]
     },
     "execution_count": 58,
     "metadata": {},
     "output_type": "execute_result"
    }
   ],
   "source": [
    "res6 = degerry(WI_V,WI_C, 6, 0.05, solver = \"Gurobi\")"
   ]
  },
  {
   "cell_type": "code",
   "execution_count": 41,
   "metadata": {},
   "outputs": [
    {
     "data": {
      "text/plain": [
       "CSV.Sink{DateFormat{Symbol(\"yyyy-mm-dd\"),Tuple{Base.Dates.DatePart{'y'},Base.Dates.Delim{Char,1},Base.Dates.DatePart{'m'},Base.Dates.Delim{Char,1},Base.Dates.DatePart{'d'}}},DataType}(    CSV.Options:\n",
       "        delim: ','\n",
       "        quotechar: '\"'\n",
       "        escapechar: '\\\\'\n",
       "        null: \"\"\n",
       "        dateformat: dateformat\"yyyy-mm-dd\"\n",
       "        decimal: '.'\n",
       "        truestring: 'true'\n",
       "        falsestring: 'false', IOBuffer(data=UInt8[...], readable=true, writable=true, seekable=true, append=false, size=0, maxsize=Inf, ptr=1, mark=-1), \"data/Result_District_Assignments_4.csv\", 12, true, String[\"x1\", \"x2\", \"x3\", \"x4\"], 4, false, Val{false})"
      ]
     },
     "execution_count": 41,
     "metadata": {},
     "output_type": "execute_result"
    }
   ],
   "source": [
    "\n",
    "\n",
    "#CSV.write(\"data/Result_District_Assignments_5.csv\", DataFrame(res5[\"District Assignments\"]))\n",
    "#CSV.write(\"data/Result_District_Assignments_6.csv\", DataFrame(res6[\"District Assignments\"]))"
   ]
  }
 ],
 "metadata": {
  "celltoolbar": "Slideshow",
  "kernelspec": {
   "display_name": "Julia 0.6.0",
   "language": "julia",
   "name": "julia-0.6"
  },
  "language_info": {
   "file_extension": ".jl",
   "mimetype": "application/julia",
   "name": "julia",
   "version": "0.6.0"
  }
 },
 "nbformat": 4,
 "nbformat_minor": 1
}
