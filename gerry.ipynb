{
 "cells": [
  {
   "cell_type": "markdown",
   "metadata": {},
   "source": [
    "# Gerrymandering and the Redistricting Problem\n",
    "\n",
    "## Assumptions\n",
    "\n",
    "We assume a 2-party system with the parties represented as \"D\" and \"R\". We start by only using one period's worth of historical data. We also assume that all available voters voted (no one abstained) in our historical data.\n",
    "\n",
    "## Data Inputs\n",
    "\n",
    "The expected number of votes for each party is a key data input for our constraints. We represent this with a matrix, $\\mathbf{V}$. Since we have two parties, the matrix has the following shape.\n",
    "\n",
    "$$ \\mathbf{V} \\in \\mathbb{R}^{|blocks| \\times 2} $$\n",
    "\n",
    "$blocks$ is a set where $|blocks|$ is the number of elements in the set. By convention, the first column of $\\mathbf{V}$ will be D votes and the second column R votes. $\\mathbf{V}$ could represent a single past election's results, or it could be an expected upcoming result based on an exogenous model.\n",
    "\n",
    "The second major input is a matrix specifying which blocks are contiguous with each other, meaning that they share a border. This matrix has the following shape:\n",
    "\n",
    "$$ \\mathbf{C} \\in \\mathbb{R}^{|blocks| \\times |blocks|} $$\n",
    "\n",
    "The elements of the matrix are defined as \n",
    "\n",
    "$$ c_{ij} = \\left\\{ \\begin{array}{cc} 1 & \\text{block i borders block j} \\\\ 0 & \\text{otherwise} \\end{array} \\right. $$\n",
    "\n",
    "## Objective \n",
    "\n",
    "Our objective uses the concept of the \"efficiency gap\". See [Brennan Center](https://www.brennancenter.org/sites/default/files/legal-work/How_the_Efficiency_Gap_Standard_Works.pdf). The efficiency gap itself uses another concept of \"wasted votes\". \n",
    "\n",
    "Votes can be wasted in two ways. A vote cast for a losing candidate is \"wasted\", and votes cast for a winning candidate in excess of the amount needed to win are also wasted. The efficiency gap is a signed number so it can be in favor of one party or another. We arbitrarily chose to do it from the perspective of the \"D\" party. So a positive efficiency gap favors the R party. \n",
    "\n",
    "$$ \\text{Efficiency Gap} = \\text{D wasted votes} - \\text{R wasted votes} $$\n",
    "\n",
    "\n",
    "## Variables\n",
    "\n",
    "There are several variables in the model. The key variable is a matrix where each row of the matrix represents an indivisible block (precint, county, or census area depending on the conventions of the problem). The columns represent assignment to a district. The matrix is made up of zeroes or ones, and each row must have exactly one entry equal to one, meaning that each row must be in one and only one district. $districts$ is a set where $|districts|$ is the number of elements in each set. \n",
    "\n",
    "$$ \n",
    "\\mathbf{D} \\in \\{0,1\\}^{|blocks| \\times |districts|}. \n",
    "$$\n",
    "\n",
    "Several other variables are necessary to set up the problem in a linear fashion. These are best explained in the context of each constraint.\n",
    "\n",
    "## Constraints\n",
    "\n",
    "### Each Block Is In Exactly One District\n",
    "\n",
    "This constraint is easily expressed by saying that the sum of each row in the $D$ variable must be exactly one. \n",
    "\n",
    "$$ D \\left[ \\begin{array}{c} 1 \\\\ \\vdots \\\\ 1 \\end{array} \\right]  = \\left[ \\begin{array}{c} 1 \\\\ \\vdots \\\\ 1 \\end{array} \\right].$$\n",
    "\n",
    "### Calculate The Number of Wasted Votes for Losing Party\n",
    "\n",
    "To calculate wasted votes for the losing party, we first have to know which party lost and what its vote total was. We need to know this for each district that is formed as a result of the optimization. A simple `min` function is not linear, and we desire a purely linear form of the problem. This can be achieved using the \"Big M\" method. See [Big M](https://en.wikipedia.org/wiki/Big_M_method). Suppose we are looking at the results in just one district, with vote totals $d$ and $r$. Then define two additional variables, $wastedUnder$ and $w$. Further choose a constant $M$ that is large enough. Then define two constraints as below.\n",
    "\n",
    "$$ \\begin{align}\n",
    "wastedUnder &\\geq d - Mw \\\\\n",
    "wastedUnder &\\geq r - M(1-w) \\\\\n",
    "wastedUnder &\\in \\mathbb{R} \\\\\n",
    "w &\\in {0,1}\n",
    "\\end{align} $$\n",
    "\n",
    "If we include $wastedUnder$ in the objective function to minimize it, then the optimizer will try to reduce it. If $d$ is smaller than $r$, it will minimize it by setting $w=0$, and allowing $wastedUnder = d$.  The other constraint is nonbinding in this case. Otherwise, it will set $w=1$, making the first constraint non-bonding and setting $wastedUnder = r$. Since $w$ must be either 0 or 1, then $wastedUnder$ will be the minimum. \n",
    "\n",
    "### Calculate Wasted Votes for the Winning Party\n",
    "\n",
    "Wasted votes for the winning party occur when the winning party gets more votes than is necessary to win. It is mostly simply calculate as \n",
    "$$\\max (0, \\text{winning votes} - \\text{threshhold to win} ).$$\n",
    "\n",
    "Because we want to avoid `max` functions, which are non-linear, we use a trick similar to the one we used for wasted votes for the losing party. Let $VotesToWin$ be the threshold to win (50% plus one). Then set up constraints as follows.\n",
    "\n",
    "$$\n",
    "\\begin{align}\n",
    "wastedOver & \\geq 0 \\\\\n",
    "wastedOver & \\geq d - VotesToWin \n",
    "\\end{align}\n",
    "$$\n",
    "\n",
    "If we include $wastedOver$ in the objective to minimize it, then it will be $0$ if the $D$ party lost and $D - VotesToWin$ otherwise. This is the value we seek.\n",
    "\n",
    "### Enforce Equal Sizes\n",
    "\n",
    "Equal sizes are enforced by defining a single variable for the problem. Then we require that the total votes cast in each district be within a certain range around the single variable.\n",
    "\n",
    "### Enforce Contiguity of Districts\n",
    "\n",
    "The contiguity constraints requires a contiguity matrix, $C$. Let $D$ be the assignment of blocks to districts. Consider the matrix $CD$ with elements $a_{ij}$. Each element, $a_{ij}$, is then the number of blocks contiguous with block $i$ that are also in district $j$, provided that block $i$ is in district $j$.  If block $i$ is not in district $j$, then $a_{ij}$ is meaningless for us. If a block, $i$, is in a given district, then we require at least one other block that is contiguous with $i$ is also in the same district. We can write the constraint this way:\n",
    "\n",
    "$$ \\mathbf{CD} \\geq 2 \\times \\mathbf{D}.$$\n",
    "\n",
    "This says that, if block $i$ is in district $j$, then there must be at least one other block contiguous with block $i$ (in addition to block $i$ itself) that is also in district $j$.  Since every element of $CD$ is necessarily positive, an element $a_{ij}$ is effectively unconstrained if the corresponding element of $D$ is zero."
   ]
  },
  {
   "cell_type": "markdown",
   "metadata": {},
   "source": [
    "## Optimization Model Definition\n",
    "\n",
    "We are now able to define a general purpose function to use with different data sets and parameters."
   ]
  },
  {
   "cell_type": "code",
   "execution_count": 1,
   "metadata": {
    "collapsed": true
   },
   "outputs": [],
   "source": [
    "using JuMP \n",
    "using GLPKMathProgInterface\n",
    "using Cbc\n",
    "# using Gurobi\n",
    "#using NLopt\n",
    "#using AmplNLWriter\n",
    "#using CoinOptServices\n",
    "#using ECOS"
   ]
  },
  {
   "cell_type": "code",
   "execution_count": 13,
   "metadata": {
    "collapsed": false
   },
   "outputs": [
    {
     "data": {
      "text/plain": [
       "degerry (generic function with 2 methods)"
      ]
     },
     "execution_count": 13,
     "metadata": {},
     "output_type": "execute_result"
    }
   ],
   "source": [
    "function degerry(\n",
    "    votes,\n",
    "    contiguity_matrix, \n",
    "    number_districts,\n",
    "    common_size_threshold = 0.2\n",
    "    )\n",
    "    \n",
    "    _V = votes\n",
    "    _C = contiguity_matrix\n",
    "\n",
    "    blocks = size(_V,1)\n",
    "    districts = number_districts\n",
    "    total_vote = _V * ones(2,1)\n",
    "\n",
    "    #m = Model(solver = AmplNLSolver(CoinOptServices.bonmin, [\n",
    "    #    \"bonmin.pump_for_minlp=yes\"]) )\n",
    "    # m = Model(solver = ECOSSolver() )\n",
    "    #m = Model(solver = GLPKSolverMIP())\n",
    "    m = Model(solver = CbcSolver())\n",
    "    # m = Model(solver=NLoptSolver(algorithm=:LD_SLSQP))\n",
    "    #m = Model(solver = GurobiSolver(Presolve=0))\n",
    "    \n",
    "    ## Variables\n",
    "\n",
    "    @variable(m, 0 <= D[i=1:blocks,j=1:districts] <= 1 , Bin)\n",
    "    \n",
    "    ## Constraints\n",
    "\n",
    "    # each block can be in only one district\n",
    "    @constraint(m, D * ones(districts,1) .== 1)  \n",
    "    \n",
    "    # Each district must have at least one block\n",
    "    # @constraint(m, (D' * V) * [1;1] .>= 1)\n",
    "\n",
    "    # These constraints set wasted_u to the number of wasted votes for the losing party\n",
    "    @variable(m, 0 <= w[i=1:districts] <= 1, Bin)\n",
    "    @variable(m, wasted_u[i=1:districts, j=1:2])\n",
    "    M = blocks * sum(total_vote) \n",
    "    @constraint(m, wasted_u .>= 0)\n",
    "    @constraint(m, wasted_u[:,1] .>= (D' * _V)[:,1] - M * w)\n",
    "    @constraint(m, wasted_u[:,2] .>= (D' * _V)[:,2] - M * (1-w))\n",
    "\n",
    "    # These constraints set wasted_o to the number of wasted votes for the winning party\n",
    "    @variable(m, wasted_o[i=1:districts, j=1:2])\n",
    "    @variable(m, votes_to_win[i=1:districts])\n",
    "    @constraint(m, votes_to_win .== (D' * _V) * [1;1] / 2)\n",
    "    @constraint(m, wasted_o .>= 0)\n",
    "    @constraint(m, wasted_o .>= (D' * _V) - votes_to_win * [1 1])\n",
    "\n",
    "    # These constraints calculate the efficiency gap\n",
    "    @variable(m, eff_gap)\n",
    "    @variable(m, abs_eff_gap)\n",
    "    @constraint(m, eff_gap .== ones(1,districts) * (wasted_u + wasted_o) * [1;-1])\n",
    "    @constraint(m, abs_eff_gap >= eff_gap)\n",
    "    @constraint(m, abs_eff_gap >= - eff_gap)\n",
    "\n",
    "    # These constraints enforce roughly equal sizes. \n",
    "    @variable(m, common_size) # this approach is too slow\n",
    "    fixed_common_size = sum(_V) / districts\n",
    "    @constraint(m, (D' * _V) * [1;1] .>= fixed_common_size * (1-common_size_threshold))\n",
    "    @constraint(m, (D' * _V) * [1;1] .<= fixed_common_size * (1+common_size_threshold))\n",
    "\n",
    "    # These constraints enforce contiguity\n",
    "    @constraint(m, _C * D .>= 2 * D)\n",
    "\n",
    "    ## Objective\n",
    "\n",
    "    @objective(m, Min, abs_eff_gap  + sum(wasted_u) + sum(wasted_o) ) #+ sum(min_vote)) \n",
    "    \n",
    "    @time begin\n",
    "        status = solve(m)\n",
    "    end\n",
    "    \n",
    "    res = Dict([(\"Model\",m),\n",
    "        (\"Solve Status\", status), \n",
    "        (\"Efficiency Gap\", getvalue(abs_eff_gap) ),\n",
    "        (\"Wasted Over Votes\", getvalue(wasted_o)),\n",
    "        (\"Wasted Under Votes\", getvalue(wasted_u)),\n",
    "        (\"Total Wasted Votes [D R]\", ones(1,districts) * ( getvalue(wasted_u) + getvalue(wasted_o))),\n",
    "        (\"Votes By District\", getvalue(D)' * _V), \n",
    "        (\"Common Size\", getvalue(common_size)), \n",
    "        (\"Fixed Common Size\", fixed_common_size), \n",
    "        (\"District Assignments\", getvalue(D))\n",
    "    ])\n",
    "    \n",
    "    return res\n",
    "end"
   ]
  },
  {
   "cell_type": "markdown",
   "metadata": {},
   "source": [
    "## Example Problem\n",
    "\n",
    "This is a simple problem used to show how the model works."
   ]
  },
  {
   "cell_type": "code",
   "execution_count": 7,
   "metadata": {
    "collapsed": false
   },
   "outputs": [
    {
     "data": {
      "text/plain": [
       "5×2 Array{Int64,2}:\n",
       " 75  25\n",
       " 60  40\n",
       " 43  57\n",
       " 48  52\n",
       " 49  51"
      ]
     },
     "execution_count": 7,
     "metadata": {},
     "output_type": "execute_result"
    }
   ],
   "source": [
    "# These are the votes arranged in a matrix of size blocks x number of parties\n",
    "V = [75 25; 60 40; 43 57; 48 52; 49 51]\n"
   ]
  },
  {
   "cell_type": "code",
   "execution_count": 8,
   "metadata": {
    "collapsed": false
   },
   "outputs": [
    {
     "data": {
      "text/plain": [
       "5×5 Array{Int64,2}:\n",
       " 1  1  1  0  0\n",
       " 1  1  1  1  0\n",
       " 1  1  1  1  1\n",
       " 0  1  1  1  1\n",
       " 0  0  1  1  1"
      ]
     },
     "execution_count": 8,
     "metadata": {},
     "output_type": "execute_result"
    }
   ],
   "source": [
    "# This is the contiguity matrix. C_{m,n} = 1 if block m shares a border with block n, 0 otherwise.\n",
    "C = [ \n",
    "    1 1 1 0 0;\n",
    "    1 1 1 1 0;\n",
    "    1 1 1 1 1;\n",
    "    0 1 1 1 1;\n",
    "    0 0 1 1 1;]\n",
    "\n",
    "## So the example looks like this:\n",
    "## |----------|\n",
    "## |A    | B  |\n",
    "## |-----|    |\n",
    "## |     |----|\n",
    "## | C   |    |\n",
    "## |     | D  |\n",
    "## |     |----|\n",
    "## |     | E  |\n",
    "## |-----|----|\n"
   ]
  },
  {
   "cell_type": "code",
   "execution_count": 9,
   "metadata": {
    "collapsed": false
   },
   "outputs": [
    {
     "name": "stdout",
     "output_type": "stream",
     "text": [
      "  2.099823 seconds (104.55 k allocations: 5.788 MiB, 0.89% gc time)\n"
     ]
    },
    {
     "data": {
      "text/plain": [
       "Dict{String,Any} with 9 entries:\n",
       "  \"Efficiency Gap\"           => -3.58993e-13\n",
       "  \"Solve Status\"             => :Optimal\n",
       "  \"Wasted Over Votes\"        => [0.0 3.0; 28.0 0.0]\n",
       "  \"Wasted Under Votes\"       => [97.0 0.0; 0.0 122.0]\n",
       "  \"Model\"                    => Minimization problem with:…\n",
       "  \"Total Wasted Votes [D R]\" => [125.0 125.0]\n",
       "  \"Votes By District\"        => [97.0 103.0; 178.0 122.0]\n",
       "  \"District Assignments\"     => [0.0 1.0; 0.0 1.0; … ; 1.0 0.0; 1.0 0.0]\n",
       "  \"Common Size\"              => 250.0"
      ]
     },
     "execution_count": 9,
     "metadata": {},
     "output_type": "execute_result"
    }
   ],
   "source": [
    "res = degerry(V,C, 2, 0.2)\n",
    "res[\"District Assignments\"]\n",
    "res"
   ]
  },
  {
   "cell_type": "markdown",
   "metadata": {},
   "source": [
    "## Optimize Fairness With Realistic Data\n",
    "\n",
    "TODO: insert optimization with Wisconsin data set\n",
    "\n"
   ]
  },
  {
   "cell_type": "code",
   "execution_count": 5,
   "metadata": {
    "collapsed": false
   },
   "outputs": [
    {
     "name": "stderr",
     "output_type": "stream",
     "text": [
      "\u001b[1m\u001b[36mINFO: \u001b[39m\u001b[22m\u001b[36mPrecompiling module CSV.\n",
      "\u001b[39m"
     ]
    },
    {
     "data": {
      "text/html": [
       "<table class=\"data-frame\"><thead><tr><th></th><th>County</th><th>1</th><th>3</th><th>5</th><th>7</th><th>9</th><th>11</th><th>13</th><th>15</th><th>17</th><th>19</th><th>21</th><th>23</th><th>25</th><th>27</th><th>29</th><th>31</th><th>33</th><th>35</th><th>37</th><th>39</th><th>41</th><th>43</th><th>45</th><th>47</th><th>49</th><th>51</th><th>53</th><th>55</th><th>57</th><th>59</th><th>61</th><th>63</th><th>65</th><th>67</th><th>69</th><th>71</th><th>73</th><th>75</th><th>77</th><th>78</th><th>79</th><th>81</th><th>83</th><th>85</th><th>87</th><th>89</th><th>91</th><th>93</th><th>95</th><th>97</th><th>99</th><th>101</th><th>103</th><th>105</th><th>107</th><th>109</th><th>111</th><th>113</th><th>115</th><th>117</th><th>119</th><th>121</th><th>123</th><th>125</th><th>127</th><th>129</th><th>131</th><th>133</th><th>135</th><th>137</th><th>139</th><th>141</th><th></th><th>src_COUNTY</th><th>nbr_COUNTY</th><th>contiguity_flag</th></tr></thead><tbody><tr><th>1</th><td>1</td><td>1</td><td>0</td><td>0</td><td>0</td><td>0</td><td>0</td><td>0</td><td>0</td><td>0</td><td>0</td><td>1</td><td>0</td><td>0</td><td>0</td><td>0</td><td>0</td><td>0</td><td>0</td><td>0</td><td>0</td><td>0</td><td>0</td><td>0</td><td>0</td><td>0</td><td>0</td><td>0</td><td>0</td><td>1</td><td>0</td><td>0</td><td>0</td><td>0</td><td>0</td><td>0</td><td>0</td><td>0</td><td>0</td><td>1</td><td>0</td><td>0</td><td>0</td><td>0</td><td>0</td><td>0</td><td>0</td><td>0</td><td>0</td><td>0</td><td>1</td><td>0</td><td>0</td><td>0</td><td>0</td><td>0</td><td>0</td><td>1</td><td>0</td><td>0</td><td>0</td><td>0</td><td>0</td><td>0</td><td>0</td><td>0</td><td>0</td><td>0</td><td>0</td><td>0</td><td>1</td><td>0</td><td>1</td><td>missing</td><td>1</td><td>1</td><td>1</td></tr><tr><th>2</th><td>3</td><td>0</td><td>1</td><td>0</td><td>1</td><td>0</td><td>0</td><td>0</td><td>0</td><td>0</td><td>0</td><td>0</td><td>0</td><td>0</td><td>0</td><td>0</td><td>0</td><td>0</td><td>0</td><td>0</td><td>0</td><td>0</td><td>0</td><td>0</td><td>0</td><td>0</td><td>1</td><td>0</td><td>0</td><td>0</td><td>0</td><td>0</td><td>0</td><td>0</td><td>0</td><td>0</td><td>0</td><td>0</td><td>0</td><td>0</td><td>0</td><td>0</td><td>0</td><td>0</td><td>0</td><td>0</td><td>0</td><td>0</td><td>0</td><td>0</td><td>0</td><td>1</td><td>0</td><td>0</td><td>0</td><td>0</td><td>0</td><td>0</td><td>1</td><td>0</td><td>0</td><td>0</td><td>0</td><td>0</td><td>0</td><td>0</td><td>0</td><td>0</td><td>0</td><td>0</td><td>0</td><td>0</td><td>0</td><td>missing</td><td>1</td><td>21</td><td>1</td></tr><tr><th>3</th><td>5</td><td>0</td><td>0</td><td>1</td><td>0</td><td>0</td><td>0</td><td>1</td><td>0</td><td>1</td><td>0</td><td>0</td><td>0</td><td>0</td><td>0</td><td>0</td><td>0</td><td>1</td><td>0</td><td>0</td><td>0</td><td>0</td><td>0</td><td>0</td><td>0</td><td>0</td><td>0</td><td>0</td><td>0</td><td>0</td><td>0</td><td>0</td><td>0</td><td>0</td><td>0</td><td>0</td><td>0</td><td>0</td><td>0</td><td>0</td><td>0</td><td>0</td><td>0</td><td>0</td><td>0</td><td>0</td><td>0</td><td>0</td><td>0</td><td>1</td><td>0</td><td>0</td><td>0</td><td>0</td><td>0</td><td>1</td><td>1</td><td>0</td><td>1</td><td>0</td><td>0</td><td>0</td><td>0</td><td>0</td><td>0</td><td>0</td><td>1</td><td>0</td><td>0</td><td>0</td><td>0</td><td>0</td><td>0</td><td>missing</td><td>1</td><td>57</td><td>1</td></tr><tr><th>4</th><td>7</td><td>0</td><td>1</td><td>0</td><td>1</td><td>0</td><td>0</td><td>0</td><td>0</td><td>0</td><td>0</td><td>0</td><td>0</td><td>0</td><td>0</td><td>0</td><td>1</td><td>0</td><td>0</td><td>0</td><td>0</td><td>0</td><td>0</td><td>0</td><td>0</td><td>0</td><td>0</td><td>0</td><td>0</td><td>0</td><td>0</td><td>0</td><td>0</td><td>0</td><td>0</td><td>0</td><td>0</td><td>0</td><td>0</td><td>0</td><td>0</td><td>0</td><td>0</td><td>0</td><td>0</td><td>0</td><td>0</td><td>0</td><td>0</td><td>0</td><td>0</td><td>0</td><td>0</td><td>0</td><td>0</td><td>0</td><td>0</td><td>0</td><td>1</td><td>0</td><td>0</td><td>0</td><td>0</td><td>0</td><td>0</td><td>0</td><td>1</td><td>0</td><td>0</td><td>0</td><td>0</td><td>0</td><td>0</td><td>missing</td><td>1</td><td>77</td><td>1</td></tr><tr><th>5</th><td>9</td><td>0</td><td>0</td><td>0</td><td>0</td><td>1</td><td>0</td><td>0</td><td>1</td><td>0</td><td>0</td><td>0</td><td>0</td><td>0</td><td>0</td><td>1</td><td>0</td><td>0</td><td>0</td><td>0</td><td>0</td><td>0</td><td>0</td><td>0</td><td>0</td><td>0</td><td>0</td><td>0</td><td>0</td><td>0</td><td>0</td><td>1</td><td>0</td><td>0</td><td>0</td><td>0</td><td>1</td><td>0</td><td>0</td><td>0</td><td>0</td><td>0</td><td>0</td><td>1</td><td>0</td><td>1</td><td>0</td><td>0</td><td>0</td><td>0</td><td>0</td><td>0</td><td>0</td><td>0</td><td>0</td><td>0</td><td>0</td><td>0</td><td>0</td><td>1</td><td>0</td><td>0</td><td>0</td><td>0</td><td>0</td><td>0</td><td>0</td><td>0</td><td>0</td><td>0</td><td>0</td><td>0</td><td>0</td><td>missing</td><td>1</td><td>97</td><td>1</td></tr><tr><th>6</th><td>11</td><td>0</td><td>0</td><td>0</td><td>0</td><td>0</td><td>1</td><td>0</td><td>0</td><td>0</td><td>0</td><td>0</td><td>0</td><td>0</td><td>0</td><td>0</td><td>0</td><td>0</td><td>1</td><td>0</td><td>0</td><td>0</td><td>0</td><td>0</td><td>0</td><td>0</td><td>0</td><td>0</td><td>0</td><td>0</td><td>0</td><td>0</td><td>0</td><td>0</td><td>0</td><td>0</td><td>0</td><td>0</td><td>0</td><td>0</td><td>0</td><td>0</td><td>0</td><td>0</td><td>0</td><td>0</td><td>0</td><td>1</td><td>0</td><td>0</td><td>0</td><td>0</td><td>0</td><td>0</td><td>0</td><td>0</td><td>0</td><td>0</td><td>0</td><td>0</td><td>0</td><td>0</td><td>1</td><td>0</td><td>0</td><td>0</td><td>0</td><td>0</td><td>0</td><td>0</td><td>0</td><td>0</td><td>0</td><td>missing</td><td>1</td><td>111</td><td>1</td></tr><tr><th>7</th><td>13</td><td>0</td><td>0</td><td>1</td><td>0</td><td>0</td><td>0</td><td>1</td><td>0</td><td>0</td><td>0</td><td>0</td><td>0</td><td>0</td><td>0</td><td>0</td><td>1</td><td>0</td><td>0</td><td>0</td><td>0</td><td>0</td><td>0</td><td>0</td><td>0</td><td>0</td><td>0</td><td>0</td><td>0</td><td>0</td><td>0</td><td>0</td><td>0</td><td>0</td><td>0</td><td>0</td><td>0</td><td>0</td><td>0</td><td>0</td><td>0</td><td>0</td><td>0</td><td>0</td><td>0</td><td>0</td><td>0</td><td>0</td><td>0</td><td>1</td><td>0</td><td>0</td><td>0</td><td>0</td><td>0</td><td>0</td><td>0</td><td>0</td><td>0</td><td>0</td><td>0</td><td>0</td><td>0</td><td>0</td><td>0</td><td>0</td><td>1</td><td>0</td><td>0</td><td>0</td><td>0</td><td>0</td><td>0</td><td>missing</td><td>1</td><td>137</td><td>1</td></tr><tr><th>8</th><td>15</td><td>0</td><td>0</td><td>0</td><td>0</td><td>1</td><td>0</td><td>0</td><td>1</td><td>0</td><td>0</td><td>0</td><td>0</td><td>0</td><td>0</td><td>0</td><td>0</td><td>0</td><td>0</td><td>0</td><td>1</td><td>0</td><td>0</td><td>0</td><td>0</td><td>0</td><td>0</td><td>0</td><td>0</td><td>0</td><td>0</td><td>0</td><td>0</td><td>0</td><td>0</td><td>0</td><td>1</td><td>0</td><td>0</td><td>0</td><td>0</td><td>0</td><td>0</td><td>0</td><td>0</td><td>1</td><td>0</td><td>0</td><td>0</td><td>0</td><td>0</td><td>0</td><td>0</td><td>0</td><td>0</td><td>0</td><td>0</td><td>0</td><td>0</td><td>0</td><td>1</td><td>0</td><td>0</td><td>0</td><td>0</td><td>0</td><td>0</td><td>0</td><td>0</td><td>0</td><td>0</td><td>1</td><td>0</td><td>missing</td><td>1</td><td>141</td><td>1</td></tr><tr><th>9</th><td>17</td><td>0</td><td>0</td><td>1</td><td>0</td><td>0</td><td>0</td><td>0</td><td>0</td><td>1</td><td>1</td><td>0</td><td>0</td><td>0</td><td>0</td><td>0</td><td>0</td><td>1</td><td>1</td><td>0</td><td>0</td><td>0</td><td>0</td><td>0</td><td>0</td><td>0</td><td>0</td><td>0</td><td>0</td><td>0</td><td>0</td><td>0</td><td>0</td><td>0</td><td>0</td><td>0</td><td>0</td><td>0</td><td>0</td><td>0</td><td>0</td><td>0</td><td>0</td><td>0</td><td>0</td><td>0</td><td>0</td><td>0</td><td>0</td><td>0</td><td>0</td><td>0</td><td>0</td><td>0</td><td>0</td><td>1</td><td>0</td><td>0</td><td>0</td><td>0</td><td>0</td><td>1</td><td>0</td><td>0</td><td>0</td><td>0</td><td>0</td><td>0</td><td>0</td><td>0</td><td>0</td><td>0</td><td>0</td><td>missing</td><td>3</td><td>3</td><td>1</td></tr><tr><th>10</th><td>19</td><td>0</td><td>0</td><td>0</td><td>0</td><td>0</td><td>0</td><td>0</td><td>0</td><td>1</td><td>1</td><td>0</td><td>0</td><td>0</td><td>0</td><td>0</td><td>0</td><td>0</td><td>1</td><td>0</td><td>0</td><td>0</td><td>0</td><td>0</td><td>0</td><td>0</td><td>0</td><td>1</td><td>0</td><td>0</td><td>0</td><td>0</td><td>0</td><td>0</td><td>0</td><td>0</td><td>0</td><td>1</td><td>0</td><td>0</td><td>0</td><td>0</td><td>0</td><td>0</td><td>0</td><td>0</td><td>0</td><td>0</td><td>0</td><td>0</td><td>0</td><td>0</td><td>0</td><td>0</td><td>0</td><td>0</td><td>0</td><td>0</td><td>0</td><td>0</td><td>0</td><td>1</td><td>0</td><td>0</td><td>0</td><td>0</td><td>0</td><td>0</td><td>0</td><td>0</td><td>0</td><td>0</td><td>1</td><td>missing</td><td>3</td><td>7</td><td>1</td></tr><tr><th>11</th><td>21</td><td>1</td><td>0</td><td>0</td><td>0</td><td>0</td><td>0</td><td>0</td><td>0</td><td>0</td><td>0</td><td>1</td><td>0</td><td>1</td><td>1</td><td>0</td><td>0</td><td>0</td><td>0</td><td>0</td><td>0</td><td>0</td><td>0</td><td>0</td><td>1</td><td>0</td><td>0</td><td>0</td><td>0</td><td>1</td><td>0</td><td>0</td><td>0</td><td>0</td><td>0</td><td>0</td><td>0</td><td>0</td><td>0</td><td>1</td><td>0</td><td>0</td><td>0</td><td>0</td><td>0</td><td>0</td><td>0</td><td>0</td><td>0</td><td>0</td><td>0</td><td>0</td><td>0</td><td>0</td><td>0</td><td>0</td><td>0</td><td>1</td><td>0</td><td>0</td><td>0</td><td>0</td><td>0</td><td>0</td><td>0</td><td>0</td><td>0</td><td>0</td><td>0</td><td>0</td><td>0</td><td>0</td><td>0</td><td>missing</td><td>3</td><td>51</td><td>1</td></tr><tr><th>12</th><td>23</td><td>0</td><td>0</td><td>0</td><td>0</td><td>0</td><td>0</td><td>0</td><td>0</td><td>0</td><td>0</td><td>0</td><td>1</td><td>0</td><td>0</td><td>0</td><td>0</td><td>0</td><td>0</td><td>0</td><td>0</td><td>0</td><td>1</td><td>0</td><td>0</td><td>0</td><td>0</td><td>0</td><td>0</td><td>0</td><td>0</td><td>0</td><td>0</td><td>0</td><td>0</td><td>0</td><td>0</td><td>0</td><td>0</td><td>0</td><td>0</td><td>0</td><td>0</td><td>0</td><td>0</td><td>0</td><td>0</td><td>0</td><td>0</td><td>0</td><td>0</td><td>0</td><td>0</td><td>1</td><td>0</td><td>0</td><td>0</td><td>0</td><td>0</td><td>0</td><td>0</td><td>0</td><td>0</td><td>1</td><td>0</td><td>0</td><td>0</td><td>0</td><td>0</td><td>0</td><td>0</td><td>0</td><td>0</td><td>missing</td><td>3</td><td>99</td><td>1</td></tr><tr><th>13</th><td>25</td><td>0</td><td>0</td><td>0</td><td>0</td><td>0</td><td>0</td><td>0</td><td>0</td><td>0</td><td>0</td><td>1</td><td>0</td><td>1</td><td>1</td><td>0</td><td>0</td><td>0</td><td>0</td><td>0</td><td>0</td><td>0</td><td>0</td><td>1</td><td>0</td><td>1</td><td>0</td><td>0</td><td>1</td><td>0</td><td>0</td><td>0</td><td>0</td><td>0</td><td>0</td><td>0</td><td>0</td><td>0</td><td>0</td><td>0</td><td>0</td><td>0</td><td>0</td><td>0</td><td>0</td><td>0</td><td>0</td><td>0</td><td>0</td><td>0</td><td>0</td><td>0</td><td>0</td><td>0</td><td>1</td><td>0</td><td>0</td><td>1</td><td>0</td><td>0</td><td>0</td><td>0</td><td>0</td><td>0</td><td>0</td><td>0</td><td>0</td><td>0</td><td>0</td><td>0</td><td>0</td><td>0</td><td>0</td><td>missing</td><td>3</td><td>113</td><td>1</td></tr><tr><th>14</th><td>27</td><td>0</td><td>0</td><td>0</td><td>0</td><td>0</td><td>0</td><td>0</td><td>0</td><td>0</td><td>0</td><td>1</td><td>0</td><td>1</td><td>1</td><td>0</td><td>0</td><td>0</td><td>0</td><td>0</td><td>1</td><td>0</td><td>0</td><td>0</td><td>1</td><td>0</td><td>0</td><td>0</td><td>1</td><td>0</td><td>0</td><td>0</td><td>0</td><td>0</td><td>0</td><td>0</td><td>0</td><td>0</td><td>0</td><td>0</td><td>0</td><td>0</td><td>0</td><td>0</td><td>0</td><td>0</td><td>0</td><td>0</td><td>0</td><td>0</td><td>0</td><td>0</td><td>0</td><td>0</td><td>0</td><td>0</td><td>0</td><td>0</td><td>0</td><td>0</td><td>0</td><td>0</td><td>0</td><td>0</td><td>0</td><td>0</td><td>0</td><td>1</td><td>1</td><td>0</td><td>0</td><td>0</td><td>0</td><td>missing</td><td>5</td><td>5</td><td>1</td></tr><tr><th>15</th><td>29</td><td>0</td><td>0</td><td>0</td><td>0</td><td>1</td><td>0</td><td>0</td><td>0</td><td>0</td><td>0</td><td>0</td><td>0</td><td>0</td><td>0</td><td>1</td><td>0</td><td>0</td><td>0</td><td>0</td><td>0</td><td>0</td><td>0</td><td>0</td><td>0</td><td>0</td><td>0</td><td>0</td><td>0</td><td>0</td><td>0</td><td>1</td><td>0</td><td>0</td><td>0</td><td>0</td><td>0</td><td>0</td><td>1</td><td>0</td><td>0</td><td>0</td><td>0</td><td>1</td><td>0</td><td>0</td><td>0</td><td>0</td><td>0</td><td>0</td><td>0</td><td>0</td><td>0</td><td>0</td><td>0</td><td>0</td><td>0</td><td>0</td><td>0</td><td>0</td><td>0</td><td>0</td><td>0</td><td>0</td><td>0</td><td>0</td><td>0</td><td>0</td><td>0</td><td>0</td><td>0</td><td>0</td><td>0</td><td>missing</td><td>5</td><td>13</td><td>1</td></tr><tr><th>16</th><td>31</td><td>0</td><td>0</td><td>0</td><td>1</td><td>0</td><td>0</td><td>1</td><td>0</td><td>0</td><td>0</td><td>0</td><td>0</td><td>0</td><td>0</td><td>0</td><td>1</td><td>0</td><td>0</td><td>0</td><td>0</td><td>0</td><td>0</td><td>0</td><td>0</td><td>0</td><td>0</td><td>0</td><td>0</td><td>0</td><td>0</td><td>0</td><td>0</td><td>0</td><td>0</td><td>0</td><td>0</td><td>0</td><td>0</td><td>0</td><td>0</td><td>0</td><td>0</td><td>0</td><td>0</td><td>0</td><td>0</td><td>0</td><td>0</td><td>0</td><td>0</td><td>0</td><td>0</td><td>0</td><td>0</td><td>0</td><td>0</td><td>0</td><td>1</td><td>0</td><td>0</td><td>0</td><td>0</td><td>0</td><td>0</td><td>0</td><td>1</td><td>0</td><td>0</td><td>0</td><td>0</td><td>0</td><td>0</td><td>missing</td><td>5</td><td>17</td><td>1</td></tr><tr><th>17</th><td>33</td><td>0</td><td>0</td><td>1</td><td>0</td><td>0</td><td>0</td><td>0</td><td>0</td><td>1</td><td>0</td><td>0</td><td>0</td><td>0</td><td>0</td><td>0</td><td>0</td><td>1</td><td>1</td><td>0</td><td>0</td><td>0</td><td>0</td><td>0</td><td>0</td><td>0</td><td>0</td><td>0</td><td>0</td><td>0</td><td>0</td><td>0</td><td>0</td><td>0</td><td>0</td><td>0</td><td>0</td><td>0</td><td>0</td><td>0</td><td>0</td><td>0</td><td>0</td><td>0</td><td>0</td><td>0</td><td>0</td><td>1</td><td>1</td><td>1</td><td>0</td><td>0</td><td>0</td><td>0</td><td>0</td><td>0</td><td>1</td><td>0</td><td>0</td><td>0</td><td>0</td><td>0</td><td>0</td><td>0</td><td>0</td><td>0</td><td>0</td><td>0</td><td>0</td><td>0</td><td>0</td><td>0</td><td>0</td><td>missing</td><td>5</td><td>33</td><td>1</td></tr><tr><th>18</th><td>35</td><td>0</td><td>0</td><td>0</td><td>0</td><td>0</td><td>1</td><td>0</td><td>0</td><td>1</td><td>1</td><td>0</td><td>0</td><td>0</td><td>0</td><td>0</td><td>0</td><td>1</td><td>1</td><td>0</td><td>0</td><td>0</td><td>0</td><td>0</td><td>0</td><td>0</td><td>0</td><td>1</td><td>0</td><td>0</td><td>0</td><td>0</td><td>0</td><td>0</td><td>0</td><td>0</td><td>0</td><td>0</td><td>0</td><td>0</td><td>0</td><td>0</td><td>0</td><td>0</td><td>0</td><td>0</td><td>0</td><td>1</td><td>0</td><td>0</td><td>0</td><td>0</td><td>0</td><td>0</td><td>0</td><td>0</td><td>0</td><td>0</td><td>0</td><td>0</td><td>0</td><td>0</td><td>1</td><td>0</td><td>0</td><td>0</td><td>0</td><td>0</td><td>0</td><td>0</td><td>0</td><td>0</td><td>0</td><td>missing</td><td>5</td><td>95</td><td>1</td></tr><tr><th>19</th><td>37</td><td>0</td><td>0</td><td>0</td><td>0</td><td>0</td><td>0</td><td>0</td><td>0</td><td>0</td><td>0</td><td>0</td><td>0</td><td>0</td><td>0</td><td>0</td><td>0</td><td>0</td><td>0</td><td>1</td><td>0</td><td>1</td><td>0</td><td>0</td><td>0</td><td>0</td><td>0</td><td>0</td><td>0</td><td>0</td><td>0</td><td>0</td><td>0</td><td>0</td><td>0</td><td>0</td><td>0</td><td>0</td><td>1</td><td>0</td><td>0</td><td>0</td><td>0</td><td>0</td><td>0</td><td>0</td><td>0</td><td>0</td><td>0</td><td>0</td><td>0</td><td>0</td><td>0</td><td>0</td><td>0</td><td>0</td><td>0</td><td>0</td><td>0</td><td>0</td><td>0</td><td>0</td><td>0</td><td>0</td><td>0</td><td>0</td><td>0</td><td>0</td><td>0</td><td>0</td><td>0</td><td>0</td><td>0</td><td>missing</td><td>5</td><td>107</td><td>1</td></tr><tr><th>20</th><td>39</td><td>0</td><td>0</td><td>0</td><td>0</td><td>0</td><td>0</td><td>0</td><td>1</td><td>0</td><td>0</td><td>0</td><td>0</td><td>0</td><td>1</td><td>0</td><td>0</td><td>0</td><td>0</td><td>0</td><td>1</td><td>0</td><td>0</td><td>0</td><td>1</td><td>0</td><td>0</td><td>0</td><td>0</td><td>0</td><td>0</td><td>0</td><td>0</td><td>0</td><td>0</td><td>0</td><td>0</td><td>0</td><td>0</td><td>0</td><td>0</td><td>0</td><td>0</td><td>0</td><td>0</td><td>0</td><td>0</td><td>0</td><td>0</td><td>0</td><td>0</td><td>0</td><td>0</td><td>0</td><td>0</td><td>0</td><td>0</td><td>0</td><td>0</td><td>0</td><td>1</td><td>0</td><td>0</td><td>0</td><td>0</td><td>0</td><td>0</td><td>1</td><td>0</td><td>0</td><td>0</td><td>1</td><td>0</td><td>missing</td><td>5</td><td>109</td><td>1</td></tr><tr><th>21</th><td>41</td><td>0</td><td>0</td><td>0</td><td>0</td><td>0</td><td>0</td><td>0</td><td>0</td><td>0</td><td>0</td><td>0</td><td>0</td><td>0</td><td>0</td><td>0</td><td>0</td><td>0</td><td>0</td><td>1</td><td>0</td><td>1</td><td>0</td><td>0</td><td>0</td><td>0</td><td>0</td><td>0</td><td>0</td><td>0</td><td>0</td><td>0</td><td>0</td><td>0</td><td>1</td><td>0</td><td>0</td><td>0</td><td>1</td><td>0</td><td>0</td><td>0</td><td>0</td><td>1</td><td>1</td><td>0</td><td>0</td><td>0</td><td>0</td><td>0</td><td>0</td><td>0</td><td>0</td><td>0</td><td>0</td><td>0</td><td>0</td><td>0</td><td>0</td><td>0</td><td>0</td><td>0</td><td>0</td><td>0</td><td>1</td><td>0</td><td>0</td><td>0</td><td>0</td><td>0</td><td>0</td><td>0</td><td>0</td><td>missing</td><td>5</td><td>113</td><td>1</td></tr><tr><th>22</th><td>43</td><td>0</td><td>0</td><td>0</td><td>0</td><td>0</td><td>0</td><td>0</td><td>0</td><td>0</td><td>0</td><td>0</td><td>1</td><td>0</td><td>0</td><td>0</td><td>0</td><td>0</td><td>0</td><td>0</td><td>0</td><td>0</td><td>1</td><td>0</td><td>0</td><td>1</td><td>0</td><td>0</td><td>0</td><td>0</td><td>0</td><td>0</td><td>0</td><td>1</td><td>0</td><td>0</td><td>0</td><td>0</td><td>0</td><td>0</td><td>0</td><td>0</td><td>0</td><td>0</td><td>0</td><td>0</td><td>0</td><td>0</td><td>0</td><td>0</td><td>0</td><td>0</td><td>0</td><td>1</td><td>0</td><td>0</td><td>0</td><td>0</td><td>0</td><td>0</td><td>0</td><td>0</td><td>0</td><td>0</td><td>0</td><td>0</td><td>0</td><td>0</td><td>0</td><td>0</td><td>0</td><td>0</td><td>0</td><td>missing</td><td>5</td><td>129</td><td>1</td></tr><tr><th>23</th><td>45</td><td>0</td><td>0</td><td>0</td><td>0</td><td>0</td><td>0</td><td>0</td><td>0</td><td>0</td><td>0</td><td>0</td><td>0</td><td>1</td><td>0</td><td>0</td><td>0</td><td>0</td><td>0</td><td>0</td><td>0</td><td>0</td><td>0</td><td>1</td><td>0</td><td>1</td><td>0</td><td>0</td><td>0</td><td>0</td><td>0</td><td>0</td><td>0</td><td>1</td><td>0</td><td>0</td><td>0</td><td>0</td><td>0</td><td>0</td><td>0</td><td>0</td><td>0</td><td>0</td><td>0</td><td>0</td><td>0</td><td>0</td><td>0</td><td>0</td><td>0</td><td>0</td><td>0</td><td>0</td><td>1</td><td>0</td><td>0</td><td>0</td><td>0</td><td>0</td><td>0</td><td>0</td><td>0</td><td>0</td><td>0</td><td>0</td><td>0</td><td>0</td><td>0</td><td>0</td><td>0</td><td>0</td><td>0</td><td>missing</td><td>7</td><td>3</td><td>1</td></tr><tr><th>24</th><td>47</td><td>0</td><td>0</td><td>0</td><td>0</td><td>0</td><td>0</td><td>0</td><td>0</td><td>0</td><td>0</td><td>1</td><td>0</td><td>0</td><td>1</td><td>0</td><td>0</td><td>0</td><td>0</td><td>0</td><td>1</td><td>0</td><td>0</td><td>0</td><td>1</td><td>0</td><td>0</td><td>0</td><td>0</td><td>0</td><td>0</td><td>0</td><td>0</td><td>0</td><td>0</td><td>0</td><td>0</td><td>0</td><td>0</td><td>1</td><td>0</td><td>0</td><td>0</td><td>0</td><td>0</td><td>0</td><td>0</td><td>0</td><td>0</td><td>0</td><td>0</td><td>0</td><td>0</td><td>0</td><td>0</td><td>0</td><td>0</td><td>0</td><td>0</td><td>0</td><td>0</td><td>0</td><td>0</td><td>0</td><td>0</td><td>0</td><td>0</td><td>0</td><td>0</td><td>0</td><td>1</td><td>1</td><td>0</td><td>missing</td><td>7</td><td>7</td><td>1</td></tr><tr><th>25</th><td>49</td><td>0</td><td>0</td><td>0</td><td>0</td><td>0</td><td>0</td><td>0</td><td>0</td><td>0</td><td>0</td><td>0</td><td>0</td><td>1</td><td>0</td><td>0</td><td>0</td><td>0</td><td>0</td><td>0</td><td>0</td><td>0</td><td>1</td><td>1</td><td>0</td><td>1</td><td>0</td><td>0</td><td>0</td><td>0</td><td>0</td><td>0</td><td>0</td><td>1</td><td>0</td><td>0</td><td>0</td><td>0</td><td>0</td><td>0</td><td>0</td><td>0</td><td>0</td><td>0</td><td>0</td><td>0</td><td>0</td><td>0</td><td>0</td><td>0</td><td>0</td><td>0</td><td>0</td><td>1</td><td>0</td><td>0</td><td>0</td><td>1</td><td>0</td><td>0</td><td>0</td><td>0</td><td>0</td><td>0</td><td>0</td><td>0</td><td>0</td><td>0</td><td>0</td><td>0</td><td>0</td><td>0</td><td>0</td><td>missing</td><td>7</td><td>31</td><td>1</td></tr><tr><th>26</th><td>51</td><td>0</td><td>1</td><td>0</td><td>0</td><td>0</td><td>0</td><td>0</td><td>0</td><td>0</td><td>0</td><td>0</td><td>0</td><td>0</td><td>0</td><td>0</td><td>0</td><td>0</td><td>0</td><td>0</td><td>0</td><td>0</td><td>0</td><td>0</td><td>0</td><td>0</td><td>1</td><td>0</td><td>0</td><td>0</td><td>0</td><td>0</td><td>0</td><td>0</td><td>0</td><td>0</td><td>0</td><td>0</td><td>0</td><td>0</td><td>0</td><td>0</td><td>0</td><td>0</td><td>0</td><td>0</td><td>0</td><td>0</td><td>0</td><td>0</td><td>0</td><td>1</td><td>0</td><td>0</td><td>0</td><td>0</td><td>0</td><td>0</td><td>0</td><td>0</td><td>0</td><td>0</td><td>0</td><td>0</td><td>1</td><td>0</td><td>0</td><td>0</td><td>0</td><td>0</td><td>0</td><td>0</td><td>0</td><td>missing</td><td>7</td><td>113</td><td>1</td></tr><tr><th>27</th><td>53</td><td>0</td><td>0</td><td>0</td><td>0</td><td>0</td><td>0</td><td>0</td><td>0</td><td>0</td><td>1</td><td>0</td><td>0</td><td>0</td><td>0</td><td>0</td><td>0</td><td>0</td><td>1</td><td>0</td><td>0</td><td>0</td><td>0</td><td>0</td><td>0</td><td>0</td><td>0</td><td>1</td><td>0</td><td>1</td><td>0</td><td>0</td><td>1</td><td>0</td><td>0</td><td>0</td><td>0</td><td>0</td><td>0</td><td>0</td><td>0</td><td>0</td><td>1</td><td>0</td><td>0</td><td>0</td><td>0</td><td>0</td><td>0</td><td>0</td><td>0</td><td>0</td><td>0</td><td>0</td><td>0</td><td>0</td><td>0</td><td>0</td><td>0</td><td>0</td><td>0</td><td>0</td><td>1</td><td>0</td><td>0</td><td>0</td><td>0</td><td>0</td><td>0</td><td>0</td><td>0</td><td>0</td><td>1</td><td>missing</td><td>7</td><td>129</td><td>1</td></tr><tr><th>28</th><td>55</td><td>0</td><td>0</td><td>0</td><td>0</td><td>0</td><td>0</td><td>0</td><td>0</td><td>0</td><td>0</td><td>0</td><td>0</td><td>1</td><td>1</td><td>0</td><td>0</td><td>0</td><td>0</td><td>0</td><td>0</td><td>0</td><td>0</td><td>0</td><td>0</td><td>0</td><td>0</td><td>0</td><td>1</td><td>0</td><td>0</td><td>0</td><td>0</td><td>0</td><td>0</td><td>0</td><td>0</td><td>0</td><td>0</td><td>0</td><td>0</td><td>0</td><td>0</td><td>0</td><td>0</td><td>0</td><td>0</td><td>0</td><td>0</td><td>0</td><td>0</td><td>0</td><td>0</td><td>0</td><td>1</td><td>0</td><td>0</td><td>0</td><td>0</td><td>0</td><td>0</td><td>0</td><td>0</td><td>0</td><td>0</td><td>1</td><td>0</td><td>0</td><td>1</td><td>0</td><td>0</td><td>0</td><td>0</td><td>missing</td><td>9</td><td>9</td><td>1</td></tr><tr><th>29</th><td>57</td><td>1</td><td>0</td><td>0</td><td>0</td><td>0</td><td>0</td><td>0</td><td>0</td><td>0</td><td>0</td><td>1</td><td>0</td><td>0</td><td>0</td><td>0</td><td>0</td><td>0</td><td>0</td><td>0</td><td>0</td><td>0</td><td>0</td><td>0</td><td>0</td><td>0</td><td>0</td><td>1</td><td>0</td><td>1</td><td>0</td><td>0</td><td>0</td><td>0</td><td>0</td><td>0</td><td>0</td><td>0</td><td>0</td><td>0</td><td>0</td><td>0</td><td>1</td><td>0</td><td>0</td><td>0</td><td>0</td><td>0</td><td>0</td><td>0</td><td>0</td><td>0</td><td>0</td><td>0</td><td>0</td><td>0</td><td>0</td><td>1</td><td>0</td><td>0</td><td>0</td><td>0</td><td>0</td><td>1</td><td>0</td><td>0</td><td>0</td><td>0</td><td>0</td><td>0</td><td>0</td><td>0</td><td>1</td><td>missing</td><td>9</td><td>15</td><td>1</td></tr><tr><th>30</th><td>59</td><td>0</td><td>0</td><td>0</td><td>0</td><td>0</td><td>0</td><td>0</td><td>0</td><td>0</td><td>0</td><td>0</td><td>0</td><td>0</td><td>0</td><td>0</td><td>0</td><td>0</td><td>0</td><td>0</td><td>0</td><td>0</td><td>0</td><td>0</td><td>0</td><td>0</td><td>0</td><td>0</td><td>0</td><td>0</td><td>1</td><td>0</td><td>0</td><td>0</td><td>0</td><td>0</td><td>0</td><td>0</td><td>0</td><td>0</td><td>0</td><td>0</td><td>0</td><td>0</td><td>0</td><td>0</td><td>0</td><td>0</td><td>0</td><td>0</td><td>0</td><td>0</td><td>1</td><td>0</td><td>0</td><td>0</td><td>0</td><td>0</td><td>0</td><td>0</td><td>0</td><td>0</td><td>0</td><td>0</td><td>0</td><td>1</td><td>0</td><td>0</td><td>0</td><td>0</td><td>0</td><td>0</td><td>0</td><td>missing</td><td>9</td><td>29</td><td>1</td></tr><tr><th>&vellip;</th><td>&vellip;</td><td>&vellip;</td><td>&vellip;</td><td>&vellip;</td><td>&vellip;</td><td>&vellip;</td><td>&vellip;</td><td>&vellip;</td><td>&vellip;</td><td>&vellip;</td><td>&vellip;</td><td>&vellip;</td><td>&vellip;</td><td>&vellip;</td><td>&vellip;</td><td>&vellip;</td><td>&vellip;</td><td>&vellip;</td><td>&vellip;</td><td>&vellip;</td><td>&vellip;</td><td>&vellip;</td><td>&vellip;</td><td>&vellip;</td><td>&vellip;</td><td>&vellip;</td><td>&vellip;</td><td>&vellip;</td><td>&vellip;</td><td>&vellip;</td><td>&vellip;</td><td>&vellip;</td><td>&vellip;</td><td>&vellip;</td><td>&vellip;</td><td>&vellip;</td><td>&vellip;</td><td>&vellip;</td><td>&vellip;</td><td>&vellip;</td><td>&vellip;</td><td>&vellip;</td><td>&vellip;</td><td>&vellip;</td><td>&vellip;</td><td>&vellip;</td><td>&vellip;</td><td>&vellip;</td><td>&vellip;</td><td>&vellip;</td><td>&vellip;</td><td>&vellip;</td><td>&vellip;</td><td>&vellip;</td><td>&vellip;</td><td>&vellip;</td><td>&vellip;</td><td>&vellip;</td><td>&vellip;</td><td>&vellip;</td><td>&vellip;</td><td>&vellip;</td><td>&vellip;</td><td>&vellip;</td><td>&vellip;</td><td>&vellip;</td><td>&vellip;</td><td>&vellip;</td><td>&vellip;</td><td>&vellip;</td><td>&vellip;</td><td>&vellip;</td><td>&vellip;</td><td>&vellip;</td><td>&vellip;</td><td>&vellip;</td><td>&vellip;</td></tr></tbody></table>"
      ],
      "text/plain": [
       "72×77 DataFrames.DataFrame. Omitted printing of 63 columns\n",
       "│ Row │ County │ 1 │ 3 │ 5 │ 7 │ 9 │ 11 │ 13 │ 15 │ 17 │ 19 │ 21 │ 23 │ 25 │\n",
       "├─────┼────────┼───┼───┼───┼───┼───┼────┼────┼────┼────┼────┼────┼────┼────┤\n",
       "│ 1   │ 1      │ 1 │ 0 │ 0 │ 0 │ 0 │ 0  │ 0  │ 0  │ 0  │ 0  │ 1  │ 0  │ 0  │\n",
       "│ 2   │ 3      │ 0 │ 1 │ 0 │ 1 │ 0 │ 0  │ 0  │ 0  │ 0  │ 0  │ 0  │ 0  │ 0  │\n",
       "│ 3   │ 5      │ 0 │ 0 │ 1 │ 0 │ 0 │ 0  │ 1  │ 0  │ 1  │ 0  │ 0  │ 0  │ 0  │\n",
       "│ 4   │ 7      │ 0 │ 1 │ 0 │ 1 │ 0 │ 0  │ 0  │ 0  │ 0  │ 0  │ 0  │ 0  │ 0  │\n",
       "│ 5   │ 9      │ 0 │ 0 │ 0 │ 0 │ 1 │ 0  │ 0  │ 1  │ 0  │ 0  │ 0  │ 0  │ 0  │\n",
       "│ 6   │ 11     │ 0 │ 0 │ 0 │ 0 │ 0 │ 1  │ 0  │ 0  │ 0  │ 0  │ 0  │ 0  │ 0  │\n",
       "│ 7   │ 13     │ 0 │ 0 │ 1 │ 0 │ 0 │ 0  │ 1  │ 0  │ 0  │ 0  │ 0  │ 0  │ 0  │\n",
       "│ 8   │ 15     │ 0 │ 0 │ 0 │ 0 │ 1 │ 0  │ 0  │ 1  │ 0  │ 0  │ 0  │ 0  │ 0  │\n",
       "│ 9   │ 17     │ 0 │ 0 │ 1 │ 0 │ 0 │ 0  │ 0  │ 0  │ 1  │ 1  │ 0  │ 0  │ 0  │\n",
       "│ 10  │ 19     │ 0 │ 0 │ 0 │ 0 │ 0 │ 0  │ 0  │ 0  │ 1  │ 1  │ 0  │ 0  │ 0  │\n",
       "│ 11  │ 21     │ 1 │ 0 │ 0 │ 0 │ 0 │ 0  │ 0  │ 0  │ 0  │ 0  │ 1  │ 0  │ 1  │\n",
       "⋮\n",
       "│ 61  │ 119    │ 0 │ 0 │ 0 │ 0 │ 0 │ 0  │ 0  │ 0  │ 1  │ 1  │ 0  │ 0  │ 0  │\n",
       "│ 62  │ 121    │ 0 │ 0 │ 0 │ 0 │ 0 │ 1  │ 0  │ 0  │ 0  │ 0  │ 0  │ 0  │ 0  │\n",
       "│ 63  │ 123    │ 0 │ 0 │ 0 │ 0 │ 0 │ 0  │ 0  │ 0  │ 0  │ 0  │ 0  │ 1  │ 0  │\n",
       "│ 64  │ 125    │ 0 │ 0 │ 0 │ 0 │ 0 │ 0  │ 0  │ 0  │ 0  │ 0  │ 0  │ 0  │ 0  │\n",
       "│ 65  │ 127    │ 0 │ 0 │ 0 │ 0 │ 0 │ 0  │ 0  │ 0  │ 0  │ 0  │ 0  │ 0  │ 0  │\n",
       "│ 66  │ 129    │ 0 │ 0 │ 1 │ 1 │ 0 │ 0  │ 1  │ 0  │ 0  │ 0  │ 0  │ 0  │ 0  │\n",
       "│ 67  │ 131    │ 0 │ 0 │ 0 │ 0 │ 0 │ 0  │ 0  │ 0  │ 0  │ 0  │ 0  │ 0  │ 0  │\n",
       "│ 68  │ 133    │ 0 │ 0 │ 0 │ 0 │ 0 │ 0  │ 0  │ 0  │ 0  │ 0  │ 0  │ 0  │ 0  │\n",
       "│ 69  │ 135    │ 0 │ 0 │ 0 │ 0 │ 0 │ 0  │ 0  │ 0  │ 0  │ 0  │ 0  │ 0  │ 0  │\n",
       "│ 70  │ 137    │ 1 │ 0 │ 0 │ 0 │ 0 │ 0  │ 0  │ 0  │ 0  │ 0  │ 0  │ 0  │ 0  │\n",
       "│ 71  │ 139    │ 0 │ 0 │ 0 │ 0 │ 0 │ 0  │ 0  │ 1  │ 0  │ 0  │ 0  │ 0  │ 0  │\n",
       "│ 72  │ 141    │ 1 │ 0 │ 0 │ 0 │ 0 │ 0  │ 0  │ 0  │ 0  │ 1  │ 0  │ 0  │ 0  │"
      ]
     },
     "execution_count": 5,
     "metadata": {},
     "output_type": "execute_result"
    }
   ],
   "source": [
    "# Load data\n",
    "using CSV\n",
    "WI_votes = CSV.read(\"data/Gerrymander County_election_data.csv\")\n",
    "WI_contiguity = CSV.read(\"data/Gerrymander County_contiguity.csv\", rows = 73)\n"
   ]
  },
  {
   "cell_type": "code",
   "execution_count": 6,
   "metadata": {
    "collapsed": false
   },
   "outputs": [
    {
     "data": {
      "text/plain": [
       "72×72 Array{Int64,2}:\n",
       " 1  0  0  0  0  0  0  0  0  0  1  0  0  …  0  0  0  0  0  0  0  0  0  1  0  1\n",
       " 0  1  0  1  0  0  0  0  0  0  0  0  0     0  0  0  0  0  0  0  0  0  0  0  0\n",
       " 0  0  1  0  0  0  1  0  1  0  0  0  0     0  0  0  0  0  1  0  0  0  0  0  0\n",
       " 0  1  0  1  0  0  0  0  0  0  0  0  0     0  0  0  0  0  1  0  0  0  0  0  0\n",
       " 0  0  0  0  1  0  0  1  0  0  0  0  0     0  0  0  0  0  0  0  0  0  0  0  0\n",
       " 0  0  0  0  0  1  0  0  0  0  0  0  0  …  0  1  0  0  0  0  0  0  0  0  0  0\n",
       " 0  0  1  0  0  0  1  0  0  0  0  0  0     0  0  0  0  0  1  0  0  0  0  0  0\n",
       " 0  0  0  0  1  0  0  1  0  0  0  0  0     0  0  0  0  0  0  0  0  0  0  1  0\n",
       " 0  0  1  0  0  0  0  0  1  1  0  0  0     1  0  0  0  0  0  0  0  0  0  0  0\n",
       " 0  0  0  0  0  0  0  0  1  1  0  0  0     1  0  0  0  0  0  0  0  0  0  0  1\n",
       " 1  0  0  0  0  0  0  0  0  0  1  0  1  …  0  0  0  0  0  0  0  0  0  0  0  0\n",
       " 0  0  0  0  0  0  0  0  0  0  0  1  0     0  0  1  0  0  0  0  0  0  0  0  0\n",
       " 0  0  0  0  0  0  0  0  0  0  1  0  1     0  0  0  0  0  0  0  0  0  0  0  0\n",
       " ⋮              ⋮              ⋮        ⋱  ⋮              ⋮              ⋮   \n",
       " 0  0  0  0  0  0  0  0  1  1  0  0  0  …  1  0  0  0  0  0  0  0  0  0  0  0\n",
       " 0  0  0  0  0  1  0  0  0  0  0  0  0     0  1  0  0  0  0  0  0  0  0  0  0\n",
       " 0  0  0  0  0  0  0  0  0  0  0  1  0     0  0  1  0  0  0  0  0  0  0  0  0\n",
       " 0  0  0  0  0  0  0  0  0  0  0  0  0     0  0  0  1  0  0  0  0  0  0  0  0\n",
       " 0  0  0  0  0  0  0  0  0  0  0  0  0     0  0  0  0  1  0  0  1  0  0  0  0\n",
       " 0  0  1  1  0  0  1  0  0  0  0  0  0  …  0  0  0  0  0  1  0  0  0  0  0  0\n",
       " 0  0  0  0  0  0  0  0  0  0  0  0  0     0  0  0  0  0  0  1  1  0  0  0  0\n",
       " 0  0  0  0  0  0  0  0  0  0  0  0  0     0  0  0  0  1  0  1  1  0  0  0  0\n",
       " 0  0  0  0  0  0  0  0  0  0  0  0  0     0  0  0  0  0  0  0  0  1  1  1  0\n",
       " 1  0  0  0  0  0  0  0  0  0  0  0  0     0  0  0  0  0  0  0  0  1  1  1  0\n",
       " 0  0  0  0  0  0  0  1  0  0  0  0  0  …  0  0  0  0  0  0  0  0  1  1  1  0\n",
       " 1  0  0  0  0  0  0  0  0  1  0  0  0     0  0  0  0  0  0  0  0  0  0  0  1"
      ]
     },
     "execution_count": 6,
     "metadata": {},
     "output_type": "execute_result"
    }
   ],
   "source": [
    "WI_V = convert(Array, WI_votes[:,3:4])\n",
    "WI_C = convert(Array, WI_contiguity[:,2:73])"
   ]
  },
  {
   "cell_type": "code",
   "execution_count": 7,
   "metadata": {
    "collapsed": false
   },
   "outputs": [
    {
     "data": {
      "text/plain": [
       "true"
      ]
     },
     "execution_count": 7,
     "metadata": {},
     "output_type": "execute_result"
    }
   ],
   "source": [
    "# check that the contiguity matrix is symmetric\n",
    "all(WI_C == WI_C')"
   ]
  },
  {
   "cell_type": "code",
   "execution_count": 16,
   "metadata": {
    "collapsed": false,
    "scrolled": true
   },
   "outputs": [
    {
     "name": "stdout",
     "output_type": "stream",
     "text": [
      "145.359214 seconds (85 allocations: 1.134 MiB)\n"
     ]
    },
    {
     "data": {
      "text/plain": [
       "Dict{String,Any} with 10 entries:\n",
       "  \"Efficiency Gap\"           => -6.71231e-9\n",
       "  \"Solve Status\"             => :Optimal\n",
       "  \"Wasted Over Votes\"        => [27523.5 0.0; 1.81143e5 0.0; 0.0 1257.0]\n",
       "  \"Wasted Under Votes\"       => [0.0 338090.0; 0.0 395554.0; 526235.0 0.0]\n",
       "  \"Model\"                    => Minimization problem with:…\n",
       "  \"Total Wasted Votes [D R]\" => [734901.0 734901.0]\n",
       "  \"Votes By District\"        => [393137.0 338090.0; 757839.0 395554.0; 526235.0…\n",
       "  \"Fixed Common Size\"        => 979868.0\n",
       "  \"Common Size\"              => 0.0\n",
       "  \"District Assignments\"     => [1.0 0.0 0.0; 0.0 1.0 0.0; … ; 0.0 0.0 1.0; 0.0…"
      ]
     },
     "execution_count": 16,
     "metadata": {},
     "output_type": "execute_result"
    }
   ],
   "source": [
    "res3 = degerry(WI_V,WI_C, 3, 0.5)"
   ]
  },
  {
   "cell_type": "code",
   "execution_count": 17,
   "metadata": {
    "collapsed": false
   },
   "outputs": [
    {
     "name": "stdout",
     "output_type": "stream",
     "text": [
      " 97.980101 seconds (86 allocations: 1.512 MiB)\n"
     ]
    },
    {
     "data": {
      "text/plain": [
       "Dict{String,Any} with 10 entries:\n",
       "  \"Efficiency Gap\"           => 2.91666e-9\n",
       "  \"Solve Status\"             => :Optimal\n",
       "  \"Wasted Over Votes\"        => [50617.5 0.0; 0.0 13342.5; 0.0 3576.5; 1.7371e5…\n",
       "  \"Wasted Under Votes\"       => [0.0 361387.0; 295394.0 0.0; 215179.0 0.0; 0.0 …\n",
       "  \"Model\"                    => Minimization problem with:…\n",
       "  \"Total Wasted Votes [D R]\" => [734901.0 734901.0]\n",
       "  \"Votes By District\"        => [462622.0 361387.0; 295394.0 322079.0; 215179.0…\n",
       "  \"Fixed Common Size\"        => 734901.0\n",
       "  \"Common Size\"              => 0.0\n",
       "  \"District Assignments\"     => [0.0 0.0 0.0 1.0; 0.0 0.0 0.0 1.0; … ; 1.0 0.0 …"
      ]
     },
     "execution_count": 17,
     "metadata": {},
     "output_type": "execute_result"
    }
   ],
   "source": [
    "res4 = degerry(WI_V,WI_C, 4, 0.5)"
   ]
  },
  {
   "cell_type": "code",
   "execution_count": 18,
   "metadata": {
    "collapsed": false
   },
   "outputs": [
    {
     "name": "stdout",
     "output_type": "stream",
     "text": [
      " 51.531381 seconds (86 allocations: 1.887 MiB)\n"
     ]
    },
    {
     "data": {
      "text/plain": [
       "Dict{String,Any} with 10 entries:\n",
       "  \"Efficiency Gap\"           => 6.50786e-9\n",
       "  \"Solve Status\"             => :Optimal\n",
       "  \"Wasted Over Votes\"        => [91284.0 0.0; 41265.5 0.0; … ; 98295.5 0.0; 0.0…\n",
       "  \"Wasted Under Votes\"       => [0.0 204255.0; 0.0 272468.0; … ; 0.0 234742.0; …\n",
       "  \"Model\"                    => Minimization problem with:…\n",
       "  \"Total Wasted Votes [D R]\" => [734901.0 734901.0]\n",
       "  \"Votes By District\"        => [386823.0 204255.0; 354999.0 272468.0; … ; 4313…\n",
       "  \"Fixed Common Size\"        => 5.87921e5\n",
       "  \"Common Size\"              => 0.0\n",
       "  \"District Assignments\"     => [0.0 1.0 … 0.0 0.0; 0.0 0.0 … 0.0 0.0; … ; 0.0 …"
      ]
     },
     "execution_count": 18,
     "metadata": {},
     "output_type": "execute_result"
    }
   ],
   "source": [
    "res5 = degerry(WI_V,WI_C, 5, 0.5)"
   ]
  },
  {
   "cell_type": "code",
   "execution_count": 19,
   "metadata": {
    "collapsed": false
   },
   "outputs": [
    {
     "name": "stdout",
     "output_type": "stream",
     "text": [
      "451.251259 seconds (89 allocations: 2.260 MiB)\n"
     ]
    },
    {
     "data": {
      "text/plain": [
       "Dict{String,Any} with 10 entries:\n",
       "  \"Efficiency Gap\"           => -1.46532e-8\n",
       "  \"Solve Status\"             => :Optimal\n",
       "  \"Wasted Over Votes\"        => [1.01165e5 0.0; 42568.0 0.0; … ; 0.0 387.0; 115…\n",
       "  \"Wasted Under Votes\"       => [0.0 266211.0; 0.0 181238.0; … ; 163738.0 0.0; …\n",
       "  \"Model\"                    => Minimization problem with:…\n",
       "  \"Total Wasted Votes [D R]\" => [734901.0 734901.0]\n",
       "  \"Votes By District\"        => [468540.0 266211.0; 266374.0 181238.0; … ; 1637…\n",
       "  \"Fixed Common Size\"        => 489934.0\n",
       "  \"Common Size\"              => 0.0\n",
       "  \"District Assignments\"     => [0.0 0.0 … 1.0 0.0; 1.0 0.0 … 0.0 0.0; … ; 0.0 …"
      ]
     },
     "execution_count": 19,
     "metadata": {},
     "output_type": "execute_result"
    }
   ],
   "source": [
    "res6 = degerry(WI_V,WI_C, 6, 0.5)"
   ]
  }
 ],
 "metadata": {
  "kernelspec": {
   "display_name": "Julia 0.6.0",
   "language": "julia",
   "name": "julia-0.6"
  },
  "language_info": {
   "file_extension": ".jl",
   "mimetype": "application/julia",
   "name": "julia",
   "version": "0.6.0"
  }
 },
 "nbformat": 4,
 "nbformat_minor": 1
}
