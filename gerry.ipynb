{
 "cells": [
  {
   "cell_type": "markdown",
   "metadata": {},
   "source": [
    "# Gerrymandering and the Redistricting Problem\n",
    "\n",
    "## Assumptions\n",
    "\n",
    "We assume a 2-party system with the parties represented as \"D\" and \"R\". We start by only using one period's worth of historical data. \n",
    "\n",
    "## Data Inputs\n",
    "\n",
    "The expected number of votes for each party is a key data input for our constraints. We represent this with a matrix, $\\mathbf{V}$. Since we have two parties, the matrix has the following shape.\n",
    "\n",
    "$$ \\mathbf{V} \\in \\mathbb{R}^{|blocks| \\times 2} $$\n",
    "\n",
    "$blocks$ is a set where $|blocks|$ is the number of elements in the set. By convention, the first column of $\\mathbf{V}$ will be D votes and the second column R votes. $\\mathbf{V}$ could represent a single past election's results, or it could be an expected upcoming result based on an exogenous model.\n",
    "\n",
    "## Variables\n",
    "\n",
    "We represent the variables with a matrix. Each row of the matrix represents an indivisible block (precint, county, or census area depending on the conventions of the problem). The columns represent assignment to a district. The matrix is made up of zeroes or ones, and each row must have exactly one entry equal to one, meaning that each row must be in one and only one district. $districts$ is a set where $|districts|$ is the number of elements in each set. \n",
    "\n",
    "$$ \n",
    "\\mathbf{D} \\in \\{0,1\\}^{|blocks| \\times |districts|}. \n",
    "$$\n",
    "\n",
    "For ease of interpretation, we're going to define another variable that represents the \"efficiency gap\" in votes. To do this, we need to know the number of expected votes for each party in each block and the assignment of blocks to districts. $\\mathbf{D}^T \\mathbf{V} \\in \\mathbb{R}^{|districts| \\times 2} $ gives us a matrix of the number of D and R votes in each district. The efficiency gap can be calculated from the seat margin and vote margin. [Brennan Center](https://www.brennancenter.org/sites/default/files/legal-work/How_the_Efficiency_Gap_Standard_Works.pdf)\n",
    "\n",
    "$$ \\text{Efficiency Gap} = (\\text{Seat Margin} - 50\\%) - 2 ( \\text{Vote Margin} - 50\\% ) $$\n",
    "\n",
    "The vote margin is easily calculated by multiplying $\\mathbf{D^TV}$ by a vector of ones, $\\mathbf{j}$, and subtracting the elements. The seat margin is trickier, since we need to determine which of the two parties is the winner for any given potential solution.  We do this by introducing another vector of variables $\\mathbf{w}\\in \\{0,1\\}^{|districts|}$, indicating if D won the given seat (or district). \n",
    "\n",
    "$$ \\mathbf{w}\\in \\{0,1\\}^{|districts|} $$\n",
    "\n",
    "When we include $w$ in our objective with an appropriately large penalty, the optimization problem will set $w_i = 1$ if D won the seat and $0$ otherwise. Our constraints will ensure this. So the margin variables are now: \n",
    "\n",
    "$$ \\text{Seat Margin} = \\frac{ (\\mathbf{w}\\cdot \\mathbf{j} - (1-\\mathbf{w})\\cdot \\mathbf{j} )}{|districts| } $$\n",
    "\n",
    "$$ \\text{Vote Margin} = \\frac{\\mathbf{j^TD^TV} \\left[ \\begin{array}{c} 1 \\\\ -1 \\end{array} \\right]}{\\mathbf{j^TVj}} $$\n",
    "\n",
    "In a given district's race, the number of wasted votes can be calculated szz\n",
    "\n",
    "\n",
    "## Constraints\n",
    "\n",
    "To force the $\\mathbf{w}$ variable, set a constraint (vector valued):\n",
    "$$ \\mathbf{D^TV} \\left[ \\begin{array}{c} 1 \\\\ -1 \\end{array} \\right] \\geq \\mathbf{w} $$. \n",
    "\n",
    "\n"
   ]
  },
  {
   "cell_type": "markdown",
   "metadata": {},
   "source": [
    "## Example Problem"
   ]
  },
  {
   "cell_type": "code",
   "execution_count": 90,
   "metadata": {
    "collapsed": false
   },
   "outputs": [
    {
     "data": {
      "text/plain": [
       "5×2 Array{Int64,2}:\n",
       " 75  25\n",
       " 60  40\n",
       " 43  57\n",
       " 48  52\n",
       " 49  51"
      ]
     },
     "execution_count": 90,
     "metadata": {},
     "output_type": "execute_result"
    }
   ],
   "source": [
    "V = [75 25; 60 40; 43 57; 48 52; 49 51]\n"
   ]
  },
  {
   "cell_type": "code",
   "execution_count": 91,
   "metadata": {
    "collapsed": false
   },
   "outputs": [],
   "source": [
    "using JuMP \n",
    "using AmplNLWriter\n",
    "using CoinOptServices\n",
    "using ECOS\n",
    "using GLPKMathProgInterface\n",
    "using NLopt"
   ]
  },
  {
   "cell_type": "code",
   "execution_count": 100,
   "metadata": {
    "collapsed": false
   },
   "outputs": [
    {
     "data": {
      "text/latex": [
       "$$ min_vote_{1} + min_vote_{2} + min_vote_{3} + min_vote_{4} + min_vote_{5} + wasted_u_{1,1} + wasted_u_{2,1} + wasted_u_{3,1} + wasted_u_{4,1} + wasted_u_{5,1} + wasted_u_{1,2} + wasted_u_{2,2} + wasted_u_{3,2} + wasted_u_{4,2} + wasted_u_{5,2} + wasted_o_{1,1} + wasted_o_{2,1} + wasted_o_{3,1} + wasted_o_{4,1} + wasted_o_{5,1} + wasted_o_{1,2} + wasted_o_{2,2} + wasted_o_{3,2} + wasted_o_{4,2} + wasted_o_{5,2} $$"
      ],
      "text/plain": [
       "min_vote[1] + min_vote[2] + min_vote[3] + min_vote[4] + min_vote[5] + wasted_u[1,1] + wasted_u[2,1] + wasted_u[3,1] + wasted_u[4,1] + wasted_u[5,1] + wasted_u[1,2] + wasted_u[2,2] + wasted_u[3,2] + wasted_u[4,2] + wasted_u[5,2] + wasted_o[1,1] + wasted_o[2,1] + wasted_o[3,1] + wasted_o[4,1] + wasted_o[5,1] + wasted_o[1,2] + wasted_o[2,2] + wasted_o[3,2] + wasted_o[4,2] + wasted_o[5,2]"
      ]
     },
     "execution_count": 100,
     "metadata": {},
     "output_type": "execute_result"
    }
   ],
   "source": [
    "blocks = size(V,1)\n",
    "districts = 5\n",
    "t = ones(districts,1)\n",
    "total_vote = V * ones(2,1)\n",
    "votes_to_win = ceil.(total_vote / 2 + 0.1)\n",
    "\n",
    "#m = Model(solver = AmplNLSolver(CoinOptServices.bonmin, [\n",
    "#    \"bonmin.pump_for_minlp=yes\"]) )\n",
    "#m = Model(solver = ECOSSolver() )\n",
    "m = Model(solver = GLPKSolverMIP())\n",
    "# m = Model(solver=NLoptSolver(algorithm=:LD_SLSQP))\n",
    "\n",
    "## Variables \n",
    "\n",
    "@variable(m, 0 <= D[i=1:blocks,j=1:districts] <= 1 , Bin)\n",
    "@variable(m, 0 <= w[i=1:districts] <= 1, Bin)\n",
    "@variable(m, min_vote[i=1:districts])\n",
    "@variable(m, eff_gap)\n",
    "@variable(m, abs_eff_gap)\n",
    "@variable(m, wasted_u[i=1:districts, j=1:2])\n",
    "@variable(m, wasted_o[i=1:districts, j=1:2])\n",
    "\n",
    "\n",
    "## Constraints\n",
    "\n",
    "@constraint(m, D .== eye(districts))\n",
    "\n",
    "@constraint(m, D * ones(districts,1) .== 1)  # each block can be in only one district\n",
    "\n",
    "# These constraints set w to 1 if D wins in a district\n",
    "M = districts * sum(total_vote) * 1000\n",
    "@constraint(m, min_vote .>= (D' * V)[:,1] - M * (w) )\n",
    "@constraint(m, min_vote .>= (D' * V)[:,2] - M * (1-w) )\n",
    "\n",
    "# These constraints set wasted_u to the number of wasted votes for the losing parties\n",
    "@constraint(m, wasted_u .>= 0)\n",
    "@constraint(m, wasted_u[:,1] .>= (D' * V)[:,1] - M * w)\n",
    "@constraint(m, wasted_u[:,2] .>= (D' * V)[:,2] - M * (1-w))\n",
    "\n",
    "# These constaints set wasted_o to the number of wasted votes for the winning parties\n",
    "@constraint(m, wasted_o .>= 0)\n",
    "@constraint(m, wasted_o .>= (D' * V) - votes_to_win)\n",
    "\n",
    "# These constraints calculate the efficiency gap\n",
    "@constraint(m, eff_gap .== ones(2,districts) * (wasted_u + wasted_o) * [1;-1])\n",
    "@constraint(m, abs_eff_gap >= eff_gap)\n",
    "@constraint(m, abs_eff_gap >= - eff_gap)\n",
    "\n",
    "\n",
    "## Objective\n",
    "\n",
    "@objective(m, Min, sum(min_vote) + sum(wasted_u) + sum(wasted_o) ) # abs_eff_gap + sum(w) )\n",
    "\n",
    "#m"
   ]
  },
  {
   "cell_type": "code",
   "execution_count": 93,
   "metadata": {
    "collapsed": false
   },
   "outputs": [
    {
     "name": "stdout",
     "output_type": "stream",
     "text": [
      "  0.014151 seconds (883 allocations: 84.047 KiB)\n"
     ]
    },
    {
     "data": {
      "text/plain": [
       ":Optimal"
      ]
     },
     "execution_count": 93,
     "metadata": {},
     "output_type": "execute_result"
    }
   ],
   "source": [
    "@time begin\n",
    "    status = solve(m)\n",
    "end"
   ]
  },
  {
   "cell_type": "code",
   "execution_count": 94,
   "metadata": {
    "collapsed": false
   },
   "outputs": [
    {
     "name": "stdout",
     "output_type": "stream",
     "text": [
      "objective: 450.0\n"
     ]
    },
    {
     "data": {
      "text/plain": [
       "101.0"
      ]
     },
     "execution_count": 94,
     "metadata": {},
     "output_type": "execute_result"
    }
   ],
   "source": [
    "println(\"objective: \", getobjectivevalue(m))\n",
    "\n",
    "\n",
    "_D = getvalue(D)\n",
    "_D' * V\n",
    "getvalue(y)\n",
    "getvalue(w)\n",
    "\n",
    "getvalue(wasted_o)\n",
    "\n",
    "getvalue(abs_eff_gap)\n",
    "getvalue(wasted_u)\n",
    "getvalue(wasted_o)\n",
    "getvalue(eff_gap)"
   ]
  },
  {
   "cell_type": "code",
   "execution_count": 95,
   "metadata": {
    "collapsed": false
   },
   "outputs": [
    {
     "data": {
      "text/plain": [
       "5×2 Array{Float64,2}:\n",
       " -0.0  25.0\n",
       " -0.0  40.0\n",
       " 43.0  -0.0\n",
       " 48.0  -0.0\n",
       " 49.0  -0.0"
      ]
     },
     "execution_count": 95,
     "metadata": {},
     "output_type": "execute_result"
    }
   ],
   "source": [
    "getvalue(wasted_u)"
   ]
  },
  {
   "cell_type": "code",
   "execution_count": 96,
   "metadata": {
    "collapsed": false
   },
   "outputs": [
    {
     "data": {
      "text/plain": [
       "5×2 Array{Float64,2}:\n",
       " 24.0  -0.0\n",
       "  9.0  -0.0\n",
       " -0.0   6.0\n",
       " -0.0   1.0\n",
       " -0.0  -0.0"
      ]
     },
     "execution_count": 96,
     "metadata": {},
     "output_type": "execute_result"
    }
   ],
   "source": [
    "getvalue(wasted_o)"
   ]
  },
  {
   "cell_type": "code",
   "execution_count": 97,
   "metadata": {
    "collapsed": false
   },
   "outputs": [
    {
     "data": {
      "text/plain": [
       "101.0"
      ]
     },
     "execution_count": 97,
     "metadata": {},
     "output_type": "execute_result"
    }
   ],
   "source": [
    "getvalue(eff_gap)"
   ]
  },
  {
   "cell_type": "code",
   "execution_count": 101,
   "metadata": {
    "collapsed": false
   },
   "outputs": [
    {
     "data": {
      "text/plain": [
       "5×2 Array{Float64,2}:\n",
       " 75.0  25.0\n",
       " 60.0  40.0\n",
       " 43.0  57.0\n",
       " 48.0  52.0\n",
       " 49.0  51.0"
      ]
     },
     "execution_count": 101,
     "metadata": {},
     "output_type": "execute_result"
    }
   ],
   "source": [
    "V = [75 25; 60 40; 43 57; 48 52; 49 51]\n",
    "\n",
    "D = eye(5)\n",
    "(D' * V) \n",
    "ceil.(V * ones(2,1) / 2 + 0.1)\n",
    "V\n",
    "D' * V"
   ]
  },
  {
   "cell_type": "code",
   "execution_count": 20,
   "metadata": {
    "collapsed": false
   },
   "outputs": [
    {
     "data": {
      "text/plain": [
       "5-element Array{Int64,1}:\n",
       "  75\n",
       " 120\n",
       " 129\n",
       " 192\n",
       " 245"
      ]
     },
     "execution_count": 20,
     "metadata": {},
     "output_type": "execute_result"
    }
   ],
   "source": [
    "V[:,1] .* [1;2;3;4;5]"
   ]
  }
 ],
 "metadata": {
  "kernelspec": {
   "display_name": "Julia 0.6.0",
   "language": "julia",
   "name": "julia-0.6"
  },
  "language_info": {
   "file_extension": ".jl",
   "mimetype": "application/julia",
   "name": "julia",
   "version": "0.6.0"
  }
 },
 "nbformat": 4,
 "nbformat_minor": 0
}
