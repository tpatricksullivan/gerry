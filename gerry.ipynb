{
 "cells": [
  {
   "cell_type": "markdown",
   "metadata": {},
   "source": [
    "# Gerrymandering and the Redistricting Problem\n",
    "\n",
    "## Assumptions\n",
    "\n",
    "We assume a 2-party system with the parties represented as \"D\" and \"R\". We start by only using one period's worth of historical data. We also assume that all available voters voted (no one abstained) in our historical data.\n",
    "\n",
    "## Data Inputs\n",
    "\n",
    "The expected number of votes for each party is a key data input for our constraints. We represent this with a matrix, $\\mathbf{V}$. Since we have two parties, the matrix has the following shape.\n",
    "\n",
    "$$ \\mathbf{V} \\in \\mathbb{R}^{|blocks| \\times 2} $$\n",
    "\n",
    "$blocks$ is a set where $|blocks|$ is the number of elements in the set. By convention, the first column of $\\mathbf{V}$ will be D votes and the second column R votes. $\\mathbf{V}$ could represent a single past election's results, or it could be an expected upcoming result based on an exogenous model.\n",
    "\n",
    "The second major input is a matrix specifying which blocks are contiguous with each other, meaning that they share a border. This matrix has the following shape:\n",
    "\n",
    "$$ \\mathbf{C} \\in \\mathbb{R}^{|blocks| \\times |blocks|} $$\n",
    "\n",
    "The elements of the matrix are defined as \n",
    "\n",
    "$$ c_{ij} = \\left\\{ \\begin{array}{cc} 1 & \\text{block i borders block j} \\\\ 0 & \\text{otherwise} \\end{array} \\right. $$\n",
    "\n",
    "## Objective \n",
    "\n",
    "Our objective uses the concept of the \"efficiency gap\". See [Brennan Center](https://www.brennancenter.org/sites/default/files/legal-work/How_the_Efficiency_Gap_Standard_Works.pdf). The efficiency gap itself uses another concept of \"wasted votes\". \n",
    "\n",
    "Votes can be wasted in two ways. A vote cast for a losing candidate is \"wasted\", and votes cast for a winning candidate in excess of the amount needed to win are also wasted. The efficiency gap is a signed number so it can be in favor of one party or another. We arbitrarily chose to do it from the perspective of the \"D\" party. So a positive efficiency gap favors the R party. \n",
    "\n",
    "$$ \\text{Efficiency Gap} = \\text{D wasted votes} - \\text{R wasted votes} $$\n",
    "\n",
    "\n",
    "## Variables\n",
    "\n",
    "There are several variables in the model. The key variable is a matrix where each row of the matrix represents an indivisible block (precint, county, or census area depending on the conventions of the problem). The columns represent assignment to a district. The matrix is made up of zeroes or ones, and each row must have exactly one entry equal to one, meaning that each row must be in one and only one district. $districts$ is a set where $|districts|$ is the number of elements in each set. \n",
    "\n",
    "$$ \n",
    "\\mathbf{D} \\in \\{0,1\\}^{|blocks| \\times |districts|}. \n",
    "$$\n",
    "\n",
    "Several other variables are necessary to set up the problem in a linear fashion. These are best explained in the context of each constraint.\n",
    "\n",
    "## Constraints\n",
    "\n",
    "### Each Block Is In Exactly One District\n",
    "\n",
    "This constraint is easily expressed by saying that the sum of each row in the $D$ variable must be exactly one. \n",
    "\n",
    "$$ D \\left[ \\begin{array}{c} 1 \\\\ \\vdots \\\\ 1 \\end{array} \\right]  = \\left[ \\begin{array}{c} 1 \\\\ \\vdots \\\\ 1 \\end{array} \\right].$$\n",
    "\n",
    "### Calculate The Number of Wasted Votes for Losing Party\n",
    "\n",
    "To calculate wasted votes for the losing party, we first have to know which party lost and what its vote total was. We need to know this for each district that is formed as a result of the optimization. A simple `min` function is not linear, and we desire a purely linear form of the problem. This can be achieved using the \"Big M\" method. See [Big M](https://en.wikipedia.org/wiki/Big_M_method). Suppose we are looking at the results in just one district, with vote totals $d$ and $r$. Then define two additional variables, $wastedUnder$ and $w$. Further choose a constant $M$ that is large enough. Then define two constraints as below.\n",
    "\n",
    "$$ \\begin{align}\n",
    "wastedUnder &\\geq d - Mw \\\\\n",
    "wastedUnder &\\geq r - M(1-w) \\\\\n",
    "wastedUnder &\\in \\mathbb{R} \\\\\n",
    "w &\\in {0,1}\n",
    "\\end{align} $$\n",
    "\n",
    "If we include $wastedUnder$ in the objective function to minimize it, then the optimizer will try to reduce it. If $d$ is smaller than $r$, it will minimize it by setting $w=0$, and allowing $wastedUnder = d$.  The other constraint is nonbinding in this case. Otherwise, it will set $w=1$, making the first constraint non-bonding and setting $wastedUnder = r$. Since $w$ must be either 0 or 1, then $wastedUnder$ will be the minimum. \n",
    "\n",
    "### Calculate Wasted Votes for the Winning Party\n",
    "\n",
    "Wasted votes for the winning party occur when the winning party gets more votes than is necessary to win. It is mostly simply calculate as \n",
    "$$\\max (0, \\text{winning votes} - \\text{threshhold to win} ).$$\n",
    "\n",
    "Because we want to avoid `max` functions, which are non-linear, we use a trick similar to the one we used for wasted votes for the losing party. Let $VotesToWin$ be the threshold to win (50% plus one). Then set up constraints as follows.\n",
    "\n",
    "$$\n",
    "\\begin{align}\n",
    "wastedOver & \\geq 0 \\\\\n",
    "wastedOver & \\geq d - VotesToWin \n",
    "\\end{align}\n",
    "$$\n",
    "\n",
    "If we include $wastedOver$ in the objective to minimize it, then it will be $0$ if the $D$ party lost and $D - VotesToWin$ otherwise. This is the value we seek.\n",
    "\n",
    "### Enforce Equal Sizes\n",
    "\n",
    "Equal sizes are enforced by defining a single variable for the problem. Then we require that the total votes cast in each district be within a certain range around the single variable.\n",
    "\n",
    "### Enforce Contiguity of Districts\n",
    "\n",
    "The contiguity constraints requires a contiguity matrix, $C$. Let $D$ be the assignment of blocks to districts. Consider the matrix $CD$ with elements $a_{ij}$. Each element, $a_{ij}$, is then the number of blocks contiguous with block $i$ that are also in district $j$, provided that block $i$ is in district $j$.  If block $i$ is not in district $j$, then $a_{ij}$ is meaningless for us. If a block, $i$, is in a given district, then we require at least one other block that is contiguous with $i$ is also in the same district. We can write the constraint this way:\n",
    "\n",
    "$$ \\mathbf{CD} \\geq 2 \\times \\mathbf{D}.$$\n",
    "\n",
    "This says that, if block $i$ is in district $j$, then there must be at least one other block contiguous with block $i$ (in addition to block $i$ itself) that is also in district $j$.  Since every element of $CD$ is necessarily positive, an element $a_{ij}$ is effectively unconstrained if the corresponding element of $D$ is zero."
   ]
  },
  {
   "cell_type": "markdown",
   "metadata": {},
   "source": [
    "## Optimization Model Definition\n",
    "\n",
    "We are now able to define a general purpose function to use with different data sets and parameters."
   ]
  },
  {
   "cell_type": "code",
   "execution_count": 1,
   "metadata": {},
   "outputs": [
    {
     "name": "stderr",
     "output_type": "stream",
     "text": [
      "\u001b[1m\u001b[36mINFO: \u001b[39m\u001b[22m\u001b[36mRecompiling stale cache file /home/tpatricksullivan/.julia/lib/v0.6/Cbc.ji for module Cbc.\n",
      "\u001b[39m"
     ]
    }
   ],
   "source": [
    "using JuMP \n",
    "using GLPKMathProgInterface\n",
    "using Cbc\n",
    "# using Gurobi\n",
    "#using NLopt\n",
    "#using AmplNLWriter\n",
    "#using CoinOptServices\n",
    "#using ECOS"
   ]
  },
  {
   "cell_type": "code",
   "execution_count": 341,
   "metadata": {},
   "outputs": [
    {
     "data": {
      "text/plain": [
       "degerry (generic function with 3 methods)"
      ]
     },
     "execution_count": 341,
     "metadata": {},
     "output_type": "execute_result"
    }
   ],
   "source": [
    "function degerry(\n",
    "    votes,\n",
    "    contiguity_matrix, \n",
    "    number_districts,\n",
    "    common_size_threshold = 0.2\n",
    "    )\n",
    "    \n",
    "    _V = votes\n",
    "    _C = contiguity_matrix\n",
    "\n",
    "    blocks = size(_V,1)\n",
    "    districts = number_districts\n",
    "    total_vote = _V * ones(2,1)\n",
    "\n",
    "    # Do some checks\n",
    "    if any(_C != _C')\n",
    "        throw(ArgumentError(\"Contiguity matrix is not valid. It must be symmetric.\"))\n",
    "    end\n",
    "    \n",
    "    m = Model(solver = CbcSolver())\n",
    "    #m = Model(solver = GurobiSolver(Presolve=0))\n",
    "    \n",
    "    ## Variables\n",
    "\n",
    "    @variable(m, 0 <= D[i=1:blocks,j=1:districts] <= 1 , Bin)\n",
    "    \n",
    "    ## Constraints  \n",
    "\n",
    "    # each block can be in only one district\n",
    "    @constraint(m, D * ones(districts,1) .== 1)  \n",
    "    \n",
    "    # Each district must have at least one block\n",
    "    # @constraint(m, (D' * V) * [1;1] .>= 1)\n",
    "\n",
    "    # These constraints set wasted_u to the number of wasted votes for the losing party\n",
    "    @variable(m, 0 <= w[i=1:districts] <= 1, Bin)\n",
    "    @variable(m, wasted_u[i=1:districts, j=1:2])\n",
    "    M = blocks * sum(total_vote) \n",
    "    @constraint(m, wasted_u .>= 0)\n",
    "    @constraint(m, wasted_u[:,1] .>= (D' * _V)[:,1] - M * w)\n",
    "    @constraint(m, wasted_u[:,2] .>= (D' * _V)[:,2] - M * (1-w))\n",
    "\n",
    "    # These constraints set wasted_o to the number of wasted votes for the winning party\n",
    "    @variable(m, wasted_o[i=1:districts, j=1:2])\n",
    "    @variable(m, votes_to_win[i=1:districts])\n",
    "    @constraint(m, votes_to_win .== (D' * _V) * [1;1] / 2)\n",
    "    @constraint(m, wasted_o .>= 0)\n",
    "    @constraint(m, wasted_o .>= (D' * _V) - votes_to_win * [1 1])\n",
    "\n",
    "    # These constraints calculate the efficiency gap\n",
    "    @variable(m, eff_gap)\n",
    "    @variable(m, abs_eff_gap)\n",
    "    @constraint(m, eff_gap .== ones(1,districts) * (wasted_u + wasted_o) * [1;-1])\n",
    "    @constraint(m, abs_eff_gap >= eff_gap)\n",
    "    @constraint(m, abs_eff_gap >= - eff_gap)\n",
    "\n",
    "    # These constraints enforce roughly equal sizes. \n",
    "    @variable(m, common_size) # this approach is too slow\n",
    "    fixed_common_size = sum(_V) / districts\n",
    "    # @constraint(m, (D' * _V) * [1;1] .>= fixed_common_size * (1-common_size_threshold)) # we don't really need this\n",
    "    @constraint(m, (D' * _V) * [1;1] .<= fixed_common_size * (1+common_size_threshold))\n",
    "\n",
    "    # These constraints enforce contiguity, but we need to allow districts with only one block\n",
    "    @variable(m, 0 <= multi_block_districts[i=1:districts] <= 1, Bin)\n",
    "    @constraint(m, multi_block_districts .>= 0 )\n",
    "    @constraint(m, M * multi_block_districts' .>= ones(1,blocks) * D - ones(1,districts) )\n",
    "    # @constraint(m, _C * D .>= 2 * D) this by itself is not enough\n",
    "    @constraint(m, _C * D .>= 2 * D - M * (1-repmat(multi_block_districts',blocks)))\n",
    "    \n",
    "\n",
    "    ## Objective\n",
    "\n",
    "    @objective(m, Min, abs_eff_gap  + sum(wasted_u) + sum(wasted_o) + sum(multi_block_districts) ) \n",
    "    \n",
    "    @time begin\n",
    "        status = solve(m)\n",
    "    end\n",
    "    \n",
    "    res = Dict([(\"Model\",m),\n",
    "        (\"Solve Status\", status), \n",
    "        (\"Efficiency Gap\", getvalue(abs_eff_gap) ),\n",
    "        (\"Wasted Over Votes\", getvalue(wasted_o)),\n",
    "        (\"Wasted Under Votes\", getvalue(wasted_u)),\n",
    "        (\"Total Wasted Votes [D R]\", ones(1,districts) * ( getvalue(wasted_u) + getvalue(wasted_o))),\n",
    "        (\"Votes By District\", getvalue(D)' * _V), \n",
    "        (\"Common Size\", getvalue(common_size)), \n",
    "        (\"Fixed Common Size\", fixed_common_size), \n",
    "        (\"District Assignments\", getvalue(D))\n",
    "    ])\n",
    "    \n",
    "    return res\n",
    "end"
   ]
  },
  {
   "cell_type": "markdown",
   "metadata": {},
   "source": [
    "## Example Problem\n",
    "\n",
    "This is a simple problem used to show how the model works. "
   ]
  },
  {
   "cell_type": "code",
   "execution_count": 129,
   "metadata": {},
   "outputs": [],
   "source": [
    "# These are the votes arranged in a matrix of size blocks x number of parties\n",
    "V = [75 25; 60 40; 43 57; 48 52; 49 51]\n",
    "V\n"
   ]
  },
  {
   "cell_type": "code",
   "execution_count": 342,
   "metadata": {},
   "outputs": [
    {
     "data": {
      "text/plain": [
       "5×5 Array{Int64,2}:\n",
       " 1  1  1  0  0\n",
       " 1  1  1  1  0\n",
       " 1  1  1  1  1\n",
       " 0  1  1  1  1\n",
       " 0  0  1  1  1"
      ]
     },
     "execution_count": 342,
     "metadata": {},
     "output_type": "execute_result"
    }
   ],
   "source": [
    "# This is the contiguity matrix. C_{m,n} = 1 if block m shares a border with block n, 0 otherwise.\n",
    "C = [ \n",
    "    1 1 1 0 0;\n",
    "    1 1 1 1 0;\n",
    "    1 1 1 1 1;\n",
    "    0 1 1 1 1;\n",
    "    0 0 1 1 1;]\n",
    "\n",
    "# The example assumes the blocks are arranged as below.\n",
    "\n",
    "# |----------|\n",
    "# |A    | B  |\n",
    "# |-----|    |\n",
    "# |     |----|\n",
    "# | C   |    |\n",
    "# |     | D  |\n",
    "# |     |----|\n",
    "# |     | E  |\n",
    "# |-----|----|\n"
   ]
  },
  {
   "cell_type": "code",
   "execution_count": 333,
   "metadata": {},
   "outputs": [
    {
     "name": "stdout",
     "output_type": "stream",
     "text": [
      "  0.287171 seconds (75 allocations: 30.594 KiB)\n"
     ]
    },
    {
     "data": {
      "text/plain": [
       "Dict{String,Any} with 10 entries:\n",
       "  \"Efficiency Gap\"           => 0.0\n",
       "  \"Solve Status\"             => :Optimal\n",
       "  \"Wasted Over Votes\"        => [25.0 0.0; 0.0 3.0; 3.0 0.0]\n",
       "  \"Wasted Under Votes\"       => [0.0 25.0; 97.0 0.0; 0.0 97.0]\n",
       "  \"Model\"                    => Minimization problem with:…\n",
       "  \"Total Wasted Votes [D R]\" => [125.0 125.0]\n",
       "  \"Votes By District\"        => [75.0 25.0; 97.0 103.0; 103.0 97.0]\n",
       "  \"Fixed Common Size\"        => 166.667\n",
       "  \"Common Size\"              => 0.0\n",
       "  \"District Assignments\"     => [1.0 0.0 0.0; 0.0 0.0 1.0; … ; 0.0 1.0 0.0; 0.0…"
      ]
     },
     "execution_count": 333,
     "metadata": {},
     "output_type": "execute_result"
    }
   ],
   "source": [
    "res = degerry(V,C, 3, 0.2)\n",
    "\n",
    "\n"
   ]
  },
  {
   "cell_type": "code",
   "execution_count": 334,
   "metadata": {},
   "outputs": [
    {
     "name": "stdout",
     "output_type": "stream",
     "text": [
      "166.66666666666666[33.3333 300.0]"
     ]
    },
    {
     "data": {
      "text/plain": [
       "5×3 Array{Float64,2}:\n",
       " 1.0  0.0  0.0\n",
       " 0.0  0.0  1.0\n",
       " 0.0  0.0  1.0\n",
       " 0.0  1.0  0.0\n",
       " 0.0  1.0  0.0"
      ]
     },
     "execution_count": 334,
     "metadata": {},
     "output_type": "execute_result"
    }
   ],
   "source": [
    "print(res[\"Fixed Common Size\"], res[\"Fixed Common Size\"] * [1-0.8 1+0.8] )\n",
    "res[\"Model\"]\n",
    "\n",
    "res[\"District Assignments\"]\n"
   ]
  },
  {
   "cell_type": "code",
   "execution_count": 292,
   "metadata": {},
   "outputs": [
    {
     "data": {
      "text/plain": [
       "3-element Array{Float64,1}:\n",
       " 200.0\n",
       " 100.0\n",
       " 200.0"
      ]
     },
     "execution_count": 292,
     "metadata": {},
     "output_type": "execute_result"
    }
   ],
   "source": [
    "res[\"Votes By District\"] * [1;1]"
   ]
  },
  {
   "cell_type": "code",
   "execution_count": 293,
   "metadata": {},
   "outputs": [
    {
     "data": {
      "text/plain": [
       "5×3 Array{Float64,2}:\n",
       " 1.0  1.0  1.0\n",
       " 2.0  1.0  1.0\n",
       " 2.0  1.0  2.0\n",
       " 2.0  0.0  2.0\n",
       " 1.0  0.0  2.0"
      ]
     },
     "execution_count": 293,
     "metadata": {},
     "output_type": "execute_result"
    }
   ],
   "source": [
    "C * res[\"District Assignments\"]"
   ]
  },
  {
   "cell_type": "markdown",
   "metadata": {},
   "source": [
    "## Optimize Fairness With Realistic Data\n",
    "\n",
    "TODO: insert optimization with Wisconsin data set\n",
    "\n"
   ]
  },
  {
   "cell_type": "code",
   "execution_count": 324,
   "metadata": {},
   "outputs": [
    {
     "data": {
      "text/html": [
       "<table class=\"data-frame\"><thead><tr><th></th><th>County</th><th>Pop</th><th>Dem</th><th>Rep</th><th>Wasted</th></tr></thead><tbody><tr><th>1</th><td>55079</td><td>940164</td><td>319819</td><td>149445</td><td>170374</td></tr><tr><th>2</th><td>55025</td><td>426526</td><td>205984</td><td>73065</td><td>132919</td></tr><tr><th>3</th><td>55133</td><td>360767</td><td>85339</td><td>145152</td><td>59813</td></tr><tr><th>4</th><td>55009</td><td>226778</td><td>67316</td><td>55903</td><td>11413</td></tr><tr><th>5</th><td>55101</td><td>188831</td><td>53408</td><td>45954</td><td>7454</td></tr><tr><th>6</th><td>55087</td><td>160971</td><td>50209</td><td>39563</td><td>10646</td></tr></tbody></table>"
      ],
      "text/plain": [
       "6×5 DataFrames.DataFrame\n",
       "│ Row │ County │ Pop    │ Dem    │ Rep    │ Wasted │\n",
       "├─────┼────────┼────────┼────────┼────────┼────────┤\n",
       "│ 1   │ 55079  │ 940164 │ 319819 │ 149445 │ 170374 │\n",
       "│ 2   │ 55025  │ 426526 │ 205984 │ 73065  │ 132919 │\n",
       "│ 3   │ 55133  │ 360767 │ 85339  │ 145152 │ 59813  │\n",
       "│ 4   │ 55009  │ 226778 │ 67316  │ 55903  │ 11413  │\n",
       "│ 5   │ 55101  │ 188831 │ 53408  │ 45954  │ 7454   │\n",
       "│ 6   │ 55087  │ 160971 │ 50209  │ 39563  │ 10646  │"
      ]
     },
     "execution_count": 324,
     "metadata": {},
     "output_type": "execute_result"
    }
   ],
   "source": [
    "# Load data\n",
    "using CSV\n",
    "WI_votes = CSV.read(\"data/Gerrymander County_election_data.csv\")\n",
    "WI_contiguity = CSV.read(\"data/Gerrymander County_contiguity.csv\", rows = 73)\n",
    "head(sort(WI_votes,cols=[:Pop],rev=true))"
   ]
  },
  {
   "cell_type": "code",
   "execution_count": 242,
   "metadata": {},
   "outputs": [
    {
     "data": {
      "text/plain": [
       "72×72 Array{Int64,2}:\n",
       " 1  0  0  0  0  0  0  0  0  0  1  0  0  …  0  0  0  0  0  0  0  0  0  1  0  1\n",
       " 0  1  0  1  0  0  0  0  0  0  0  0  0     0  0  0  0  0  0  0  0  0  0  0  0\n",
       " 0  0  1  0  0  0  1  0  1  0  0  0  0     0  0  0  0  0  1  0  0  0  0  0  0\n",
       " 0  1  0  1  0  0  0  0  0  0  0  0  0     0  0  0  0  0  1  0  0  0  0  0  0\n",
       " 0  0  0  0  1  0  0  1  0  0  0  0  0     0  0  0  0  0  0  0  0  0  0  0  0\n",
       " 0  0  0  0  0  1  0  0  0  0  0  0  0  …  0  1  0  0  0  0  0  0  0  0  0  0\n",
       " 0  0  1  0  0  0  1  0  0  0  0  0  0     0  0  0  0  0  1  0  0  0  0  0  0\n",
       " 0  0  0  0  1  0  0  1  0  0  0  0  0     0  0  0  0  0  0  0  0  0  0  1  0\n",
       " 0  0  1  0  0  0  0  0  1  1  0  0  0     1  0  0  0  0  0  0  0  0  0  0  0\n",
       " 0  0  0  0  0  0  0  0  1  1  0  0  0     1  0  0  0  0  0  0  0  0  0  0  1\n",
       " 1  0  0  0  0  0  0  0  0  0  1  0  1  …  0  0  0  0  0  0  0  0  0  0  0  0\n",
       " 0  0  0  0  0  0  0  0  0  0  0  1  0     0  0  1  0  0  0  0  0  0  0  0  0\n",
       " 0  0  0  0  0  0  0  0  0  0  1  0  1     0  0  0  0  0  0  0  0  0  0  0  0\n",
       " ⋮              ⋮              ⋮        ⋱  ⋮              ⋮              ⋮   \n",
       " 0  0  0  0  0  0  0  0  1  1  0  0  0  …  1  0  0  0  0  0  0  0  0  0  0  0\n",
       " 0  0  0  0  0  1  0  0  0  0  0  0  0     0  1  0  0  0  0  0  0  0  0  0  0\n",
       " 0  0  0  0  0  0  0  0  0  0  0  1  0     0  0  1  0  0  0  0  0  0  0  0  0\n",
       " 0  0  0  0  0  0  0  0  0  0  0  0  0     0  0  0  1  0  0  0  0  0  0  0  0\n",
       " 0  0  0  0  0  0  0  0  0  0  0  0  0     0  0  0  0  1  0  0  1  0  0  0  0\n",
       " 0  0  1  1  0  0  1  0  0  0  0  0  0  …  0  0  0  0  0  1  0  0  0  0  0  0\n",
       " 0  0  0  0  0  0  0  0  0  0  0  0  0     0  0  0  0  0  0  1  1  0  0  0  0\n",
       " 0  0  0  0  0  0  0  0  0  0  0  0  0     0  0  0  0  1  0  1  1  0  0  0  0\n",
       " 0  0  0  0  0  0  0  0  0  0  0  0  0     0  0  0  0  0  0  0  0  1  1  1  0\n",
       " 1  0  0  0  0  0  0  0  0  0  0  0  0     0  0  0  0  0  0  0  0  1  1  1  0\n",
       " 0  0  0  0  0  0  0  1  0  0  0  0  0  …  0  0  0  0  0  0  0  0  1  1  1  0\n",
       " 1  0  0  0  0  0  0  0  0  1  0  0  0     0  0  0  0  0  0  0  0  0  0  0  1"
      ]
     },
     "execution_count": 242,
     "metadata": {},
     "output_type": "execute_result"
    }
   ],
   "source": [
    "WI_V = convert(Array, WI_votes[:,3:4])\n",
    "WI_C = convert(Array, WI_contiguity[:,2:73])"
   ]
  },
  {
   "cell_type": "code",
   "execution_count": 343,
   "metadata": {},
   "outputs": [
    {
     "name": "stdout",
     "output_type": "stream",
     "text": [
      "Is contiguity matrix valid: true\n",
      "2939604\n",
      "979868.0\n"
     ]
    }
   ],
   "source": [
    "# Do some checks\n",
    "println(\"Is contiguity matrix valid: \", all(WI_C == WI_C') )\n",
    "\n",
    "sort( [ WI_votes WI_votes[:Pop]/sum(WI_votes[:Pop])], cols =[:Pop], rev = true )\n",
    "\n",
    "println( sum(WI_votes[:Dem]) + sum(WI_votes[:Rep])  )\n",
    "println( sum(WI_V) /3 )\n",
    "        "
   ]
  },
  {
   "cell_type": "code",
   "execution_count": 335,
   "metadata": {
    "scrolled": true
   },
   "outputs": [
    {
     "name": "stdout",
     "output_type": "stream",
     "text": [
      " 65.224063 seconds (85 allocations: 1.139 MiB)\n"
     ]
    },
    {
     "data": {
      "text/plain": [
       "Dict{String,Any} with 10 entries:\n",
       "  \"Efficiency Gap\"           => 2.8817e-8\n",
       "  \"Solve Status\"             => :Optimal\n",
       "  \"Wasted Over Votes\"        => [0.0 15171.0; 65606.0 0.0; 156974.0 0.0]\n",
       "  \"Wasted Under Votes\"       => [512321.0 0.0; 0.0 350731.0; 0.0 368999.0]\n",
       "  \"Model\"                    => Minimization problem with:…\n",
       "  \"Total Wasted Votes [D R]\" => [734901.0 734901.0]\n",
       "  \"Votes By District\"        => [512321.0 542663.0; 481943.0 350731.0; 682947.0…\n",
       "  \"Fixed Common Size\"        => 979868.0\n",
       "  \"Common Size\"              => 0.0\n",
       "  \"District Assignments\"     => [0.0 1.0 0.0; 0.0 1.0 0.0; … ; 0.0 1.0 0.0; 0.0…"
      ]
     },
     "execution_count": 335,
     "metadata": {},
     "output_type": "execute_result"
    }
   ],
   "source": [
    "res3 = degerry(WI_V,WI_C, 3, 0.1)"
   ]
  },
  {
   "cell_type": "code",
   "execution_count": 338,
   "metadata": {},
   "outputs": [
    {
     "name": "stdout",
     "output_type": "stream",
     "text": [
      "[1.05498e6, 832674.0, 1.05195e6][7.52131e5 1.1282e6]"
     ]
    },
    {
     "data": {
      "text/plain": [
       "72×3 Array{Float64,2}:\n",
       " 0.0  1.0  0.0\n",
       " 0.0  1.0  0.0\n",
       " 0.0  0.0  1.0\n",
       " 0.0  1.0  0.0\n",
       " 1.0  0.0  0.0\n",
       " 0.0  1.0  0.0\n",
       " 1.0  0.0  0.0\n",
       " 0.0  0.0  1.0\n",
       " 1.0  0.0  0.0\n",
       " 0.0  1.0  0.0\n",
       " 0.0  1.0  0.0\n",
       " 0.0  1.0  0.0\n",
       " 0.0  0.0  1.0\n",
       " ⋮            \n",
       " 0.0  1.0  0.0\n",
       " 0.0  1.0  0.0\n",
       " 1.0  0.0  0.0\n",
       " 1.0  0.0  0.0\n",
       " 0.0  1.0  0.0\n",
       " 1.0  0.0  0.0\n",
       " 1.0  0.0  0.0\n",
       " 1.0  0.0  0.0\n",
       " 1.0  0.0  0.0\n",
       " 0.0  1.0  0.0\n",
       " 0.0  1.0  0.0\n",
       " 0.0  1.0  0.0"
      ]
     },
     "execution_count": 338,
     "metadata": {},
     "output_type": "execute_result"
    }
   ],
   "source": [
    "print( res3[\"Votes By District\"] * [1;1] )\n",
    "print( 940164 * [0.8 1.2] )\n",
    "res3[\"District Assignments\"]"
   ]
  },
  {
   "cell_type": "code",
   "execution_count": 366,
   "metadata": {},
   "outputs": [
    {
     "ename": "LoadError",
     "evalue": "\u001b[91mInternal error: Unrecognized solution status\u001b[39m",
     "output_type": "error",
     "traceback": [
      "\u001b[91mInternal error: Unrecognized solution status\u001b[39m",
      "",
      "Stacktrace:",
      " [1] \u001b[1mstatus\u001b[22m\u001b[22m\u001b[1m(\u001b[22m\u001b[22m::Cbc.CbcMathProgSolverInterface.CbcMathProgModel\u001b[1m)\u001b[22m\u001b[22m at \u001b[1m/home/tpatricksullivan/.julia/v0.6/Cbc/src/CbcSolverInterface.jl:177\u001b[22m\u001b[22m",
      " [2] \u001b[1m#solve#116\u001b[22m\u001b[22m\u001b[1m(\u001b[22m\u001b[22m::Bool, ::Bool, ::Bool, ::Array{Any,1}, ::Function, ::JuMP.Model\u001b[1m)\u001b[22m\u001b[22m at \u001b[1m/home/tpatricksullivan/.julia/v0.6/JuMP/src/solvers.jl:176\u001b[22m\u001b[22m",
      " [3] \u001b[1mmacro expansion\u001b[22m\u001b[22m at \u001b[1m./In[341]:76\u001b[22m\u001b[22m [inlined]",
      " [4] \u001b[1mmacro expansion\u001b[22m\u001b[22m at \u001b[1m./util.jl:237\u001b[22m\u001b[22m [inlined]",
      " [5] \u001b[1mdegerry\u001b[22m\u001b[22m\u001b[1m(\u001b[22m\u001b[22m::Array{Int64,2}, ::Array{Int64,2}, ::Int64, ::Float64\u001b[1m)\u001b[22m\u001b[22m at \u001b[1m./In[341]:75\u001b[22m\u001b[22m",
      " [6] \u001b[1minclude_string\u001b[22m\u001b[22m\u001b[1m(\u001b[22m\u001b[22m::String, ::String\u001b[1m)\u001b[22m\u001b[22m at \u001b[1m./loading.jl:515\u001b[22m\u001b[22m"
     ]
    }
   ],
   "source": [
    "res4 = degerry(WI_V,WI_C, 4, 0.3)"
   ]
  },
  {
   "cell_type": "code",
   "execution_count": 362,
   "metadata": {},
   "outputs": [
    {
     "data": {
      "text/plain": [
       "Dict{String,Any} with 10 entries:\n",
       "  \"Efficiency Gap\"           => -7.83727e-9\n",
       "  \"Solve Status\"             => :Optimal\n",
       "  \"Wasted Over Votes\"        => [1.08363e5 0.0; 5110.5 0.0; 0.0 10998.0; 104934…\n",
       "  \"Wasted Under Votes\"       => [0.0 439074.0; 0.0 37946.0; 516494.0 0.0; 0.0 2…\n",
       "  \"Model\"                    => Minimization problem with:…\n",
       "  \"Total Wasted Votes [D R]\" => [734901.0 734901.0]\n",
       "  \"Votes By District\"        => [655799.0 439074.0; 48167.0 37946.0; 516494.0 5…\n",
       "  \"Fixed Common Size\"        => 734901.0\n",
       "  \"Common Size\"              => 0.0\n",
       "  \"District Assignments\"     => [1.0 0.0 0.0 0.0; 0.0 0.0 1.0 0.0; … ; 0.0 1.0 …"
      ]
     },
     "execution_count": 362,
     "metadata": {},
     "output_type": "execute_result"
    }
   ],
   "source": [
    "res4"
   ]
  },
  {
   "cell_type": "code",
   "execution_count": 365,
   "metadata": {},
   "outputs": [
    {
     "name": "stdout",
     "output_type": "stream",
     "text": [
      "[1.09487e6, 86113.0, 1.05498e6, 703634.0][7.52131e5 1.1282e6]1[1.0, 0.0, 0.0, 0.0]\n",
      "2[0.0, 0.0, 1.0, 0.0]\n",
      "3[0.0, 0.0, 1.0, 0.0]\n",
      "4[0.0, 0.0, 0.0, 1.0]\n",
      "5[0.0, 0.0, 1.0, 0.0]\n",
      "6[0.0, 0.0, 1.0, 0.0]\n",
      "7[1.0, 0.0, 0.0, 0.0]\n",
      "8[1.0, 0.0, 0.0, 0.0]\n",
      "9[1.0, 0.0, 0.0, 0.0]\n",
      "10[0.0, 0.0, 1.0, 0.0]\n",
      "11[1.0, 0.0, 0.0, 0.0]\n",
      "12[1.0, 0.0, 0.0, 0.0]\n",
      "13[0.0, 0.0, 0.0, 1.0]\n",
      "14[1.0, 0.0, 0.0, 0.0]\n",
      "15[1.0, 0.0, 0.0, 0.0]\n",
      "16[0.0, 0.0, 0.0, 1.0]\n",
      "17[1.0, 0.0, 0.0, 0.0]\n",
      "18[0.0, 0.0, 1.0, 0.0]\n",
      "19[0.0, 0.0, 1.0, 0.0]\n",
      "20[0.0, 0.0, 1.0, 0.0]\n",
      "21[0.0, 0.0, 1.0, 0.0]\n",
      "22[0.0, 0.0, 0.0, 1.0]\n",
      "23[0.0, 0.0, 0.0, 1.0]\n",
      "24[0.0, 0.0, 0.0, 1.0]\n",
      "25[0.0, 0.0, 1.0, 0.0]\n",
      "26[0.0, 0.0, 1.0, 0.0]\n",
      "27[0.0, 0.0, 0.0, 1.0]\n",
      "28[0.0, 0.0, 1.0, 0.0]\n",
      "29[0.0, 0.0, 1.0, 0.0]\n",
      "30[0.0, 0.0, 0.0, 1.0]\n",
      "31[1.0, 0.0, 0.0, 0.0]\n",
      "32[0.0, 0.0, 0.0, 1.0]\n",
      "33[0.0, 0.0, 1.0, 0.0]\n",
      "34[1.0, 0.0, 0.0, 0.0]\n",
      "35[0.0, 0.0, 0.0, 1.0]\n",
      "36[0.0, 0.0, 1.0, 0.0]\n",
      "37[0.0, 0.0, 1.0, 0.0]\n",
      "38[0.0, 0.0, 1.0, 0.0]\n",
      "39[0.0, 0.0, 0.0, 1.0]\n",
      "40[0.0, 0.0, 1.0, 0.0]\n",
      "41[1.0, 0.0, 0.0, 0.0]\n",
      "42[0.0, 0.0, 1.0, 0.0]\n",
      "43[1.0, 0.0, 0.0, 0.0]\n",
      "44[1.0, 0.0, 0.0, 0.0]\n",
      "45[1.0, 0.0, 0.0, 0.0]\n",
      "46[0.0, 0.0, 1.0, 0.0]\n",
      "47[1.0, 0.0, 0.0, 0.0]\n",
      "48[0.0, 0.0, 1.0, 0.0]\n",
      "49[1.0, 0.0, 0.0, 0.0]\n",
      "50[0.0, 0.0, 0.0, 1.0]\n",
      "51[0.0, 0.0, 0.0, 1.0]\n",
      "52[1.0, 0.0, 0.0, 0.0]\n",
      "53[0.0, 0.0, 0.0, 1.0]\n",
      "54[0.0, 0.0, 1.0, 0.0]\n",
      "55[0.0, 0.0, 1.0, 0.0]\n",
      "56[0.0, 0.0, 1.0, 0.0]\n",
      "57[0.0, 0.0, 0.0, 1.0]\n",
      "58[0.0, 0.0, 0.0, 1.0]\n",
      "59[0.0, 0.0, 1.0, 0.0]\n",
      "60[1.0, 0.0, 0.0, 0.0]\n",
      "61[1.0, 0.0, 0.0, 0.0]\n",
      "62[0.0, 0.0, 0.0, 1.0]\n",
      "63[1.0, 0.0, 0.0, 0.0]\n",
      "64[0.0, 0.0, 1.0, 0.0]\n",
      "65[0.0, 0.0, 0.0, 1.0]\n",
      "66[1.0, 0.0, 0.0, 0.0]\n",
      "67[0.0, 0.0, 1.0, 0.0]\n",
      "68[0.0, 0.0, 1.0, 0.0]\n",
      "69[1.0, 0.0, 0.0, 0.0]\n",
      "70[0.0, 0.0, 0.0, 1.0]\n",
      "71[0.0, 1.0, 0.0, 0.0]\n",
      "72[1.0, 0.0, 0.0, 0.0]\n"
     ]
    },
    {
     "data": {
      "text/plain": [
       "4×2 Array{Float64,2}:\n",
       " 655799.0  439074.0\n",
       "  48167.0   37946.0\n",
       " 516494.0  538490.0\n",
       " 456751.0  246883.0"
      ]
     },
     "execution_count": 365,
     "metadata": {},
     "output_type": "execute_result"
    }
   ],
   "source": [
    "print( res4[\"Votes By District\"] * [1;1] )\n",
    "print( 940164 * [0.8 1.2] )\n",
    "for i in 1:72\n",
    "    println(i, res4[\"District Assignments\"][i,:])\n",
    "    end # 41 60\n",
    "res4[\"Votes By District\"]"
   ]
  },
  {
   "cell_type": "code",
   "execution_count": 18,
   "metadata": {},
   "outputs": [
    {
     "name": "stdout",
     "output_type": "stream",
     "text": [
      " 51.531381 seconds (86 allocations: 1.887 MiB)\n"
     ]
    },
    {
     "data": {
      "text/plain": [
       "Dict{String,Any} with 10 entries:\n",
       "  \"Efficiency Gap\"           => 6.50786e-9\n",
       "  \"Solve Status\"             => :Optimal\n",
       "  \"Wasted Over Votes\"        => [91284.0 0.0; 41265.5 0.0; … ; 98295.5 0.0; 0.0…\n",
       "  \"Wasted Under Votes\"       => [0.0 204255.0; 0.0 272468.0; … ; 0.0 234742.0; …\n",
       "  \"Model\"                    => Minimization problem with:…\n",
       "  \"Total Wasted Votes [D R]\" => [734901.0 734901.0]\n",
       "  \"Votes By District\"        => [386823.0 204255.0; 354999.0 272468.0; … ; 4313…\n",
       "  \"Fixed Common Size\"        => 5.87921e5\n",
       "  \"Common Size\"              => 0.0\n",
       "  \"District Assignments\"     => [0.0 1.0 … 0.0 0.0; 0.0 0.0 … 0.0 0.0; … ; 0.0 …"
      ]
     },
     "execution_count": 18,
     "metadata": {},
     "output_type": "execute_result"
    }
   ],
   "source": [
    "res5 = degerry(WI_V,WI_C, 5, 0.5)"
   ]
  },
  {
   "cell_type": "code",
   "execution_count": 112,
   "metadata": {},
   "outputs": [
    {
     "name": "stdout",
     "output_type": "stream",
     "text": [
      "462.569193 seconds (88 allocations: 2.174 MiB, 0.00% gc time)\n"
     ]
    },
    {
     "data": {
      "text/plain": [
       "Dict{String,Any} with 10 entries:\n",
       "  \"Efficiency Gap\"           => 0.0\n",
       "  \"Solve Status\"             => :Optimal\n",
       "  \"Wasted Over Votes\"        => [0.0 0.0; 0.0 0.0; … ; 220592.0 0.0; 0.0 0.0]\n",
       "  \"Wasted Under Votes\"       => [7.11935e-9 0.0; 0.0 0.0; … ; 0.0 721718.0; 0.0…\n",
       "  \"Model\"                    => Minimization problem with:…\n",
       "  \"Total Wasted Votes [D R]\" => [734901.0 734901.0]\n",
       "  \"Votes By District\"        => [0.0 0.0; 0.0 0.0; … ; 1.1629e6 721718.0; 0.0 0…\n",
       "  \"Fixed Common Size\"        => 489934.0\n",
       "  \"Common Size\"              => 0.0\n",
       "  \"District Assignments\"     => [0.0 0.0 … 0.0 0.0; 0.0 0.0 … 1.0 0.0; … ; 0.0 …"
      ]
     },
     "execution_count": 112,
     "metadata": {},
     "output_type": "execute_result"
    }
   ],
   "source": [
    "res6 = degerry(WI_V,WI_C, 6, 0.5)"
   ]
  },
  {
   "cell_type": "code",
   "execution_count": 125,
   "metadata": {},
   "outputs": [
    {
     "data": {
      "text/plain": [
       "1×2 Array{Float64,2}:\n",
       " 734901.0  244967.0"
      ]
     },
     "execution_count": 125,
     "metadata": {},
     "output_type": "execute_result"
    }
   ],
   "source": [
    "sum(res6[\"District Assignments\"],1)\n",
    "\n",
    "489934*[1.5 0.5]"
   ]
  },
  {
   "cell_type": "code",
   "execution_count": 127,
   "metadata": {},
   "outputs": [
    {
     "data": {
      "text/plain": [
       "6-element Array{Float64,1}:\n",
       " 0.0      \n",
       " 0.0      \n",
       " 0.0      \n",
       " 1.05498e6\n",
       " 1.88462e6\n",
       " 0.0      "
      ]
     },
     "execution_count": 127,
     "metadata": {},
     "output_type": "execute_result"
    }
   ],
   "source": [
    "res6[\"Votes By District\"] * [1;1]"
   ]
  },
  {
   "cell_type": "code",
   "execution_count": 40,
   "metadata": {},
   "outputs": [
    {
     "data": {
      "text/plain": [
       "Dict{String,Any} with 10 entries:\n",
       "  \"Efficiency Gap\"           => -5.73343e-9\n",
       "  \"Solve Status\"             => :Optimal\n",
       "  \"Wasted Over Votes\"        => [44976.0 0.0; 168462.0 0.0; 0.0 6029.0]\n",
       "  \"Wasted Under Votes\"       => [0.0 363313.0; 0.0 365559.0; 521463.0 0.0]\n",
       "  \"Model\"                    => Minimization problem with:…\n",
       "  \"Total Wasted Votes [D R]\" => [734901.0 734901.0]\n",
       "  \"Votes By District\"        => [453265.0 363313.0; 702483.0 365559.0; 521463.0…\n",
       "  \"Fixed Common Size\"        => 979868.0\n",
       "  \"Common Size\"              => 0.0\n",
       "  \"District Assignments\"     => [0.0 1.0 0.0; 0.0 1.0 0.0; … ; 1.0 0.0 0.0; 0.0…"
      ]
     },
     "execution_count": 40,
     "metadata": {},
     "output_type": "execute_result"
    }
   ],
   "source": [
    "res3"
   ]
  },
  {
   "cell_type": "code",
   "execution_count": 41,
   "metadata": {},
   "outputs": [
    {
     "data": {
      "text/plain": [
       "3×2 Array{Float64,2}:\n",
       "  44976.0     0.0\n",
       " 168462.0     0.0\n",
       "      0.0  6029.0"
      ]
     },
     "execution_count": 41,
     "metadata": {},
     "output_type": "execute_result"
    }
   ],
   "source": [
    "res3[\"Wasted Over Votes\"]"
   ]
  },
  {
   "cell_type": "code",
   "execution_count": 111,
   "metadata": {},
   "outputs": [
    {
     "data": {
      "text/plain": [
       "3-element BitArray{1}:\n",
       "  true\n",
       "  true\n",
       " false"
      ]
     },
     "execution_count": 111,
     "metadata": {},
     "output_type": "execute_result"
    }
   ],
   "source": [
    "res3[\"Votes By District\"] * [1;-1] .>= 0"
   ]
  },
  {
   "cell_type": "code",
   "execution_count": 44,
   "metadata": {},
   "outputs": [
    {
     "data": {
      "text/plain": [
       "3-element Array{Float64,1}:\n",
       " 408289.0\n",
       " 534021.0\n",
       " 527492.0"
      ]
     },
     "execution_count": 44,
     "metadata": {},
     "output_type": "execute_result"
    }
   ],
   "source": [
    "res3[\"Votes By District\"] * [1;1] / 2\n"
   ]
  },
  {
   "cell_type": "code",
   "execution_count": 107,
   "metadata": {},
   "outputs": [
    {
     "data": {
      "text/plain": [
       "2939604"
      ]
     },
     "execution_count": 107,
     "metadata": {},
     "output_type": "execute_result"
    }
   ],
   "source": [
    "sum( ( res3[\"Wasted Under Votes\"] + res3[\"Wasted Over Votes\"] ) * [1;-1] )\n",
    "sum(WI_V)"
   ]
  },
  {
   "cell_type": "code",
   "execution_count": 192,
   "metadata": {},
   "outputs": [
    {
     "data": {
      "text/plain": [
       "2×3 Array{Int64,2}:\n",
       " 1  2  3\n",
       " 1  2  3"
      ]
     },
     "execution_count": 192,
     "metadata": {},
     "output_type": "execute_result"
    }
   ],
   "source": [
    "a = [1;2;3]\n",
    "repmat(a',2)"
   ]
  }
 ],
 "metadata": {
  "kernelspec": {
   "display_name": "Julia 0.6.0",
   "language": "julia",
   "name": "julia-0.6"
  },
  "language_info": {
   "file_extension": ".jl",
   "mimetype": "application/julia",
   "name": "julia",
   "version": "0.6.0"
  }
 },
 "nbformat": 4,
 "nbformat_minor": 1
}
