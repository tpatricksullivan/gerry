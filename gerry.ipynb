{
 "cells": [
  {
   "cell_type": "markdown",
   "metadata": {},
   "source": [
    "# Gerrymandering and the Redistricting Problem\n",
    "\n",
    "## Assumptions\n",
    "\n",
    "We assume a 2-party system with the parties represented as \"D\" and \"R\". We start by only using one period's worth of historical data. We also assume that all available voters voted (no one abstained) in our historical data.\n",
    "\n",
    "## Data Inputs\n",
    "\n",
    "The expected number of votes for each party is a key data input for our constraints. We represent this with a matrix, $\\mathbf{V}$. Since we have two parties, the matrix has the following shape.\n",
    "\n",
    "$$ \\mathbf{V} \\in \\mathbb{R}^{|blocks| \\times 2} $$\n",
    "\n",
    "$blocks$ is a set where $|blocks|$ is the number of elements in the set. By convention, the first column of $\\mathbf{V}$ will be D votes and the second column R votes. $\\mathbf{V}$ could represent a single past election's results, or it could be an expected upcoming result based on an exogenous model.\n",
    "\n",
    "The second major input is a matrix specifying which blocks are contiguous with each other, meaning that they share a border. This matrix has the following shape:\n",
    "\n",
    "$$ \\mathbf{C} \\in \\mathbb{R}^{|blocks| \\times |blocks|} $$\n",
    "\n",
    "The elements of the matrix are defined as \n",
    "\n",
    "$$ c_{ij} = \\left\\{ \\begin{array}{cc} 1 & \\text{block i borders block j} \\\\ 0 & \\text{otherwise} \\end{array} \\right. $$\n",
    "\n",
    "## Objective \n",
    "\n",
    "Our objective uses the concept of the \"efficiency gap\". See [Brennan Center](https://www.brennancenter.org/sites/default/files/legal-work/How_the_Efficiency_Gap_Standard_Works.pdf). The efficiency gap itself uses another concept of \"wasted votes\". \n",
    "\n",
    "Votes can be wasted in two ways. A vote cast for a losing candidate is \"wasted\", and votes cast for a winning candidate in excess of the amount needed to win are also wasted. The efficiency gap is a signed number so it can be in favor of one party or another. We arbitrarily chose to do it from the perspective of the \"D\" party. So a positive efficiency gap favors the R party. \n",
    "\n",
    "$$ \\text{Efficiency Gap} = \\text{D wasted votes} - \\text{R wasted votes} $$\n",
    "\n",
    "\n",
    "\n",
    "## Variables\n",
    "\n",
    "There are several variables in the model. The key variable is a matrix where each row of the matrix represents an indivisible block (precint, county, or census area depending on the conventions of the problem). The columns represent assignment to a district. The matrix is made up of zeroes or ones, and each row must have exactly one entry equal to one, meaning that each row must be in one and only one district. $districts$ is a set where $|districts|$ is the number of elements in each set. \n",
    "\n",
    "$$ \n",
    "\\mathbf{D} \\in \\{0,1\\}^{|blocks| \\times |districts|}. \n",
    "$$\n",
    "\n",
    "Several other variables are necessary to set up the problem in a linear fashion. These are best explained in the context of each constraint.\n",
    "\n",
    "## Constraints\n",
    "\n",
    "### Each Block Is In Exactly One District\n",
    "\n",
    "This constraint is easily expressed by saying that the sum of each row in the $D$ variable must be exactly one. \n",
    "\n",
    "$$ D \\left[ \\begin{array}{c} 1 \\\\ \\vdots \\\\ 1 \\end{array} \\right]  = \\left[ \\begin{array}{c} 1 \\\\ \\vdots \\\\ 1 \\end{array} \\right].$$\n",
    "\n",
    "### Calculate The Number of Wasted Votes for Losing Party\n",
    "\n",
    "To calculate wasted votes for the losing party, we first have to know which party lost and what its vote total was. We need to know this for each district that is formed as a result of the optimization. A simple `min` function is not linear, and we desire a purely linear form of the problem. This can be achieved using the \"Big M\" method. See [Big M](https://en.wikipedia.org/wiki/Big_M_method). Suppose we are looking at the results in just one district, with vote totals $d$ and $r$. Then define two additional variables, $wastedUnder$ and $w$. Further choose a constant $M$ that is large enough. Then define two constraints as below.\n",
    "\n",
    "$$ \\begin{align}\n",
    "wastedUnder &\\geq d - Mw \\\\\n",
    "wastedUnder &\\geq r - M(1-w) \\\\\n",
    "wastedUnder &\\in \\mathbb{R} \\\\\n",
    "w &\\in {0,1}\n",
    "\\end{align} $$\n",
    "\n",
    "If we include $wastedUnder$ in the objective function to minimize it, then the optimizer will try to reduce it. If $d$ is smaller than $r$, it will minimize it by setting $w=0$, and allowing $wastedUnder = d$.  The other constraint is nonbinding in this case. Otherwise, it will set $w=1$, making the first constraint non-bonding and setting $wastedUnder = r$. Since $w$ must be either 0 or 1, then $wastedUnder$ will be the minimum. \n",
    "\n",
    "### Calculate Wasted Votes for the Winning Party\n",
    "\n",
    "Wasted votes for the winning party occur when the winning party gets more votes than is necessary to win. It is mostly simply calculate as \n",
    "$$\\max (0, \\text{winning votes} - \\text{threshhold to win} ).$$\n",
    "\n",
    "Because we want to avoid `max` functions, which are non-linear, we use a trick similar to the one we used for wasted votes for the losing party. Let $VotesToWin$ be the threshold to win (50% plus one). Then set up constraints as follows.\n",
    "\n",
    "$$\n",
    "\\begin{align}\n",
    "wastedOver & \\geq 0 \\\\\n",
    "wastedOver & \\geq d - VotesToWin \n",
    "\\end{align}\n",
    "$$\n",
    "\n",
    "If we include $wastedOver$ in the objective to minimize it, then it will be $0$ if the $D$ party lost and $D - VotesToWin$ otherwise. This is the value we seek.\n",
    "\n",
    "### Enforce Equal Sizes\n",
    "\n",
    "Equal sizes are enforced by defining a single variable for the problem. Then we require that the total votes cast in each district be within a certain range around the single variable.\n",
    "\n",
    "### Enforce Contiguity of Districts\n",
    "\n",
    "The contiguity constraints requires a contiguity matrix, $C$. Let $D$ be the assignment of blocks to districts. Consider the matrix $CD$ with elements $a_{ij}$. Each element, $a_{ij}$, is then the number of blocks contiguous with block $i$ that are also in district $j$, provided that block $i$ is in district $j$.  If block $i$ is not in district $j$, then $a_{ij}$ is meaningless for us. If a block, $i$, is in a given district, then we require at least one other block that is contiguous with $i$ is also in the same district. We can write the constraint this way:\n",
    "\n",
    "$$ CD \\geq 2 \\times D.$$\n",
    "\n",
    "This says that, if block $i$ is in district $j$, then there must be at least one other block contiguous with block $i$ (in addition to block $i$ itself) that is also in district $j$.  Since every element of $CD$ is necessarily positive, an element $a_{ij}$ is effectively unconstrained if the corresponding element of $D$ is zero."
   ]
  },
  {
   "cell_type": "markdown",
   "metadata": {},
   "source": [
    "## Example Problem"
   ]
  },
  {
   "cell_type": "code",
   "execution_count": 7,
   "metadata": {},
   "outputs": [
    {
     "data": {
      "text/plain": [
       "5×2 Array{Int64,2}:\n",
       " 75  25\n",
       " 60  40\n",
       " 43  57\n",
       " 48  52\n",
       " 49  51"
      ]
     },
     "execution_count": 7,
     "metadata": {},
     "output_type": "execute_result"
    }
   ],
   "source": [
    "# These are the votes arranged in a matrix of size blocks x number of parties\n",
    "V = [75 25; 60 40; 43 57; 48 52; 49 51]\n"
   ]
  },
  {
   "cell_type": "code",
   "execution_count": 8,
   "metadata": {},
   "outputs": [
    {
     "data": {
      "text/plain": [
       "5×5 Array{Int64,2}:\n",
       " 1  1  1  0  0\n",
       " 1  1  1  1  0\n",
       " 1  1  1  1  1\n",
       " 0  1  1  1  1\n",
       " 0  0  1  1  1"
      ]
     },
     "execution_count": 8,
     "metadata": {},
     "output_type": "execute_result"
    }
   ],
   "source": [
    "# This is the contiguity matrix. C_{m,n} = 1 if block m shares a border with block n, 0 otherwise.\n",
    "C = [ \n",
    "    1 1 1 0 0;\n",
    "    1 1 1 1 0;\n",
    "    1 1 1 1 1;\n",
    "    0 1 1 1 1;\n",
    "    0 0 1 1 1;]\n",
    "\n",
    "## So the example looks like this:\n",
    "## |----------|\n",
    "## |A    | B  |\n",
    "## |-----|    |\n",
    "## |     |----|\n",
    "## | C   |    |\n",
    "## |     | D  |\n",
    "## |     |----|\n",
    "## |     | E  |\n",
    "## |-----|----|\n"
   ]
  },
  {
   "cell_type": "code",
   "execution_count": 5,
   "metadata": {},
   "outputs": [
    {
     "name": "stderr",
     "output_type": "stream",
     "text": [
      "\u001b[1m\u001b[36mINFO: \u001b[39m\u001b[22m\u001b[36mPrecompiling module Cbc.\n",
      "\u001b[39m"
     ]
    }
   ],
   "source": [
    "using JuMP \n",
    "using GLPKMathProgInterface\n",
    "# using Gurobi\n",
    "using Cbc\n",
    "#using NLopt\n",
    "#using AmplNLWriter\n",
    "#using CoinOptServices\n",
    "#using ECOS"
   ]
  },
  {
   "cell_type": "code",
   "execution_count": 6,
   "metadata": {},
   "outputs": [
    {
     "data": {
      "text/plain": [
       "degerry (generic function with 2 methods)"
      ]
     },
     "execution_count": 6,
     "metadata": {},
     "output_type": "execute_result"
    }
   ],
   "source": [
    "function degerry(\n",
    "    votes,\n",
    "    contiguity_matrix, \n",
    "    number_districts,\n",
    "    common_size_threshold = 0.2\n",
    "    )\n",
    "    \n",
    "    _V = votes\n",
    "    _C = contiguity_matrix\n",
    "\n",
    "    blocks = size(_V,1)\n",
    "    districts = number_districts\n",
    "    total_vote = _V * ones(2,1)\n",
    "\n",
    "    #m = Model(solver = AmplNLSolver(CoinOptServices.bonmin, [\n",
    "    #    \"bonmin.pump_for_minlp=yes\"]) )\n",
    "    # m = Model(solver = ECOSSolver() )\n",
    "    #m = Model(solver = GLPKSolverMIP())\n",
    "    m = Model(solver = CbcSolver())\n",
    "    # m = Model(solver=NLoptSolver(algorithm=:LD_SLSQP))\n",
    "    #m = Model(solver = GurobiSolver(Presolve=0))\n",
    "    \n",
    "    ## Variables\n",
    "\n",
    "    @variable(m, 0 <= D[i=1:blocks,j=1:districts] <= 1 , Bin)\n",
    "    \n",
    "    ## Constraints\n",
    "\n",
    "    # each block can be in only one district\n",
    "    # @constraint(m, D * ones(districts,1) .== 1)  \n",
    "    \n",
    "    # Each district must have at least one block\n",
    "    @constraint(m, (D' * V) * [1;1] .>= 1)\n",
    "\n",
    "    # These constraints set wasted_u to the number of wasted votes for the losing party\n",
    "    @variable(m, 0 <= w[i=1:districts] <= 1, Bin)\n",
    "    @variable(m, wasted_u[i=1:districts, j=1:2])\n",
    "    M = blocks * sum(total_vote) \n",
    "    @constraint(m, wasted_u .>= 0)\n",
    "    @constraint(m, wasted_u[:,1] .>= (D' * _V)[:,1] - M * w)\n",
    "    @constraint(m, wasted_u[:,2] .>= (D' * _V)[:,2] - M * (1-w))\n",
    "\n",
    "    # These constraints set wasted_o to the number of wasted votes for the winning party\n",
    "    @variable(m, wasted_o[i=1:districts, j=1:2])\n",
    "    @variable(m, votes_to_win[i=1:districts])\n",
    "    @constraint(m, votes_to_win .== (D' * _V) * [1;1] / 2)\n",
    "    @constraint(m, wasted_o .>= 0)\n",
    "    @constraint(m, wasted_o .>= (D' * _V) - votes_to_win * [1 1])\n",
    "\n",
    "    # These constraints calculate the efficiency gap\n",
    "    @variable(m, eff_gap)\n",
    "    @variable(m, abs_eff_gap)\n",
    "    @constraint(m, eff_gap .== ones(1,districts) * (wasted_u + wasted_o) * [1;-1])\n",
    "    @constraint(m, abs_eff_gap >= eff_gap)\n",
    "    @constraint(m, abs_eff_gap >= - eff_gap)\n",
    "\n",
    "    # These constraints enforce roughly equal sizes. \n",
    "    @variable(m, common_size)\n",
    "    @constraint(m, (D' * _V) * [1;1] .>= common_size * (1-common_size_threshold))\n",
    "    @constraint(m, (D' * _V) * [1;1] .<= common_size * (1+common_size_threshold))\n",
    "\n",
    "    # These constraints enforce contiguity\n",
    "    @constraint(m, _C * D .>= 2 * D)\n",
    "\n",
    "    ## Objective\n",
    "\n",
    "    @objective(m, Min, abs_eff_gap  + sum(wasted_u) + sum(wasted_o) ) #+ sum(min_vote)) \n",
    "    \n",
    "    @time begin\n",
    "        status = solve(m)\n",
    "    end\n",
    "    \n",
    "    res = Dict([(\"Model\",m),\n",
    "        (\"Solve Status\", status), \n",
    "        (\"Efficiency Gap\", getvalue(abs_eff_gap) ),\n",
    "        (\"Wasted Over Votes\", getvalue(wasted_o)),\n",
    "        (\"Wasted Under Votes\", getvalue(wasted_u)),\n",
    "        (\"Total Wasted Votes [D R]\", ones(1,districts) * ( getvalue(wasted_u) + getvalue(wasted_o))),\n",
    "        (\"Votes By District\", getvalue(D)' * _V), \n",
    "        (\"Common Size\", getvalue(common_size)), \n",
    "        (\"District Assignments\", getvalue(D))\n",
    "    ])\n",
    "    \n",
    "    return res\n",
    "end"
   ]
  },
  {
   "cell_type": "code",
   "execution_count": 9,
   "metadata": {},
   "outputs": [
    {
     "name": "stdout",
     "output_type": "stream",
     "text": [
      "  1.921138 seconds (105.57 k allocations: 5.858 MiB)\n"
     ]
    },
    {
     "data": {
      "text/plain": [
       "Dict{String,Any} with 9 entries:\n",
       "  \"Efficiency Gap\"           => -9.82508e-13\n",
       "  \"Solve Status\"             => :Optimal\n",
       "  \"Wasted Over Votes\"        => [0.0 3.0; 18.0 0.0; 35.0 0.0]\n",
       "  \"Wasted Under Votes\"       => [97.0 0.0; 0.0 82.0; 0.0 65.0]\n",
       "  \"Model\"                    => Minimization problem with:…\n",
       "  \"Total Wasted Votes [D R]\" => [150.0 150.0]\n",
       "  \"Votes By District\"        => [97.0 103.0; 118.0 82.0; 135.0 65.0]\n",
       "  \"District Assignments\"     => [0.0 1.0 1.0; 0.0 0.0 1.0; … ; 1.0 0.0 0.0; 1.0…\n",
       "  \"Common Size\"              => 66.6667"
      ]
     },
     "execution_count": 9,
     "metadata": {},
     "output_type": "execute_result"
    }
   ],
   "source": [
    "res = degerry(V,C, 3, 2)\n",
    "res[\"District Assignments\"]\n",
    "res"
   ]
  },
  {
   "cell_type": "code",
   "execution_count": 54,
   "metadata": {},
   "outputs": [
    {
     "name": "stdout",
     "output_type": "stream",
     "text": [
      "objective: 459.0\n"
     ]
    },
    {
     "data": {
      "text/plain": [
       "2×2 Array{Float64,2}:\n",
       " 183.0  117.0\n",
       "  92.0  108.0"
      ]
     },
     "execution_count": 54,
     "metadata": {},
     "output_type": "execute_result"
    }
   ],
   "source": [
    "println(\"objective: \", getobjectivevalue(m))\n",
    "\n",
    "\n",
    "_D = getvalue(D)\n",
    "_D' * V\n"
   ]
  },
  {
   "cell_type": "code",
   "execution_count": 56,
   "metadata": {},
   "outputs": [
    {
     "data": {
      "text/plain": [
       "2×2 Array{Float64,2}:\n",
       " -0.0  117.0\n",
       " 92.0   -0.0"
      ]
     },
     "execution_count": 56,
     "metadata": {},
     "output_type": "execute_result"
    }
   ],
   "source": [
    "getvalue(wasted_u)"
   ]
  },
  {
   "cell_type": "code",
   "execution_count": 57,
   "metadata": {},
   "outputs": [
    {
     "name": "stdout",
     "output_type": "stream",
     "text": [
      "common size: 250.0"
     ]
    },
    {
     "data": {
      "text/plain": [
       "2-element Array{Float64,1}:\n",
       " 300.0\n",
       " 200.0"
      ]
     },
     "execution_count": 57,
     "metadata": {},
     "output_type": "execute_result"
    }
   ],
   "source": [
    "# size of each district\n",
    "print(\"common size: \", getvalue(common_size))\n",
    "(_D' * V) * [1;1]\n"
   ]
  },
  {
   "cell_type": "code",
   "execution_count": 58,
   "metadata": {},
   "outputs": [
    {
     "data": {
      "text/plain": [
       "2×2 Array{Float64,2}:\n",
       " 33.0  -0.0\n",
       " -0.0   8.0"
      ]
     },
     "execution_count": 58,
     "metadata": {},
     "output_type": "execute_result"
    }
   ],
   "source": [
    "getvalue(wasted_o)"
   ]
  },
  {
   "cell_type": "code",
   "execution_count": 59,
   "metadata": {},
   "outputs": [
    {
     "data": {
      "text/plain": [
       "0.0"
      ]
     },
     "execution_count": 59,
     "metadata": {},
     "output_type": "execute_result"
    }
   ],
   "source": [
    "getvalue(eff_gap)"
   ]
  },
  {
   "cell_type": "code",
   "execution_count": 60,
   "metadata": {},
   "outputs": [
    {
     "data": {
      "text/plain": [
       "5×2 Array{Float64,2}:\n",
       " 1.0  0.0\n",
       " 1.0  0.0\n",
       " 0.0  1.0\n",
       " 1.0  0.0\n",
       " 0.0  1.0"
      ]
     },
     "execution_count": 60,
     "metadata": {},
     "output_type": "execute_result"
    }
   ],
   "source": [
    "_D"
   ]
  },
  {
   "cell_type": "code",
   "execution_count": 101,
   "metadata": {},
   "outputs": [
    {
     "data": {
      "text/plain": [
       "5×2 Array{Float64,2}:\n",
       " 75.0  25.0\n",
       " 60.0  40.0\n",
       " 43.0  57.0\n",
       " 48.0  52.0\n",
       " 49.0  51.0"
      ]
     },
     "execution_count": 101,
     "metadata": {},
     "output_type": "execute_result"
    }
   ],
   "source": [
    "V = [75 25; 60 40; 43 57; 48 52; 49 51]\n",
    "\n",
    "D = eye(5)\n",
    "(D' * V) \n",
    "ceil.(V * ones(2,1) / 2 + 0.1)\n",
    "V\n",
    "D' * V"
   ]
  },
  {
   "cell_type": "code",
   "execution_count": 72,
   "metadata": {},
   "outputs": [
    {
     "data": {
      "text/plain": [
       "10"
      ]
     },
     "execution_count": 72,
     "metadata": {},
     "output_type": "execute_result"
    }
   ],
   "source": [
    "function _f(x; y = 3, z = 4)\n",
    "    return Dict([(\"a\",x),(\"b\",y),(\"c\",z)])\n",
    "end\n",
    "d = _f(4, z = 10, y = 1)\n",
    "# d = Dict([(\"a\",1), (\"b\", \"hello\")])\n",
    "d[\"c\"]"
   ]
  },
  {
   "cell_type": "code",
   "execution_count": 98,
   "metadata": {},
   "outputs": [
    {
     "name": "stdout",
     "output_type": "stream",
     "text": [
      "  0.000317 seconds (51 allocations: 3.609 KiB)\n",
      "Optimal"
     ]
    }
   ],
   "source": [
    "function _g()\n",
    "    m = Model(solver = GLPKSolverLP())\n",
    "    @objective(m, Max, 1)\n",
    "    @time begin \n",
    "        status = solve(m)\n",
    "    end\n",
    "    print(status)\n",
    "end\n",
    "\n",
    "_g()"
   ]
  },
  {
   "cell_type": "code",
   "execution_count": null,
   "metadata": {},
   "outputs": [],
   "source": []
  }
 ],
 "metadata": {
  "kernelspec": {
   "display_name": "Julia 0.6.0",
   "language": "julia",
   "name": "julia-0.6"
  },
  "language_info": {
   "file_extension": ".jl",
   "mimetype": "application/julia",
   "name": "julia",
   "version": "0.6.0"
  }
 },
 "nbformat": 4,
 "nbformat_minor": 1
}
