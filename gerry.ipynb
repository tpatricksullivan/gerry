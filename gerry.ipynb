{
 "cells": [
  {
   "cell_type": "markdown",
   "metadata": {},
   "source": [
    "# Gerrymandering and the Redistricting Problem\n",
    "\n",
    "## Assumptions\n",
    "\n",
    "We assume a 2-party system with the parties represented as \"D\" and \"R\". We start by only using one period's worth of historical data. \n",
    "\n",
    "## Data Inputs\n",
    "\n",
    "The expected number of votes for each party is a key data input for our constraints. We represent this with a matrix, $\\mathbf{V}$. Since we have two parties, the matrix has the following shape.\n",
    "\n",
    "$$ \\mathbf{V} \\in \\mathbb{R}^{|blocks| \\times 2} $$\n",
    "\n",
    "$blocks$ is a set where $|blocks|$ is the number of elements in the set. By convention, the first column of $\\mathbf{V}$ will be D votes and the second column R votes. $\\mathbf{V}$ could represent a single past election's results, or it could be an expected upcoming result based on an exogenous model.\n",
    "\n",
    "## Variables\n",
    "\n",
    "We represent the variables with a matrix. Each row of the matrix represents an indivisible block (precint, county, or census area depending on the conventions of the problem). The columns represent assignment to a district. The matrix is made up of zeroes or ones, and each row must have exactly one entry equal to one, meaning that each row must be in one and only one district. $districts$ is a set where $|districts|$ is the number of elements in each set. \n",
    "\n",
    "$$ \n",
    "\\mathbf{D} \\in \\{0,1\\}^{|blocks| \\times |districts|}. \n",
    "$$\n",
    "\n",
    "For ease of interpretation, we're going to define another variable that represents the \"efficiency gap\" in votes. To do this, we need to know the number of expected votes for each party in each block and the assignment of blocks to districts. $\\mathbf{D}^T \\mathbf{V} \\in \\mathbb{R}^{|districts| \\times 2} $ gives us a matrix of the number of D and R votes in each district. The efficiency gap can be calculated from the seat margin and vote margin. [Brennan Center](https://www.brennancenter.org/sites/default/files/legal-work/How_the_Efficiency_Gap_Standard_Works.pdf)\n",
    "\n",
    "$$ \\text{Efficiency Gap} = (\\text{Seat Margin} - 50\\%) - 2 ( \\text{Vote Margin} - 50\\% ) $$\n",
    "\n",
    "The vote margin is easily calculated by multiplying $\\mathbf{D^TV}$ by a vector of ones, $\\mathbf{j}$, and subtracting the elements. The seat margin is trickier, since we need to determine which of the two parties is the winner for any given potential solution.  We do this by introducing another vector of variables $\\mathbf{w}\\in \\{0,1\\}^{|districts|}$, indicating if D won the given seat (or district). \n",
    "\n",
    "$$ \\mathbf{w}\\in \\{0,1\\}^{|districts|} $$\n",
    "\n",
    "When we include $w$ in our objective with an appropriately large penalty, the optimization problem will set $w_i = 1$ if D won the seat and $0$ otherwise. Our constraints will ensure this. So the margin variables are now: \n",
    "\n",
    "$$ \\text{Seat Margin} = \\frac{ (\\mathbf{w}\\cdot \\mathbf{j} - (1-\\mathbf{w})\\cdot \\mathbf{j} )}{|districts| } $$\n",
    "\n",
    "$$ \\text{Vote Margin} = \\frac{\\mathbf{j^TD^TV} \\left[ \\begin{array}{c} 1 \\\\ -1 \\end{array} \\right]}{\\mathbf{j^TVj}} $$\n",
    "\n",
    "In a given district's race, the number of wasted votes can be calculated szz\n",
    "\n",
    "\n",
    "## Constraints\n",
    "\n",
    "To force the $\\mathbf{w}$ variable, set a constraint (vector valued):\n",
    "$$ \\mathbf{D^TV} \\left[ \\begin{array}{c} 1 \\\\ -1 \\end{array} \\right] \\geq \\mathbf{w} $$. \n",
    "\n",
    "\n"
   ]
  },
  {
   "cell_type": "markdown",
   "metadata": {},
   "source": [
    "## Example Problem"
   ]
  },
  {
   "cell_type": "code",
   "execution_count": 3,
   "metadata": {
    "collapsed": false
   },
   "outputs": [
    {
     "data": {
      "text/plain": [
       "5×2 Array{Int64,2}:\n",
       " 75  25\n",
       " 60  40\n",
       " 43  57\n",
       " 48  52\n",
       " 49  51"
      ]
     },
     "execution_count": 3,
     "metadata": {},
     "output_type": "execute_result"
    }
   ],
   "source": [
    "V = [75 25; 60 40; 43 57; 48 52; 49 51]\n"
   ]
  },
  {
   "cell_type": "code",
   "execution_count": 66,
   "metadata": {
    "collapsed": false
   },
   "outputs": [],
   "source": [
    "using JuMP \n",
    "using AmplNLWriter\n",
    "using CoinOptServices\n",
    "using ECOS\n",
    "using GLPKMathProgInterface\n",
    "using NLopt"
   ]
  },
  {
   "cell_type": "code",
   "execution_count": 85,
   "metadata": {
    "collapsed": false
   },
   "outputs": [
    {
     "data": {
      "text/latex": [
       "$$ \\begin{alignat*}{1}\\min\\quad & abs_eff_gap\\\\\n",
       "\\text{Subject to} \\quad & D_{1,1} = 1\\\\\n",
       " & D_{2,1} = 0\\\\\n",
       " & D_{3,1} = 0\\\\\n",
       " & D_{4,1} = 0\\\\\n",
       " & D_{5,1} = 0\\\\\n",
       " & D_{1,2} = 0\\\\\n",
       " & D_{2,2} = 1\\\\\n",
       " & D_{3,2} = 0\\\\\n",
       " & D_{4,2} = 0\\\\\n",
       " & D_{5,2} = 0\\\\\n",
       " & D_{1,3} = 0\\\\\n",
       " & D_{2,3} = 0\\\\\n",
       " & D_{3,3} = 1\\\\\n",
       " & D_{4,3} = 0\\\\\n",
       " & D_{5,3} = 0\\\\\n",
       " & D_{1,4} = 0\\\\\n",
       " & D_{2,4} = 0\\\\\n",
       " & D_{3,4} = 0\\\\\n",
       " & D_{4,4} = 1\\\\\n",
       " & D_{5,4} = 0\\\\\n",
       " & D_{1,5} = 0\\\\\n",
       " & D_{2,5} = 0\\\\\n",
       " & D_{3,5} = 0\\\\\n",
       " & D_{4,5} = 0\\\\\n",
       " & D_{5,5} = 1\\\\\n",
       " & D_{1,1} + D_{1,2} + D_{1,3} + D_{1,4} + D_{1,5} = 1\\\\\n",
       " & D_{2,1} + D_{2,2} + D_{2,3} + D_{2,4} + D_{2,5} = 1\\\\\n",
       " & D_{3,1} + D_{3,2} + D_{3,3} + D_{3,4} + D_{3,5} = 1\\\\\n",
       " & D_{4,1} + D_{4,2} + D_{4,3} + D_{4,4} + D_{4,5} = 1\\\\\n",
       " & D_{5,1} + D_{5,2} + D_{5,3} + D_{5,4} + D_{5,5} = 1\\\\\n",
       " & wasted_{1,1} \\geq 0\\\\\n",
       " & wasted_{2,1} \\geq 0\\\\\n",
       " & wasted_{3,1} \\geq 0\\\\\n",
       " & wasted_{4,1} \\geq 0\\\\\n",
       " & wasted_{5,1} \\geq 0\\\\\n",
       " & wasted_{1,2} \\geq 0\\\\\n",
       " & wasted_{2,2} \\geq 0\\\\\n",
       " & wasted_{3,2} \\geq 0\\\\\n",
       " & wasted_{4,2} \\geq 0\\\\\n",
       " & wasted_{5,2} \\geq 0\\\\\n",
       " & wasted_{1,1} - 75 D_{1,1} - 60 D_{2,1} - 43 D_{3,1} - 48 D_{4,1} - 49 D_{5,1} \\geq -51\\\\\n",
       " & wasted_{2,1} - 75 D_{1,2} - 60 D_{2,2} - 43 D_{3,2} - 48 D_{4,2} - 49 D_{5,2} \\geq -51\\\\\n",
       " & wasted_{3,1} - 75 D_{1,3} - 60 D_{2,3} - 43 D_{3,3} - 48 D_{4,3} - 49 D_{5,3} \\geq -51\\\\\n",
       " & wasted_{4,1} - 75 D_{1,4} - 60 D_{2,4} - 43 D_{3,4} - 48 D_{4,4} - 49 D_{5,4} \\geq -51\\\\\n",
       " & wasted_{5,1} - 75 D_{1,5} - 60 D_{2,5} - 43 D_{3,5} - 48 D_{4,5} - 49 D_{5,5} \\geq -51\\\\\n",
       " & wasted_{1,2} - 25 D_{1,1} - 40 D_{2,1} - 57 D_{3,1} - 52 D_{4,1} - 51 D_{5,1} \\geq -51\\\\\n",
       " & wasted_{2,2} - 25 D_{1,2} - 40 D_{2,2} - 57 D_{3,2} - 52 D_{4,2} - 51 D_{5,2} \\geq -51\\\\\n",
       " & wasted_{3,2} - 25 D_{1,3} - 40 D_{2,3} - 57 D_{3,3} - 52 D_{4,3} - 51 D_{5,3} \\geq -51\\\\\n",
       " & wasted_{4,2} - 25 D_{1,4} - 40 D_{2,4} - 57 D_{3,4} - 52 D_{4,4} - 51 D_{5,4} \\geq -51\\\\\n",
       " & wasted_{5,2} - 25 D_{1,5} - 40 D_{2,5} - 57 D_{3,5} - 52 D_{4,5} - 51 D_{5,5} \\geq -51\\\\\n",
       " & eff_gap - wasted_{1,1} - wasted_{2,1} - wasted_{3,1} - wasted_{4,1} - wasted_{5,1} + wasted_{1,2} + wasted_{2,2} + wasted_{3,2} + wasted_{4,2} + wasted_{5,2} = 0\\\\\n",
       " & eff_gap - wasted_{1,1} - wasted_{2,1} - wasted_{3,1} - wasted_{4,1} - wasted_{5,1} + wasted_{1,2} + wasted_{2,2} + wasted_{3,2} + wasted_{4,2} + wasted_{5,2} = 0\\\\\n",
       " & abs_eff_gap - eff_gap \\geq 0\\\\\n",
       " & abs_eff_gap + eff_gap \\geq 0\\\\\n",
       " & D_{i,j} \\in \\{0,1\\} \\quad\\forall i \\in \\{1,2,3,4,5\\}, j \\in \\{1,2,3,4,5\\}\\\\\n",
       " & w_{i} \\in \\{0,1\\} \\quad\\forall i \\in \\{1,2,3,4,5\\}\\\\\n",
       " & wasted_{i,j} \\quad\\forall i \\in \\{1,2,3,4,5\\}, j \\in \\{1,2\\}\\\\\n",
       " & eff_gap\\\\\n",
       " & abs_eff_gap\\\\\n",
       "\\end{alignat*}\n",
       " $$"
      ],
      "text/plain": [
       "Minimization problem with:\n",
       " * 54 linear constraints\n",
       " * 42 variables: 30 binary\n",
       "Solver is GLPKInterfaceMIP"
      ]
     },
     "execution_count": 85,
     "metadata": {},
     "output_type": "execute_result"
    }
   ],
   "source": [
    "blocks = size(V,1)\n",
    "districts = 5\n",
    "t = ones(districts,1)\n",
    "total_vote = V * ones(2,1)\n",
    "winning_vote = ceil.(total_vote / 2 + 0.1)\n",
    "\n",
    "\n",
    "\n",
    "#m = Model(solver = AmplNLSolver(CoinOptServices.bonmin) )\n",
    "# m = Model(solver = ECOSSolver() )\n",
    "m = Model(solver = GLPKSolverMIP())\n",
    "# m = Model(solver=NLoptSolver(algorithm=:LD_SLSQP))\n",
    "\n",
    "## Variables \n",
    "\n",
    "@variable(m, 0 <= D[i=1:blocks,j=1:districts] <= 1 , Bin)\n",
    "@variable(m, 0 <= w[i=1:districts] <= 1, Bin)\n",
    "@variable(m, eff_gap)\n",
    "@variable(m, abs_eff_gap)\n",
    "@variable(m, wasted[i=1:districts, j=1:2])\n",
    "\n",
    "\n",
    "## Constraints\n",
    "\n",
    "@constraint(m, D .== eye(5))\n",
    "\n",
    "@constraint(m, D * ones(districts,1) .== 1)  # each block can be in only one district\n",
    "\n",
    "#@constraint(m, (D' * V) * [1;-1] .>= w) # calculate each district's winner\n",
    "#for i in 1:districts\n",
    "    #@NLconstraint(m, (D' * V)[i,1] * (1-w[i]) + ((D' * V)[i,1] - winning_vote[i])* w[i] == wasted[i,1] )  # calculate wasted votes for dems\n",
    "#    @NLconstraint(m, (D' * V)[i,2] * w[i] + ((D' * V)[i,2] - winning_vote[i])* (1-w[i]) == wasted[i,2] )  # calculate wasted votes for reps    \n",
    "#end\n",
    "\n",
    "\n",
    "@constraint(m, wasted .>= 0)\n",
    "@constraint(m, wasted .>= (D' * V) - winning_vote * ones(1,2) )\n",
    "#@constraint(m, wasted[i=1:districts,2] .>= (D' * V)[:,2] - winning_vote )\n",
    "# @constraint(m, wasted * ones(2,1) .== total_vote- winning_vote)\n",
    "\n",
    "@constraint(m, eff_gap .== ones(2,districts) * wasted * [1;-1]  )\n",
    "\n",
    "@constraint(m, abs_eff_gap >= eff_gap)\n",
    "@constraint(m, abs_eff_gap >= - eff_gap)\n",
    "\n",
    "## Objective\n",
    "\n",
    "@objective(m, Min, abs_eff_gap ) #+ sum(w) )\n",
    "\n",
    "m"
   ]
  },
  {
   "cell_type": "code",
   "execution_count": 86,
   "metadata": {
    "collapsed": false
   },
   "outputs": [
    {
     "name": "stdout",
     "output_type": "stream",
     "text": [
      "  0.001218 seconds (176 allocations: 31.516 KiB)\n",
      "objective: 0.0\n",
      "-0.0"
     ]
    },
    {
     "data": {
      "text/plain": [
       "5×2 Array{Float64,2}:\n",
       " 24.0  -0.0\n",
       "  9.0  -0.0\n",
       " -0.0   6.0\n",
       " -0.0   1.0\n",
       " -0.0  26.0"
      ]
     },
     "execution_count": 86,
     "metadata": {},
     "output_type": "execute_result"
    }
   ],
   "source": [
    "@time begin\n",
    "    status = solve(m)\n",
    "end\n",
    "println(\"objective: \", getobjectivevalue(m))\n",
    "_D = getvalue(D)\n",
    "_abs_eff_gap = getvalue(abs_eff_gap)\n",
    "\n",
    "print(_abs_eff_gap)\n",
    "\n",
    "_D' * V\n",
    "getvalue(wasted)"
   ]
  },
  {
   "cell_type": "code",
   "execution_count": 58,
   "metadata": {
    "collapsed": false
   },
   "outputs": [
    {
     "data": {
      "text/plain": [
       "5×2 Array{Float64,2}:\n",
       " 51.0  51.0\n",
       " 51.0  51.0\n",
       " 51.0  51.0\n",
       " 51.0  51.0\n",
       " 51.0  51.0"
      ]
     },
     "execution_count": 58,
     "metadata": {},
     "output_type": "execute_result"
    }
   ],
   "source": [
    "winning_vote * ones(1,2)"
   ]
  },
  {
   "cell_type": "code",
   "execution_count": 107,
   "metadata": {
    "collapsed": false
   },
   "outputs": [
    {
     "data": {
      "text/plain": [
       "2×2 Array{Float64,2}:\n",
       " 172.0  128.0\n",
       " 103.0   97.0"
      ]
     },
     "execution_count": 107,
     "metadata": {},
     "output_type": "execute_result"
    }
   ],
   "source": [
    "_D' * V"
   ]
  },
  {
   "cell_type": "code",
   "execution_count": 38,
   "metadata": {
    "collapsed": false
   },
   "outputs": [
    {
     "data": {
      "text/plain": [
       "5×2 Array{Float64,2}:\n",
       " 75.0  25.0\n",
       " 60.0  40.0\n",
       " 43.0  57.0\n",
       " 48.0  52.0\n",
       " 49.0  51.0"
      ]
     },
     "execution_count": 38,
     "metadata": {},
     "output_type": "execute_result"
    }
   ],
   "source": [
    "V = [75 25; 60 40; 43 57; 48 52; 49 51]\n",
    "\n",
    "D = eye(5)\n",
    "(D' * V) \n",
    "ceil.(V * ones(2,1) / 2 + 0.1)\n",
    "V\n",
    "D' * V"
   ]
  },
  {
   "cell_type": "code",
   "execution_count": 80,
   "metadata": {
    "collapsed": false
   },
   "outputs": [
    {
     "name": "stderr",
     "output_type": "stream",
     "text": [
      "\u001b[1m\u001b[36mINFO: \u001b[39m\u001b[22m\u001b[36mNo packages to install, update or remove\n",
      "\u001b[39m\u001b[1m\u001b[36mINFO: \u001b[39m\u001b[22m\u001b[36mPackage database updated\n",
      "\u001b[39m\u001b[1m\u001b[36mINFO: \u001b[39m\u001b[22m\u001b[36mMETADATA is out-of-date — you may not have the latest version of Ipopt\n",
      "\u001b[39m\u001b[1m\u001b[36mINFO: \u001b[39m\u001b[22m\u001b[36mUse `Pkg.update()` to get the latest versions of your packages\n",
      "\u001b[39m"
     ]
    }
   ],
   "source": [
    "Pkg.add(\"Ipopt\")"
   ]
  }
 ],
 "metadata": {
  "kernelspec": {
   "display_name": "Julia 0.6.0",
   "language": "julia",
   "name": "julia-0.6"
  },
  "language_info": {
   "file_extension": ".jl",
   "mimetype": "application/julia",
   "name": "julia",
   "version": "0.6.0"
  }
 },
 "nbformat": 4,
 "nbformat_minor": 0
}
