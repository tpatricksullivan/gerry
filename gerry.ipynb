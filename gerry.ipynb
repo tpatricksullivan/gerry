{
 "cells": [
  {
   "cell_type": "markdown",
   "metadata": {
    "slideshow": {
     "slide_type": "slide"
    }
   },
   "source": [
    "# Solving the Redistricting Problem\n",
    "\n",
    "## Assumptions\n",
    "\n",
    " - We assume a 2-party system. \n",
    " - We only use one period's worth of historical data. \n",
    " - We also assume that all available voters voted (no one abstained) in our historical data. \n",
    " "
   ]
  },
  {
   "cell_type": "markdown",
   "metadata": {
    "slideshow": {
     "slide_type": "fragment"
    }
   },
   "source": [
    "## Conventions\n",
    "\n",
    " - We call the lowest, indivisible unit a \"block\".\n",
    " - Blocks are partitioned into \"districts\". "
   ]
  },
  {
   "cell_type": "markdown",
   "metadata": {
    "slideshow": {
     "slide_type": "slide"
    }
   },
   "source": [
    "## Data Inputs\n",
    "\n",
    "### Votes\n",
    "The expected number of votes for each party is a key data input for our constraints. We represent this with a matrix, $\\mathbf{V}$. Since we have two parties, the matrix has the following shape.\n",
    "\n",
    "$$ \\mathbf{V} \\in \\mathbb{R}^{|blocks| \\times 2} $$\n",
    "\n",
    "$blocks$ is a set where $|blocks|$ is the number of elements in the set. By convention, the first column of $\\mathbf{V}$ will be D votes and the second column R votes. $\\mathbf{V}$ could represent a single past election's results, or it could be an expected upcoming result based on an exogenous model."
   ]
  },
  {
   "cell_type": "markdown",
   "metadata": {
    "slideshow": {
     "slide_type": "fragment"
    }
   },
   "source": [
    "### Contiguity (or Adjacency)\n",
    "The second major input is a matrix specifying which blocks are contiguous with each other, meaning that they share a border. This matrix has the following shape:\n",
    "\n",
    "$$ \\mathbf{C} \\in \\mathbb{R}^{|blocks| \\times |blocks|} $$\n",
    "\n",
    "The elements of the matrix are defined as \n",
    "\n",
    "$$ c_{ij} = \\left\\{ \\begin{array}{cc} 1 & \\text{block i borders block j} \\\\ 0 & \\text{otherwise} \\end{array} \\right. $$"
   ]
  },
  {
   "cell_type": "markdown",
   "metadata": {
    "slideshow": {
     "slide_type": "slide"
    }
   },
   "source": [
    "## Objective \n",
    "\n",
    "Our objective uses the concept of the \"efficiency gap\". See [Brennan Center](https://www.brennancenter.org/sites/default/files/legal-work/How_the_Efficiency_Gap_Standard_Works.pdf). The efficiency gap depends on a concept of \"wasted votes\". A party is using votes efficiently if \n",
    "\n",
    "Votes can be wasted in two ways. A vote cast for a losing candidate is \"wasted\", and votes cast for a winning candidate in excess of the amount needed to win are also wasted. The efficiency gap is a signed number so it can be in favor of one party or another. We arbitrarily chose to do it from the perspective of the \"D\" party. So a positive efficiency gap favors the R party. \n",
    "\n",
    "$$ \\text{Efficiency Gap} = \\text{D wasted votes} - \\text{R wasted votes} $$"
   ]
  },
  {
   "cell_type": "markdown",
   "metadata": {
    "slideshow": {
     "slide_type": "slide"
    }
   },
   "source": [
    "## Variables\n",
    "\n",
    "There are several variables in the model. The key variable is a matrix where each row of the matrix represents an indivisible block (precint, county, or census area depending on the conventions of the problem). The columns represent assignment to a district. The matrix is made up of zeroes or ones, and each row must have exactly one entry equal to one, meaning that each row must be in one and only one district. $districts$ is a set where $|districts|$ is the number of elements in each set. \n",
    "\n",
    "$$ \n",
    "\\mathbf{D} \\in \\{0,1\\}^{|blocks| \\times |districts|}. \n",
    "$$\n",
    "\n",
    "Several other variables are necessary to set up the problem in a linear fashion. These are best explained in the context of each constraint.\n",
    "\n",
    "## Constraints\n",
    "\n",
    "### Each Block Is In Exactly One District\n",
    "\n",
    "This constraint is easily expressed by saying that the sum of each row in the $D$ variable must be exactly one. \n",
    "\n",
    "$$ D \\left[ \\begin{array}{c} 1 \\\\ \\vdots \\\\ 1 \\end{array} \\right]  = \\left[ \\begin{array}{c} 1 \\\\ \\vdots \\\\ 1 \\end{array} \\right].$$\n",
    "\n",
    "### Calculate The Number of Wasted Votes for Losing Party\n",
    "\n",
    "To calculate wasted votes for the losing party, we first have to know which party lost and what its vote total was. We need to know this for each district that is formed as a result of the optimization. A simple `min` function is not linear, and we desire a purely linear form of the problem. This can be achieved using the \"Big M\" method. See [Big M](https://en.wikipedia.org/wiki/Big_M_method). Suppose we are looking at the results in just one district, with vote totals $d$ and $r$. Then define two additional variables, $wastedUnder$ and $w$. Further choose a constant $M$ that is large enough. Then define two constraints as below.\n",
    "\n",
    "$$ \\begin{align}\n",
    "wastedUnder &\\geq d - Mw \\\\\n",
    "wastedUnder &\\geq r - M(1-w) \\\\\n",
    "wastedUnder &\\in \\mathbb{R} \\\\\n",
    "w &\\in {0,1}\n",
    "\\end{align} $$\n",
    "\n",
    "If we include $wastedUnder$ in the objective function to minimize it, then the optimizer will try to reduce it. If $d$ is smaller than $r$, it will minimize it by setting $w=0$, and allowing $wastedUnder = d$.  The other constraint is nonbinding in this case. Otherwise, it will set $w=1$, making the first constraint non-bonding and setting $wastedUnder = r$. Since $w$ must be either 0 or 1, then $wastedUnder$ will be the minimum. \n",
    "\n",
    "### Calculate Wasted Votes for the Winning Party\n",
    "\n",
    "Wasted votes for the winning party occur when the winning party gets more votes than is necessary to win. It is mostly simply calculate as \n",
    "$$\\max (0, \\text{winning votes} - \\text{threshhold to win} ).$$\n",
    "\n",
    "Because we want to avoid `max` functions, which are non-linear, we use a trick similar to the one we used for wasted votes for the losing party. Let $VotesToWin$ be the threshold to win (50% plus one). Then set up constraints as follows.\n",
    "\n",
    "$$\n",
    "\\begin{align}\n",
    "wastedOver & \\geq 0 \\\\\n",
    "wastedOver & \\geq d - VotesToWin \n",
    "\\end{align}\n",
    "$$\n",
    "\n",
    "If we include $wastedOver$ in the objective to minimize it, then it will be $0$ if the $D$ party lost and $D - VotesToWin$ otherwise. This is the value we seek.\n",
    "\n",
    "### Enforce Equal Sizes\n",
    "\n",
    "Equal sizes are enforced by setting a maximum district size equal to the average district size plus an additional margin. \n",
    "\n",
    "### Enforce Contiguity of Districts\n",
    "\n",
    "The contiguity constraint is the most difficult part. Many different approaches have been suggested. Here are two.\n",
    "\n",
    " - Flow model. In this approach, the district is represented as a graph with vertices and edges. Vertices are the blocks, and two vertices share an edge if two blocks are adjoining. Then each district is modeled as a network where a fluid can flow from one block to another only if they share an edge. Designate a node as the \"sink\" node. If fluid can flow from any node to the sink node, then the graph is connected. \n",
    " \n",
    " - Explicit enumeration. This is a two-phase approach. In the first phase, one generates a large (or possibly exhaustive) list of possible re-districtings that satisfy the constraints. Then, one searches among this list to find the optimal re-districting.\n",
    " \n",
    "For processing considerations, we chose the first approach. "
   ]
  },
  {
   "cell_type": "markdown",
   "metadata": {},
   "source": [
    "## Optimization Model Definition\n",
    "\n",
    "We are now able to define a general purpose function to use with different data sets and parameters."
   ]
  },
  {
   "cell_type": "code",
   "execution_count": 1,
   "metadata": {},
   "outputs": [],
   "source": [
    "using JuMP \n",
    "using GLPKMathProgInterface\n",
    "using Cbc\n",
    "using Gurobi\n",
    "using JLD"
   ]
  },
  {
   "cell_type": "code",
   "execution_count": 2,
   "metadata": {},
   "outputs": [
    {
     "data": {
      "text/plain": [
       "degerry (generic function with 2 methods)"
      ]
     },
     "execution_count": 2,
     "metadata": {},
     "output_type": "execute_result"
    }
   ],
   "source": [
    "function degerry(\n",
    "    votes,\n",
    "    contiguity_matrix, \n",
    "    number_districts,\n",
    "    common_size_threshold = 0.2; \n",
    "    solver = \"Cbc\", \n",
    "    effgap_factor = 1,\n",
    "    numeric_focus = 0\n",
    "    )\n",
    "    \n",
    "    _V = votes\n",
    "    _C = contiguity_matrix\n",
    "\n",
    "    blocks = size(_V,1)\n",
    "    districts = number_districts\n",
    "    total_vote = _V * ones(2,1)\n",
    "\n",
    "    # Do some checks\n",
    "    if any(_C != _C')\n",
    "        throw(ArgumentError(\"Contiguity matrix is not valid. It must be symmetric.\"))\n",
    "    end\n",
    "    \n",
    "    if !(solver in [\"Cbc\",\"Gurobi\"])\n",
    "        throw(ArgumentError(string(solver, \" is not a valid solver choice. Must be either Cbc or Gurobi\")))\n",
    "    end\n",
    "    \n",
    "    if solver == \"Cbc\"\n",
    "        m = Model(solver = CbcSolver())\n",
    "    else\n",
    "        m = Model(solver = GurobiSolver(Presolve=0, NumericFocus=numeric_focus))\n",
    "    end\n",
    "    \n",
    "    ## Variables\n",
    "\n",
    "    @variable(m, 0 <= D[i=1:blocks,j=1:districts] <= 1 , Bin)\n",
    "    \n",
    "    ## Constraints  \n",
    "\n",
    "    # each block can be in only one district\n",
    "    @constraint(m, D * ones(districts,1) .== 1)  \n",
    "    \n",
    "    # Each district must have at least one block\n",
    "    # @constraint(m, (D' * V) * [1;1] .>= 1)\n",
    "    \n",
    "    # fixed answer\n",
    "#     @constraint(m, D .== [ \n",
    "#          1.0  0.0  0.0;\n",
    "#          0.0  0.0  1.0;\n",
    "#          0.0  0.0  1.0;\n",
    "#          0.0  1.0  0.0;\n",
    "#          1.0  1.0  0.0])\n",
    "\n",
    "    # These constraints set wasted_u to the number of wasted votes for the losing party\n",
    "    @variable(m, 0 <= w[i=1:districts] <= 1, Bin)\n",
    "    @variable(m, wastedu[i=1:districts, j=1:2])\n",
    "    M = sum(total_vote) \n",
    "    @constraint(m, wastedu .>= 0)\n",
    "    @constraint(m, wastedu[:,1] .>= (D' * _V)[:,1] - M * w)\n",
    "    @constraint(m, wastedu[:,2] .>= (D' * _V)[:,2] - M * (1-w))\n",
    "\n",
    "    # These constraints set wasted_o to the number of wasted votes for the winning party\n",
    "    @variable(m, wastedo[i=1:districts, j=1:2])\n",
    "    @variable(m, votestowin[i=1:districts])\n",
    "    @constraint(m, votestowin .== (D' * _V) * [1;1] / 2)\n",
    "    @constraint(m, wastedo .>= 0)\n",
    "    @constraint(m, wastedo .>= (D' * _V) - votestowin * [1 1])\n",
    "\n",
    "    # These constraints calculate the efficiency gap\n",
    "    @variable(m, effgap)\n",
    "    @variable(m, abseffgap)\n",
    "    @constraint(m, effgap .== ones(1,districts) * (wastedu + wastedo) * [1;-1])\n",
    "    @constraint(m, abseffgap >= effgap )\n",
    "    @constraint(m, abseffgap >= - effgap )\n",
    "\n",
    "    # These constraints enforce roughly equal sizes. \n",
    "    # @variable(m, commonsize) # this approach is too slow\n",
    "    fixed_common_size = sum(_V) / districts\n",
    "    @constraint(m, (D' * _V) * [1;1] .<= fixed_common_size * (1+common_size_threshold))\n",
    "\n",
    "    # These constraints enforce contiguity, but we need to allow districts with only one block\n",
    "    @variable(m, 0 <= s[i=1:blocks,j=1:districts] <= 1, Bin)\n",
    "    @variable(m, Y[i=1:blocks, j=1:blocks, k=1:districts])\n",
    "    @constraint(m, - s .<= D)\n",
    "    @constraint(m, s .<= D)\n",
    "    M = 100\n",
    "    for k in 1:districts\n",
    "        @constraint(m, Y[:,:,k] .* _C .>= 0)\n",
    "        @constraint(m, Y[:,:,k] .* (1-_C) .== 0)\n",
    "        @constraint(m, Y[:,:,k] * ones(blocks,1) .<= (M-1) * D[:,k])\n",
    "        for i in 1:blocks\n",
    "            @constraint(m, sum(Y[i,:,k] .* _C[i,:] ) - sum(Y[:,i,k] .* _C[:,i] ) >= D[i,k] - M * s[i,k] )\n",
    "        end\n",
    "    end\n",
    "    @constraint(m, ones(1, blocks) * s .== 1)\n",
    "    \n",
    "    ## Objective\n",
    "\n",
    "    @objective(m, Min, abseffgap + sum(wastedu) + sum(wastedo) ) \n",
    "    \n",
    "    @time begin\n",
    "        status = solve(m)\n",
    "    end\n",
    "    \n",
    "    res = Dict([(\"Model\",m),\n",
    "            (\"Efficiency gap goal\", effgap_factor),\n",
    "        (\"Solve Status\", status), \n",
    "        (\"Efficiency Gap\", getvalue(abseffgap) ),\n",
    "        (\"Wasted Over Votes\", getvalue(wastedo)),\n",
    "        (\"Wasted Under Votes\", getvalue(wastedu)),\n",
    "        (\"Total Wasted Votes [D R]\", ones(1,districts) * ( getvalue(wastedu) + getvalue(wastedo))),\n",
    "        (\"Votes By District\", getvalue(D)' * _V), \n",
    "        # (\"Common Size\", getvalue(common_size)), \n",
    "        (\"Fixed Common Size\", fixed_common_size), \n",
    "        (\"District Assignments\", getvalue(D)), \n",
    "        (\"Total Vote Share\", sum(getvalue(D)' * _V,1) ), \n",
    "        (\"Total Seat Share\", sum( getvalue(D)' * _V .>= repmat(maximum((getvalue(D)' * _V),2),1,2), 1)  ), \n",
    "        (\"Number of blocks in each district\", sum(getvalue(D),1) ), \n",
    "        (\"Total votes in each district\", getvalue(D)' * _V * [1;1] ), \n",
    "            (\"s\", getvalue(s)),\n",
    "            (\"Y\", getvalue(Y))\n",
    "    ])\n",
    "    \n",
    "    return res\n",
    "end"
   ]
  },
  {
   "cell_type": "markdown",
   "metadata": {
    "slideshow": {
     "slide_type": "slide"
    }
   },
   "source": [
    "## Example Problem\n",
    "\n",
    "This is a simple problem used to show how the model works. "
   ]
  },
  {
   "cell_type": "code",
   "execution_count": 3,
   "metadata": {
    "slideshow": {
     "slide_type": "subslide"
    }
   },
   "outputs": [
    {
     "name": "stdout",
     "output_type": "stream",
     "text": [
      "  2.325578 seconds (122.31 k allocations: 6.693 MiB, 0.42% gc time)\n"
     ]
    },
    {
     "data": {
      "text/plain": [
       "Dict{String,Any} with 16 entries:\n",
       "  \"Wasted Under Votes\"                => [97.0 0.0; 0.0 179.0]\n",
       "  \"Total Vote Share\"                  => [318.0 282.0]\n",
       "  \"Efficiency gap goal\"               => 1\n",
       "  \"Votes By District\"                 => [97.0 103.0; 221.0 179.0]\n",
       "  \"Total votes in each district\"      => [200.0, 400.0]\n",
       "  \"s\"                                 => [0.0 1.0; 0.0 0.0; … ; 1.0 0.0; 0.0 0.…\n",
       "  \"Number of blocks in each district\" => [2.0 3.0]\n",
       "  \"Model\"                             => Minimization problem with:…\n",
       "  \"Fixed Common Size\"                 => 300.0\n",
       "  \"Y\"                                 => [0.0 0.0 … 0.0 0.0; 0.0 0.0 … 0.0 0.0;…\n",
       "  \"Efficiency Gap\"                    => 64.0\n",
       "  \"Solve Status\"                      => :Optimal\n",
       "  \"Total Seat Share\"                  => [1 1]\n",
       "  \"Wasted Over Votes\"                 => [0.0 3.0; 21.0 0.0]\n",
       "  \"Total Wasted Votes [D R]\"          => [118.0 182.0]\n",
       "  \"District Assignments\"              => [0.0 1.0; 0.0 1.0; … ; 1.0 0.0; 1.0 0.…"
      ]
     },
     "execution_count": 3,
     "metadata": {},
     "output_type": "execute_result"
    }
   ],
   "source": [
    "C = [ \n",
    "    1 1 1 0 0;\n",
    "    1 1 1 0 0;\n",
    "    1 1 1 1 1;\n",
    "    0 0 1 1 1;\n",
    "    0 0 1 1 1]\n",
    "V = [75 25; \n",
    "    60 40; \n",
    "    43*2 57*2; \n",
    "    48 52; \n",
    "    49 51]\n",
    "res = degerry(V,C, 2, 0.5, solver = \"Cbc\")\n"
   ]
  },
  {
   "cell_type": "code",
   "execution_count": 4,
   "metadata": {},
   "outputs": [
    {
     "data": {
      "text/plain": [
       "5×2 Array{Float64,2}:\n",
       " 0.0  1.0\n",
       " 0.0  1.0\n",
       " 0.0  1.0\n",
       " 1.0  0.0\n",
       " 1.0  0.0"
      ]
     },
     "metadata": {},
     "output_type": "display_data"
    },
    {
     "data": {
      "text/plain": [
       "2×2 Array{Float64,2}:\n",
       "  97.0  103.0\n",
       " 221.0  179.0"
      ]
     },
     "metadata": {},
     "output_type": "display_data"
    },
    {
     "data": {
      "text/plain": [
       "5×2 Array{Float64,2}:\n",
       " 0.0  1.0\n",
       " 0.0  0.0\n",
       " 0.0  0.0\n",
       " 1.0  0.0\n",
       " 0.0  0.0"
      ]
     },
     "metadata": {},
     "output_type": "display_data"
    },
    {
     "data": {
      "text/plain": [
       "5×5×2 Array{Float64,3}:\n",
       "[:, :, 1] =\n",
       " 0.0  0.0  0.0   0.0  0.0\n",
       " 0.0  0.0  0.0   0.0  0.0\n",
       " 0.0  0.0  0.0   0.0  0.0\n",
       " 0.0  0.0  0.0   0.0  0.0\n",
       " 0.0  0.0  0.0  99.0  0.0\n",
       "\n",
       "[:, :, 2] =\n",
       " 0.0  0.0  0.0  0.0  0.0\n",
       " 1.0  0.0  0.0  0.0  0.0\n",
       " 1.0  0.0  0.0  0.0  0.0\n",
       " 0.0  0.0  0.0  0.0  0.0\n",
       " 0.0  0.0  0.0  0.0  0.0"
      ]
     },
     "metadata": {},
     "output_type": "display_data"
    }
   ],
   "source": [
    "# print(\"District Assignments\")\n",
    "display(res[\"District Assignments\"])\n",
    "display(res[\"Votes By District\"])\n",
    "display(res[\"s\"])\n",
    "display(res[\"Y\"])"
   ]
  },
  {
   "cell_type": "code",
   "execution_count": 5,
   "metadata": {},
   "outputs": [
    {
     "data": {
      "text/plain": [
       "5×2 Array{Int64,2}:\n",
       " 75  25\n",
       " 60  40\n",
       " 43  57\n",
       " 48  52\n",
       " 49  51"
      ]
     },
     "metadata": {},
     "output_type": "display_data"
    },
    {
     "data": {
      "text/plain": [
       "5×5 Array{Int64,2}:\n",
       " 1  1  1  0  0\n",
       " 1  1  1  1  0\n",
       " 1  1  1  1  1\n",
       " 0  1  1  1  1\n",
       " 0  0  1  1  1"
      ]
     },
     "metadata": {},
     "output_type": "display_data"
    }
   ],
   "source": [
    "# These are the votes arranged in a matrix of size blocks x number of parties\n",
    "V = [75 25; 60 40; 43 57; 48 52; 49 51]\n",
    "display(V)\n",
    "\n",
    "# This is the contiguity matrix. C_{m,n} = 1 if block m shares a border with block n, 0 otherwise.\n",
    "C = [ \n",
    "    1 1 1 0 0;\n",
    "    1 1 1 1 0;\n",
    "    1 1 1 1 1;\n",
    "    0 1 1 1 1;\n",
    "    0 0 1 1 1;]\n",
    "display(C)\n",
    "\n",
    "# The example assumes the blocks are arranged as below.\n",
    "\n",
    "# |----------|\n",
    "# |A    | B  |\n",
    "# |-----|    |\n",
    "# |     |----|\n",
    "# | C   |    |\n",
    "# |     | D  |\n",
    "# |     |----|\n",
    "# |     | E  |\n",
    "# |-----|----|\n"
   ]
  },
  {
   "cell_type": "code",
   "execution_count": 6,
   "metadata": {},
   "outputs": [
    {
     "name": "stdout",
     "output_type": "stream",
     "text": [
      "Optimize a model with 251 rows, 125 columns and 641 nonzeros\n",
      "Coefficient statistics:\n",
      "  Matrix range    [0e+00, 5e+02]\n",
      "  Objective range [1e+00, 1e+00]\n",
      "  Bounds range    [1e+00, 1e+00]\n",
      "  RHS range       [1e+00, 5e+02]\n",
      "Warning: Model contains large matrix coefficient range\n",
      "         Consider reformulating model or setting NumericFocus parameter\n",
      "         to avoid numerical issues.\n",
      "Found heuristic solution: objective 366\n",
      "Variable types: 92 continuous, 33 integer (33 binary)\n",
      "\n",
      "Root relaxation: objective 5.000000e+01, 110 iterations, 0.00 seconds\n",
      "\n",
      "    Nodes    |    Current Node    |     Objective Bounds      |     Work\n",
      " Expl Unexpl |  Obj  Depth IntInf | Incumbent    BestBd   Gap | It/Node Time\n",
      "\n",
      "     0     0   50.00000    0    9  366.00000   50.00000  86.3%     -    0s\n",
      "     0     0   50.00000    0   20  366.00000   50.00000  86.3%     -    0s\n",
      "     0     0   50.00000    0   14  366.00000   50.00000  86.3%     -    0s\n",
      "     0     0   50.00000    0   21  366.00000   50.00000  86.3%     -    0s\n",
      "     0     0   50.00000    0   20  366.00000   50.00000  86.3%     -    0s\n",
      "     0     0   50.00000    0   18  366.00000   50.00000  86.3%     -    0s\n",
      "H    0     0                     250.0000000   50.00000  80.0%     -    0s\n",
      "     0     0   50.00000    0   17  250.00000   50.00000  80.0%     -    0s\n",
      "     0     0   50.00000    0   19  250.00000   50.00000  80.0%     -    0s\n",
      "     0     0   50.00000    0   17  250.00000   50.00000  80.0%     -    0s\n",
      "     0     0   50.00000    0   18  250.00000   50.00000  80.0%     -    0s\n",
      "     0     0   50.00000    0   18  250.00000   50.00000  80.0%     -    0s\n",
      "     0     2   50.00000    0   18  250.00000   50.00000  80.0%     -    0s\n",
      "\n",
      "Cutting planes:\n",
      "  Gomory: 6\n",
      "  MIR: 13\n",
      "\n",
      "Explored 409 nodes (2519 simplex iterations) in 0.11 seconds\n",
      "Thread count was 16 (of 16 available processors)\n",
      "\n",
      "Optimal solution found (tolerance 1.00e-04)\n",
      "Best objective 2.500000000000e+02, best bound 2.500000000000e+02, gap 0.0%\n",
      "  1.064275 seconds (165.32 k allocations: 8.745 MiB, 0.80% gc time)\n"
     ]
    },
    {
     "data": {
      "text/plain": [
       "Dict{String,Any} with 16 entries:\n",
       "  \"Wasted Under Votes\"                => [97.0 0.0; 0.0 40.0; 0.0 82.0]\n",
       "  \"Total Vote Share\"                  => [275.0 225.0]\n",
       "  \"Efficiency gap goal\"               => 1\n",
       "  \"Votes By District\"                 => [97.0 103.0; 60.0 40.0; 118.0 82.0]\n",
       "  \"Total votes in each district\"      => [200.0, 100.0, 200.0]\n",
       "  \"s\"                                 => [0.0 0.0 0.0; 0.0 1.0 0.0; … ; 1.0 0.0…\n",
       "  \"Number of blocks in each district\" => [2.0 1.0 2.0]\n",
       "  \"Model\"                             => Minimization problem with:…\n",
       "  \"Fixed Common Size\"                 => 166.667\n",
       "  \"Y\"                                 => [0.0 0.0 … 0.0 0.0; 0.0 0.0 … 0.0 0.0;…\n",
       "  \"Efficiency Gap\"                    => 0.0\n",
       "  \"Solve Status\"                      => :Optimal\n",
       "  \"Total Seat Share\"                  => [2 1]\n",
       "  \"Wasted Over Votes\"                 => [0.0 3.0; 10.0 0.0; 18.0 0.0]\n",
       "  \"Total Wasted Votes [D R]\"          => [125.0 125.0]\n",
       "  \"District Assignments\"              => [0.0 0.0 1.0; 0.0 1.0 0.0; … ; 1.0 0.0…"
      ]
     },
     "execution_count": 6,
     "metadata": {},
     "output_type": "execute_result"
    }
   ],
   "source": [
    "res = degerry(V,C, 3, 0.2, solver = \"Gurobi\")\n",
    "\n",
    "\n"
   ]
  },
  {
   "cell_type": "code",
   "execution_count": 7,
   "metadata": {},
   "outputs": [
    {
     "data": {
      "text/plain": [
       "5×3 Array{Float64,2}:\n",
       " 0.0  0.0  1.0\n",
       " 0.0  1.0  0.0\n",
       " 0.0  0.0  1.0\n",
       " 1.0  0.0  0.0\n",
       " 1.0  0.0  0.0"
      ]
     },
     "metadata": {},
     "output_type": "display_data"
    },
    {
     "data": {
      "text/plain": [
       "5×3 Array{Float64,2}:\n",
       " 0.0  0.0  0.0\n",
       " 0.0  1.0  0.0\n",
       " 0.0  0.0  1.0\n",
       " 1.0  0.0  0.0\n",
       " 0.0  0.0  0.0"
      ]
     },
     "metadata": {},
     "output_type": "display_data"
    },
    {
     "data": {
      "text/plain": [
       "5×5×3 Array{Float64,3}:\n",
       "[:, :, 1] =\n",
       " 0.0  0.0  0.0  0.0  0.0\n",
       " 0.0  0.0  0.0  0.0  0.0\n",
       " 0.0  0.0  0.0  0.0  0.0\n",
       " 0.0  0.0  0.0  0.0  0.0\n",
       " 0.0  0.0  0.0  1.0  0.0\n",
       "\n",
       "[:, :, 2] =\n",
       " 0.0  0.0  0.0  0.0  0.0\n",
       " 0.0  0.0  0.0  0.0  0.0\n",
       " 0.0  0.0  0.0  0.0  0.0\n",
       " 0.0  0.0  0.0  0.0  0.0\n",
       " 0.0  0.0  0.0  0.0  0.0\n",
       "\n",
       "[:, :, 3] =\n",
       " 0.0  0.0  1.0  0.0  0.0\n",
       " 0.0  0.0  0.0  0.0  0.0\n",
       " 0.0  0.0  0.0  0.0  0.0\n",
       " 0.0  0.0  0.0  0.0  0.0\n",
       " 0.0  0.0  0.0  0.0  0.0"
      ]
     },
     "metadata": {},
     "output_type": "display_data"
    }
   ],
   "source": [
    "display(res[\"District Assignments\"])\n",
    "display(res[\"s\"])\n",
    "display(res[\"Y\"])"
   ]
  },
  {
   "cell_type": "markdown",
   "metadata": {
    "slideshow": {
     "slide_type": "slide"
    }
   },
   "source": [
    "## Optimize Fairness With Realistic Data\n",
    "\n",
    "First load the data.\n",
    "\n"
   ]
  },
  {
   "cell_type": "code",
   "execution_count": 8,
   "metadata": {
    "slideshow": {
     "slide_type": "slide"
    }
   },
   "outputs": [
    {
     "data": {
      "text/html": [
       "<table class=\"data-frame\"><thead><tr><th></th><th>County</th><th>Pop</th><th>Dem</th><th>Rep</th><th>Wasted</th></tr></thead><tbody><tr><th>1</th><td>55079</td><td>940164</td><td>319819</td><td>149445</td><td>170374</td></tr><tr><th>2</th><td>55025</td><td>426526</td><td>205984</td><td>73065</td><td>132919</td></tr><tr><th>3</th><td>55133</td><td>360767</td><td>85339</td><td>145152</td><td>59813</td></tr><tr><th>4</th><td>55009</td><td>226778</td><td>67316</td><td>55903</td><td>11413</td></tr><tr><th>5</th><td>55101</td><td>188831</td><td>53408</td><td>45954</td><td>7454</td></tr><tr><th>6</th><td>55087</td><td>160971</td><td>50209</td><td>39563</td><td>10646</td></tr></tbody></table>"
      ],
      "text/plain": [
       "6×5 DataFrames.DataFrame\n",
       "│ Row │ County │ Pop    │ Dem    │ Rep    │ Wasted │\n",
       "├─────┼────────┼────────┼────────┼────────┼────────┤\n",
       "│ 1   │ 55079  │ 940164 │ 319819 │ 149445 │ 170374 │\n",
       "│ 2   │ 55025  │ 426526 │ 205984 │ 73065  │ 132919 │\n",
       "│ 3   │ 55133  │ 360767 │ 85339  │ 145152 │ 59813  │\n",
       "│ 4   │ 55009  │ 226778 │ 67316  │ 55903  │ 11413  │\n",
       "│ 5   │ 55101  │ 188831 │ 53408  │ 45954  │ 7454   │\n",
       "│ 6   │ 55087  │ 160971 │ 50209  │ 39563  │ 10646  │"
      ]
     },
     "execution_count": 8,
     "metadata": {},
     "output_type": "execute_result"
    }
   ],
   "source": [
    "# Load data\n",
    "using CSV, DataFrames\n",
    "WI_votes = CSV.read(\"data/Gerrymander County_election_data.csv\")\n",
    "WI_contiguity = CSV.read(\"data/Gerrymander County_contiguity V2.csv\", rows = 73)\n",
    "WI_V = convert(Array, WI_votes[:,3:4])\n",
    "WI_C = convert(Array, WI_contiguity[:,2:73])\n",
    "head(sort(WI_votes,cols=[:Pop],rev=true))"
   ]
  },
  {
   "cell_type": "code",
   "execution_count": 9,
   "metadata": {
    "slideshow": {
     "slide_type": "slide"
    }
   },
   "outputs": [
    {
     "name": "stdout",
     "output_type": "stream",
     "text": [
      "Is contiguity matrix valid: true\n",
      "Total votes cast: 2939604\n"
     ]
    },
    {
     "data": {
      "text/html": [
       "<table class=\"data-frame\"><thead><tr><th></th><th>County</th><th>Pop</th><th>Dem</th><th>Rep</th><th>Wasted</th><th>x1</th></tr></thead><tbody><tr><th>1</th><td>55079</td><td>940164</td><td>319819</td><td>149445</td><td>170374</td><td>0.175284</td></tr><tr><th>2</th><td>55025</td><td>426526</td><td>205984</td><td>73065</td><td>132919</td><td>0.0795212</td></tr><tr><th>3</th><td>55133</td><td>360767</td><td>85339</td><td>145152</td><td>59813</td><td>0.0672612</td></tr><tr><th>4</th><td>55009</td><td>226778</td><td>67316</td><td>55903</td><td>11413</td><td>0.0422803</td></tr><tr><th>5</th><td>55101</td><td>188831</td><td>53408</td><td>45954</td><td>7454</td><td>0.0352055</td></tr><tr><th>6</th><td>55087</td><td>160971</td><td>50209</td><td>39563</td><td>10646</td><td>0.0300113</td></tr><tr><th>7</th><td>55139</td><td>156763</td><td>48167</td><td>37946</td><td>10221</td><td>0.0292268</td></tr><tr><th>8</th><td>55105</td><td>152307</td><td>50529</td><td>27364</td><td>23165</td><td>0.028396</td></tr><tr><th>9</th><td>55059</td><td>149577</td><td>45836</td><td>31609</td><td>14227</td><td>0.027887</td></tr><tr><th>10</th><td>55073</td><td>125834</td><td>36367</td><td>30345</td><td>6022</td><td>0.0234604</td></tr><tr><th>11</th><td>55131</td><td>117493</td><td>25719</td><td>47729</td><td>22010</td><td>0.0219053</td></tr><tr><th>12</th><td>55117</td><td>112646</td><td>30395</td><td>30801</td><td>406</td><td>0.0210016</td></tr><tr><th>13</th><td>55063</td><td>107120</td><td>38523</td><td>23700</td><td>14823</td><td>0.0199714</td></tr><tr><th>14</th><td>55039</td><td>97296</td><td>23463</td><td>28164</td><td>4701</td><td>0.0181398</td></tr><tr><th>15</th><td>55127</td><td>93759</td><td>24177</td><td>25485</td><td>1308</td><td>0.0174804</td></tr><tr><th>16</th><td>55035</td><td>93142</td><td>33146</td><td>20959</td><td>12187</td><td>0.0173653</td></tr><tr><th>17</th><td>55027</td><td>85897</td><td>19183</td><td>23015</td><td>3832</td><td>0.0160146</td></tr><tr><th>18</th><td>55071</td><td>82887</td><td>22428</td><td>19234</td><td>3194</td><td>0.0154534</td></tr><tr><th>19</th><td>55089</td><td>82317</td><td>20579</td><td>32172</td><td>11593</td><td>0.0153471</td></tr><tr><th>20</th><td>55141</td><td>75555</td><td>21710</td><td>16581</td><td>5129</td><td>0.0140864</td></tr><tr><th>21</th><td>55055</td><td>74021</td><td>21443</td><td>21092</td><td>351</td><td>0.0138004</td></tr><tr><th>22</th><td>55097</td><td>67182</td><td>24817</td><td>13810</td><td>11007</td><td>0.0125254</td></tr><tr><th>23</th><td>55109</td><td>63155</td><td>21177</td><td>22837</td><td>1660</td><td>0.0117746</td></tr><tr><th>24</th><td>55111</td><td>55225</td><td>18617</td><td>11562</td><td>7055</td><td>0.0102961</td></tr><tr><th>25</th><td>55017</td><td>55195</td><td>16240</td><td>13493</td><td>2747</td><td>0.0102905</td></tr><tr><th>26</th><td>55021</td><td>52468</td><td>16661</td><td>12193</td><td>4468</td><td>0.0097821</td></tr><tr><th>27</th><td>55135</td><td>51731</td><td>12952</td><td>12232</td><td>720</td><td>0.00964469</td></tr><tr><th>28</th><td>55043</td><td>49597</td><td>14875</td><td>9068</td><td>5807</td><td>0.00924683</td></tr><tr><th>29</th><td>55005</td><td>44963</td><td>12078</td><td>10457</td><td>1621</td><td>0.00838287</td></tr><tr><th>30</th><td>55075</td><td>43384</td><td>11195</td><td>9726</td><td>1469</td><td>0.00808848</td></tr><tr><th>&vellip;</th><td>&vellip;</td><td>&vellip;</td><td>&vellip;</td><td>&vellip;</td><td>&vellip;</td><td>&vellip;</td></tr></tbody></table>"
      ],
      "text/plain": [
       "72×6 DataFrames.DataFrame\n",
       "│ Row │ County │ Pop    │ Dem    │ Rep    │ Wasted │ x1          │\n",
       "├─────┼────────┼────────┼────────┼────────┼────────┼─────────────┤\n",
       "│ 1   │ 55079  │ 940164 │ 319819 │ 149445 │ 170374 │ 0.175284    │\n",
       "│ 2   │ 55025  │ 426526 │ 205984 │ 73065  │ 132919 │ 0.0795212   │\n",
       "│ 3   │ 55133  │ 360767 │ 85339  │ 145152 │ 59813  │ 0.0672612   │\n",
       "│ 4   │ 55009  │ 226778 │ 67316  │ 55903  │ 11413  │ 0.0422803   │\n",
       "│ 5   │ 55101  │ 188831 │ 53408  │ 45954  │ 7454   │ 0.0352055   │\n",
       "│ 6   │ 55087  │ 160971 │ 50209  │ 39563  │ 10646  │ 0.0300113   │\n",
       "│ 7   │ 55139  │ 156763 │ 48167  │ 37946  │ 10221  │ 0.0292268   │\n",
       "│ 8   │ 55105  │ 152307 │ 50529  │ 27364  │ 23165  │ 0.028396    │\n",
       "│ 9   │ 55059  │ 149577 │ 45836  │ 31609  │ 14227  │ 0.027887    │\n",
       "│ 10  │ 55073  │ 125834 │ 36367  │ 30345  │ 6022   │ 0.0234604   │\n",
       "│ 11  │ 55131  │ 117493 │ 25719  │ 47729  │ 22010  │ 0.0219053   │\n",
       "⋮\n",
       "│ 61  │ 55129  │ 16036  │ 4693   │ 4303   │ 390    │ 0.00298974  │\n",
       "│ 62  │ 55077  │ 15832  │ 4068   │ 3654   │ 414    │ 0.00295171  │\n",
       "│ 63  │ 55099  │ 15822  │ 4559   │ 3461   │ 1098   │ 0.00294984  │\n",
       "│ 64  │ 55013  │ 15674  │ 4337   │ 4200   │ 137    │ 0.00292225  │\n",
       "│ 65  │ 55107  │ 15347  │ 3855   │ 3253   │ 602    │ 0.00286128  │\n",
       "│ 66  │ 55007  │ 15013  │ 5972   │ 3365   │ 2607   │ 0.00279901  │\n",
       "│ 67  │ 55011  │ 13804  │ 3949   │ 2926   │ 1023   │ 0.00257361  │\n",
       "│ 68  │ 55041  │ 10024  │ 2673   │ 1963   │ 710    │ 0.00186887  │\n",
       "│ 69  │ 55091  │ 7213   │ 2102   │ 1616   │ 486    │ 0.00134479  │\n",
       "│ 70  │ 55051  │ 6861   │ 1914   │ 1464   │ 450    │ 0.00127916  │\n",
       "│ 71  │ 55037  │ 5088   │ 1134   │ 1512   │ 378    │ 0.000948603 │\n",
       "│ 72  │ 55078  │ 4562   │ 1257   │ 185    │ 1072   │ 0.000850536 │"
      ]
     },
     "execution_count": 9,
     "metadata": {},
     "output_type": "execute_result"
    }
   ],
   "source": [
    "# Do some checks\n",
    "println(\"Is contiguity matrix valid: \", all(WI_C == WI_C') )\n",
    "\n",
    "println(\"Total votes cast: \", sum(WI_votes[:Dem]) + sum(WI_votes[:Rep])  )\n",
    "\n",
    "sort( [ WI_votes WI_votes[:Pop]/sum(WI_votes[:Pop])], cols =[:Pop], rev = true )         "
   ]
  },
  {
   "cell_type": "code",
   "execution_count": 10,
   "metadata": {
    "scrolled": true,
    "slideshow": {
     "slide_type": "slide"
    }
   },
   "outputs": [
    {
     "name": "stdout",
     "output_type": "stream",
     "text": [
      "Optimize a model with 32076 rows, 16004 columns and 80840 nonzeros\n",
      "Coefficient statistics:\n",
      "  Matrix range    [0e+00, 3e+06]\n",
      "  Objective range [1e+00, 1e+00]\n",
      "  Bounds range    [1e+00, 1e+00]\n",
      "  RHS range       [1e+00, 3e+06]\n",
      "Warning: Model contains large matrix coefficient range\n",
      "         Consider reformulating model or setting NumericFocus parameter\n",
      "         to avoid numerical issues.\n",
      "Variable types: 15569 continuous, 435 integer (435 binary)\n",
      "\n",
      "Root relaxation: objective 4.148180e+05, 1568 iterations, 0.03 seconds\n",
      "\n",
      "    Nodes    |    Current Node    |     Objective Bounds      |     Work\n",
      " Expl Unexpl |  Obj  Depth IntInf | Incumbent    BestBd   Gap | It/Node Time\n",
      "\n",
      "     0     0 414818.000    0   17          - 414818.000      -     -    0s\n",
      "     0     0 414818.000    0   63          - 414818.000      -     -    0s\n",
      "     0     0 414818.000    0   27          - 414818.000      -     -    0s\n",
      "     0     0 414818.000    0   31          - 414818.000      -     -    1s\n",
      "     0     0 414818.000    0   27          - 414818.000      -     -    1s\n",
      "     0     0 414818.000    0   28          - 414818.000      -     -    2s\n",
      "     0     0 414818.000    0   32          - 414818.000      -     -    2s\n",
      "     0     0 414818.000    0   22          - 414818.000      -     -    3s\n",
      "     0     0 414818.000    0   24          - 414818.000      -     -    3s\n",
      "     0     0 414818.000    0   24          - 414818.000      -     -    4s\n",
      "     0     2 414818.000    0   24          - 414818.000      -     -    4s\n",
      "    26    27 414818.000    9   70          - 414818.000      -  86.5    5s\n",
      "  1778  1403 infeasible  118               - 414818.000      -  58.8   10s\n",
      "  2373  1795 414818.000   51   29          - 414818.000      -  53.3   15s\n",
      "  2381  1805 1532631.86   17   65          - 1198712.40      -  63.4   20s\n",
      "  5002  3164 1469802.00   30   72          - 1469802.00      -  44.6   25s\n",
      "  8540  4895 1469802.00   90   33          - 1469802.00      -  34.5   30s\n",
      " 15030  9795 1469802.00   73   65          - 1469802.00      -  29.5   35s\n",
      " 19194 12844 1475590.70   57   66          - 1469802.00      -  29.0   41s\n",
      " 23673 15960 1469802.00   80   41          - 1469802.00      -  28.3   45s\n",
      " 28802 19149 1469802.00   77   53          - 1469802.00      -  28.7   50s\n",
      " 31961 21306 infeasible   56               - 1469802.00      -  29.4   55s\n",
      " 37538 25354 1469802.00   75   44          - 1469802.00      -  28.9   61s\n",
      " 41760 28115 1469802.00   51   24          - 1469802.00      -  28.3   77s\n",
      " 41765 28118 1469802.00   46   56          - 1469802.00      -  28.3   80s\n",
      " 41768 28120 1469802.00   43   67          - 1469802.00      -  28.3   86s\n",
      " 41771 28122 1487697.53   90   25          - 1469802.00      -  28.3   90s\n",
      " 41775 28125 1476952.84  113   48          - 1469802.00      -  28.3   95s\n",
      " 41778 28127 1470280.07   97   52          - 1469802.00      -  28.3  101s\n",
      " 41781 28129 1469802.00   80   35          - 1469802.00      -  28.3  105s\n",
      " 41785 28132 1469802.00   46   39          - 1469802.00      -  28.3  110s\n",
      " 41789 28134 1516508.83   80   45          - 1469802.00      -  28.3  117s\n",
      " 41792 28136 1528462.00  105   45          - 1469802.00      -  28.3  120s\n",
      " 41796 28139 1506708.00  129  115          - 1469802.00      -  28.3  125s\n",
      " 41800 28142 1469802.00   51   48          - 1469802.00      -  28.3  131s\n",
      " 41804 28144 1493804.00  113   45          - 1469802.00      -  28.3  136s\n",
      " 41807 28146 1476014.88   51   55          - 1469802.00      -  28.3  140s\n",
      " 41810 28148 1541810.00  109   41          - 1469802.00      -  28.3  145s\n",
      " 41814 28151 1469802.00   71   34          - 1469802.00      -  28.3  150s\n",
      " 41818 28154 1470280.07   97   36          - 1469802.00      -  28.3  155s\n",
      " 41822 28156 1476058.00  120   42          - 1469802.00      -  28.3  161s\n",
      " 41826 28159 1472368.34  103   37          - 1469802.00      -  28.3  166s\n",
      " 41829 28161 1516508.83   80   28          - 1469802.00      -  28.3  170s\n",
      " 41834 28164 1469802.00   71   24          - 1469802.00      -  28.3  175s\n",
      " 41838 28167 1470280.07   97   33          - 1469802.00      -  28.3  180s\n",
      " 41843 28170 1483663.61  107   36          - 1469802.00      -  28.3  185s\n",
      " 41847 28173 1476014.88   51   39          - 1469802.00      -  28.3  191s\n",
      " 41850 28175 1541810.00  109   58          - 1469802.00      -  28.3  195s\n",
      " 41854 28178 1469802.00   71   47          - 1469802.00      -  28.3  201s\n",
      " 41857 28180 2327966.00   85   54          - 1469802.00      -  28.2  205s\n",
      " 41861 28182 1469802.00   80   49          - 1469802.00      -  28.2  210s\n",
      " 41865 28187 1469802.00   27  113          - 1469802.00      -  35.5  215s\n",
      " 41869 28190 2524786.00   29   98          - 1469802.00      -  35.5  220s\n",
      " 41874 28199 1469802.00   31  139          - 1469802.00      -  35.5  227s\n",
      " 41885 28226 1469802.00   33  128          - 1469802.00      -  35.6  232s\n",
      " 42022 28316 1469802.00   42   94          - 1469802.00      -  35.7  241s\n",
      " 44541 29432 1469802.00   93   65          - 1469802.00      -  37.5  250s\n",
      " 47574 30229 1663574.62   90   27          - 1469802.00      -  41.2  261s\n",
      " 51173 30284 1469802.00   89   21          - 1469802.00      -  44.9  273s\n",
      " 54730 29937 infeasible  103               - 1469802.00      -  48.4  282s\n",
      " 57134 29508 1469802.00  107   23          - 1469802.00      -  50.1  291s\n",
      " 59580 29241 1469815.50  101   29          - 1469802.00      -  51.8  299s\n",
      " 61461 29151 1469802.00  104   36          - 1469802.00      -  52.7  300s\n",
      " 62390 28870 1469802.00   89   48          - 1469802.00      -  53.2  308s\n",
      " 64965 28449 1469802.00   99   33          - 1469802.00      -  54.5  317s\n",
      " 67610 28023 infeasible   78               - 1469802.00      -  55.7  325s\n",
      " 70019 27614 1469802.00  104   29          - 1469802.00      -  56.7  333s\n",
      " 72538 27285 1469802.00  109   31          - 1469802.00      -  57.8  340s\n",
      " 74891 27112 1555278.69   73   42          - 1469802.00      -  58.8  347s\n",
      " 77000 26827 1470892.73   91   32          - 1469802.00      -  59.9  354s\n",
      " 78762 26741 1469802.00   79   37          - 1469802.00      -  60.7  355s\n",
      " 79091 26494 infeasible   80               - 1469802.00      -  60.9  361s\n",
      " 81257 26083 infeasible   98               - 1469802.00      -  61.8  368s\n",
      " 83372 25640 1502235.03   70   29          - 1469802.00      -  62.7  375s\n",
      " 85457 25246 1469802.00   80   53          - 1469802.00      -  63.5  381s\n",
      " 87417 24991 infeasible   84               - 1469802.00      -  64.3  388s\n",
      " 89544 24874 1469802.00   86   33          - 1469802.00      -  65.0  395s\n",
      " 91645 24619 infeasible   89               - 1469802.00      -  65.7  402s\n",
      " 93919 24209 infeasible   80               - 1469802.00      -  66.1  409s\n",
      " 96334 23580 infeasible  101               - 1469802.00      -  66.4  415s\n",
      " 98071 23033 infeasible   92               - 1469802.00      -  66.5  422s\n",
      " 100160 22497 1469802.00   86   13          - 1469802.00      -  66.9  429s\n",
      " 102188 22037 infeasible   65               - 1469802.00      -  67.3  435s\n",
      " 104358 21578 infeasible   95               - 1469802.00      -  67.8  441s\n",
      " 106373 21036 1486083.69  111   28          - 1469802.00      -  68.2  447s\n",
      " 108396 20533 1469802.00   86   17          - 1469802.00      -  68.6  453s\n",
      " 110223 19983 1469802.00   73   23          - 1469802.00      -  69.1  460s\n",
      " 112351 19571 1469802.00  102   26          - 1469802.00      -  69.5  466s\n",
      " 114410 19130 1469802.00   85   31          - 1469802.00      -  69.8  473s\n",
      " 116639 18730 1469802.00   92   10          - 1469802.00      -  70.1  479s\n",
      " 116824 18689 1469802.00   94   23          - 1469802.00      -  70.1  480s\n",
      "*118423 15759             104    1657822.0000 1469802.00  11.3%  70.2  480s\n",
      "*118577 11831              98    1512118.0000 1469802.00  2.80%  70.2  480s\n",
      "H118897 10870                    1490581.0000 1469802.00  1.39%  70.2  486s\n",
      "H119052  7179                    1470718.0000 1469802.00  0.06%  70.2  486s\n",
      "H119175  7126                    1470565.0000 1469802.00  0.05%  70.2  486s\n",
      "H119670  6916                    1469992.0000 1469802.00  0.01%  70.3  486s\n",
      "H120205  6873                    1469818.0000 1469802.00  0.00%  70.3  486s\n",
      "\n",
      "Cutting planes:\n",
      "  Gomory: 585\n",
      "  MIR: 8\n",
      "  Flow cover: 8\n",
      "\n",
      "Explored 121042 nodes (8534020 simplex iterations) in 486.67 seconds\n",
      "Thread count was 16 (of 16 available processors)\n",
      "\n",
      "Optimal solution found (tolerance 1.00e-04)\n",
      "Best objective 1.469818000000e+06, best bound 1.469802000000e+06, gap 0.0011%\n",
      "487.565308 seconds (76.08 k allocations: 15.531 MiB, 0.00% gc time)\n"
     ]
    },
    {
     "data": {
      "text/plain": [
       "Dict{String,Any} with 16 entries:\n",
       "  \"Wasted Under Votes\"                => [518161.0 -0.0; -0.0 365342.0; -0.0 36…\n",
       "  \"Total Vote Share\"                  => [1.67721e6 1.26239e6]\n",
       "  \"Efficiency gap goal\"               => 1\n",
       "  \"Votes By District\"                 => [518145.0 536823.0; 564781.0 365342.0;…\n",
       "  \"Total votes in each district\"      => [1.05497e6, 930123.0, 954513.0]\n",
       "  \"s\"                                 => [0.0 0.0 0.0; 0.0 0.0 0.0; … ; 0.0 0.0…\n",
       "  \"Number of blocks in each district\" => [24.0 21.0 27.0]\n",
       "  \"Model\"                             => Minimization problem with:…\n",
       "  \"Fixed Common Size\"                 => 979868.0\n",
       "  \"Y\"                                 => [-0.0 0.0 … 0.0 -0.0; 0.0 -0.0 … 0.0 0…\n",
       "  \"Efficiency Gap\"                    => 0.0\n",
       "  \"Solve Status\"                      => :Optimal\n",
       "  \"Total Seat Share\"                  => [2 1]\n",
       "  \"Wasted Over Votes\"                 => [-0.0 9339.0; 99719.5 -0.0; 1.17029e5 …\n",
       "  \"Total Wasted Votes [D R]\"          => [734909.0 734909.0]\n",
       "  \"District Assignments\"              => [0.0 0.0 1.0; 0.0 1.0 0.0; … ; 1.0 0.0…"
      ]
     },
     "execution_count": 10,
     "metadata": {},
     "output_type": "execute_result"
    }
   ],
   "source": [
    "res3_fair = degerry(WI_V,WI_C, 3, 0.1, solver = \"Gurobi\", numeric_focus = 0)"
   ]
  },
  {
   "cell_type": "code",
   "execution_count": 12,
   "metadata": {},
   "outputs": [
    {
     "data": {
      "text/plain": [
       "CSV.Sink{DateFormat{Symbol(\"yyyy-mm-dd\"),Tuple{Base.Dates.DatePart{'y'},Base.Dates.Delim{Char,1},Base.Dates.DatePart{'m'},Base.Dates.Delim{Char,1},Base.Dates.DatePart{'d'}}},DataType}(    CSV.Options:\n",
       "        delim: ','\n",
       "        quotechar: '\"'\n",
       "        escapechar: '\\\\'\n",
       "        null: \"\"\n",
       "        dateformat: dateformat\"yyyy-mm-dd\"\n",
       "        decimal: '.'\n",
       "        truestring: 'true'\n",
       "        falsestring: 'false', IOBuffer(data=UInt8[...], readable=true, writable=true, seekable=true, append=false, size=0, maxsize=Inf, ptr=1, mark=-1), \"data/Result_District_Assignments_3_fair.csv\", 9, true, String[\"x1\", \"x2\", \"x3\"], 3, false, Val{false})"
      ]
     },
     "execution_count": 12,
     "metadata": {},
     "output_type": "execute_result"
    }
   ],
   "source": [
    "\n",
    "CSV.write(\"data/Result_District_Assignments_3_fair.csv\", DataFrame(res3_fair[\"District Assignments\"]))"
   ]
  },
  {
   "cell_type": "code",
   "execution_count": null,
   "metadata": {},
   "outputs": [],
   "source": [
    "res4_fair = degerry(WI_V,WI_C, 4, 0.1, solver = \"Gurobi\", numeric_focus = 1)"
   ]
  },
  {
   "cell_type": "code",
   "execution_count": null,
   "metadata": {},
   "outputs": [],
   "source": [
    "CSV.write(\"data/Result_District_Assignments_4_fair.csv\", DataFrame(res4_fair[\"District Assignments\"]))"
   ]
  },
  {
   "cell_type": "code",
   "execution_count": null,
   "metadata": {},
   "outputs": [],
   "source": [
    "res6_fair = degerry(WI_V,WI_C, 6, 0.1, solver = \"Gurobi\", numeric_focus = 0)"
   ]
  },
  {
   "cell_type": "code",
   "execution_count": null,
   "metadata": {},
   "outputs": [],
   "source": [
    "CSV.write(\"data/Result_District_Assignments_6_fair.csv\", DataFrame(res6_fair[\"District Assignments\"]))"
   ]
  },
  {
   "cell_type": "code",
   "execution_count": null,
   "metadata": {},
   "outputs": [],
   "source": [
    "res4_fair"
   ]
  },
  {
   "cell_type": "markdown",
   "metadata": {},
   "source": [
    "## Create Possible Feasible Districts"
   ]
  },
  {
   "cell_type": "code",
   "execution_count": null,
   "metadata": {},
   "outputs": [],
   "source": [
    "m_possible = res3_fair[\"Model\"]\n",
    "\n",
    "#@objective(m_possible, Min, 1 ) #abseffgap + sum(wastedu) + sum(wastedo) ) \n",
    "\n",
    "@constraint(m_possible, )\n",
    "\n",
    "@time begin\n",
    "    status = solve(m_possible)\n",
    "end\n",
    "\n",
    "random_D = getvalue(getindex(m_possible,:D))\n",
    "\n",
    "CSV.write(\"data/Result_District_Assignments_3_random.csv\", DataFrame(getvalue(getindex(m_possible,:D))))"
   ]
  },
  {
   "cell_type": "code",
   "execution_count": null,
   "metadata": {},
   "outputs": [],
   "source": [
    "display( sum(random_D,1))\n",
    "display( sum(res3_fair[\"District Assignments\"], 1))\n",
    "\n",
    "#    res = Dict([(\"Model\",m),\n",
    "#            (\"Efficiency gap goal\", effgap_factor),\n",
    "#        (\"Solve Status\", status), \n",
    "println(\"Efficiency Gap\", getvalue(getindex(m_possible,:abseffgap)) )\n",
    "#        (\"Wasted Over Votes\", getvalue(wastedo)),\n",
    "#        (\"Wasted Under Votes\", getvalue(wastedu)),\n",
    "#        (\"Total Wasted Votes [D R]\", ones(1,districts) * ( getvalue(wastedu) + getvalue(wastedo))),\n",
    "#        (\"Votes By District\", getvalue(D)' * _V), \n",
    "#        # (\"Common Size\", getvalue(common_size)), \n",
    "#        (\"Fixed Common Size\", fixed_common_size), \n",
    "#        (\"District Assignments\", getvalue(D)), \n",
    "#        (\"Total Vote Share\", sum(getvalue(D)' * _V,1) ), \n",
    "#        (\"Total Seat Share\", sum( getvalue(D)' * _V .>= repmat(maximum((getvalue(D)' * _V),2),1,2), 1)  ), \n",
    "#        (\"Number of blocks in each district\", sum(getvalue(D),1) ), \n",
    "#        (\"Total votes in each district\", getvalue(D)' * _V * [1;1] ), \n",
    "#            (\"s\", getvalue(s)),\n",
    "#            (\"Y\", getvalue(Y))\n",
    "#    ])\n",
    "\n",
    "\n",
    "    "
   ]
  },
  {
   "cell_type": "code",
   "execution_count": null,
   "metadata": {},
   "outputs": [],
   "source": [
    "\n",
    "_V = WI_V\n",
    "_C = WI_C \n",
    "\n",
    "blocks = size(_V,1)\n",
    "districts = number_districts\n",
    "total_vote = _V * ones(2,1)\n",
    "\n",
    "# Do some checks\n",
    "if any(_C != _C')\n",
    "    throw(ArgumentError(\"Contiguity matrix is not valid. It must be symmetric.\"))\n",
    "end\n",
    "\n",
    "if !(solver in [\"Cbc\",\"Gurobi\"])\n",
    "    throw(ArgumentError(string(solver, \" is not a valid solver choice. Must be either Cbc or Gurobi\")))\n",
    "end\n",
    "\n",
    "if solver == \"Cbc\"\n",
    "    m = Model(solver = CbcSolver())\n",
    "else\n",
    "    m = Model(solver = GurobiSolver(Presolve=0, NumericFocus=numeric_focus))\n",
    "end\n",
    "\n",
    "## Variables\n",
    "\n",
    "@variable(m, 0 <= D[i=1:blocks,j=1:districts] <= 1 , Bin)\n",
    "\n",
    "## Constraints  \n",
    "\n",
    "# each block can be in only one district\n",
    "@constraint(m, D * ones(districts,1) .== 1)  \n",
    "\n",
    "# Each district must have at least one block\n",
    "# @constraint(m, (D' * V) * [1;1] .>= 1)\n",
    "\n",
    "# fixed answer\n",
    "#     @constraint(m, D .== [ \n",
    "#          1.0  0.0  0.0;\n",
    "#          0.0  0.0  1.0;\n",
    "#          0.0  0.0  1.0;\n",
    "#          0.0  1.0  0.0;\n",
    "#          1.0  1.0  0.0])\n",
    "\n",
    "# These constraints set wasted_u to the number of wasted votes for the losing party\n",
    "@variable(m, 0 <= w[i=1:districts] <= 1, Bin)\n",
    "@variable(m, wastedu[i=1:districts, j=1:2])\n",
    "M = sum(total_vote) \n",
    "@constraint(m, wastedu .>= 0)\n",
    "@constraint(m, wastedu[:,1] .>= (D' * _V)[:,1] - M * w)\n",
    "@constraint(m, wastedu[:,2] .>= (D' * _V)[:,2] - M * (1-w))\n",
    "\n",
    "# These constraints set wasted_o to the number of wasted votes for the winning party\n",
    "@variable(m, wastedo[i=1:districts, j=1:2])\n",
    "@variable(m, votestowin[i=1:districts])\n",
    "@constraint(m, votestowin .== (D' * _V) * [1;1] / 2)\n",
    "@constraint(m, wastedo .>= 0)\n",
    "@constraint(m, wastedo .>= (D' * _V) - votestowin * [1 1])\n",
    "\n",
    "# These constraints calculate the efficiency gap\n",
    "@variable(m, effgap)\n",
    "@variable(m, abseffgap)\n",
    "@constraint(m, effgap .== ones(1,districts) * (wastedu + wastedo) * [1;-1])\n",
    "@constraint(m, abseffgap >= effgap )\n",
    "@constraint(m, abseffgap >= - effgap )\n",
    "\n",
    "# These constraints enforce roughly equal sizes. \n",
    "# @variable(m, commonsize) # this approach is too slow\n",
    "fixed_common_size = sum(_V) / districts\n",
    "@constraint(m, (D' * _V) * [1;1] .<= fixed_common_size * (1+common_size_threshold))\n",
    "\n",
    "# These constraints enforce contiguity, but we need to allow districts with only one block\n",
    "@variable(m, 0 <= s[i=1:blocks,j=1:districts] <= 1, Bin)\n",
    "@variable(m, Y[i=1:blocks, j=1:blocks, k=1:districts])\n",
    "@constraint(m, - s .<= D)\n",
    "@constraint(m, s .<= D)\n",
    "M = 100\n",
    "for k in 1:districts\n",
    "    @constraint(m, Y[:,:,k] .* _C .>= 0)\n",
    "    @constraint(m, Y[:,:,k] .* (1-_C) .== 0)\n",
    "    @constraint(m, Y[:,:,k] * ones(blocks,1) .<= (M-1) * D[:,k])\n",
    "    for i in 1:blocks\n",
    "        @constraint(m, sum(Y[i,:,k] .* _C[i,:] ) - sum(Y[:,i,k] .* _C[:,i] ) >= D[i,k] - M * s[i,k] )\n",
    "    end\n",
    "end\n",
    "@constraint(m, ones(1, blocks) * s .== 1)\n",
    "\n",
    "## Objective\n",
    "\n",
    "@objective(m, Min, abseffgap + sum(wastedu) + sum(wastedo) ) \n",
    "\n",
    "@time begin\n",
    "    status = solve(m)\n",
    "end\n",
    "\n",
    "res = Dict([(\"Model\",m),\n",
    "        (\"Efficiency gap goal\", effgap_factor),\n",
    "    (\"Solve Status\", status), \n",
    "    (\"Efficiency Gap\", getvalue(abseffgap) ),\n",
    "    (\"Wasted Over Votes\", getvalue(wastedo)),\n",
    "    (\"Wasted Under Votes\", getvalue(wastedu)),\n",
    "    (\"Total Wasted Votes [D R]\", ones(1,districts) * ( getvalue(wastedu) + getvalue(wastedo))),\n",
    "    (\"Votes By District\", getvalue(D)' * _V), \n",
    "    # (\"Common Size\", getvalue(common_size)), \n",
    "    (\"Fixed Common Size\", fixed_common_size), \n",
    "    (\"District Assignments\", getvalue(D)), \n",
    "    (\"Total Vote Share\", sum(getvalue(D)' * _V,1) ), \n",
    "    (\"Total Seat Share\", sum( getvalue(D)' * _V .>= repmat(maximum((getvalue(D)' * _V),2),1,2), 1)  ), \n",
    "    (\"Number of blocks in each district\", sum(getvalue(D),1) ), \n",
    "    (\"Total votes in each district\", getvalue(D)' * _V * [1;1] ), \n",
    "        (\"s\", getvalue(s)),\n",
    "        (\"Y\", getvalue(Y))\n",
    "])\n"
   ]
  },
  {
   "cell_type": "code",
   "execution_count": null,
   "metadata": {},
   "outputs": [],
   "source": [
    "Pkg.add(\"JLD\")"
   ]
  }
 ],
 "metadata": {
  "celltoolbar": "Slideshow",
  "kernelspec": {
   "display_name": "Julia 0.6.0",
   "language": "julia",
   "name": "julia-0.6"
  },
  "language_info": {
   "file_extension": ".jl",
   "mimetype": "application/julia",
   "name": "julia",
   "version": "0.6.0"
  }
 },
 "nbformat": 4,
 "nbformat_minor": 1
}
