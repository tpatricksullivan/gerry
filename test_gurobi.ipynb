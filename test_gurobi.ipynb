{
 "cells": [
  {
   "cell_type": "code",
   "execution_count": 1,
   "metadata": {
    "scrolled": true
   },
   "outputs": [
    {
     "ename": "LoadError",
     "evalue": "\u001b[91mInvalid Gurobi license\u001b[39m",
     "output_type": "error",
     "traceback": [
      "\u001b[91mInvalid Gurobi license\u001b[39m",
      "",
      "Stacktrace:",
      " [1] \u001b[1mGurobi.Env\u001b[22m\u001b[22m\u001b[1m(\u001b[22m\u001b[22m\u001b[1m)\u001b[22m\u001b[22m at \u001b[1m/home/tpatricksullivan/.julia/v0.6/Gurobi/src/grb_env.jl:13\u001b[22m\u001b[22m",
      " [2] \u001b[1m#GurobiMathProgModel#10\u001b[22m\u001b[22m\u001b[1m(\u001b[22m\u001b[22m::Array{Any,1}, ::Type{T} where T, ::Void\u001b[1m)\u001b[22m\u001b[22m at \u001b[1m/home/tpatricksullivan/.julia/v0.6/Gurobi/src/GurobiSolverInterface.jl:24\u001b[22m\u001b[22m",
      " [3] \u001b[1m(::Core.#kw#Type)\u001b[22m\u001b[22m\u001b[1m(\u001b[22m\u001b[22m::Array{Any,1}, ::Type{Gurobi.GurobiMathProgModel}, ::Void\u001b[1m)\u001b[22m\u001b[22m at \u001b[1m./<missing>:0\u001b[22m\u001b[22m",
      " [4] \u001b[1mLinearQuadraticModel\u001b[22m\u001b[22m\u001b[1m(\u001b[22m\u001b[22m::Gurobi.GurobiSolver\u001b[1m)\u001b[22m\u001b[22m at \u001b[1m/home/tpatricksullivan/.julia/v0.6/Gurobi/src/GurobiSolverInterface.jl:68\u001b[22m\u001b[22m",
      " [5] \u001b[1m#build#119\u001b[22m\u001b[22m\u001b[1m(\u001b[22m\u001b[22m::Bool, ::Bool, ::JuMP.ProblemTraits, ::Function, ::JuMP.Model\u001b[1m)\u001b[22m\u001b[22m at \u001b[1m/home/tpatricksullivan/.julia/v0.6/JuMP/src/solvers.jl:356\u001b[22m\u001b[22m",
      " [6] \u001b[1m(::JuMP.#kw##build)\u001b[22m\u001b[22m\u001b[1m(\u001b[22m\u001b[22m::Array{Any,1}, ::JuMP.#build, ::JuMP.Model\u001b[1m)\u001b[22m\u001b[22m at \u001b[1m./<missing>:0\u001b[22m\u001b[22m",
      " [7] \u001b[1m#solve#116\u001b[22m\u001b[22m\u001b[1m(\u001b[22m\u001b[22m::Bool, ::Bool, ::Bool, ::Array{Any,1}, ::Function, ::JuMP.Model\u001b[1m)\u001b[22m\u001b[22m at \u001b[1m/home/tpatricksullivan/.julia/v0.6/JuMP/src/solvers.jl:168\u001b[22m\u001b[22m",
      " [8] \u001b[1msolve\u001b[22m\u001b[22m\u001b[1m(\u001b[22m\u001b[22m::JuMP.Model\u001b[1m)\u001b[22m\u001b[22m at \u001b[1m/home/tpatricksullivan/.julia/v0.6/JuMP/src/solvers.jl:150\u001b[22m\u001b[22m",
      " [9] \u001b[1minclude_string\u001b[22m\u001b[22m\u001b[1m(\u001b[22m\u001b[22m::String, ::String\u001b[1m)\u001b[22m\u001b[22m at \u001b[1m./loading.jl:515\u001b[22m\u001b[22m"
     ]
    }
   ],
   "source": [
    "using JuMP\n",
    "using Gurobi\n",
    "m = Model(solver = GurobiSolver(Presolve=0))\n",
    "@objective(m,Min,1)\n",
    "solve(m)"
   ]
  },
  {
   "cell_type": "code",
   "execution_count": null,
   "metadata": {},
   "outputs": [],
   "source": []
  }
 ],
 "metadata": {
  "kernelspec": {
   "display_name": "Julia 0.6.0",
   "language": "julia",
   "name": "julia-0.6"
  },
  "language_info": {
   "file_extension": ".jl",
   "mimetype": "application/julia",
   "name": "julia",
   "version": "0.6.0"
  }
 },
 "nbformat": 4,
 "nbformat_minor": 2
}
